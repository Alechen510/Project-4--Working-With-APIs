{
 "cells": [
  {
   "cell_type": "markdown",
   "metadata": {},
   "source": [
    "Processing an API response "
   ]
  },
  {
   "cell_type": "code",
   "execution_count": 3,
   "metadata": {},
   "outputs": [
    {
     "name": "stdout",
     "output_type": "stream",
     "text": [
      "status code: 200\n",
      "dict_keys(['total_count', 'incomplete_results', 'items'])\n",
      "{'Accept': 'application/vnd.github.v3+json'}\n"
     ]
    }
   ],
   "source": [
    "import requests\n",
    "\n",
    "# Make an API call and check the response.\n",
    "\n",
    "url = \"https://api.github.com/search/repositories\"\n",
    "url += \"?q=language:python+sort:stars+stars:>10000\"\n",
    "\n",
    "headers = {\"Accept\": \"application/vnd.github.v3+json\"}\n",
    "r = requests.get(url,headers =headers)\n",
    "print(f\"status code: {r.status_code}\")\n",
    "\n",
    "# Covert the response object to a dictionary\n",
    "response_dict = r.json()\n",
    "\n",
    "# Process results\n",
    "print(response_dict.keys())\n",
    "print(headers)"
   ]
  },
  {
   "cell_type": "markdown",
   "metadata": {},
   "source": [
    "Working with the Response Dictionary"
   ]
  },
  {
   "cell_type": "code",
   "execution_count": 10,
   "metadata": {},
   "outputs": [
    {
     "name": "stdout",
     "output_type": "stream",
     "text": [
      "status code: 200\n",
      "Total repositories: 421\n",
      "complete results:True\n",
      "repositories returned:30\n",
      " \n",
      "Keys: 80\n",
      "allow_forking\n",
      "archive_url\n",
      "archived\n",
      "assignees_url\n",
      "blobs_url\n",
      "branches_url\n",
      "clone_url\n",
      "collaborators_url\n",
      "comments_url\n",
      "commits_url\n",
      "compare_url\n",
      "contents_url\n",
      "contributors_url\n",
      "created_at\n",
      "default_branch\n",
      "deployments_url\n",
      "description\n",
      "disabled\n",
      "downloads_url\n",
      "events_url\n",
      "fork\n",
      "forks\n",
      "forks_count\n",
      "forks_url\n",
      "full_name\n",
      "git_commits_url\n",
      "git_refs_url\n",
      "git_tags_url\n",
      "git_url\n",
      "has_discussions\n",
      "has_downloads\n",
      "has_issues\n",
      "has_pages\n",
      "has_projects\n",
      "has_wiki\n",
      "homepage\n",
      "hooks_url\n",
      "html_url\n",
      "id\n",
      "is_template\n",
      "issue_comment_url\n",
      "issue_events_url\n",
      "issues_url\n",
      "keys_url\n",
      "labels_url\n",
      "language\n",
      "languages_url\n",
      "license\n",
      "merges_url\n",
      "milestones_url\n",
      "mirror_url\n",
      "name\n",
      "node_id\n",
      "notifications_url\n",
      "open_issues\n",
      "open_issues_count\n",
      "owner\n",
      "private\n",
      "pulls_url\n",
      "pushed_at\n",
      "releases_url\n",
      "score\n",
      "size\n",
      "ssh_url\n",
      "stargazers_count\n",
      "stargazers_url\n",
      "statuses_url\n",
      "subscribers_url\n",
      "subscription_url\n",
      "svn_url\n",
      "tags_url\n",
      "teams_url\n",
      "topics\n",
      "trees_url\n",
      "updated_at\n",
      "url\n",
      "visibility\n",
      "watchers\n",
      "watchers_count\n",
      "web_commit_signoff_required\n"
     ]
    }
   ],
   "source": [
    "import requests\n",
    "\n",
    "# Make an API call and check the response\n",
    "\n",
    "url = \"https://api.github.com/search/repositories\"\n",
    "url += \"?q=language:python+sort:stars+stars:>10000\"\n",
    "\n",
    "#headers = {\"Accept\":\"application/vnd.github.v3+json\"}\n",
    "r = requests.get(url)\n",
    "print(f\"status code: {r.status_code}\")\n",
    "\n",
    "# Covert the response object to a dictonary \n",
    "response_dict = r.json() \n",
    "\n",
    "print(f\"Total repositories: {response_dict['total_count']}\")\n",
    "print(f\"complete results:{not response_dict['incomplete_results']}\")\n",
    "\n",
    "# Explore the inoformation about the repositories \n",
    "repo_dicts = response_dict ['items']\n",
    "print(f\"repositories returned:{len(repo_dicts)}\")\n",
    "\n",
    "\n",
    "# Examine the first repository.\n",
    "repo_dict = repo_dicts[0]\n",
    "print(f\" \\nKeys: {len(repo_dict)}\")\n",
    "for key in sorted (repo_dict.keys()): \n",
    "    print(key) \n"
   ]
  },
  {
   "cell_type": "code",
   "execution_count": 9,
   "metadata": {},
   "outputs": [
    {
     "name": "stdout",
     "output_type": "stream",
     "text": [
      "{'Accept': 'application/vnd.github.v3+json'}\n",
      "status code: 200\n",
      "Total repositories: 421\n",
      "complete results:True\n",
      "repositories returned:30\n",
      "\n",
      "Selected information about first repository:\n",
      "Name: public-apis\n",
      "Owner: public-apis\n",
      "Stars:268668\n",
      "Repository: https://github.com/public-apis/public-apis\n",
      "Created: 2016-03-20T23:49:42Z\n",
      "updated: 2023-11-15T17:58:44Z\n",
      "Description: A collective list of free APIs\n"
     ]
    }
   ],
   "source": [
    "import requests\n",
    "\n",
    "# Make an API call and check the response\n",
    "url = \"https://api.github.com/search/repositories\"\n",
    "url += \"?q=language:python+sort:stars+stars:>10000\"\n",
    "\n",
    "headers = {\"Accept\": \"application/vnd.github.v3+json\"}\n",
    "r = requests.get(url, headers=headers)\n",
    "print(headers)\n",
    "print(f\"status code: {r.status_code}\")\n",
    "\n",
    "# Covert the response object to a dictonary\n",
    "response_dict = r.json()\n",
    "\n",
    "print(f\"Total repositories: {response_dict['total_count']}\")\n",
    "print(f\"complete results:{not response_dict['incomplete_results']}\")\n",
    "\n",
    "# Explore the inoformation about the repositories\n",
    "repo_dicts = response_dict[\"items\"]\n",
    "print(f\"repositories returned:{len(repo_dicts)}\")\n",
    "\n",
    "\n",
    "# Examine the first repository.\n",
    "repo_dict = repo_dicts[0]\n",
    "\n",
    "print(f\"\\nSelected information about first repository:\")\n",
    "print(f\"Name: {repo_dict['name']}\")\n",
    "print(f\"Owner: {repo_dict['owner']['login']}\")\n",
    "print(f\"Stars:{repo_dict['stargazers_count']}\")\n",
    "print(f\"Repository: {repo_dict['html_url']}\")\n",
    "print(f\"Created: {repo_dict['created_at']}\")\n",
    "print(f\"updated: {repo_dict['updated_at']}\")\n",
    "print(f\"Description: {repo_dict['description']}\")"
   ]
  },
  {
   "cell_type": "markdown",
   "metadata": {},
   "source": [
    "Summarizing the Top Repositories \n",
    "Using a for loop "
   ]
  },
  {
   "cell_type": "code",
   "execution_count": 11,
   "metadata": {},
   "outputs": [
    {
     "name": "stdout",
     "output_type": "stream",
     "text": [
      "status code: 200\n",
      "Total repositories: 421\n",
      "complete results:True\n",
      "repositories returned:30\n",
      "\n",
      "Selected information about each repository:\n",
      "Name: public-apis\n",
      "Owner: public-apis\n",
      "Stars:268668\n",
      "Repository: https://github.com/public-apis/public-apis\n",
      "Created: 2016-03-20T23:49:42Z\n",
      "updated: 2023-11-15T17:58:44Z\n",
      "Description: A collective list of free APIs\n",
      "Name: system-design-primer\n",
      "Owner: donnemartin\n",
      "Stars:235333\n",
      "Repository: https://github.com/donnemartin/system-design-primer\n",
      "Created: 2017-02-26T16:15:28Z\n",
      "updated: 2023-11-15T17:58:07Z\n",
      "Description: Learn how to design large-scale systems. Prep for the system design interview.  Includes Anki flashcards.\n",
      "Name: awesome-python\n",
      "Owner: vinta\n",
      "Stars:186724\n",
      "Repository: https://github.com/vinta/awesome-python\n",
      "Created: 2014-06-27T21:00:06Z\n",
      "updated: 2023-11-15T18:03:05Z\n",
      "Description: A curated list of awesome Python frameworks, libraries, software and resources\n",
      "Name: Python\n",
      "Owner: TheAlgorithms\n",
      "Stars:172938\n",
      "Repository: https://github.com/TheAlgorithms/Python\n",
      "Created: 2016-07-16T09:44:01Z\n",
      "updated: 2023-11-15T17:53:39Z\n",
      "Description: All Algorithms implemented in Python\n",
      "Name: Python-100-Days\n",
      "Owner: jackfrued\n",
      "Stars:142196\n",
      "Repository: https://github.com/jackfrued/Python-100-Days\n",
      "Created: 2018-03-01T16:05:52Z\n",
      "updated: 2023-11-15T15:52:29Z\n",
      "Description: Python - 100天从新手到大师\n",
      "Name: youtube-dl\n",
      "Owner: ytdl-org\n",
      "Stars:124554\n",
      "Repository: https://github.com/ytdl-org/youtube-dl\n",
      "Created: 2010-10-31T14:35:07Z\n",
      "updated: 2023-11-15T17:14:56Z\n",
      "Description: Command-line program to download videos from YouTube.com and other video sites\n",
      "Name: transformers\n",
      "Owner: huggingface\n",
      "Stars:115215\n",
      "Repository: https://github.com/huggingface/transformers\n",
      "Created: 2018-10-29T13:56:00Z\n",
      "updated: 2023-11-15T17:20:40Z\n",
      "Description: 🤗 Transformers: State-of-the-art Machine Learning for Pytorch, TensorFlow, and JAX.\n",
      "Name: stable-diffusion-webui\n",
      "Owner: AUTOMATIC1111\n",
      "Stars:109250\n",
      "Repository: https://github.com/AUTOMATIC1111/stable-diffusion-webui\n",
      "Created: 2022-08-22T14:05:26Z\n",
      "updated: 2023-11-15T18:08:48Z\n",
      "Description: Stable Diffusion web UI\n",
      "Name: thefuck\n",
      "Owner: nvbn\n",
      "Stars:80079\n",
      "Repository: https://github.com/nvbn/thefuck\n",
      "Created: 2015-04-08T15:08:04Z\n",
      "updated: 2023-11-15T17:25:20Z\n",
      "Description: Magnificent app which corrects your previous console command.\n",
      "Name: HelloGitHub\n",
      "Owner: 521xueweihan\n",
      "Stars:77938\n",
      "Repository: https://github.com/521xueweihan/HelloGitHub\n",
      "Created: 2016-05-04T06:24:11Z\n",
      "updated: 2023-11-15T17:55:09Z\n",
      "Description: :octocat: 分享 GitHub 上有趣、入门级的开源项目。Share interesting, entry-level open source projects on GitHub.\n",
      "Name: django\n",
      "Owner: django\n",
      "Stars:74005\n",
      "Repository: https://github.com/django/django\n",
      "Created: 2012-04-28T02:47:18Z\n",
      "updated: 2023-11-15T15:23:45Z\n",
      "Description: The Web framework for perfectionists with deadlines.\n",
      "Name: pytorch\n",
      "Owner: pytorch\n",
      "Stars:72560\n",
      "Repository: https://github.com/pytorch/pytorch\n",
      "Created: 2016-08-13T05:26:41Z\n",
      "updated: 2023-11-15T18:03:01Z\n",
      "Description: Tensors and Dynamic neural networks in Python with strong GPU acceleration\n",
      "Name: langchain\n",
      "Owner: langchain-ai\n",
      "Stars:68308\n",
      "Repository: https://github.com/langchain-ai/langchain\n",
      "Created: 2022-10-17T02:58:36Z\n",
      "updated: 2023-11-15T17:54:19Z\n",
      "Description: ⚡ Building applications with LLMs through composability ⚡\n",
      "Name: flask\n",
      "Owner: pallets\n",
      "Stars:64933\n",
      "Repository: https://github.com/pallets/flask\n",
      "Created: 2010-04-06T11:11:59Z\n",
      "updated: 2023-11-15T18:05:30Z\n",
      "Description: The Python micro framework for building web applications.\n",
      "Name: fastapi\n",
      "Owner: tiangolo\n",
      "Stars:64620\n",
      "Repository: https://github.com/tiangolo/fastapi\n",
      "Created: 2018-12-08T08:21:47Z\n",
      "updated: 2023-11-15T17:43:57Z\n",
      "Description: FastAPI framework, high performance, easy to learn, fast to code, ready for production\n",
      "Name: core\n",
      "Owner: home-assistant\n",
      "Stars:64055\n",
      "Repository: https://github.com/home-assistant/core\n",
      "Created: 2013-09-17T07:29:48Z\n",
      "updated: 2023-11-15T18:02:13Z\n",
      "Description: :house_with_garden: Open source home automation that puts local control and privacy first.\n",
      "Name: awesome-machine-learning\n",
      "Owner: josephmisiti\n",
      "Stars:61370\n",
      "Repository: https://github.com/josephmisiti/awesome-machine-learning\n",
      "Created: 2014-07-15T19:11:19Z\n",
      "updated: 2023-11-15T14:48:45Z\n",
      "Description: A curated list of awesome Machine Learning frameworks, libraries and software.\n",
      "Name: yt-dlp\n",
      "Owner: yt-dlp\n",
      "Stars:60136\n",
      "Repository: https://github.com/yt-dlp/yt-dlp\n",
      "Created: 2020-10-26T04:22:55Z\n",
      "updated: 2023-11-15T18:06:27Z\n",
      "Description: A youtube-dl fork with additional features and fixes\n",
      "Name: keras\n",
      "Owner: keras-team\n",
      "Stars:59734\n",
      "Repository: https://github.com/keras-team/keras\n",
      "Created: 2015-03-28T00:35:42Z\n",
      "updated: 2023-11-15T18:00:39Z\n",
      "Description: Deep Learning for humans\n",
      "Name: devops-exercises\n",
      "Owner: bregman-arie\n",
      "Stars:59473\n",
      "Repository: https://github.com/bregman-arie/devops-exercises\n",
      "Created: 2019-10-03T17:31:21Z\n",
      "updated: 2023-11-15T16:49:33Z\n",
      "Description: Linux, Jenkins, AWS, SRE, Prometheus, Docker, Python, Ansible, Git, Kubernetes, Terraform, OpenStack, SQL, NoSQL, Azure, GCP, DNS, Elastic, Network, Virtualization. DevOps Interview Questions\n",
      "Name: ansible\n",
      "Owner: ansible\n",
      "Stars:59260\n",
      "Repository: https://github.com/ansible/ansible\n",
      "Created: 2012-03-06T14:58:02Z\n",
      "updated: 2023-11-15T16:37:26Z\n",
      "Description: Ansible is a radically simple IT automation platform that makes your applications and systems easier to deploy and maintain. Automate everything from code deployment to network configuration to cloud management, in a language that approaches plain English, using SSH, with no agents to install on remote systems. https://docs.ansible.com.\n",
      "Name: funNLP\n",
      "Owner: fighting41love\n",
      "Stars:58930\n",
      "Repository: https://github.com/fighting41love/funNLP\n",
      "Created: 2018-08-21T11:20:39Z\n",
      "updated: 2023-11-15T15:14:31Z\n",
      "Description: 中英文敏感词、语言检测、中外手机/电话归属地/运营商查询、名字推断性别、手机号抽取、身份证抽取、邮箱抽取、中日文人名库、中文缩写库、拆字词典、词汇情感值、停用词、反动词表、暴恐词表、繁简体转换、英文模拟中文发音、汪峰歌词生成器、职业名称词库、同义词库、反义词库、否定词库、汽车品牌词库、汽车零件词库、连续英文切割、各种中文词向量、公司名字大全、古诗词库、IT词库、财经词库、成语词库、地名词库、历史名人词库、诗词词库、医学词库、饮食词库、法律词库、汽车词库、动物词库、中文聊天语料、中文谣言数据、百度中文问答数据集、句子相似度匹配算法集合、bert资源、文本生成&摘要相关工具、cocoNLP信息抽取工具、国内电话号码正则匹配、清华大学XLORE:中英文跨语言百科知识图谱、清华大学人工智能技术系列报告、自然语言生成、NLU太难了系列、自动对联数据及机器人、用户名黑名单列表、罪名法务名词及分类模型、微信公众号语料、cs224n深度学习自然语言处理课程、中文手写汉字识别、中文自然语言处理 语料/数据集、变量命名神器、分词语料库+代码、任务型对话英文数据集、ASR 语音数据集 + 基于深度学习的中文语音识别系统、笑声检测器、Microsoft多语言数字/单位/如日期时间识别包、中华新华字典数据库及api(包括常用歇后语、成语、词语和汉字)、文档图谱自动生成、SpaCy 中文模型、Common Voice语音识别数据集新版、神经网络关系抽取、基于bert的命名实体识别、关键词(Keyphrase)抽取包pke、基于医疗领域知识图谱的问答系统、基于依存句法与语义角色标注的事件三元组抽取、依存句法分析4万句高质量标注数据、cnocr：用来做中文OCR的Python3包、中文人物关系知识图谱项目、中文nlp竞赛项目及代码汇总、中文字符数据、speech-aligner: 从“人声语音”及其“语言文本”产生音素级别时间对齐标注的工具、AmpliGraph: 知识图谱表示学习(Python)库：知识图谱概念链接预测、Scattertext 文本可视化(python)、语言/知识表示工具：BERT & ERNIE、中文对比英文自然语言处理NLP的区别综述、Synonyms中文近义词工具包、HarvestText领域自适应文本挖掘工具（新词发现-情感分析-实体链接等）、word2word：(Python)方便易用的多语言词-词对集：62种语言/3,564个多语言对、语音识别语料生成工具：从具有音频/字幕的在线视频创建自动语音识别(ASR)语料库、构建医疗实体识别的模型（包含词典和语料标注）、单文档非监督的关键词抽取、Kashgari中使用gpt-2语言模型、开源的金融投资数据提取工具、文本自动摘要库TextTeaser: 仅支持英文、人民日报语料处理工具集、一些关于自然语言的基本模型、基于14W歌曲知识库的问答尝试--功能包括歌词接龙and已知歌词找歌曲以及歌曲歌手歌词三角关系的问答、基于Siamese bilstm模型的相似句子判定模型并提供训练数据集和测试数据集、用Transformer编解码模型实现的根据Hacker News文章标题自动生成评论、用BERT进行序列标记和文本分类的模板代码、LitBank：NLP数据集——支持自然语言处理和计算人文学科任务的100部带标记英文小说语料、百度开源的基准信息抽取系统、虚假新闻数据集、Facebook: LAMA语言模型分析，提供Transformer-XL/BERT/ELMo/GPT预训练语言模型的统一访问接口、CommonsenseQA：面向常识的英文QA挑战、中文知识图谱资料、数据及工具、各大公司内部里大牛分享的技术文档 PDF 或者 PPT、自然语言生成SQL语句（英文）、中文NLP数据增强（EDA）工具、英文NLP数据增强工具 、基于医药知识图谱的智能问答系统、京东商品知识图谱、基于mongodb存储的军事领域知识图谱问答项目、基于远监督的中文关系抽取、语音情感分析、中文ULMFiT-情感分析-文本分类-语料及模型、一个拍照做题程序、世界各国大规模人名库、一个利用有趣中文语料库 qingyun 训练出来的中文聊天机器人、中文聊天机器人seqGAN、省市区镇行政区划数据带拼音标注、教育行业新闻语料库包含自动文摘功能、开放了对话机器人-知识图谱-语义理解-自然语言处理工具及数据、中文知识图谱：基于百度百科中文页面-抽取三元组信息-构建中文知识图谱、masr: 中文语音识别-提供预训练模型-高识别率、Python音频数据增广库、中文全词覆盖BERT及两份阅读理解数据、ConvLab：开源多域端到端对话系统平台、中文自然语言处理数据集、基于最新版本rasa搭建的对话系统、基于TensorFlow和BERT的管道式实体及关系抽取、一个小型的证券知识图谱/知识库、复盘所有NLP比赛的TOP方案、OpenCLaP：多领域开源中文预训练语言模型仓库、UER：基于不同语料+编码器+目标任务的中文预训练模型仓库、中文自然语言处理向量合集、基于金融-司法领域(兼有闲聊性质)的聊天机器人、g2pC：基于上下文的汉语读音自动标记模块、Zincbase 知识图谱构建工具包、诗歌质量评价/细粒度情感诗歌语料库、快速转化「中文数字」和「阿拉伯数字」、百度知道问答语料库、基于知识图谱的问答系统、jieba_fast 加速版的jieba、正则表达式教程、中文阅读理解数据集、基于BERT等最新语言模型的抽取式摘要提取、Python利用深度学习进行文本摘要的综合指南、知识图谱深度学习相关资料整理、维基大规模平行文本语料、StanfordNLP 0.2.0：纯Python版自然语言处理包、NeuralNLP-NeuralClassifier：腾讯开源深度学习文本分类工具、端到端的封闭域对话系统、中文命名实体识别：NeuroNER vs. BertNER、新闻事件线索抽取、2019年百度的三元组抽取比赛：“科学空间队”源码、基于依存句法的开放域文本知识三元组抽取和知识库构建、中文的GPT2训练代码、ML-NLP - 机器学习(Machine Learning)NLP面试中常考到的知识点和代码实现、nlp4han:中文自然语言处理工具集(断句/分词/词性标注/组块/句法分析/语义分析/NER/N元语法/HMM/代词消解/情感分析/拼写检查、XLM：Facebook的跨语言预训练语言模型、用基于BERT的微调和特征提取方法来进行知识图谱百度百科人物词条属性抽取、中文自然语言处理相关的开放任务-数据集-当前最佳结果、CoupletAI - 基于CNN+Bi-LSTM+Attention 的自动对对联系统、抽象知识图谱、MiningZhiDaoQACorpus - 580万百度知道问答数据挖掘项目、brat rapid annotation tool: 序列标注工具、大规模中文知识图谱数据：1.4亿实体、数据增强在机器翻译及其他nlp任务中的应用及效果、allennlp阅读理解:支持多种数据和模型、PDF表格数据提取工具 、 Graphbrain：AI开源软件库和科研工具，目的是促进自动意义提取和文本理解以及知识的探索和推断、简历自动筛选系统、基于命名实体识别的简历自动摘要、中文语言理解测评基准，包括代表性的数据集&基准模型&语料库&排行榜、树洞 OCR 文字识别 、从包含表格的扫描图片中识别表格和文字、语声迁移、Python口语自然语言处理工具集(英文)、 similarity：相似度计算工具包，java编写、海量中文预训练ALBERT模型 、Transformers 2.0 、基于大规模音频数据集Audioset的音频增强 、Poplar：网页版自然语言标注工具、图片文字去除，可用于漫画翻译 、186种语言的数字叫法库、Amazon发布基于知识的人-人开放领域对话数据集 、中文文本纠错模块代码、繁简体转换 、 Python实现的多种文本可读性评价指标、类似于人名/地名/组织机构名的命名体识别数据集 、东南大学《知识图谱》研究生课程(资料)、. 英文拼写检查库 、 wwsearch是企业微信后台自研的全文检索引擎、CHAMELEON：深度学习新闻推荐系统元架构 、 8篇论文梳理BERT相关模型进展与反思、DocSearch：免费文档搜索引擎、 LIDA：轻量交互式对话标注工具 、aili - the fastest in-memory index in the East 东半球最快并发索引 、知识图谱车音工作项目、自然语言生成资源大全 、中日韩分词库mecab的Python接口库、中文文本摘要/关键词提取、汉字字符特征提取器 (featurizer)，提取汉字的特征（发音特征、字形特征）用做深度学习的特征、中文生成任务基准测评 、中文缩写数据集、中文任务基准测评 - 代表性的数据集-基准(预训练)模型-语料库-baseline-工具包-排行榜、PySS3：面向可解释AI的SS3文本分类器机器可视化工具 、中文NLP数据集列表、COPE - 格律诗编辑程序、doccano：基于网页的开源协同多语言文本标注工具 、PreNLP：自然语言预处理库、简单的简历解析器，用来从简历中提取关键信息、用于中文闲聊的GPT2模型：GPT2-chitchat、基于检索聊天机器人多轮响应选择相关资源列表(Leaderboards、Datasets、Papers)、(Colab)抽象文本摘要实现集锦(教程 、词语拼音数据、高效模糊搜索工具、NLP数据增广资源集、微软对话机器人框架 、 GitHub Typo Corpus：大规模GitHub多语言拼写错误/语法错误数据集、TextCluster：短文本聚类预处理模块 Short text cluster、面向语音识别的中文文本规范化、BLINK：最先进的实体链接库、BertPunc：基于BERT的最先进标点修复模型、Tokenizer：快速、可定制的文本词条化库、中文语言理解测评基准，包括代表性的数据集、基准(预训练)模型、语料库、排行榜、spaCy 医学文本挖掘与信息提取 、 NLP任务示例项目代码集、 python拼写检查库、chatbot-list - 行业内关于智能客服、聊天机器人的应用和架构、算法分享和介绍、语音质量评价指标(MOSNet, BSSEval, STOI, PESQ, SRMR)、 用138GB语料训练的法文RoBERTa预训练语言模型 、BERT-NER-Pytorch：三种不同模式的BERT中文NER实验、无道词典 - 有道词典的命令行版本，支持英汉互查和在线查询、2019年NLP亮点回顾、 Chinese medical dialogue data 中文医疗对话数据集 、最好的汉字数字(中文数字)-阿拉伯数字转换工具、 基于百科知识库的中文词语多词义/义项获取与特定句子词语语义消歧、awesome-nlp-sentiment-analysis - 情感分析、情绪原因识别、评价对象和评价词抽取、LineFlow：面向所有深度学习框架的NLP数据高效加载器、中文医学NLP公开资源整理 、MedQuAD：(英文)医学问答数据集、将自然语言数字串解析转换为整数和浮点数、Transfer Learning in Natural Language Processing (NLP) 、面向语音识别的中文/英文发音辞典、Tokenizers：注重性能与多功能性的最先进分词器、CLUENER 细粒度命名实体识别 Fine Grained Named Entity Recognition、 基于BERT的中文命名实体识别、中文谣言数据库、NLP数据集/基准任务大列表、nlp相关的一些论文及代码, 包括主题模型、词向量(Word Embedding)、命名实体识别(NER)、文本分类(Text Classificatin)、文本生成(Text Generation)、文本相似性(Text Similarity)计算等，涉及到各种与nlp相关的算法，基于keras和tensorflow 、Python文本挖掘/NLP实战示例、 Blackstone：面向非结构化法律文本的spaCy pipeline和NLP模型通过同义词替换实现文本“变脸” 、中文 预训练 ELECTREA 模型: 基于对抗学习 pretrain Chinese Model 、albert-chinese-ner - 用预训练语言模型ALBERT做中文NER 、基于GPT2的特定主题文本生成/文本增广、开源预训练语言模型合集、多语言句向量包、编码、标记和实现：一种可控高效的文本生成方法、 英文脏话大列表 、attnvis：GPT2、BERT等transformer语言模型注意力交互可视化、CoVoST：Facebook发布的多语种语音-文本翻译语料库，包括11种语言(法语、德语、荷兰语、俄语、西班牙语、意大利语、土耳其语、波斯语、瑞典语、蒙古语和中文)的语音、文字转录及英文译文、Jiagu自然语言处理工具 - 以BiLSTM等模型为基础，提供知识图谱关系抽取 中文分词 词性标注 命名实体识别 情感分析 新词发现 关键词 文本摘要 文本聚类等功能、用unet实现对文档表格的自动检测，表格重建、NLP事件提取文献资源列表 、 金融领域自然语言处理研究资源大列表、CLUEDatasetSearch - 中英文NLP数据集：搜索所有中文NLP数据集，附常用英文NLP数据集 、medical_NER - 中文医学知识图谱命名实体识别 、(哈佛)讲因果推理的免费书、知识图谱相关学习资料/数据集/工具资源大列表、Forte：灵活强大的自然语言处理pipeline工具集 、Python字符串相似性算法库、PyLaia：面向手写文档分析的深度学习工具包、TextFooler：针对文本分类/推理的对抗文本生成模块、Haystack：灵活、强大的可扩展问答(QA)框架、中文关键短语抽取工具\n",
      "Name: cpython\n",
      "Owner: python\n",
      "Stars:56795\n",
      "Repository: https://github.com/python/cpython\n",
      "Created: 2017-02-10T19:23:51Z\n",
      "updated: 2023-11-15T18:04:28Z\n",
      "Description: The Python programming language\n",
      "Name: scikit-learn\n",
      "Owner: scikit-learn\n",
      "Stars:56427\n",
      "Repository: https://github.com/scikit-learn/scikit-learn\n",
      "Created: 2010-08-17T09:43:38Z\n",
      "updated: 2023-11-15T17:02:52Z\n",
      "Description: scikit-learn: machine learning in Python\n",
      "Name: manim\n",
      "Owner: 3b1b\n",
      "Stars:54727\n",
      "Repository: https://github.com/3b1b/manim\n",
      "Created: 2015-03-22T18:50:58Z\n",
      "updated: 2023-11-15T17:56:59Z\n",
      "Description: Animation engine for explanatory math videos\n",
      "Name: PayloadsAllTheThings\n",
      "Owner: swisskyrepo\n",
      "Stars:52592\n",
      "Repository: https://github.com/swisskyrepo/PayloadsAllTheThings\n",
      "Created: 2016-10-18T07:29:07Z\n",
      "updated: 2023-11-15T17:05:50Z\n",
      "Description: A list of useful payloads and bypass for Web Application Security and Pentest/CTF\n",
      "Name: d2l-zh\n",
      "Owner: d2l-ai\n",
      "Stars:50833\n",
      "Repository: https://github.com/d2l-ai/d2l-zh\n",
      "Created: 2017-08-23T04:40:24Z\n",
      "updated: 2023-11-15T17:47:30Z\n",
      "Description: 《动手学深度学习》：面向中文读者、能运行、可讨论。中英文版被70多个国家的500多所大学用于教学。\n",
      "Name: requests\n",
      "Owner: psf\n",
      "Stars:50530\n",
      "Repository: https://github.com/psf/requests\n",
      "Created: 2011-02-13T18:38:17Z\n",
      "updated: 2023-11-15T14:15:00Z\n",
      "Description: A simple, yet elegant, HTTP library.\n",
      "Name: face_recognition\n",
      "Owner: ageitgey\n",
      "Stars:50195\n",
      "Repository: https://github.com/ageitgey/face_recognition\n",
      "Created: 2017-03-03T21:52:39Z\n",
      "updated: 2023-11-15T16:30:12Z\n",
      "Description: The world's simplest facial recognition api for Python and the command line\n",
      "Name: localstack\n",
      "Owner: localstack\n",
      "Stars:49995\n",
      "Repository: https://github.com/localstack/localstack\n",
      "Created: 2016-10-25T23:48:03Z\n",
      "updated: 2023-11-15T16:54:53Z\n",
      "Description: 💻 A fully functional local AWS cloud stack. Develop and test your cloud & Serverless apps offline\n"
     ]
    }
   ],
   "source": [
    "import requests\n",
    "\n",
    "# Make an API call and check the response\n",
    "url = \"https://api.github.com/search/repositories\"\n",
    "url += \"?q=language:python+sort:stars+stars:>10000\"\n",
    "\n",
    "headers = {\"Accept\": \"application/vnd.github.v3+json\"}\n",
    "r = requests.get(url, headers=headers)\n",
    "#print(headers)\n",
    "print(f\"status code: {r.status_code}\")\n",
    "\n",
    "# Covert the response object to a dictonary\n",
    "response_dict = r.json()\n",
    "\n",
    "print(f\"Total repositories: {response_dict['total_count']}\")\n",
    "print(f\"complete results:{not response_dict['incomplete_results']}\")\n",
    "\n",
    "# Explore the inoformation about the repositories\n",
    "repo_dicts = response_dict[\"items\"]\n",
    "print(f\"repositories returned:{len(repo_dicts)}\")\n",
    "\n",
    "\n",
    "# Examine the first repository.\n",
    "repo_dict = repo_dicts[0]\n",
    "\n",
    "print(f\"\\nSelected information about each repository:\")\n",
    "\n",
    "for repo_dict in repo_dicts:\n",
    "    print(f\"Name: {repo_dict['name']}\")\n",
    "    print(f\"Owner: {repo_dict['owner']['login']}\")\n",
    "    print(f\"Stars:{repo_dict['stargazers_count']}\")\n",
    "    print(f\"Repository: {repo_dict['html_url']}\")\n",
    "    print(f\"Created: {repo_dict['created_at']}\")\n",
    "    print(f\"updated: {repo_dict['updated_at']}\")\n",
    "    print(f\"Description: {repo_dict['description']}\")"
   ]
  },
  {
   "cell_type": "markdown",
   "metadata": {},
   "source": [
    "Monitoring API Rate Limits \n",
    "https://api.github.com/rate_limit \n"
   ]
  },
  {
   "cell_type": "markdown",
   "metadata": {},
   "source": [
    "Visualizing Repositories using Plotly "
   ]
  },
  {
   "cell_type": "code",
   "execution_count": 15,
   "metadata": {},
   "outputs": [
    {
     "name": "stdout",
     "output_type": "stream",
     "text": [
      "Status code: 200\n",
      "Complete results: True\n"
     ]
    },
    {
     "data": {
      "application/vnd.plotly.v1+json": {
       "config": {
        "plotlyServerURL": "https://plot.ly"
       },
       "data": [
        {
         "alignmentgroup": "True",
         "hovertemplate": "x=%{x}<br>y=%{y}<extra></extra>",
         "legendgroup": "",
         "marker": {
          "color": "#636efa",
          "pattern": {
           "shape": ""
          }
         },
         "name": "",
         "offsetgroup": "",
         "orientation": "v",
         "showlegend": false,
         "textposition": "auto",
         "type": "bar",
         "x": [
          "public-apis",
          "system-design-primer",
          "awesome-python",
          "Python",
          "Python-100-Days",
          "youtube-dl",
          "transformers",
          "stable-diffusion-webui",
          "thefuck",
          "HelloGitHub",
          "django",
          "pytorch",
          "langchain",
          "flask",
          "fastapi",
          "core",
          "awesome-machine-learning",
          "yt-dlp",
          "keras",
          "devops-exercises",
          "ansible",
          "funNLP",
          "cpython",
          "scikit-learn",
          "manim",
          "PayloadsAllTheThings",
          "d2l-zh",
          "requests",
          "face_recognition",
          "localstack"
         ],
         "xaxis": "x",
         "y": [
          268670,
          235334,
          186726,
          172938,
          142196,
          124554,
          115215,
          109252,
          80080,
          77938,
          74005,
          72560,
          68308,
          64933,
          64620,
          64055,
          61370,
          60136,
          59734,
          59473,
          59260,
          58930,
          56795,
          56427,
          54727,
          52592,
          50834,
          50530,
          50195,
          49995
         ],
         "yaxis": "y"
        }
       ],
       "layout": {
        "barmode": "relative",
        "legend": {
         "tracegroupgap": 0
        },
        "margin": {
         "t": 60
        },
        "template": {
         "data": {
          "bar": [
           {
            "error_x": {
             "color": "#2a3f5f"
            },
            "error_y": {
             "color": "#2a3f5f"
            },
            "marker": {
             "line": {
              "color": "#E5ECF6",
              "width": 0.5
             },
             "pattern": {
              "fillmode": "overlay",
              "size": 10,
              "solidity": 0.2
             }
            },
            "type": "bar"
           }
          ],
          "barpolar": [
           {
            "marker": {
             "line": {
              "color": "#E5ECF6",
              "width": 0.5
             },
             "pattern": {
              "fillmode": "overlay",
              "size": 10,
              "solidity": 0.2
             }
            },
            "type": "barpolar"
           }
          ],
          "carpet": [
           {
            "aaxis": {
             "endlinecolor": "#2a3f5f",
             "gridcolor": "white",
             "linecolor": "white",
             "minorgridcolor": "white",
             "startlinecolor": "#2a3f5f"
            },
            "baxis": {
             "endlinecolor": "#2a3f5f",
             "gridcolor": "white",
             "linecolor": "white",
             "minorgridcolor": "white",
             "startlinecolor": "#2a3f5f"
            },
            "type": "carpet"
           }
          ],
          "choropleth": [
           {
            "colorbar": {
             "outlinewidth": 0,
             "ticks": ""
            },
            "type": "choropleth"
           }
          ],
          "contour": [
           {
            "colorbar": {
             "outlinewidth": 0,
             "ticks": ""
            },
            "colorscale": [
             [
              0,
              "#0d0887"
             ],
             [
              0.1111111111111111,
              "#46039f"
             ],
             [
              0.2222222222222222,
              "#7201a8"
             ],
             [
              0.3333333333333333,
              "#9c179e"
             ],
             [
              0.4444444444444444,
              "#bd3786"
             ],
             [
              0.5555555555555556,
              "#d8576b"
             ],
             [
              0.6666666666666666,
              "#ed7953"
             ],
             [
              0.7777777777777778,
              "#fb9f3a"
             ],
             [
              0.8888888888888888,
              "#fdca26"
             ],
             [
              1,
              "#f0f921"
             ]
            ],
            "type": "contour"
           }
          ],
          "contourcarpet": [
           {
            "colorbar": {
             "outlinewidth": 0,
             "ticks": ""
            },
            "type": "contourcarpet"
           }
          ],
          "heatmap": [
           {
            "colorbar": {
             "outlinewidth": 0,
             "ticks": ""
            },
            "colorscale": [
             [
              0,
              "#0d0887"
             ],
             [
              0.1111111111111111,
              "#46039f"
             ],
             [
              0.2222222222222222,
              "#7201a8"
             ],
             [
              0.3333333333333333,
              "#9c179e"
             ],
             [
              0.4444444444444444,
              "#bd3786"
             ],
             [
              0.5555555555555556,
              "#d8576b"
             ],
             [
              0.6666666666666666,
              "#ed7953"
             ],
             [
              0.7777777777777778,
              "#fb9f3a"
             ],
             [
              0.8888888888888888,
              "#fdca26"
             ],
             [
              1,
              "#f0f921"
             ]
            ],
            "type": "heatmap"
           }
          ],
          "heatmapgl": [
           {
            "colorbar": {
             "outlinewidth": 0,
             "ticks": ""
            },
            "colorscale": [
             [
              0,
              "#0d0887"
             ],
             [
              0.1111111111111111,
              "#46039f"
             ],
             [
              0.2222222222222222,
              "#7201a8"
             ],
             [
              0.3333333333333333,
              "#9c179e"
             ],
             [
              0.4444444444444444,
              "#bd3786"
             ],
             [
              0.5555555555555556,
              "#d8576b"
             ],
             [
              0.6666666666666666,
              "#ed7953"
             ],
             [
              0.7777777777777778,
              "#fb9f3a"
             ],
             [
              0.8888888888888888,
              "#fdca26"
             ],
             [
              1,
              "#f0f921"
             ]
            ],
            "type": "heatmapgl"
           }
          ],
          "histogram": [
           {
            "marker": {
             "pattern": {
              "fillmode": "overlay",
              "size": 10,
              "solidity": 0.2
             }
            },
            "type": "histogram"
           }
          ],
          "histogram2d": [
           {
            "colorbar": {
             "outlinewidth": 0,
             "ticks": ""
            },
            "colorscale": [
             [
              0,
              "#0d0887"
             ],
             [
              0.1111111111111111,
              "#46039f"
             ],
             [
              0.2222222222222222,
              "#7201a8"
             ],
             [
              0.3333333333333333,
              "#9c179e"
             ],
             [
              0.4444444444444444,
              "#bd3786"
             ],
             [
              0.5555555555555556,
              "#d8576b"
             ],
             [
              0.6666666666666666,
              "#ed7953"
             ],
             [
              0.7777777777777778,
              "#fb9f3a"
             ],
             [
              0.8888888888888888,
              "#fdca26"
             ],
             [
              1,
              "#f0f921"
             ]
            ],
            "type": "histogram2d"
           }
          ],
          "histogram2dcontour": [
           {
            "colorbar": {
             "outlinewidth": 0,
             "ticks": ""
            },
            "colorscale": [
             [
              0,
              "#0d0887"
             ],
             [
              0.1111111111111111,
              "#46039f"
             ],
             [
              0.2222222222222222,
              "#7201a8"
             ],
             [
              0.3333333333333333,
              "#9c179e"
             ],
             [
              0.4444444444444444,
              "#bd3786"
             ],
             [
              0.5555555555555556,
              "#d8576b"
             ],
             [
              0.6666666666666666,
              "#ed7953"
             ],
             [
              0.7777777777777778,
              "#fb9f3a"
             ],
             [
              0.8888888888888888,
              "#fdca26"
             ],
             [
              1,
              "#f0f921"
             ]
            ],
            "type": "histogram2dcontour"
           }
          ],
          "mesh3d": [
           {
            "colorbar": {
             "outlinewidth": 0,
             "ticks": ""
            },
            "type": "mesh3d"
           }
          ],
          "parcoords": [
           {
            "line": {
             "colorbar": {
              "outlinewidth": 0,
              "ticks": ""
             }
            },
            "type": "parcoords"
           }
          ],
          "pie": [
           {
            "automargin": true,
            "type": "pie"
           }
          ],
          "scatter": [
           {
            "fillpattern": {
             "fillmode": "overlay",
             "size": 10,
             "solidity": 0.2
            },
            "type": "scatter"
           }
          ],
          "scatter3d": [
           {
            "line": {
             "colorbar": {
              "outlinewidth": 0,
              "ticks": ""
             }
            },
            "marker": {
             "colorbar": {
              "outlinewidth": 0,
              "ticks": ""
             }
            },
            "type": "scatter3d"
           }
          ],
          "scattercarpet": [
           {
            "marker": {
             "colorbar": {
              "outlinewidth": 0,
              "ticks": ""
             }
            },
            "type": "scattercarpet"
           }
          ],
          "scattergeo": [
           {
            "marker": {
             "colorbar": {
              "outlinewidth": 0,
              "ticks": ""
             }
            },
            "type": "scattergeo"
           }
          ],
          "scattergl": [
           {
            "marker": {
             "colorbar": {
              "outlinewidth": 0,
              "ticks": ""
             }
            },
            "type": "scattergl"
           }
          ],
          "scattermapbox": [
           {
            "marker": {
             "colorbar": {
              "outlinewidth": 0,
              "ticks": ""
             }
            },
            "type": "scattermapbox"
           }
          ],
          "scatterpolar": [
           {
            "marker": {
             "colorbar": {
              "outlinewidth": 0,
              "ticks": ""
             }
            },
            "type": "scatterpolar"
           }
          ],
          "scatterpolargl": [
           {
            "marker": {
             "colorbar": {
              "outlinewidth": 0,
              "ticks": ""
             }
            },
            "type": "scatterpolargl"
           }
          ],
          "scatterternary": [
           {
            "marker": {
             "colorbar": {
              "outlinewidth": 0,
              "ticks": ""
             }
            },
            "type": "scatterternary"
           }
          ],
          "surface": [
           {
            "colorbar": {
             "outlinewidth": 0,
             "ticks": ""
            },
            "colorscale": [
             [
              0,
              "#0d0887"
             ],
             [
              0.1111111111111111,
              "#46039f"
             ],
             [
              0.2222222222222222,
              "#7201a8"
             ],
             [
              0.3333333333333333,
              "#9c179e"
             ],
             [
              0.4444444444444444,
              "#bd3786"
             ],
             [
              0.5555555555555556,
              "#d8576b"
             ],
             [
              0.6666666666666666,
              "#ed7953"
             ],
             [
              0.7777777777777778,
              "#fb9f3a"
             ],
             [
              0.8888888888888888,
              "#fdca26"
             ],
             [
              1,
              "#f0f921"
             ]
            ],
            "type": "surface"
           }
          ],
          "table": [
           {
            "cells": {
             "fill": {
              "color": "#EBF0F8"
             },
             "line": {
              "color": "white"
             }
            },
            "header": {
             "fill": {
              "color": "#C8D4E3"
             },
             "line": {
              "color": "white"
             }
            },
            "type": "table"
           }
          ]
         },
         "layout": {
          "annotationdefaults": {
           "arrowcolor": "#2a3f5f",
           "arrowhead": 0,
           "arrowwidth": 1
          },
          "autotypenumbers": "strict",
          "coloraxis": {
           "colorbar": {
            "outlinewidth": 0,
            "ticks": ""
           }
          },
          "colorscale": {
           "diverging": [
            [
             0,
             "#8e0152"
            ],
            [
             0.1,
             "#c51b7d"
            ],
            [
             0.2,
             "#de77ae"
            ],
            [
             0.3,
             "#f1b6da"
            ],
            [
             0.4,
             "#fde0ef"
            ],
            [
             0.5,
             "#f7f7f7"
            ],
            [
             0.6,
             "#e6f5d0"
            ],
            [
             0.7,
             "#b8e186"
            ],
            [
             0.8,
             "#7fbc41"
            ],
            [
             0.9,
             "#4d9221"
            ],
            [
             1,
             "#276419"
            ]
           ],
           "sequential": [
            [
             0,
             "#0d0887"
            ],
            [
             0.1111111111111111,
             "#46039f"
            ],
            [
             0.2222222222222222,
             "#7201a8"
            ],
            [
             0.3333333333333333,
             "#9c179e"
            ],
            [
             0.4444444444444444,
             "#bd3786"
            ],
            [
             0.5555555555555556,
             "#d8576b"
            ],
            [
             0.6666666666666666,
             "#ed7953"
            ],
            [
             0.7777777777777778,
             "#fb9f3a"
            ],
            [
             0.8888888888888888,
             "#fdca26"
            ],
            [
             1,
             "#f0f921"
            ]
           ],
           "sequentialminus": [
            [
             0,
             "#0d0887"
            ],
            [
             0.1111111111111111,
             "#46039f"
            ],
            [
             0.2222222222222222,
             "#7201a8"
            ],
            [
             0.3333333333333333,
             "#9c179e"
            ],
            [
             0.4444444444444444,
             "#bd3786"
            ],
            [
             0.5555555555555556,
             "#d8576b"
            ],
            [
             0.6666666666666666,
             "#ed7953"
            ],
            [
             0.7777777777777778,
             "#fb9f3a"
            ],
            [
             0.8888888888888888,
             "#fdca26"
            ],
            [
             1,
             "#f0f921"
            ]
           ]
          },
          "colorway": [
           "#636efa",
           "#EF553B",
           "#00cc96",
           "#ab63fa",
           "#FFA15A",
           "#19d3f3",
           "#FF6692",
           "#B6E880",
           "#FF97FF",
           "#FECB52"
          ],
          "font": {
           "color": "#2a3f5f"
          },
          "geo": {
           "bgcolor": "white",
           "lakecolor": "white",
           "landcolor": "#E5ECF6",
           "showlakes": true,
           "showland": true,
           "subunitcolor": "white"
          },
          "hoverlabel": {
           "align": "left"
          },
          "hovermode": "closest",
          "mapbox": {
           "style": "light"
          },
          "paper_bgcolor": "white",
          "plot_bgcolor": "#E5ECF6",
          "polar": {
           "angularaxis": {
            "gridcolor": "white",
            "linecolor": "white",
            "ticks": ""
           },
           "bgcolor": "#E5ECF6",
           "radialaxis": {
            "gridcolor": "white",
            "linecolor": "white",
            "ticks": ""
           }
          },
          "scene": {
           "xaxis": {
            "backgroundcolor": "#E5ECF6",
            "gridcolor": "white",
            "gridwidth": 2,
            "linecolor": "white",
            "showbackground": true,
            "ticks": "",
            "zerolinecolor": "white"
           },
           "yaxis": {
            "backgroundcolor": "#E5ECF6",
            "gridcolor": "white",
            "gridwidth": 2,
            "linecolor": "white",
            "showbackground": true,
            "ticks": "",
            "zerolinecolor": "white"
           },
           "zaxis": {
            "backgroundcolor": "#E5ECF6",
            "gridcolor": "white",
            "gridwidth": 2,
            "linecolor": "white",
            "showbackground": true,
            "ticks": "",
            "zerolinecolor": "white"
           }
          },
          "shapedefaults": {
           "line": {
            "color": "#2a3f5f"
           }
          },
          "ternary": {
           "aaxis": {
            "gridcolor": "white",
            "linecolor": "white",
            "ticks": ""
           },
           "baxis": {
            "gridcolor": "white",
            "linecolor": "white",
            "ticks": ""
           },
           "bgcolor": "#E5ECF6",
           "caxis": {
            "gridcolor": "white",
            "linecolor": "white",
            "ticks": ""
           }
          },
          "title": {
           "x": 0.05
          },
          "xaxis": {
           "automargin": true,
           "gridcolor": "white",
           "linecolor": "white",
           "ticks": "",
           "title": {
            "standoff": 15
           },
           "zerolinecolor": "white",
           "zerolinewidth": 2
          },
          "yaxis": {
           "automargin": true,
           "gridcolor": "white",
           "linecolor": "white",
           "ticks": "",
           "title": {
            "standoff": 15
           },
           "zerolinecolor": "white",
           "zerolinewidth": 2
          }
         }
        },
        "xaxis": {
         "anchor": "y",
         "domain": [
          0,
          1
         ],
         "title": {
          "text": "x"
         }
        },
        "yaxis": {
         "anchor": "x",
         "domain": [
          0,
          1
         ],
         "title": {
          "text": "y"
         }
        }
       }
      }
     },
     "metadata": {},
     "output_type": "display_data"
    }
   ],
   "source": [
    "import requests\n",
    "import plotly.express as px\n",
    "\n",
    "# Make an API call to github\n",
    "url = \"https://api.github.com/search/repositories\"\n",
    "url += \"?q=language:python+sort:stars+stars:>10000\"\n",
    "\n",
    "headers = {\"Accept\": \"application/vnd.github.v3+json\"}\n",
    "r = requests.get(url, headers=headers)\n",
    "print(f\"Status code: {r.status_code}\")\n",
    "\n",
    "# Process over results.\n",
    "response_dict = r.json()\n",
    "print(f\"Complete results: {not response_dict['incomplete_results']}\")\n",
    "\n",
    "# Process repository information.\n",
    "repo_dicts = response_dict[\"items\"]\n",
    "repo_names, stars = [], []\n",
    "\n",
    "for repo_dict in repo_dicts:\n",
    "    repo_names.append(repo_dict['name'])\n",
    "    stars.append(repo_dict['stargazers_count'])\n",
    "\n",
    "# Make a visualization \n",
    "\n",
    "fig = px.bar(x=repo_names, y=stars)\n",
    "fig.show() "
   ]
  },
  {
   "cell_type": "markdown",
   "metadata": {},
   "source": [
    "Styling the chart "
   ]
  },
  {
   "cell_type": "code",
   "execution_count": 16,
   "metadata": {},
   "outputs": [
    {
     "name": "stdout",
     "output_type": "stream",
     "text": [
      "Status Code: 200\n",
      "Completed Results: True\n"
     ]
    },
    {
     "data": {
      "application/vnd.plotly.v1+json": {
       "config": {
        "plotlyServerURL": "https://plot.ly"
       },
       "data": [
        {
         "alignmentgroup": "True",
         "hovertemplate": "Repository=%{x}<br>Stars=%{y}<extra></extra>",
         "legendgroup": "",
         "marker": {
          "color": "#636efa",
          "pattern": {
           "shape": ""
          }
         },
         "name": "",
         "offsetgroup": "",
         "orientation": "v",
         "showlegend": false,
         "textposition": "auto",
         "type": "bar",
         "x": [
          "public-apis",
          "system-design-primer",
          "awesome-python",
          "Python",
          "Python-100-Days",
          "youtube-dl",
          "transformers",
          "stable-diffusion-webui",
          "thefuck",
          "HelloGitHub",
          "django",
          "pytorch",
          "langchain",
          "flask",
          "fastapi",
          "core",
          "awesome-machine-learning",
          "yt-dlp",
          "keras",
          "devops-exercises",
          "ansible",
          "funNLP",
          "cpython",
          "scikit-learn",
          "manim",
          "PayloadsAllTheThings",
          "d2l-zh",
          "requests",
          "face_recognition",
          "localstack"
         ],
         "xaxis": "x",
         "y": [
          268670,
          235336,
          186727,
          172938,
          142196,
          124554,
          115215,
          109255,
          80080,
          77939,
          74005,
          72560,
          68310,
          64933,
          64621,
          64055,
          61370,
          60138,
          59735,
          59473,
          59260,
          58930,
          56796,
          56427,
          54727,
          52592,
          50834,
          50530,
          50195,
          49995
         ],
         "yaxis": "y"
        }
       ],
       "layout": {
        "barmode": "relative",
        "legend": {
         "tracegroupgap": 0
        },
        "margin": {
         "t": 60
        },
        "template": {
         "data": {
          "bar": [
           {
            "error_x": {
             "color": "#2a3f5f"
            },
            "error_y": {
             "color": "#2a3f5f"
            },
            "marker": {
             "line": {
              "color": "#E5ECF6",
              "width": 0.5
             },
             "pattern": {
              "fillmode": "overlay",
              "size": 10,
              "solidity": 0.2
             }
            },
            "type": "bar"
           }
          ],
          "barpolar": [
           {
            "marker": {
             "line": {
              "color": "#E5ECF6",
              "width": 0.5
             },
             "pattern": {
              "fillmode": "overlay",
              "size": 10,
              "solidity": 0.2
             }
            },
            "type": "barpolar"
           }
          ],
          "carpet": [
           {
            "aaxis": {
             "endlinecolor": "#2a3f5f",
             "gridcolor": "white",
             "linecolor": "white",
             "minorgridcolor": "white",
             "startlinecolor": "#2a3f5f"
            },
            "baxis": {
             "endlinecolor": "#2a3f5f",
             "gridcolor": "white",
             "linecolor": "white",
             "minorgridcolor": "white",
             "startlinecolor": "#2a3f5f"
            },
            "type": "carpet"
           }
          ],
          "choropleth": [
           {
            "colorbar": {
             "outlinewidth": 0,
             "ticks": ""
            },
            "type": "choropleth"
           }
          ],
          "contour": [
           {
            "colorbar": {
             "outlinewidth": 0,
             "ticks": ""
            },
            "colorscale": [
             [
              0,
              "#0d0887"
             ],
             [
              0.1111111111111111,
              "#46039f"
             ],
             [
              0.2222222222222222,
              "#7201a8"
             ],
             [
              0.3333333333333333,
              "#9c179e"
             ],
             [
              0.4444444444444444,
              "#bd3786"
             ],
             [
              0.5555555555555556,
              "#d8576b"
             ],
             [
              0.6666666666666666,
              "#ed7953"
             ],
             [
              0.7777777777777778,
              "#fb9f3a"
             ],
             [
              0.8888888888888888,
              "#fdca26"
             ],
             [
              1,
              "#f0f921"
             ]
            ],
            "type": "contour"
           }
          ],
          "contourcarpet": [
           {
            "colorbar": {
             "outlinewidth": 0,
             "ticks": ""
            },
            "type": "contourcarpet"
           }
          ],
          "heatmap": [
           {
            "colorbar": {
             "outlinewidth": 0,
             "ticks": ""
            },
            "colorscale": [
             [
              0,
              "#0d0887"
             ],
             [
              0.1111111111111111,
              "#46039f"
             ],
             [
              0.2222222222222222,
              "#7201a8"
             ],
             [
              0.3333333333333333,
              "#9c179e"
             ],
             [
              0.4444444444444444,
              "#bd3786"
             ],
             [
              0.5555555555555556,
              "#d8576b"
             ],
             [
              0.6666666666666666,
              "#ed7953"
             ],
             [
              0.7777777777777778,
              "#fb9f3a"
             ],
             [
              0.8888888888888888,
              "#fdca26"
             ],
             [
              1,
              "#f0f921"
             ]
            ],
            "type": "heatmap"
           }
          ],
          "heatmapgl": [
           {
            "colorbar": {
             "outlinewidth": 0,
             "ticks": ""
            },
            "colorscale": [
             [
              0,
              "#0d0887"
             ],
             [
              0.1111111111111111,
              "#46039f"
             ],
             [
              0.2222222222222222,
              "#7201a8"
             ],
             [
              0.3333333333333333,
              "#9c179e"
             ],
             [
              0.4444444444444444,
              "#bd3786"
             ],
             [
              0.5555555555555556,
              "#d8576b"
             ],
             [
              0.6666666666666666,
              "#ed7953"
             ],
             [
              0.7777777777777778,
              "#fb9f3a"
             ],
             [
              0.8888888888888888,
              "#fdca26"
             ],
             [
              1,
              "#f0f921"
             ]
            ],
            "type": "heatmapgl"
           }
          ],
          "histogram": [
           {
            "marker": {
             "pattern": {
              "fillmode": "overlay",
              "size": 10,
              "solidity": 0.2
             }
            },
            "type": "histogram"
           }
          ],
          "histogram2d": [
           {
            "colorbar": {
             "outlinewidth": 0,
             "ticks": ""
            },
            "colorscale": [
             [
              0,
              "#0d0887"
             ],
             [
              0.1111111111111111,
              "#46039f"
             ],
             [
              0.2222222222222222,
              "#7201a8"
             ],
             [
              0.3333333333333333,
              "#9c179e"
             ],
             [
              0.4444444444444444,
              "#bd3786"
             ],
             [
              0.5555555555555556,
              "#d8576b"
             ],
             [
              0.6666666666666666,
              "#ed7953"
             ],
             [
              0.7777777777777778,
              "#fb9f3a"
             ],
             [
              0.8888888888888888,
              "#fdca26"
             ],
             [
              1,
              "#f0f921"
             ]
            ],
            "type": "histogram2d"
           }
          ],
          "histogram2dcontour": [
           {
            "colorbar": {
             "outlinewidth": 0,
             "ticks": ""
            },
            "colorscale": [
             [
              0,
              "#0d0887"
             ],
             [
              0.1111111111111111,
              "#46039f"
             ],
             [
              0.2222222222222222,
              "#7201a8"
             ],
             [
              0.3333333333333333,
              "#9c179e"
             ],
             [
              0.4444444444444444,
              "#bd3786"
             ],
             [
              0.5555555555555556,
              "#d8576b"
             ],
             [
              0.6666666666666666,
              "#ed7953"
             ],
             [
              0.7777777777777778,
              "#fb9f3a"
             ],
             [
              0.8888888888888888,
              "#fdca26"
             ],
             [
              1,
              "#f0f921"
             ]
            ],
            "type": "histogram2dcontour"
           }
          ],
          "mesh3d": [
           {
            "colorbar": {
             "outlinewidth": 0,
             "ticks": ""
            },
            "type": "mesh3d"
           }
          ],
          "parcoords": [
           {
            "line": {
             "colorbar": {
              "outlinewidth": 0,
              "ticks": ""
             }
            },
            "type": "parcoords"
           }
          ],
          "pie": [
           {
            "automargin": true,
            "type": "pie"
           }
          ],
          "scatter": [
           {
            "fillpattern": {
             "fillmode": "overlay",
             "size": 10,
             "solidity": 0.2
            },
            "type": "scatter"
           }
          ],
          "scatter3d": [
           {
            "line": {
             "colorbar": {
              "outlinewidth": 0,
              "ticks": ""
             }
            },
            "marker": {
             "colorbar": {
              "outlinewidth": 0,
              "ticks": ""
             }
            },
            "type": "scatter3d"
           }
          ],
          "scattercarpet": [
           {
            "marker": {
             "colorbar": {
              "outlinewidth": 0,
              "ticks": ""
             }
            },
            "type": "scattercarpet"
           }
          ],
          "scattergeo": [
           {
            "marker": {
             "colorbar": {
              "outlinewidth": 0,
              "ticks": ""
             }
            },
            "type": "scattergeo"
           }
          ],
          "scattergl": [
           {
            "marker": {
             "colorbar": {
              "outlinewidth": 0,
              "ticks": ""
             }
            },
            "type": "scattergl"
           }
          ],
          "scattermapbox": [
           {
            "marker": {
             "colorbar": {
              "outlinewidth": 0,
              "ticks": ""
             }
            },
            "type": "scattermapbox"
           }
          ],
          "scatterpolar": [
           {
            "marker": {
             "colorbar": {
              "outlinewidth": 0,
              "ticks": ""
             }
            },
            "type": "scatterpolar"
           }
          ],
          "scatterpolargl": [
           {
            "marker": {
             "colorbar": {
              "outlinewidth": 0,
              "ticks": ""
             }
            },
            "type": "scatterpolargl"
           }
          ],
          "scatterternary": [
           {
            "marker": {
             "colorbar": {
              "outlinewidth": 0,
              "ticks": ""
             }
            },
            "type": "scatterternary"
           }
          ],
          "surface": [
           {
            "colorbar": {
             "outlinewidth": 0,
             "ticks": ""
            },
            "colorscale": [
             [
              0,
              "#0d0887"
             ],
             [
              0.1111111111111111,
              "#46039f"
             ],
             [
              0.2222222222222222,
              "#7201a8"
             ],
             [
              0.3333333333333333,
              "#9c179e"
             ],
             [
              0.4444444444444444,
              "#bd3786"
             ],
             [
              0.5555555555555556,
              "#d8576b"
             ],
             [
              0.6666666666666666,
              "#ed7953"
             ],
             [
              0.7777777777777778,
              "#fb9f3a"
             ],
             [
              0.8888888888888888,
              "#fdca26"
             ],
             [
              1,
              "#f0f921"
             ]
            ],
            "type": "surface"
           }
          ],
          "table": [
           {
            "cells": {
             "fill": {
              "color": "#EBF0F8"
             },
             "line": {
              "color": "white"
             }
            },
            "header": {
             "fill": {
              "color": "#C8D4E3"
             },
             "line": {
              "color": "white"
             }
            },
            "type": "table"
           }
          ]
         },
         "layout": {
          "annotationdefaults": {
           "arrowcolor": "#2a3f5f",
           "arrowhead": 0,
           "arrowwidth": 1
          },
          "autotypenumbers": "strict",
          "coloraxis": {
           "colorbar": {
            "outlinewidth": 0,
            "ticks": ""
           }
          },
          "colorscale": {
           "diverging": [
            [
             0,
             "#8e0152"
            ],
            [
             0.1,
             "#c51b7d"
            ],
            [
             0.2,
             "#de77ae"
            ],
            [
             0.3,
             "#f1b6da"
            ],
            [
             0.4,
             "#fde0ef"
            ],
            [
             0.5,
             "#f7f7f7"
            ],
            [
             0.6,
             "#e6f5d0"
            ],
            [
             0.7,
             "#b8e186"
            ],
            [
             0.8,
             "#7fbc41"
            ],
            [
             0.9,
             "#4d9221"
            ],
            [
             1,
             "#276419"
            ]
           ],
           "sequential": [
            [
             0,
             "#0d0887"
            ],
            [
             0.1111111111111111,
             "#46039f"
            ],
            [
             0.2222222222222222,
             "#7201a8"
            ],
            [
             0.3333333333333333,
             "#9c179e"
            ],
            [
             0.4444444444444444,
             "#bd3786"
            ],
            [
             0.5555555555555556,
             "#d8576b"
            ],
            [
             0.6666666666666666,
             "#ed7953"
            ],
            [
             0.7777777777777778,
             "#fb9f3a"
            ],
            [
             0.8888888888888888,
             "#fdca26"
            ],
            [
             1,
             "#f0f921"
            ]
           ],
           "sequentialminus": [
            [
             0,
             "#0d0887"
            ],
            [
             0.1111111111111111,
             "#46039f"
            ],
            [
             0.2222222222222222,
             "#7201a8"
            ],
            [
             0.3333333333333333,
             "#9c179e"
            ],
            [
             0.4444444444444444,
             "#bd3786"
            ],
            [
             0.5555555555555556,
             "#d8576b"
            ],
            [
             0.6666666666666666,
             "#ed7953"
            ],
            [
             0.7777777777777778,
             "#fb9f3a"
            ],
            [
             0.8888888888888888,
             "#fdca26"
            ],
            [
             1,
             "#f0f921"
            ]
           ]
          },
          "colorway": [
           "#636efa",
           "#EF553B",
           "#00cc96",
           "#ab63fa",
           "#FFA15A",
           "#19d3f3",
           "#FF6692",
           "#B6E880",
           "#FF97FF",
           "#FECB52"
          ],
          "font": {
           "color": "#2a3f5f"
          },
          "geo": {
           "bgcolor": "white",
           "lakecolor": "white",
           "landcolor": "#E5ECF6",
           "showlakes": true,
           "showland": true,
           "subunitcolor": "white"
          },
          "hoverlabel": {
           "align": "left"
          },
          "hovermode": "closest",
          "mapbox": {
           "style": "light"
          },
          "paper_bgcolor": "white",
          "plot_bgcolor": "#E5ECF6",
          "polar": {
           "angularaxis": {
            "gridcolor": "white",
            "linecolor": "white",
            "ticks": ""
           },
           "bgcolor": "#E5ECF6",
           "radialaxis": {
            "gridcolor": "white",
            "linecolor": "white",
            "ticks": ""
           }
          },
          "scene": {
           "xaxis": {
            "backgroundcolor": "#E5ECF6",
            "gridcolor": "white",
            "gridwidth": 2,
            "linecolor": "white",
            "showbackground": true,
            "ticks": "",
            "zerolinecolor": "white"
           },
           "yaxis": {
            "backgroundcolor": "#E5ECF6",
            "gridcolor": "white",
            "gridwidth": 2,
            "linecolor": "white",
            "showbackground": true,
            "ticks": "",
            "zerolinecolor": "white"
           },
           "zaxis": {
            "backgroundcolor": "#E5ECF6",
            "gridcolor": "white",
            "gridwidth": 2,
            "linecolor": "white",
            "showbackground": true,
            "ticks": "",
            "zerolinecolor": "white"
           }
          },
          "shapedefaults": {
           "line": {
            "color": "#2a3f5f"
           }
          },
          "ternary": {
           "aaxis": {
            "gridcolor": "white",
            "linecolor": "white",
            "ticks": ""
           },
           "baxis": {
            "gridcolor": "white",
            "linecolor": "white",
            "ticks": ""
           },
           "bgcolor": "#E5ECF6",
           "caxis": {
            "gridcolor": "white",
            "linecolor": "white",
            "ticks": ""
           }
          },
          "title": {
           "x": 0.05
          },
          "xaxis": {
           "automargin": true,
           "gridcolor": "white",
           "linecolor": "white",
           "ticks": "",
           "title": {
            "standoff": 15
           },
           "zerolinecolor": "white",
           "zerolinewidth": 2
          },
          "yaxis": {
           "automargin": true,
           "gridcolor": "white",
           "linecolor": "white",
           "ticks": "",
           "title": {
            "standoff": 15
           },
           "zerolinecolor": "white",
           "zerolinewidth": 2
          }
         }
        },
        "title": {
         "font": {
          "size": 28
         }
        },
        "xaxis": {
         "anchor": "y",
         "domain": [
          0,
          1
         ],
         "title": {
          "font": {
           "size": 20
          },
          "text": "Repository"
         }
        },
        "yaxis": {
         "anchor": "x",
         "domain": [
          0,
          1
         ],
         "title": {
          "font": {
           "size": 20
          },
          "text": "Stars"
         }
        }
       }
      }
     },
     "metadata": {},
     "output_type": "display_data"
    }
   ],
   "source": [
    "import requests\n",
    "import plotly.express as px\n",
    "\n",
    "# Make an APC call to Github\n",
    "url = \"https://api.github.com/search/repositories?q=language:python+sort:stars+stars:>10000\"\n",
    "\n",
    "headers = {\"Accept\": \"application/vnd.github.v3+json\"}\n",
    "r = requests.get(url, headers=headers)\n",
    "print(f\"Status Code: {r.status_code}\")\n",
    "\n",
    "# Process over the result \n",
    "response_dict = r.json()\n",
    "print(f\"Completed Results: {not response_dict['incomplete_results']}\")\n",
    "\n",
    "# Process responsitory information \n",
    "repo_dicts = response_dict['items']\n",
    "repo_names, stars = [],[] \n",
    "\n",
    "# for loop to extract names and stars count from API\n",
    "for repo_dict in repo_dicts: \n",
    "    repo_names.append(repo_dict['name'])\n",
    "    stars.append(repo_dict['stargazers_count'])\n",
    "\n",
    "# Mak a visual representation using plotly \n",
    "title = \" Most- starred Python projects on GitHub\"\n",
    "labels = {'x':'Repository','y':'Stars'}\n",
    "fig = px.bar(x=repo_names, y=stars, labels = labels)\n",
    "\n",
    "fig.update_layout (title_font_size = 28, xaxis_title_font_size = 20, yaxis_title_font_size =20)\n",
    "\n",
    "fig.show() "
   ]
  },
  {
   "cell_type": "markdown",
   "metadata": {},
   "source": [
    "Adding Custome tooltips "
   ]
  },
  {
   "cell_type": "code",
   "execution_count": 21,
   "metadata": {},
   "outputs": [
    {
     "name": "stdout",
     "output_type": "stream",
     "text": [
      "Status Code: 200\n",
      "Completed Results: True\n"
     ]
    },
    {
     "data": {
      "application/vnd.plotly.v1+json": {
       "config": {
        "plotlyServerURL": "https://plot.ly"
       },
       "data": [
        {
         "alignmentgroup": "True",
         "hovertemplate": "<b>%{hovertext}</b><br><br>Repository=%{x}<br>Stars=%{y}<extra></extra>",
         "hovertext": [
          "public-apis <br /> A collective list of free APIs",
          "donnemartin <br /> Learn how to design large-scale systems. Prep for the system design interview.  Includes Anki flashcards.",
          "vinta <br /> A curated list of awesome Python frameworks, libraries, software and resources",
          "TheAlgorithms <br /> All Algorithms implemented in Python",
          "jackfrued <br /> Python - 100天从新手到大师",
          "ytdl-org <br /> Command-line program to download videos from YouTube.com and other video sites",
          "huggingface <br /> 🤗 Transformers: State-of-the-art Machine Learning for Pytorch, TensorFlow, and JAX.",
          "AUTOMATIC1111 <br /> Stable Diffusion web UI",
          "nvbn <br /> Magnificent app which corrects your previous console command.",
          "521xueweihan <br /> :octocat: 分享 GitHub 上有趣、入门级的开源项目。Share interesting, entry-level open source projects on GitHub.",
          "django <br /> The Web framework for perfectionists with deadlines.",
          "pytorch <br /> Tensors and Dynamic neural networks in Python with strong GPU acceleration",
          "langchain-ai <br /> ⚡ Building applications with LLMs through composability ⚡",
          "pallets <br /> The Python micro framework for building web applications.",
          "tiangolo <br /> FastAPI framework, high performance, easy to learn, fast to code, ready for production",
          "home-assistant <br /> :house_with_garden: Open source home automation that puts local control and privacy first.",
          "josephmisiti <br /> A curated list of awesome Machine Learning frameworks, libraries and software.",
          "yt-dlp <br /> A youtube-dl fork with additional features and fixes",
          "keras-team <br /> Deep Learning for humans",
          "bregman-arie <br /> Linux, Jenkins, AWS, SRE, Prometheus, Docker, Python, Ansible, Git, Kubernetes, Terraform, OpenStack, SQL, NoSQL, Azure, GCP, DNS, Elastic, Network, Virtualization. DevOps Interview Questions",
          "ansible <br /> Ansible is a radically simple IT automation platform that makes your applications and systems easier to deploy and maintain. Automate everything from code deployment to network configuration to cloud management, in a language that approaches plain English, using SSH, with no agents to install on remote systems. https://docs.ansible.com.",
          "fighting41love <br /> 中英文敏感词、语言检测、中外手机/电话归属地/运营商查询、名字推断性别、手机号抽取、身份证抽取、邮箱抽取、中日文人名库、中文缩写库、拆字词典、词汇情感值、停用词、反动词表、暴恐词表、繁简体转换、英文模拟中文发音、汪峰歌词生成器、职业名称词库、同义词库、反义词库、否定词库、汽车品牌词库、汽车零件词库、连续英文切割、各种中文词向量、公司名字大全、古诗词库、IT词库、财经词库、成语词库、地名词库、历史名人词库、诗词词库、医学词库、饮食词库、法律词库、汽车词库、动物词库、中文聊天语料、中文谣言数据、百度中文问答数据集、句子相似度匹配算法集合、bert资源、文本生成&摘要相关工具、cocoNLP信息抽取工具、国内电话号码正则匹配、清华大学XLORE:中英文跨语言百科知识图谱、清华大学人工智能技术系列报告、自然语言生成、NLU太难了系列、自动对联数据及机器人、用户名黑名单列表、罪名法务名词及分类模型、微信公众号语料、cs224n深度学习自然语言处理课程、中文手写汉字识别、中文自然语言处理 语料/数据集、变量命名神器、分词语料库+代码、任务型对话英文数据集、ASR 语音数据集 + 基于深度学习的中文语音识别系统、笑声检测器、Microsoft多语言数字/单位/如日期时间识别包、中华新华字典数据库及api(包括常用歇后语、成语、词语和汉字)、文档图谱自动生成、SpaCy 中文模型、Common Voice语音识别数据集新版、神经网络关系抽取、基于bert的命名实体识别、关键词(Keyphrase)抽取包pke、基于医疗领域知识图谱的问答系统、基于依存句法与语义角色标注的事件三元组抽取、依存句法分析4万句高质量标注数据、cnocr：用来做中文OCR的Python3包、中文人物关系知识图谱项目、中文nlp竞赛项目及代码汇总、中文字符数据、speech-aligner: 从“人声语音”及其“语言文本”产生音素级别时间对齐标注的工具、AmpliGraph: 知识图谱表示学习(Python)库：知识图谱概念链接预测、Scattertext 文本可视化(python)、语言/知识表示工具：BERT & ERNIE、中文对比英文自然语言处理NLP的区别综述、Synonyms中文近义词工具包、HarvestText领域自适应文本挖掘工具（新词发现-情感分析-实体链接等）、word2word：(Python)方便易用的多语言词-词对集：62种语言/3,564个多语言对、语音识别语料生成工具：从具有音频/字幕的在线视频创建自动语音识别(ASR)语料库、构建医疗实体识别的模型（包含词典和语料标注）、单文档非监督的关键词抽取、Kashgari中使用gpt-2语言模型、开源的金融投资数据提取工具、文本自动摘要库TextTeaser: 仅支持英文、人民日报语料处理工具集、一些关于自然语言的基本模型、基于14W歌曲知识库的问答尝试--功能包括歌词接龙and已知歌词找歌曲以及歌曲歌手歌词三角关系的问答、基于Siamese bilstm模型的相似句子判定模型并提供训练数据集和测试数据集、用Transformer编解码模型实现的根据Hacker News文章标题自动生成评论、用BERT进行序列标记和文本分类的模板代码、LitBank：NLP数据集——支持自然语言处理和计算人文学科任务的100部带标记英文小说语料、百度开源的基准信息抽取系统、虚假新闻数据集、Facebook: LAMA语言模型分析，提供Transformer-XL/BERT/ELMo/GPT预训练语言模型的统一访问接口、CommonsenseQA：面向常识的英文QA挑战、中文知识图谱资料、数据及工具、各大公司内部里大牛分享的技术文档 PDF 或者 PPT、自然语言生成SQL语句（英文）、中文NLP数据增强（EDA）工具、英文NLP数据增强工具 、基于医药知识图谱的智能问答系统、京东商品知识图谱、基于mongodb存储的军事领域知识图谱问答项目、基于远监督的中文关系抽取、语音情感分析、中文ULMFiT-情感分析-文本分类-语料及模型、一个拍照做题程序、世界各国大规模人名库、一个利用有趣中文语料库 qingyun 训练出来的中文聊天机器人、中文聊天机器人seqGAN、省市区镇行政区划数据带拼音标注、教育行业新闻语料库包含自动文摘功能、开放了对话机器人-知识图谱-语义理解-自然语言处理工具及数据、中文知识图谱：基于百度百科中文页面-抽取三元组信息-构建中文知识图谱、masr: 中文语音识别-提供预训练模型-高识别率、Python音频数据增广库、中文全词覆盖BERT及两份阅读理解数据、ConvLab：开源多域端到端对话系统平台、中文自然语言处理数据集、基于最新版本rasa搭建的对话系统、基于TensorFlow和BERT的管道式实体及关系抽取、一个小型的证券知识图谱/知识库、复盘所有NLP比赛的TOP方案、OpenCLaP：多领域开源中文预训练语言模型仓库、UER：基于不同语料+编码器+目标任务的中文预训练模型仓库、中文自然语言处理向量合集、基于金融-司法领域(兼有闲聊性质)的聊天机器人、g2pC：基于上下文的汉语读音自动标记模块、Zincbase 知识图谱构建工具包、诗歌质量评价/细粒度情感诗歌语料库、快速转化「中文数字」和「阿拉伯数字」、百度知道问答语料库、基于知识图谱的问答系统、jieba_fast 加速版的jieba、正则表达式教程、中文阅读理解数据集、基于BERT等最新语言模型的抽取式摘要提取、Python利用深度学习进行文本摘要的综合指南、知识图谱深度学习相关资料整理、维基大规模平行文本语料、StanfordNLP 0.2.0：纯Python版自然语言处理包、NeuralNLP-NeuralClassifier：腾讯开源深度学习文本分类工具、端到端的封闭域对话系统、中文命名实体识别：NeuroNER vs. BertNER、新闻事件线索抽取、2019年百度的三元组抽取比赛：“科学空间队”源码、基于依存句法的开放域文本知识三元组抽取和知识库构建、中文的GPT2训练代码、ML-NLP - 机器学习(Machine Learning)NLP面试中常考到的知识点和代码实现、nlp4han:中文自然语言处理工具集(断句/分词/词性标注/组块/句法分析/语义分析/NER/N元语法/HMM/代词消解/情感分析/拼写检查、XLM：Facebook的跨语言预训练语言模型、用基于BERT的微调和特征提取方法来进行知识图谱百度百科人物词条属性抽取、中文自然语言处理相关的开放任务-数据集-当前最佳结果、CoupletAI - 基于CNN+Bi-LSTM+Attention 的自动对对联系统、抽象知识图谱、MiningZhiDaoQACorpus - 580万百度知道问答数据挖掘项目、brat rapid annotation tool: 序列标注工具、大规模中文知识图谱数据：1.4亿实体、数据增强在机器翻译及其他nlp任务中的应用及效果、allennlp阅读理解:支持多种数据和模型、PDF表格数据提取工具 、 Graphbrain：AI开源软件库和科研工具，目的是促进自动意义提取和文本理解以及知识的探索和推断、简历自动筛选系统、基于命名实体识别的简历自动摘要、中文语言理解测评基准，包括代表性的数据集&基准模型&语料库&排行榜、树洞 OCR 文字识别 、从包含表格的扫描图片中识别表格和文字、语声迁移、Python口语自然语言处理工具集(英文)、 similarity：相似度计算工具包，java编写、海量中文预训练ALBERT模型 、Transformers 2.0 、基于大规模音频数据集Audioset的音频增强 、Poplar：网页版自然语言标注工具、图片文字去除，可用于漫画翻译 、186种语言的数字叫法库、Amazon发布基于知识的人-人开放领域对话数据集 、中文文本纠错模块代码、繁简体转换 、 Python实现的多种文本可读性评价指标、类似于人名/地名/组织机构名的命名体识别数据集 、东南大学《知识图谱》研究生课程(资料)、. 英文拼写检查库 、 wwsearch是企业微信后台自研的全文检索引擎、CHAMELEON：深度学习新闻推荐系统元架构 、 8篇论文梳理BERT相关模型进展与反思、DocSearch：免费文档搜索引擎、 LIDA：轻量交互式对话标注工具 、aili - the fastest in-memory index in the East 东半球最快并发索引 、知识图谱车音工作项目、自然语言生成资源大全 、中日韩分词库mecab的Python接口库、中文文本摘要/关键词提取、汉字字符特征提取器 (featurizer)，提取汉字的特征（发音特征、字形特征）用做深度学习的特征、中文生成任务基准测评 、中文缩写数据集、中文任务基准测评 - 代表性的数据集-基准(预训练)模型-语料库-baseline-工具包-排行榜、PySS3：面向可解释AI的SS3文本分类器机器可视化工具 、中文NLP数据集列表、COPE - 格律诗编辑程序、doccano：基于网页的开源协同多语言文本标注工具 、PreNLP：自然语言预处理库、简单的简历解析器，用来从简历中提取关键信息、用于中文闲聊的GPT2模型：GPT2-chitchat、基于检索聊天机器人多轮响应选择相关资源列表(Leaderboards、Datasets、Papers)、(Colab)抽象文本摘要实现集锦(教程 、词语拼音数据、高效模糊搜索工具、NLP数据增广资源集、微软对话机器人框架 、 GitHub Typo Corpus：大规模GitHub多语言拼写错误/语法错误数据集、TextCluster：短文本聚类预处理模块 Short text cluster、面向语音识别的中文文本规范化、BLINK：最先进的实体链接库、BertPunc：基于BERT的最先进标点修复模型、Tokenizer：快速、可定制的文本词条化库、中文语言理解测评基准，包括代表性的数据集、基准(预训练)模型、语料库、排行榜、spaCy 医学文本挖掘与信息提取 、 NLP任务示例项目代码集、 python拼写检查库、chatbot-list - 行业内关于智能客服、聊天机器人的应用和架构、算法分享和介绍、语音质量评价指标(MOSNet, BSSEval, STOI, PESQ, SRMR)、 用138GB语料训练的法文RoBERTa预训练语言模型 、BERT-NER-Pytorch：三种不同模式的BERT中文NER实验、无道词典 - 有道词典的命令行版本，支持英汉互查和在线查询、2019年NLP亮点回顾、 Chinese medical dialogue data 中文医疗对话数据集 、最好的汉字数字(中文数字)-阿拉伯数字转换工具、 基于百科知识库的中文词语多词义/义项获取与特定句子词语语义消歧、awesome-nlp-sentiment-analysis - 情感分析、情绪原因识别、评价对象和评价词抽取、LineFlow：面向所有深度学习框架的NLP数据高效加载器、中文医学NLP公开资源整理 、MedQuAD：(英文)医学问答数据集、将自然语言数字串解析转换为整数和浮点数、Transfer Learning in Natural Language Processing (NLP) 、面向语音识别的中文/英文发音辞典、Tokenizers：注重性能与多功能性的最先进分词器、CLUENER 细粒度命名实体识别 Fine Grained Named Entity Recognition、 基于BERT的中文命名实体识别、中文谣言数据库、NLP数据集/基准任务大列表、nlp相关的一些论文及代码, 包括主题模型、词向量(Word Embedding)、命名实体识别(NER)、文本分类(Text Classificatin)、文本生成(Text Generation)、文本相似性(Text Similarity)计算等，涉及到各种与nlp相关的算法，基于keras和tensorflow 、Python文本挖掘/NLP实战示例、 Blackstone：面向非结构化法律文本的spaCy pipeline和NLP模型通过同义词替换实现文本“变脸” 、中文 预训练 ELECTREA 模型: 基于对抗学习 pretrain Chinese Model 、albert-chinese-ner - 用预训练语言模型ALBERT做中文NER 、基于GPT2的特定主题文本生成/文本增广、开源预训练语言模型合集、多语言句向量包、编码、标记和实现：一种可控高效的文本生成方法、 英文脏话大列表 、attnvis：GPT2、BERT等transformer语言模型注意力交互可视化、CoVoST：Facebook发布的多语种语音-文本翻译语料库，包括11种语言(法语、德语、荷兰语、俄语、西班牙语、意大利语、土耳其语、波斯语、瑞典语、蒙古语和中文)的语音、文字转录及英文译文、Jiagu自然语言处理工具 - 以BiLSTM等模型为基础，提供知识图谱关系抽取 中文分词 词性标注 命名实体识别 情感分析 新词发现 关键词 文本摘要 文本聚类等功能、用unet实现对文档表格的自动检测，表格重建、NLP事件提取文献资源列表 、 金融领域自然语言处理研究资源大列表、CLUEDatasetSearch - 中英文NLP数据集：搜索所有中文NLP数据集，附常用英文NLP数据集 、medical_NER - 中文医学知识图谱命名实体识别 、(哈佛)讲因果推理的免费书、知识图谱相关学习资料/数据集/工具资源大列表、Forte：灵活强大的自然语言处理pipeline工具集 、Python字符串相似性算法库、PyLaia：面向手写文档分析的深度学习工具包、TextFooler：针对文本分类/推理的对抗文本生成模块、Haystack：灵活、强大的可扩展问答(QA)框架、中文关键短语抽取工具",
          "python <br /> The Python programming language",
          "scikit-learn <br /> scikit-learn: machine learning in Python",
          "3b1b <br /> Animation engine for explanatory math videos",
          "swisskyrepo <br /> A list of useful payloads and bypass for Web Application Security and Pentest/CTF",
          "d2l-ai <br /> 《动手学深度学习》：面向中文读者、能运行、可讨论。中英文版被70多个国家的500多所大学用于教学。",
          "psf <br /> A simple, yet elegant, HTTP library.",
          "ageitgey <br /> The world's simplest facial recognition api for Python and the command line",
          "localstack <br /> 💻 A fully functional local AWS cloud stack. Develop and test your cloud & Serverless apps offline"
         ],
         "legendgroup": "",
         "marker": {
          "color": "#636efa",
          "pattern": {
           "shape": ""
          }
         },
         "name": "",
         "offsetgroup": "",
         "orientation": "v",
         "showlegend": false,
         "textposition": "auto",
         "type": "bar",
         "x": [
          "public-apis",
          "system-design-primer",
          "awesome-python",
          "Python",
          "Python-100-Days",
          "youtube-dl",
          "transformers",
          "stable-diffusion-webui",
          "thefuck",
          "HelloGitHub",
          "django",
          "pytorch",
          "langchain",
          "flask",
          "fastapi",
          "core",
          "awesome-machine-learning",
          "yt-dlp",
          "keras",
          "devops-exercises",
          "ansible",
          "funNLP",
          "cpython",
          "scikit-learn",
          "manim",
          "PayloadsAllTheThings",
          "d2l-zh",
          "requests",
          "face_recognition",
          "localstack"
         ],
         "xaxis": "x",
         "y": [
          268671,
          235336,
          186729,
          172939,
          142196,
          124554,
          115217,
          109257,
          80081,
          77939,
          74005,
          72560,
          68310,
          64933,
          64621,
          64055,
          61370,
          60138,
          59735,
          59473,
          59260,
          58930,
          56796,
          56427,
          54727,
          52592,
          50834,
          50530,
          50195,
          49996
         ],
         "yaxis": "y"
        }
       ],
       "layout": {
        "barmode": "relative",
        "legend": {
         "tracegroupgap": 0
        },
        "margin": {
         "t": 60
        },
        "template": {
         "data": {
          "bar": [
           {
            "error_x": {
             "color": "#2a3f5f"
            },
            "error_y": {
             "color": "#2a3f5f"
            },
            "marker": {
             "line": {
              "color": "#E5ECF6",
              "width": 0.5
             },
             "pattern": {
              "fillmode": "overlay",
              "size": 10,
              "solidity": 0.2
             }
            },
            "type": "bar"
           }
          ],
          "barpolar": [
           {
            "marker": {
             "line": {
              "color": "#E5ECF6",
              "width": 0.5
             },
             "pattern": {
              "fillmode": "overlay",
              "size": 10,
              "solidity": 0.2
             }
            },
            "type": "barpolar"
           }
          ],
          "carpet": [
           {
            "aaxis": {
             "endlinecolor": "#2a3f5f",
             "gridcolor": "white",
             "linecolor": "white",
             "minorgridcolor": "white",
             "startlinecolor": "#2a3f5f"
            },
            "baxis": {
             "endlinecolor": "#2a3f5f",
             "gridcolor": "white",
             "linecolor": "white",
             "minorgridcolor": "white",
             "startlinecolor": "#2a3f5f"
            },
            "type": "carpet"
           }
          ],
          "choropleth": [
           {
            "colorbar": {
             "outlinewidth": 0,
             "ticks": ""
            },
            "type": "choropleth"
           }
          ],
          "contour": [
           {
            "colorbar": {
             "outlinewidth": 0,
             "ticks": ""
            },
            "colorscale": [
             [
              0,
              "#0d0887"
             ],
             [
              0.1111111111111111,
              "#46039f"
             ],
             [
              0.2222222222222222,
              "#7201a8"
             ],
             [
              0.3333333333333333,
              "#9c179e"
             ],
             [
              0.4444444444444444,
              "#bd3786"
             ],
             [
              0.5555555555555556,
              "#d8576b"
             ],
             [
              0.6666666666666666,
              "#ed7953"
             ],
             [
              0.7777777777777778,
              "#fb9f3a"
             ],
             [
              0.8888888888888888,
              "#fdca26"
             ],
             [
              1,
              "#f0f921"
             ]
            ],
            "type": "contour"
           }
          ],
          "contourcarpet": [
           {
            "colorbar": {
             "outlinewidth": 0,
             "ticks": ""
            },
            "type": "contourcarpet"
           }
          ],
          "heatmap": [
           {
            "colorbar": {
             "outlinewidth": 0,
             "ticks": ""
            },
            "colorscale": [
             [
              0,
              "#0d0887"
             ],
             [
              0.1111111111111111,
              "#46039f"
             ],
             [
              0.2222222222222222,
              "#7201a8"
             ],
             [
              0.3333333333333333,
              "#9c179e"
             ],
             [
              0.4444444444444444,
              "#bd3786"
             ],
             [
              0.5555555555555556,
              "#d8576b"
             ],
             [
              0.6666666666666666,
              "#ed7953"
             ],
             [
              0.7777777777777778,
              "#fb9f3a"
             ],
             [
              0.8888888888888888,
              "#fdca26"
             ],
             [
              1,
              "#f0f921"
             ]
            ],
            "type": "heatmap"
           }
          ],
          "heatmapgl": [
           {
            "colorbar": {
             "outlinewidth": 0,
             "ticks": ""
            },
            "colorscale": [
             [
              0,
              "#0d0887"
             ],
             [
              0.1111111111111111,
              "#46039f"
             ],
             [
              0.2222222222222222,
              "#7201a8"
             ],
             [
              0.3333333333333333,
              "#9c179e"
             ],
             [
              0.4444444444444444,
              "#bd3786"
             ],
             [
              0.5555555555555556,
              "#d8576b"
             ],
             [
              0.6666666666666666,
              "#ed7953"
             ],
             [
              0.7777777777777778,
              "#fb9f3a"
             ],
             [
              0.8888888888888888,
              "#fdca26"
             ],
             [
              1,
              "#f0f921"
             ]
            ],
            "type": "heatmapgl"
           }
          ],
          "histogram": [
           {
            "marker": {
             "pattern": {
              "fillmode": "overlay",
              "size": 10,
              "solidity": 0.2
             }
            },
            "type": "histogram"
           }
          ],
          "histogram2d": [
           {
            "colorbar": {
             "outlinewidth": 0,
             "ticks": ""
            },
            "colorscale": [
             [
              0,
              "#0d0887"
             ],
             [
              0.1111111111111111,
              "#46039f"
             ],
             [
              0.2222222222222222,
              "#7201a8"
             ],
             [
              0.3333333333333333,
              "#9c179e"
             ],
             [
              0.4444444444444444,
              "#bd3786"
             ],
             [
              0.5555555555555556,
              "#d8576b"
             ],
             [
              0.6666666666666666,
              "#ed7953"
             ],
             [
              0.7777777777777778,
              "#fb9f3a"
             ],
             [
              0.8888888888888888,
              "#fdca26"
             ],
             [
              1,
              "#f0f921"
             ]
            ],
            "type": "histogram2d"
           }
          ],
          "histogram2dcontour": [
           {
            "colorbar": {
             "outlinewidth": 0,
             "ticks": ""
            },
            "colorscale": [
             [
              0,
              "#0d0887"
             ],
             [
              0.1111111111111111,
              "#46039f"
             ],
             [
              0.2222222222222222,
              "#7201a8"
             ],
             [
              0.3333333333333333,
              "#9c179e"
             ],
             [
              0.4444444444444444,
              "#bd3786"
             ],
             [
              0.5555555555555556,
              "#d8576b"
             ],
             [
              0.6666666666666666,
              "#ed7953"
             ],
             [
              0.7777777777777778,
              "#fb9f3a"
             ],
             [
              0.8888888888888888,
              "#fdca26"
             ],
             [
              1,
              "#f0f921"
             ]
            ],
            "type": "histogram2dcontour"
           }
          ],
          "mesh3d": [
           {
            "colorbar": {
             "outlinewidth": 0,
             "ticks": ""
            },
            "type": "mesh3d"
           }
          ],
          "parcoords": [
           {
            "line": {
             "colorbar": {
              "outlinewidth": 0,
              "ticks": ""
             }
            },
            "type": "parcoords"
           }
          ],
          "pie": [
           {
            "automargin": true,
            "type": "pie"
           }
          ],
          "scatter": [
           {
            "fillpattern": {
             "fillmode": "overlay",
             "size": 10,
             "solidity": 0.2
            },
            "type": "scatter"
           }
          ],
          "scatter3d": [
           {
            "line": {
             "colorbar": {
              "outlinewidth": 0,
              "ticks": ""
             }
            },
            "marker": {
             "colorbar": {
              "outlinewidth": 0,
              "ticks": ""
             }
            },
            "type": "scatter3d"
           }
          ],
          "scattercarpet": [
           {
            "marker": {
             "colorbar": {
              "outlinewidth": 0,
              "ticks": ""
             }
            },
            "type": "scattercarpet"
           }
          ],
          "scattergeo": [
           {
            "marker": {
             "colorbar": {
              "outlinewidth": 0,
              "ticks": ""
             }
            },
            "type": "scattergeo"
           }
          ],
          "scattergl": [
           {
            "marker": {
             "colorbar": {
              "outlinewidth": 0,
              "ticks": ""
             }
            },
            "type": "scattergl"
           }
          ],
          "scattermapbox": [
           {
            "marker": {
             "colorbar": {
              "outlinewidth": 0,
              "ticks": ""
             }
            },
            "type": "scattermapbox"
           }
          ],
          "scatterpolar": [
           {
            "marker": {
             "colorbar": {
              "outlinewidth": 0,
              "ticks": ""
             }
            },
            "type": "scatterpolar"
           }
          ],
          "scatterpolargl": [
           {
            "marker": {
             "colorbar": {
              "outlinewidth": 0,
              "ticks": ""
             }
            },
            "type": "scatterpolargl"
           }
          ],
          "scatterternary": [
           {
            "marker": {
             "colorbar": {
              "outlinewidth": 0,
              "ticks": ""
             }
            },
            "type": "scatterternary"
           }
          ],
          "surface": [
           {
            "colorbar": {
             "outlinewidth": 0,
             "ticks": ""
            },
            "colorscale": [
             [
              0,
              "#0d0887"
             ],
             [
              0.1111111111111111,
              "#46039f"
             ],
             [
              0.2222222222222222,
              "#7201a8"
             ],
             [
              0.3333333333333333,
              "#9c179e"
             ],
             [
              0.4444444444444444,
              "#bd3786"
             ],
             [
              0.5555555555555556,
              "#d8576b"
             ],
             [
              0.6666666666666666,
              "#ed7953"
             ],
             [
              0.7777777777777778,
              "#fb9f3a"
             ],
             [
              0.8888888888888888,
              "#fdca26"
             ],
             [
              1,
              "#f0f921"
             ]
            ],
            "type": "surface"
           }
          ],
          "table": [
           {
            "cells": {
             "fill": {
              "color": "#EBF0F8"
             },
             "line": {
              "color": "white"
             }
            },
            "header": {
             "fill": {
              "color": "#C8D4E3"
             },
             "line": {
              "color": "white"
             }
            },
            "type": "table"
           }
          ]
         },
         "layout": {
          "annotationdefaults": {
           "arrowcolor": "#2a3f5f",
           "arrowhead": 0,
           "arrowwidth": 1
          },
          "autotypenumbers": "strict",
          "coloraxis": {
           "colorbar": {
            "outlinewidth": 0,
            "ticks": ""
           }
          },
          "colorscale": {
           "diverging": [
            [
             0,
             "#8e0152"
            ],
            [
             0.1,
             "#c51b7d"
            ],
            [
             0.2,
             "#de77ae"
            ],
            [
             0.3,
             "#f1b6da"
            ],
            [
             0.4,
             "#fde0ef"
            ],
            [
             0.5,
             "#f7f7f7"
            ],
            [
             0.6,
             "#e6f5d0"
            ],
            [
             0.7,
             "#b8e186"
            ],
            [
             0.8,
             "#7fbc41"
            ],
            [
             0.9,
             "#4d9221"
            ],
            [
             1,
             "#276419"
            ]
           ],
           "sequential": [
            [
             0,
             "#0d0887"
            ],
            [
             0.1111111111111111,
             "#46039f"
            ],
            [
             0.2222222222222222,
             "#7201a8"
            ],
            [
             0.3333333333333333,
             "#9c179e"
            ],
            [
             0.4444444444444444,
             "#bd3786"
            ],
            [
             0.5555555555555556,
             "#d8576b"
            ],
            [
             0.6666666666666666,
             "#ed7953"
            ],
            [
             0.7777777777777778,
             "#fb9f3a"
            ],
            [
             0.8888888888888888,
             "#fdca26"
            ],
            [
             1,
             "#f0f921"
            ]
           ],
           "sequentialminus": [
            [
             0,
             "#0d0887"
            ],
            [
             0.1111111111111111,
             "#46039f"
            ],
            [
             0.2222222222222222,
             "#7201a8"
            ],
            [
             0.3333333333333333,
             "#9c179e"
            ],
            [
             0.4444444444444444,
             "#bd3786"
            ],
            [
             0.5555555555555556,
             "#d8576b"
            ],
            [
             0.6666666666666666,
             "#ed7953"
            ],
            [
             0.7777777777777778,
             "#fb9f3a"
            ],
            [
             0.8888888888888888,
             "#fdca26"
            ],
            [
             1,
             "#f0f921"
            ]
           ]
          },
          "colorway": [
           "#636efa",
           "#EF553B",
           "#00cc96",
           "#ab63fa",
           "#FFA15A",
           "#19d3f3",
           "#FF6692",
           "#B6E880",
           "#FF97FF",
           "#FECB52"
          ],
          "font": {
           "color": "#2a3f5f"
          },
          "geo": {
           "bgcolor": "white",
           "lakecolor": "white",
           "landcolor": "#E5ECF6",
           "showlakes": true,
           "showland": true,
           "subunitcolor": "white"
          },
          "hoverlabel": {
           "align": "left"
          },
          "hovermode": "closest",
          "mapbox": {
           "style": "light"
          },
          "paper_bgcolor": "white",
          "plot_bgcolor": "#E5ECF6",
          "polar": {
           "angularaxis": {
            "gridcolor": "white",
            "linecolor": "white",
            "ticks": ""
           },
           "bgcolor": "#E5ECF6",
           "radialaxis": {
            "gridcolor": "white",
            "linecolor": "white",
            "ticks": ""
           }
          },
          "scene": {
           "xaxis": {
            "backgroundcolor": "#E5ECF6",
            "gridcolor": "white",
            "gridwidth": 2,
            "linecolor": "white",
            "showbackground": true,
            "ticks": "",
            "zerolinecolor": "white"
           },
           "yaxis": {
            "backgroundcolor": "#E5ECF6",
            "gridcolor": "white",
            "gridwidth": 2,
            "linecolor": "white",
            "showbackground": true,
            "ticks": "",
            "zerolinecolor": "white"
           },
           "zaxis": {
            "backgroundcolor": "#E5ECF6",
            "gridcolor": "white",
            "gridwidth": 2,
            "linecolor": "white",
            "showbackground": true,
            "ticks": "",
            "zerolinecolor": "white"
           }
          },
          "shapedefaults": {
           "line": {
            "color": "#2a3f5f"
           }
          },
          "ternary": {
           "aaxis": {
            "gridcolor": "white",
            "linecolor": "white",
            "ticks": ""
           },
           "baxis": {
            "gridcolor": "white",
            "linecolor": "white",
            "ticks": ""
           },
           "bgcolor": "#E5ECF6",
           "caxis": {
            "gridcolor": "white",
            "linecolor": "white",
            "ticks": ""
           }
          },
          "title": {
           "x": 0.05
          },
          "xaxis": {
           "automargin": true,
           "gridcolor": "white",
           "linecolor": "white",
           "ticks": "",
           "title": {
            "standoff": 15
           },
           "zerolinecolor": "white",
           "zerolinewidth": 2
          },
          "yaxis": {
           "automargin": true,
           "gridcolor": "white",
           "linecolor": "white",
           "ticks": "",
           "title": {
            "standoff": 15
           },
           "zerolinecolor": "white",
           "zerolinewidth": 2
          }
         }
        },
        "title": {
         "font": {
          "size": 28
         }
        },
        "xaxis": {
         "anchor": "y",
         "domain": [
          0,
          1
         ],
         "title": {
          "font": {
           "size": 20
          },
          "text": "Repository"
         }
        },
        "yaxis": {
         "anchor": "x",
         "domain": [
          0,
          1
         ],
         "title": {
          "font": {
           "size": 20
          },
          "text": "Stars"
         }
        }
       }
      }
     },
     "metadata": {},
     "output_type": "display_data"
    }
   ],
   "source": [
    "import requests\n",
    "import plotly.express as px\n",
    "\n",
    "# Make an APC call to Github\n",
    "url = \"https://api.github.com/search/repositories?q=language:python+sort:stars+stars:>10000\"\n",
    "\n",
    "headers = {\"Accept\": \"application/vnd.github.v3+json\"}\n",
    "r = requests.get(url, headers=headers)\n",
    "print(f\"Status Code: {r.status_code}\")\n",
    "\n",
    "# Process over the result\n",
    "response_dict = r.json()\n",
    "print(f\"Completed Results: {not response_dict['incomplete_results']}\")\n",
    "\n",
    "# Process responsitory information\n",
    "repo_dicts = response_dict[\"items\"]\n",
    "repo_names, stars, hover_texts = [], [],[]\n",
    "\n",
    "# for loop to extract names and stars count from API\n",
    "for repo_dict in repo_dicts:\n",
    "    repo_names.append(repo_dict[\"name\"])\n",
    "    stars.append(repo_dict[\"stargazers_count\"])\n",
    " \n",
    "    # build hover texts\n",
    "    owner = repo_dict[\"owner\"]['login']\n",
    "    description = repo_dict['description']\n",
    "    hover_text = f\"{owner} <br /> {description}\"\n",
    "    hover_texts.append(hover_text)\n",
    "\n",
    "\n",
    "# Mak a visual representation using plotly\n",
    "title = \" Most- starred Python projects on GitHub\"\n",
    "labels = {\"x\": \"Repository\", \"y\": \"Stars\"}\n",
    "fig = px.bar(x=repo_names, y=stars, labels=labels, hover_name=hover_texts)\n",
    "\n",
    "fig.update_layout(\n",
    "    title_font_size=28, xaxis_title_font_size=20, yaxis_title_font_size=20\n",
    ")\n",
    "\n",
    "fig.show()"
   ]
  },
  {
   "cell_type": "markdown",
   "metadata": {},
   "source": [
    "Adding Clickable Links \n",
    "Customiziing Marker colors "
   ]
  },
  {
   "cell_type": "code",
   "execution_count": 23,
   "metadata": {},
   "outputs": [
    {
     "name": "stdout",
     "output_type": "stream",
     "text": [
      "Status Code: 200\n",
      "Completed Results: True\n"
     ]
    },
    {
     "data": {
      "application/vnd.plotly.v1+json": {
       "config": {
        "plotlyServerURL": "https://plot.ly"
       },
       "data": [
        {
         "alignmentgroup": "True",
         "hovertemplate": "<b>%{hovertext}</b><br><br>Repository=%{x}<br>Stars=%{y}<extra></extra>",
         "hovertext": [
          "public-apis <br /> A collective list of free APIs",
          "donnemartin <br /> Learn how to design large-scale systems. Prep for the system design interview.  Includes Anki flashcards.",
          "vinta <br /> A curated list of awesome Python frameworks, libraries, software and resources",
          "TheAlgorithms <br /> All Algorithms implemented in Python",
          "jackfrued <br /> Python - 100天从新手到大师",
          "ytdl-org <br /> Command-line program to download videos from YouTube.com and other video sites",
          "huggingface <br /> 🤗 Transformers: State-of-the-art Machine Learning for Pytorch, TensorFlow, and JAX.",
          "AUTOMATIC1111 <br /> Stable Diffusion web UI",
          "nvbn <br /> Magnificent app which corrects your previous console command.",
          "521xueweihan <br /> :octocat: 分享 GitHub 上有趣、入门级的开源项目。Share interesting, entry-level open source projects on GitHub.",
          "django <br /> The Web framework for perfectionists with deadlines.",
          "pytorch <br /> Tensors and Dynamic neural networks in Python with strong GPU acceleration",
          "langchain-ai <br /> ⚡ Building applications with LLMs through composability ⚡",
          "pallets <br /> The Python micro framework for building web applications.",
          "tiangolo <br /> FastAPI framework, high performance, easy to learn, fast to code, ready for production",
          "home-assistant <br /> :house_with_garden: Open source home automation that puts local control and privacy first.",
          "josephmisiti <br /> A curated list of awesome Machine Learning frameworks, libraries and software.",
          "yt-dlp <br /> A youtube-dl fork with additional features and fixes",
          "keras-team <br /> Deep Learning for humans",
          "bregman-arie <br /> Linux, Jenkins, AWS, SRE, Prometheus, Docker, Python, Ansible, Git, Kubernetes, Terraform, OpenStack, SQL, NoSQL, Azure, GCP, DNS, Elastic, Network, Virtualization. DevOps Interview Questions",
          "ansible <br /> Ansible is a radically simple IT automation platform that makes your applications and systems easier to deploy and maintain. Automate everything from code deployment to network configuration to cloud management, in a language that approaches plain English, using SSH, with no agents to install on remote systems. https://docs.ansible.com.",
          "fighting41love <br /> 中英文敏感词、语言检测、中外手机/电话归属地/运营商查询、名字推断性别、手机号抽取、身份证抽取、邮箱抽取、中日文人名库、中文缩写库、拆字词典、词汇情感值、停用词、反动词表、暴恐词表、繁简体转换、英文模拟中文发音、汪峰歌词生成器、职业名称词库、同义词库、反义词库、否定词库、汽车品牌词库、汽车零件词库、连续英文切割、各种中文词向量、公司名字大全、古诗词库、IT词库、财经词库、成语词库、地名词库、历史名人词库、诗词词库、医学词库、饮食词库、法律词库、汽车词库、动物词库、中文聊天语料、中文谣言数据、百度中文问答数据集、句子相似度匹配算法集合、bert资源、文本生成&摘要相关工具、cocoNLP信息抽取工具、国内电话号码正则匹配、清华大学XLORE:中英文跨语言百科知识图谱、清华大学人工智能技术系列报告、自然语言生成、NLU太难了系列、自动对联数据及机器人、用户名黑名单列表、罪名法务名词及分类模型、微信公众号语料、cs224n深度学习自然语言处理课程、中文手写汉字识别、中文自然语言处理 语料/数据集、变量命名神器、分词语料库+代码、任务型对话英文数据集、ASR 语音数据集 + 基于深度学习的中文语音识别系统、笑声检测器、Microsoft多语言数字/单位/如日期时间识别包、中华新华字典数据库及api(包括常用歇后语、成语、词语和汉字)、文档图谱自动生成、SpaCy 中文模型、Common Voice语音识别数据集新版、神经网络关系抽取、基于bert的命名实体识别、关键词(Keyphrase)抽取包pke、基于医疗领域知识图谱的问答系统、基于依存句法与语义角色标注的事件三元组抽取、依存句法分析4万句高质量标注数据、cnocr：用来做中文OCR的Python3包、中文人物关系知识图谱项目、中文nlp竞赛项目及代码汇总、中文字符数据、speech-aligner: 从“人声语音”及其“语言文本”产生音素级别时间对齐标注的工具、AmpliGraph: 知识图谱表示学习(Python)库：知识图谱概念链接预测、Scattertext 文本可视化(python)、语言/知识表示工具：BERT & ERNIE、中文对比英文自然语言处理NLP的区别综述、Synonyms中文近义词工具包、HarvestText领域自适应文本挖掘工具（新词发现-情感分析-实体链接等）、word2word：(Python)方便易用的多语言词-词对集：62种语言/3,564个多语言对、语音识别语料生成工具：从具有音频/字幕的在线视频创建自动语音识别(ASR)语料库、构建医疗实体识别的模型（包含词典和语料标注）、单文档非监督的关键词抽取、Kashgari中使用gpt-2语言模型、开源的金融投资数据提取工具、文本自动摘要库TextTeaser: 仅支持英文、人民日报语料处理工具集、一些关于自然语言的基本模型、基于14W歌曲知识库的问答尝试--功能包括歌词接龙and已知歌词找歌曲以及歌曲歌手歌词三角关系的问答、基于Siamese bilstm模型的相似句子判定模型并提供训练数据集和测试数据集、用Transformer编解码模型实现的根据Hacker News文章标题自动生成评论、用BERT进行序列标记和文本分类的模板代码、LitBank：NLP数据集——支持自然语言处理和计算人文学科任务的100部带标记英文小说语料、百度开源的基准信息抽取系统、虚假新闻数据集、Facebook: LAMA语言模型分析，提供Transformer-XL/BERT/ELMo/GPT预训练语言模型的统一访问接口、CommonsenseQA：面向常识的英文QA挑战、中文知识图谱资料、数据及工具、各大公司内部里大牛分享的技术文档 PDF 或者 PPT、自然语言生成SQL语句（英文）、中文NLP数据增强（EDA）工具、英文NLP数据增强工具 、基于医药知识图谱的智能问答系统、京东商品知识图谱、基于mongodb存储的军事领域知识图谱问答项目、基于远监督的中文关系抽取、语音情感分析、中文ULMFiT-情感分析-文本分类-语料及模型、一个拍照做题程序、世界各国大规模人名库、一个利用有趣中文语料库 qingyun 训练出来的中文聊天机器人、中文聊天机器人seqGAN、省市区镇行政区划数据带拼音标注、教育行业新闻语料库包含自动文摘功能、开放了对话机器人-知识图谱-语义理解-自然语言处理工具及数据、中文知识图谱：基于百度百科中文页面-抽取三元组信息-构建中文知识图谱、masr: 中文语音识别-提供预训练模型-高识别率、Python音频数据增广库、中文全词覆盖BERT及两份阅读理解数据、ConvLab：开源多域端到端对话系统平台、中文自然语言处理数据集、基于最新版本rasa搭建的对话系统、基于TensorFlow和BERT的管道式实体及关系抽取、一个小型的证券知识图谱/知识库、复盘所有NLP比赛的TOP方案、OpenCLaP：多领域开源中文预训练语言模型仓库、UER：基于不同语料+编码器+目标任务的中文预训练模型仓库、中文自然语言处理向量合集、基于金融-司法领域(兼有闲聊性质)的聊天机器人、g2pC：基于上下文的汉语读音自动标记模块、Zincbase 知识图谱构建工具包、诗歌质量评价/细粒度情感诗歌语料库、快速转化「中文数字」和「阿拉伯数字」、百度知道问答语料库、基于知识图谱的问答系统、jieba_fast 加速版的jieba、正则表达式教程、中文阅读理解数据集、基于BERT等最新语言模型的抽取式摘要提取、Python利用深度学习进行文本摘要的综合指南、知识图谱深度学习相关资料整理、维基大规模平行文本语料、StanfordNLP 0.2.0：纯Python版自然语言处理包、NeuralNLP-NeuralClassifier：腾讯开源深度学习文本分类工具、端到端的封闭域对话系统、中文命名实体识别：NeuroNER vs. BertNER、新闻事件线索抽取、2019年百度的三元组抽取比赛：“科学空间队”源码、基于依存句法的开放域文本知识三元组抽取和知识库构建、中文的GPT2训练代码、ML-NLP - 机器学习(Machine Learning)NLP面试中常考到的知识点和代码实现、nlp4han:中文自然语言处理工具集(断句/分词/词性标注/组块/句法分析/语义分析/NER/N元语法/HMM/代词消解/情感分析/拼写检查、XLM：Facebook的跨语言预训练语言模型、用基于BERT的微调和特征提取方法来进行知识图谱百度百科人物词条属性抽取、中文自然语言处理相关的开放任务-数据集-当前最佳结果、CoupletAI - 基于CNN+Bi-LSTM+Attention 的自动对对联系统、抽象知识图谱、MiningZhiDaoQACorpus - 580万百度知道问答数据挖掘项目、brat rapid annotation tool: 序列标注工具、大规模中文知识图谱数据：1.4亿实体、数据增强在机器翻译及其他nlp任务中的应用及效果、allennlp阅读理解:支持多种数据和模型、PDF表格数据提取工具 、 Graphbrain：AI开源软件库和科研工具，目的是促进自动意义提取和文本理解以及知识的探索和推断、简历自动筛选系统、基于命名实体识别的简历自动摘要、中文语言理解测评基准，包括代表性的数据集&基准模型&语料库&排行榜、树洞 OCR 文字识别 、从包含表格的扫描图片中识别表格和文字、语声迁移、Python口语自然语言处理工具集(英文)、 similarity：相似度计算工具包，java编写、海量中文预训练ALBERT模型 、Transformers 2.0 、基于大规模音频数据集Audioset的音频增强 、Poplar：网页版自然语言标注工具、图片文字去除，可用于漫画翻译 、186种语言的数字叫法库、Amazon发布基于知识的人-人开放领域对话数据集 、中文文本纠错模块代码、繁简体转换 、 Python实现的多种文本可读性评价指标、类似于人名/地名/组织机构名的命名体识别数据集 、东南大学《知识图谱》研究生课程(资料)、. 英文拼写检查库 、 wwsearch是企业微信后台自研的全文检索引擎、CHAMELEON：深度学习新闻推荐系统元架构 、 8篇论文梳理BERT相关模型进展与反思、DocSearch：免费文档搜索引擎、 LIDA：轻量交互式对话标注工具 、aili - the fastest in-memory index in the East 东半球最快并发索引 、知识图谱车音工作项目、自然语言生成资源大全 、中日韩分词库mecab的Python接口库、中文文本摘要/关键词提取、汉字字符特征提取器 (featurizer)，提取汉字的特征（发音特征、字形特征）用做深度学习的特征、中文生成任务基准测评 、中文缩写数据集、中文任务基准测评 - 代表性的数据集-基准(预训练)模型-语料库-baseline-工具包-排行榜、PySS3：面向可解释AI的SS3文本分类器机器可视化工具 、中文NLP数据集列表、COPE - 格律诗编辑程序、doccano：基于网页的开源协同多语言文本标注工具 、PreNLP：自然语言预处理库、简单的简历解析器，用来从简历中提取关键信息、用于中文闲聊的GPT2模型：GPT2-chitchat、基于检索聊天机器人多轮响应选择相关资源列表(Leaderboards、Datasets、Papers)、(Colab)抽象文本摘要实现集锦(教程 、词语拼音数据、高效模糊搜索工具、NLP数据增广资源集、微软对话机器人框架 、 GitHub Typo Corpus：大规模GitHub多语言拼写错误/语法错误数据集、TextCluster：短文本聚类预处理模块 Short text cluster、面向语音识别的中文文本规范化、BLINK：最先进的实体链接库、BertPunc：基于BERT的最先进标点修复模型、Tokenizer：快速、可定制的文本词条化库、中文语言理解测评基准，包括代表性的数据集、基准(预训练)模型、语料库、排行榜、spaCy 医学文本挖掘与信息提取 、 NLP任务示例项目代码集、 python拼写检查库、chatbot-list - 行业内关于智能客服、聊天机器人的应用和架构、算法分享和介绍、语音质量评价指标(MOSNet, BSSEval, STOI, PESQ, SRMR)、 用138GB语料训练的法文RoBERTa预训练语言模型 、BERT-NER-Pytorch：三种不同模式的BERT中文NER实验、无道词典 - 有道词典的命令行版本，支持英汉互查和在线查询、2019年NLP亮点回顾、 Chinese medical dialogue data 中文医疗对话数据集 、最好的汉字数字(中文数字)-阿拉伯数字转换工具、 基于百科知识库的中文词语多词义/义项获取与特定句子词语语义消歧、awesome-nlp-sentiment-analysis - 情感分析、情绪原因识别、评价对象和评价词抽取、LineFlow：面向所有深度学习框架的NLP数据高效加载器、中文医学NLP公开资源整理 、MedQuAD：(英文)医学问答数据集、将自然语言数字串解析转换为整数和浮点数、Transfer Learning in Natural Language Processing (NLP) 、面向语音识别的中文/英文发音辞典、Tokenizers：注重性能与多功能性的最先进分词器、CLUENER 细粒度命名实体识别 Fine Grained Named Entity Recognition、 基于BERT的中文命名实体识别、中文谣言数据库、NLP数据集/基准任务大列表、nlp相关的一些论文及代码, 包括主题模型、词向量(Word Embedding)、命名实体识别(NER)、文本分类(Text Classificatin)、文本生成(Text Generation)、文本相似性(Text Similarity)计算等，涉及到各种与nlp相关的算法，基于keras和tensorflow 、Python文本挖掘/NLP实战示例、 Blackstone：面向非结构化法律文本的spaCy pipeline和NLP模型通过同义词替换实现文本“变脸” 、中文 预训练 ELECTREA 模型: 基于对抗学习 pretrain Chinese Model 、albert-chinese-ner - 用预训练语言模型ALBERT做中文NER 、基于GPT2的特定主题文本生成/文本增广、开源预训练语言模型合集、多语言句向量包、编码、标记和实现：一种可控高效的文本生成方法、 英文脏话大列表 、attnvis：GPT2、BERT等transformer语言模型注意力交互可视化、CoVoST：Facebook发布的多语种语音-文本翻译语料库，包括11种语言(法语、德语、荷兰语、俄语、西班牙语、意大利语、土耳其语、波斯语、瑞典语、蒙古语和中文)的语音、文字转录及英文译文、Jiagu自然语言处理工具 - 以BiLSTM等模型为基础，提供知识图谱关系抽取 中文分词 词性标注 命名实体识别 情感分析 新词发现 关键词 文本摘要 文本聚类等功能、用unet实现对文档表格的自动检测，表格重建、NLP事件提取文献资源列表 、 金融领域自然语言处理研究资源大列表、CLUEDatasetSearch - 中英文NLP数据集：搜索所有中文NLP数据集，附常用英文NLP数据集 、medical_NER - 中文医学知识图谱命名实体识别 、(哈佛)讲因果推理的免费书、知识图谱相关学习资料/数据集/工具资源大列表、Forte：灵活强大的自然语言处理pipeline工具集 、Python字符串相似性算法库、PyLaia：面向手写文档分析的深度学习工具包、TextFooler：针对文本分类/推理的对抗文本生成模块、Haystack：灵活、强大的可扩展问答(QA)框架、中文关键短语抽取工具",
          "python <br /> The Python programming language",
          "scikit-learn <br /> scikit-learn: machine learning in Python",
          "3b1b <br /> Animation engine for explanatory math videos",
          "swisskyrepo <br /> A list of useful payloads and bypass for Web Application Security and Pentest/CTF",
          "d2l-ai <br /> 《动手学深度学习》：面向中文读者、能运行、可讨论。中英文版被70多个国家的500多所大学用于教学。",
          "psf <br /> A simple, yet elegant, HTTP library.",
          "ageitgey <br /> The world's simplest facial recognition api for Python and the command line",
          "localstack <br /> 💻 A fully functional local AWS cloud stack. Develop and test your cloud & Serverless apps offline"
         ],
         "legendgroup": "",
         "marker": {
          "color": "SteelBlue",
          "opacity": 0.6,
          "pattern": {
           "shape": ""
          }
         },
         "name": "",
         "offsetgroup": "",
         "orientation": "v",
         "showlegend": false,
         "textposition": "auto",
         "type": "bar",
         "x": [
          "<a href='https://github.com/public-apis/public-apis' > public-apis</a>",
          "<a href='https://github.com/donnemartin/system-design-primer' > system-design-primer</a>",
          "<a href='https://github.com/vinta/awesome-python' > awesome-python</a>",
          "<a href='https://github.com/TheAlgorithms/Python' > Python</a>",
          "<a href='https://github.com/jackfrued/Python-100-Days' > Python-100-Days</a>",
          "<a href='https://github.com/ytdl-org/youtube-dl' > youtube-dl</a>",
          "<a href='https://github.com/huggingface/transformers' > transformers</a>",
          "<a href='https://github.com/AUTOMATIC1111/stable-diffusion-webui' > stable-diffusion-webui</a>",
          "<a href='https://github.com/nvbn/thefuck' > thefuck</a>",
          "<a href='https://github.com/521xueweihan/HelloGitHub' > HelloGitHub</a>",
          "<a href='https://github.com/django/django' > django</a>",
          "<a href='https://github.com/pytorch/pytorch' > pytorch</a>",
          "<a href='https://github.com/langchain-ai/langchain' > langchain</a>",
          "<a href='https://github.com/pallets/flask' > flask</a>",
          "<a href='https://github.com/tiangolo/fastapi' > fastapi</a>",
          "<a href='https://github.com/home-assistant/core' > core</a>",
          "<a href='https://github.com/josephmisiti/awesome-machine-learning' > awesome-machine-learning</a>",
          "<a href='https://github.com/yt-dlp/yt-dlp' > yt-dlp</a>",
          "<a href='https://github.com/keras-team/keras' > keras</a>",
          "<a href='https://github.com/bregman-arie/devops-exercises' > devops-exercises</a>",
          "<a href='https://github.com/ansible/ansible' > ansible</a>",
          "<a href='https://github.com/fighting41love/funNLP' > funNLP</a>",
          "<a href='https://github.com/python/cpython' > cpython</a>",
          "<a href='https://github.com/scikit-learn/scikit-learn' > scikit-learn</a>",
          "<a href='https://github.com/3b1b/manim' > manim</a>",
          "<a href='https://github.com/swisskyrepo/PayloadsAllTheThings' > PayloadsAllTheThings</a>",
          "<a href='https://github.com/d2l-ai/d2l-zh' > d2l-zh</a>",
          "<a href='https://github.com/psf/requests' > requests</a>",
          "<a href='https://github.com/ageitgey/face_recognition' > face_recognition</a>",
          "<a href='https://github.com/localstack/localstack' > localstack</a>"
         ],
         "xaxis": "x",
         "y": [
          268673,
          235337,
          186730,
          172940,
          142196,
          124553,
          115217,
          109257,
          80081,
          77939,
          74005,
          72560,
          68310,
          64933,
          64621,
          64056,
          61370,
          60139,
          59735,
          59473,
          59260,
          58930,
          56796,
          56428,
          54727,
          52593,
          50834,
          50530,
          50195,
          49996
         ],
         "yaxis": "y"
        }
       ],
       "layout": {
        "barmode": "relative",
        "legend": {
         "tracegroupgap": 0
        },
        "template": {
         "data": {
          "bar": [
           {
            "error_x": {
             "color": "#2a3f5f"
            },
            "error_y": {
             "color": "#2a3f5f"
            },
            "marker": {
             "line": {
              "color": "#E5ECF6",
              "width": 0.5
             },
             "pattern": {
              "fillmode": "overlay",
              "size": 10,
              "solidity": 0.2
             }
            },
            "type": "bar"
           }
          ],
          "barpolar": [
           {
            "marker": {
             "line": {
              "color": "#E5ECF6",
              "width": 0.5
             },
             "pattern": {
              "fillmode": "overlay",
              "size": 10,
              "solidity": 0.2
             }
            },
            "type": "barpolar"
           }
          ],
          "carpet": [
           {
            "aaxis": {
             "endlinecolor": "#2a3f5f",
             "gridcolor": "white",
             "linecolor": "white",
             "minorgridcolor": "white",
             "startlinecolor": "#2a3f5f"
            },
            "baxis": {
             "endlinecolor": "#2a3f5f",
             "gridcolor": "white",
             "linecolor": "white",
             "minorgridcolor": "white",
             "startlinecolor": "#2a3f5f"
            },
            "type": "carpet"
           }
          ],
          "choropleth": [
           {
            "colorbar": {
             "outlinewidth": 0,
             "ticks": ""
            },
            "type": "choropleth"
           }
          ],
          "contour": [
           {
            "colorbar": {
             "outlinewidth": 0,
             "ticks": ""
            },
            "colorscale": [
             [
              0,
              "#0d0887"
             ],
             [
              0.1111111111111111,
              "#46039f"
             ],
             [
              0.2222222222222222,
              "#7201a8"
             ],
             [
              0.3333333333333333,
              "#9c179e"
             ],
             [
              0.4444444444444444,
              "#bd3786"
             ],
             [
              0.5555555555555556,
              "#d8576b"
             ],
             [
              0.6666666666666666,
              "#ed7953"
             ],
             [
              0.7777777777777778,
              "#fb9f3a"
             ],
             [
              0.8888888888888888,
              "#fdca26"
             ],
             [
              1,
              "#f0f921"
             ]
            ],
            "type": "contour"
           }
          ],
          "contourcarpet": [
           {
            "colorbar": {
             "outlinewidth": 0,
             "ticks": ""
            },
            "type": "contourcarpet"
           }
          ],
          "heatmap": [
           {
            "colorbar": {
             "outlinewidth": 0,
             "ticks": ""
            },
            "colorscale": [
             [
              0,
              "#0d0887"
             ],
             [
              0.1111111111111111,
              "#46039f"
             ],
             [
              0.2222222222222222,
              "#7201a8"
             ],
             [
              0.3333333333333333,
              "#9c179e"
             ],
             [
              0.4444444444444444,
              "#bd3786"
             ],
             [
              0.5555555555555556,
              "#d8576b"
             ],
             [
              0.6666666666666666,
              "#ed7953"
             ],
             [
              0.7777777777777778,
              "#fb9f3a"
             ],
             [
              0.8888888888888888,
              "#fdca26"
             ],
             [
              1,
              "#f0f921"
             ]
            ],
            "type": "heatmap"
           }
          ],
          "heatmapgl": [
           {
            "colorbar": {
             "outlinewidth": 0,
             "ticks": ""
            },
            "colorscale": [
             [
              0,
              "#0d0887"
             ],
             [
              0.1111111111111111,
              "#46039f"
             ],
             [
              0.2222222222222222,
              "#7201a8"
             ],
             [
              0.3333333333333333,
              "#9c179e"
             ],
             [
              0.4444444444444444,
              "#bd3786"
             ],
             [
              0.5555555555555556,
              "#d8576b"
             ],
             [
              0.6666666666666666,
              "#ed7953"
             ],
             [
              0.7777777777777778,
              "#fb9f3a"
             ],
             [
              0.8888888888888888,
              "#fdca26"
             ],
             [
              1,
              "#f0f921"
             ]
            ],
            "type": "heatmapgl"
           }
          ],
          "histogram": [
           {
            "marker": {
             "pattern": {
              "fillmode": "overlay",
              "size": 10,
              "solidity": 0.2
             }
            },
            "type": "histogram"
           }
          ],
          "histogram2d": [
           {
            "colorbar": {
             "outlinewidth": 0,
             "ticks": ""
            },
            "colorscale": [
             [
              0,
              "#0d0887"
             ],
             [
              0.1111111111111111,
              "#46039f"
             ],
             [
              0.2222222222222222,
              "#7201a8"
             ],
             [
              0.3333333333333333,
              "#9c179e"
             ],
             [
              0.4444444444444444,
              "#bd3786"
             ],
             [
              0.5555555555555556,
              "#d8576b"
             ],
             [
              0.6666666666666666,
              "#ed7953"
             ],
             [
              0.7777777777777778,
              "#fb9f3a"
             ],
             [
              0.8888888888888888,
              "#fdca26"
             ],
             [
              1,
              "#f0f921"
             ]
            ],
            "type": "histogram2d"
           }
          ],
          "histogram2dcontour": [
           {
            "colorbar": {
             "outlinewidth": 0,
             "ticks": ""
            },
            "colorscale": [
             [
              0,
              "#0d0887"
             ],
             [
              0.1111111111111111,
              "#46039f"
             ],
             [
              0.2222222222222222,
              "#7201a8"
             ],
             [
              0.3333333333333333,
              "#9c179e"
             ],
             [
              0.4444444444444444,
              "#bd3786"
             ],
             [
              0.5555555555555556,
              "#d8576b"
             ],
             [
              0.6666666666666666,
              "#ed7953"
             ],
             [
              0.7777777777777778,
              "#fb9f3a"
             ],
             [
              0.8888888888888888,
              "#fdca26"
             ],
             [
              1,
              "#f0f921"
             ]
            ],
            "type": "histogram2dcontour"
           }
          ],
          "mesh3d": [
           {
            "colorbar": {
             "outlinewidth": 0,
             "ticks": ""
            },
            "type": "mesh3d"
           }
          ],
          "parcoords": [
           {
            "line": {
             "colorbar": {
              "outlinewidth": 0,
              "ticks": ""
             }
            },
            "type": "parcoords"
           }
          ],
          "pie": [
           {
            "automargin": true,
            "type": "pie"
           }
          ],
          "scatter": [
           {
            "fillpattern": {
             "fillmode": "overlay",
             "size": 10,
             "solidity": 0.2
            },
            "type": "scatter"
           }
          ],
          "scatter3d": [
           {
            "line": {
             "colorbar": {
              "outlinewidth": 0,
              "ticks": ""
             }
            },
            "marker": {
             "colorbar": {
              "outlinewidth": 0,
              "ticks": ""
             }
            },
            "type": "scatter3d"
           }
          ],
          "scattercarpet": [
           {
            "marker": {
             "colorbar": {
              "outlinewidth": 0,
              "ticks": ""
             }
            },
            "type": "scattercarpet"
           }
          ],
          "scattergeo": [
           {
            "marker": {
             "colorbar": {
              "outlinewidth": 0,
              "ticks": ""
             }
            },
            "type": "scattergeo"
           }
          ],
          "scattergl": [
           {
            "marker": {
             "colorbar": {
              "outlinewidth": 0,
              "ticks": ""
             }
            },
            "type": "scattergl"
           }
          ],
          "scattermapbox": [
           {
            "marker": {
             "colorbar": {
              "outlinewidth": 0,
              "ticks": ""
             }
            },
            "type": "scattermapbox"
           }
          ],
          "scatterpolar": [
           {
            "marker": {
             "colorbar": {
              "outlinewidth": 0,
              "ticks": ""
             }
            },
            "type": "scatterpolar"
           }
          ],
          "scatterpolargl": [
           {
            "marker": {
             "colorbar": {
              "outlinewidth": 0,
              "ticks": ""
             }
            },
            "type": "scatterpolargl"
           }
          ],
          "scatterternary": [
           {
            "marker": {
             "colorbar": {
              "outlinewidth": 0,
              "ticks": ""
             }
            },
            "type": "scatterternary"
           }
          ],
          "surface": [
           {
            "colorbar": {
             "outlinewidth": 0,
             "ticks": ""
            },
            "colorscale": [
             [
              0,
              "#0d0887"
             ],
             [
              0.1111111111111111,
              "#46039f"
             ],
             [
              0.2222222222222222,
              "#7201a8"
             ],
             [
              0.3333333333333333,
              "#9c179e"
             ],
             [
              0.4444444444444444,
              "#bd3786"
             ],
             [
              0.5555555555555556,
              "#d8576b"
             ],
             [
              0.6666666666666666,
              "#ed7953"
             ],
             [
              0.7777777777777778,
              "#fb9f3a"
             ],
             [
              0.8888888888888888,
              "#fdca26"
             ],
             [
              1,
              "#f0f921"
             ]
            ],
            "type": "surface"
           }
          ],
          "table": [
           {
            "cells": {
             "fill": {
              "color": "#EBF0F8"
             },
             "line": {
              "color": "white"
             }
            },
            "header": {
             "fill": {
              "color": "#C8D4E3"
             },
             "line": {
              "color": "white"
             }
            },
            "type": "table"
           }
          ]
         },
         "layout": {
          "annotationdefaults": {
           "arrowcolor": "#2a3f5f",
           "arrowhead": 0,
           "arrowwidth": 1
          },
          "autotypenumbers": "strict",
          "coloraxis": {
           "colorbar": {
            "outlinewidth": 0,
            "ticks": ""
           }
          },
          "colorscale": {
           "diverging": [
            [
             0,
             "#8e0152"
            ],
            [
             0.1,
             "#c51b7d"
            ],
            [
             0.2,
             "#de77ae"
            ],
            [
             0.3,
             "#f1b6da"
            ],
            [
             0.4,
             "#fde0ef"
            ],
            [
             0.5,
             "#f7f7f7"
            ],
            [
             0.6,
             "#e6f5d0"
            ],
            [
             0.7,
             "#b8e186"
            ],
            [
             0.8,
             "#7fbc41"
            ],
            [
             0.9,
             "#4d9221"
            ],
            [
             1,
             "#276419"
            ]
           ],
           "sequential": [
            [
             0,
             "#0d0887"
            ],
            [
             0.1111111111111111,
             "#46039f"
            ],
            [
             0.2222222222222222,
             "#7201a8"
            ],
            [
             0.3333333333333333,
             "#9c179e"
            ],
            [
             0.4444444444444444,
             "#bd3786"
            ],
            [
             0.5555555555555556,
             "#d8576b"
            ],
            [
             0.6666666666666666,
             "#ed7953"
            ],
            [
             0.7777777777777778,
             "#fb9f3a"
            ],
            [
             0.8888888888888888,
             "#fdca26"
            ],
            [
             1,
             "#f0f921"
            ]
           ],
           "sequentialminus": [
            [
             0,
             "#0d0887"
            ],
            [
             0.1111111111111111,
             "#46039f"
            ],
            [
             0.2222222222222222,
             "#7201a8"
            ],
            [
             0.3333333333333333,
             "#9c179e"
            ],
            [
             0.4444444444444444,
             "#bd3786"
            ],
            [
             0.5555555555555556,
             "#d8576b"
            ],
            [
             0.6666666666666666,
             "#ed7953"
            ],
            [
             0.7777777777777778,
             "#fb9f3a"
            ],
            [
             0.8888888888888888,
             "#fdca26"
            ],
            [
             1,
             "#f0f921"
            ]
           ]
          },
          "colorway": [
           "#636efa",
           "#EF553B",
           "#00cc96",
           "#ab63fa",
           "#FFA15A",
           "#19d3f3",
           "#FF6692",
           "#B6E880",
           "#FF97FF",
           "#FECB52"
          ],
          "font": {
           "color": "#2a3f5f"
          },
          "geo": {
           "bgcolor": "white",
           "lakecolor": "white",
           "landcolor": "#E5ECF6",
           "showlakes": true,
           "showland": true,
           "subunitcolor": "white"
          },
          "hoverlabel": {
           "align": "left"
          },
          "hovermode": "closest",
          "mapbox": {
           "style": "light"
          },
          "paper_bgcolor": "white",
          "plot_bgcolor": "#E5ECF6",
          "polar": {
           "angularaxis": {
            "gridcolor": "white",
            "linecolor": "white",
            "ticks": ""
           },
           "bgcolor": "#E5ECF6",
           "radialaxis": {
            "gridcolor": "white",
            "linecolor": "white",
            "ticks": ""
           }
          },
          "scene": {
           "xaxis": {
            "backgroundcolor": "#E5ECF6",
            "gridcolor": "white",
            "gridwidth": 2,
            "linecolor": "white",
            "showbackground": true,
            "ticks": "",
            "zerolinecolor": "white"
           },
           "yaxis": {
            "backgroundcolor": "#E5ECF6",
            "gridcolor": "white",
            "gridwidth": 2,
            "linecolor": "white",
            "showbackground": true,
            "ticks": "",
            "zerolinecolor": "white"
           },
           "zaxis": {
            "backgroundcolor": "#E5ECF6",
            "gridcolor": "white",
            "gridwidth": 2,
            "linecolor": "white",
            "showbackground": true,
            "ticks": "",
            "zerolinecolor": "white"
           }
          },
          "shapedefaults": {
           "line": {
            "color": "#2a3f5f"
           }
          },
          "ternary": {
           "aaxis": {
            "gridcolor": "white",
            "linecolor": "white",
            "ticks": ""
           },
           "baxis": {
            "gridcolor": "white",
            "linecolor": "white",
            "ticks": ""
           },
           "bgcolor": "#E5ECF6",
           "caxis": {
            "gridcolor": "white",
            "linecolor": "white",
            "ticks": ""
           }
          },
          "title": {
           "x": 0.05
          },
          "xaxis": {
           "automargin": true,
           "gridcolor": "white",
           "linecolor": "white",
           "ticks": "",
           "title": {
            "standoff": 15
           },
           "zerolinecolor": "white",
           "zerolinewidth": 2
          },
          "yaxis": {
           "automargin": true,
           "gridcolor": "white",
           "linecolor": "white",
           "ticks": "",
           "title": {
            "standoff": 15
           },
           "zerolinecolor": "white",
           "zerolinewidth": 2
          }
         }
        },
        "title": {
         "font": {
          "size": 28
         },
         "text": "Most-starred python projects on GitHub"
        },
        "xaxis": {
         "anchor": "y",
         "domain": [
          0,
          1
         ],
         "title": {
          "font": {
           "size": 20
          },
          "text": "Repository"
         }
        },
        "yaxis": {
         "anchor": "x",
         "domain": [
          0,
          1
         ],
         "title": {
          "font": {
           "size": 20
          },
          "text": "Stars"
         }
        }
       }
      }
     },
     "metadata": {},
     "output_type": "display_data"
    }
   ],
   "source": [
    "import requests\n",
    "import plotly.express as px\n",
    "\n",
    "# Make an APC call to Github\n",
    "url = \"https://api.github.com/search/repositories?q=language:python+sort:stars+stars:>10000\"\n",
    "\n",
    "headers = {\"Accept\": \"application/vnd.github.v3+json\"}\n",
    "r = requests.get(url, headers=headers)\n",
    "print(f\"Status Code: {r.status_code}\")\n",
    "\n",
    "# Process over the result\n",
    "response_dict = r.json()\n",
    "print(f\"Completed Results: {not response_dict['incomplete_results']}\")\n",
    "\n",
    "# process repository information\n",
    "repo_dicts = response_dict[\"items\"]\n",
    "repo_links, stars, hover_texts = [], [], []\n",
    "\n",
    "for repo_dict in repo_dicts:\n",
    "    # Turn repo naes into actives links.\n",
    "    repo_name = repo_dict[\"name\"]\n",
    "    repo_url = repo_dict[\"html_url\"]\n",
    "    repo_link = f\"<a href='{repo_url}' > {repo_name}</a>\"\n",
    "    repo_links.append(repo_link)\n",
    "    stars.append(repo_dict[\"stargazers_count\"])\n",
    "    owner = repo_dict[\"owner\"][\"login\"]\n",
    "    description = repo_dict[\"description\"]\n",
    "    hover_text = f\"{owner} <br /> {description}\"\n",
    "    hover_texts.append(hover_text)\n",
    "\n",
    "# Make a visualization\n",
    "title = \"Most-starred python projects on GitHub\"\n",
    "labels = {\"x\": \"Repository\", \"y\": \"Stars\"}\n",
    "fig = px.bar(x=repo_links, y=stars, title=title, labels=labels, hover_name=hover_texts)\n",
    "\n",
    "fig.update_layout(\n",
    "    title_font_size=28, xaxis_title_font_size=20, yaxis_title_font_size=20\n",
    ")\n",
    "\n",
    "# Customizing Maker colors \n",
    "fig.update_traces(marker_color ='SteelBlue',marker_opacity = 0.6)\n",
    "\n",
    "fig.show()"
   ]
  },
  {
   "cell_type": "markdown",
   "metadata": {},
   "source": [
    "The Hacker News API \n",
    "https://hacker-news.firebaseio.com/v0/item/31353677.json"
   ]
  },
  {
   "cell_type": "code",
   "execution_count": 24,
   "metadata": {},
   "outputs": [
    {
     "name": "stdout",
     "output_type": "stream",
     "text": [
      "Status code: 200\n",
      "{\n",
      "    \"by\": \"sohkamyung\",\n",
      "    \"descendants\": 307,\n",
      "    \"id\": 31353677,\n",
      "    \"kids\": [\n",
      "        31354987,\n",
      "        31354235,\n",
      "        31354040,\n",
      "        31358602,\n",
      "        31354201,\n",
      "        31354991,\n",
      "        31354315,\n",
      "        31353775,\n",
      "        31353925,\n",
      "        31354169,\n",
      "        31354273,\n",
      "        31354437,\n",
      "        31356902,\n",
      "        31358694,\n",
      "        31363418,\n",
      "        31353862,\n",
      "        31357186,\n",
      "        31356379,\n",
      "        31356826,\n",
      "        31355085,\n",
      "        31369435,\n",
      "        31357936,\n",
      "        31354142,\n",
      "        31354213,\n",
      "        31356311,\n",
      "        31357865,\n",
      "        31353929,\n",
      "        31364954,\n",
      "        31354621,\n",
      "        31356002,\n",
      "        31356407,\n",
      "        31355491,\n",
      "        31359235,\n",
      "        31356053,\n",
      "        31354347,\n",
      "        31355326,\n",
      "        31354703,\n",
      "        31353802\n",
      "    ],\n",
      "    \"score\": 786,\n",
      "    \"time\": 1652361401,\n",
      "    \"title\": \"Astronomers reveal first image of the black hole at the heart of our galaxy\",\n",
      "    \"type\": \"story\",\n",
      "    \"url\": \"https://public.nrao.edu/news/astronomers-reveal-first-image-of-the-black-hole-at-the-heart-of-our-galaxy/\"\n",
      "}\n"
     ]
    }
   ],
   "source": [
    "import requests\n",
    "import json\n",
    "\n",
    "# Make an APC call to Hacker news\n",
    "url = \"https://hacker-news.firebaseio.com/v0/item/31353677.json\"\n",
    "r= requests. get(url)\n",
    "print(f\"Status code: {r.status_code}\")\n",
    "\n",
    "# Explore the structure of the data \n",
    "response_dict = r.json() \n",
    "response_string = json.dumps(response_dict,indent=4)\n",
    "print(response_string) "
   ]
  },
  {
   "cell_type": "code",
   "execution_count": 29,
   "metadata": {},
   "outputs": [
    {
     "name": "stdout",
     "output_type": "stream",
     "text": [
      "Status Code: 200\n",
      "id:38282166\tstatus:200\n",
      "id:38279459\tstatus:200\n",
      "id:38278171\tstatus:200\n",
      "id:38277926\tstatus:200\n",
      "id:38273488\tstatus:200\n",
      "\n",
      "Title: Exploring GPTs: ChatGPT in a trench coat?\n",
      "Discussion link: https://news.ycombinator.com/item?id=38277926\n",
      "Comments: 149\n",
      "\n",
      "Title: The first two custom silicon chips designed by Microsoft for its cloud\n",
      "Discussion link: https://news.ycombinator.com/item?id=38278171\n",
      "Comments: 112\n",
      "\n",
      "Title: B-trees in Factorio\n",
      "Discussion link: https://news.ycombinator.com/item?id=38279459\n",
      "Comments: 28\n",
      "\n",
      "Title: Blender 16yo winner of UK younganimator of the year\n",
      "Discussion link: https://news.ycombinator.com/item?id=38282166\n",
      "Comments: 25\n",
      "\n",
      "Title: Bare Metal Emulation on the Raspberry Pi – Commodore 64\n",
      "Discussion link: https://news.ycombinator.com/item?id=38273488\n",
      "Comments: 13\n"
     ]
    }
   ],
   "source": [
    "from operator import itemgetter\n",
    "\n",
    "import requests\n",
    "\n",
    "# Make APU  call and check the response\n",
    "\n",
    "url = \"https://hacker-news.firebaseio.com/v0/topstories.json\"\n",
    "r = requests.get(url)\n",
    "print(f\"Status Code: {r.status_code}\")\n",
    "\n",
    "# Process information about each submission\n",
    "submission_ids = r.json()\n",
    "\n",
    "submission_dicts = []\n",
    "\n",
    "for submission_id in submission_ids[:5]:\n",
    "    # Make a new API call for each submission\n",
    "    url = f\"https://hacker-news.firebaseio.com/v0/item/{submission_id}.json\"\n",
    "    r = requests.get(url)\n",
    "    print(f\"id:{submission_id}\\tstatus:{r.status_code}\")\n",
    "    response_dict = r.json()\n",
    "\n",
    "    # Build dictionary for each article\n",
    "    submission_dict = {\n",
    "        \"title\": response_dict[\"title\"],\n",
    "        \"hn_link\": f\"https://news.ycombinator.com/item?id={submission_id}\",\n",
    "        \"comments\": response_dict[\"descendants\"],\n",
    "    }\n",
    "    submission_dicts.append(submission_dict)\n",
    "\n",
    "submission_dicts = sorted(submission_dicts, key=itemgetter(\"comments\"), reverse=True)\n",
    "\n",
    "for submission_dict in submission_dicts:\n",
    "    print(f\"\\nTitle: {submission_dict['title']}\")\n",
    "    print(f\"Discussion link: {submission_dict['hn_link']}\")\n",
    "    print(f\"Comments: {submission_dict['comments']}\")"
   ]
  },
  {
   "cell_type": "code",
   "execution_count": 28,
   "metadata": {},
   "outputs": [
    {
     "name": "stdout",
     "output_type": "stream",
     "text": [
      "Status Code: 200\n",
      "[38282166, 38279459, 38278171, 38281944, 38277926, 38273488, 38276075, 38281848, 38281137, 38280472, 38276951, 38281264, 38280490, 38277598, 38274923, 38281079, 38273947, 38280974, 38277430, 38274782, 38276518, 38274714, 38275791, 38277412, 38280937, 38276657, 38281814, 38278380, 38260248, 38279073, 38277863, 38281898, 38273999, 38279732, 38266773, 38278037, 38271155, 38275487, 38280936, 38282068, 38259148, 38274568, 38275384, 38264641, 38271702, 38280594, 38276209, 38279626, 38281510, 38270714, 38275925, 38271534, 38277105, 38277058, 38278074, 38273392, 38261982, 38279412, 38279217, 38281316, 38250459, 38272495, 38281135, 38257794, 38262628, 38272162, 38270265, 38273608, 38257094, 38275841, 38278657, 38271959, 38277138, 38272234, 38265773, 38275614, 38281451, 38259991, 38278083, 38280382, 38262425, 38252566, 38262251, 38248758, 38261539, 38266923, 38280100, 38274653, 38266387, 38262900, 38277855, 38268958, 38281864, 38267739, 38269453, 38275060, 38259100, 38274872, 38255808, 38263779, 38279307, 38266340, 38270446, 38247543, 38261913, 38263786, 38275556, 38264174, 38279009, 38262775, 38251957, 38274713, 38256137, 38272557, 38274241, 38272377, 38263118, 38270473, 38281895, 38270936, 38272132, 38248653, 38248532, 38249214, 38280883, 38259146, 38248421, 38268737, 38249742, 38243949, 38262320, 38271795, 38249649, 38270552, 38270084, 38262124, 38247964, 38251935, 38250913, 38256810, 38248497, 38265714, 38253263, 38275542, 38279759, 38271758, 38249587, 38242946, 38278338, 38262196, 38255230, 38268271, 38263435, 38263294, 38262211, 38268706, 38273295, 38256645, 38251842, 38254353, 38265183, 38266912, 38272226, 38279912, 38245198, 38257024, 38269144, 38273948, 38263934, 38251330, 38257813, 38249473, 38246226, 38272129, 38256620, 38263869, 38267084, 38255455, 38245542, 38248422, 38268890, 38260069, 38248900, 38252947, 38250114, 38245935, 38269460, 38256577, 38249404, 38273624, 38262315, 38262120, 38254153, 38266011, 38277220, 38257284, 38247767, 38275816, 38265857, 38249730, 38254835, 38264196, 38275645, 38253384, 38249616, 38275555, 38277701, 38247561, 38248752, 38240333, 38266792, 38266216, 38263621, 38248617, 38262949, 38269656, 38263175, 38251154, 38267879, 38252963, 38249664, 38251032, 38242992, 38246413, 38254656, 38246032, 38278966, 38248681, 38252449, 38250001, 38241235, 38269754, 38246668, 38241674, 38273097, 38258101, 38254386, 38274210, 38264876, 38241304, 38255004, 38244473, 38265088, 38253130, 38246082, 38248371, 38256392, 38253425, 38241583, 38278350, 38245762, 38261524, 38255884, 38269737, 38247234, 38247423, 38249069, 38252597, 38245240, 38244927, 38277798, 38264269, 38269744, 38271450, 38247339, 38250101, 38255496, 38268256, 38264906, 38249394, 38253018, 38269265, 38249130, 38270649, 38249527, 38266867, 38256558, 38249708, 38255609, 38269650, 38266907, 38240861, 38254405, 38272993, 38255157, 38254265, 38261415, 38276810, 38268803, 38275554, 38261232, 38258880, 38276741, 38272738, 38242105, 38263909, 38267740, 38242343, 38258129, 38270529, 38270360, 38270325, 38252360, 38267526, 38257118, 38242086, 38277774, 38250372, 38242160, 38244947, 38243060, 38265390, 38264937, 38271705, 38250404, 38266131, 38247478, 38266569, 38277201, 38256516, 38260658, 38267787, 38254291, 38261797, 38271216, 38264742, 38253315, 38271030, 38253084, 38270904, 38250284, 38248292, 38249820, 38266144, 38263051, 38265665, 38240370, 38253406, 38263386, 38265092, 38268462, 38250479, 38260815, 38252492, 38260217, 38269297, 38264118, 38245100, 38266833, 38270044, 38259204, 38268376, 38243806, 38274427, 38240689, 38243341, 38251028, 38247788, 38255001, 38254866, 38267588, 38272804, 38272165, 38247363, 38243230, 38255923, 38258778, 38276883, 38245187, 38250602, 38260555, 38258381, 38240421, 38256166, 38265884, 38269475, 38240278, 38240494, 38255892, 38274212, 38255404, 38245665, 38249938, 38253414, 38254786, 38250382, 38254435, 38241237, 38258015, 38252434, 38249204, 38250394, 38258671, 38250731, 38240812, 38251382, 38255168, 38255056, 38251500, 38247246, 38240386, 38253699, 38257860, 38257816, 38257182, 38257310, 38249366, 38240147, 38242536, 38252565, 38267020, 38242233, 38256694, 38257049, 38256509, 38253434, 38256206, 38240658, 38267616, 38242758, 38248291, 38270323, 38242518, 38248005, 38262536, 38254719, 38258958, 38247357, 38269897, 38251002, 38249138, 38258718, 38269747, 38250015, 38270817, 38247305, 38252233, 38242510, 38259727, 38240212, 38266934, 38240221, 38242445, 38251101, 38257045, 38244289, 38256707, 38249316, 38251841, 38248077, 38244532, 38249582, 38249367, 38255834, 38255789, 38243540, 38262182, 38254589, 38254080, 38253937, 38261187, 38253749, 38251864, 38253521, 38253364, 38252815, 38243702, 38251366, 38264580, 38261914, 38261666, 38253825, 38242980, 38247300, 38240319, 38249194, 38249039, 38240363, 38254040, 38243125, 38242586, 38241877, 38247383, 38256951, 38268470, 38257457, 38264687, 38253582, 38251076, 38242244, 38249755, 38242718, 38242664, 38273223, 38240821, 38278786, 38258078, 38246624, 38244149, 38253146]\n"
     ]
    }
   ],
   "source": [
    "from operator import itemgetter\n",
    "\n",
    "import requests\n",
    "\n",
    "# Make APU  call and check the response\n",
    "\n",
    "url = \"https://hacker-news.firebaseio.com/v0/topstories.json\"\n",
    "r = requests.get(url)\n",
    "print(f\"Status Code: {r.status_code}\")\n",
    "\n",
    "# Convert to a readable JSON object\n",
    "response_dict = r.json() \n",
    "response_string = json.dumps(response_dict) \n",
    "print(response_string)"
   ]
  },
  {
   "cell_type": "markdown",
   "metadata": {},
   "source": [
    "17-1. Other Languages: Modify the API call in python_repos.py so it generates\n",
    "a chart showing the most popular projects in other languages. Try languages\n",
    "such as JavaScript, Ruby, C, Java, Perl, Haskell, and Go."
   ]
  },
  {
   "cell_type": "code",
   "execution_count": 31,
   "metadata": {},
   "outputs": [
    {
     "name": "stdout",
     "output_type": "stream",
     "text": [
      "Status Code: 200\n",
      "{\n",
      "    \"total_count\": 585,\n",
      "    \"incomplete_results\": false,\n",
      "    \"items\": [\n",
      "        {\n",
      "            \"id\": 10270250,\n",
      "            \"node_id\": \"MDEwOlJlcG9zaXRvcnkxMDI3MDI1MA==\",\n",
      "            \"name\": \"react\",\n",
      "            \"full_name\": \"facebook/react\",\n",
      "            \"private\": false,\n",
      "            \"owner\": {\n",
      "                \"login\": \"facebook\",\n",
      "                \"id\": 69631,\n",
      "                \"node_id\": \"MDEyOk9yZ2FuaXphdGlvbjY5NjMx\",\n",
      "                \"avatar_url\": \"https://avatars.githubusercontent.com/u/69631?v=4\",\n",
      "                \"gravatar_id\": \"\",\n",
      "                \"url\": \"https://api.github.com/users/facebook\",\n",
      "                \"html_url\": \"https://github.com/facebook\",\n",
      "                \"followers_url\": \"https://api.github.com/users/facebook/followers\",\n",
      "                \"following_url\": \"https://api.github.com/users/facebook/following{/other_user}\",\n",
      "                \"gists_url\": \"https://api.github.com/users/facebook/gists{/gist_id}\",\n",
      "                \"starred_url\": \"https://api.github.com/users/facebook/starred{/owner}{/repo}\",\n",
      "                \"subscriptions_url\": \"https://api.github.com/users/facebook/subscriptions\",\n",
      "                \"organizations_url\": \"https://api.github.com/users/facebook/orgs\",\n",
      "                \"repos_url\": \"https://api.github.com/users/facebook/repos\",\n",
      "                \"events_url\": \"https://api.github.com/users/facebook/events{/privacy}\",\n",
      "                \"received_events_url\": \"https://api.github.com/users/facebook/received_events\",\n",
      "                \"type\": \"Organization\",\n",
      "                \"site_admin\": false\n",
      "            },\n",
      "            \"html_url\": \"https://github.com/facebook/react\",\n",
      "            \"description\": \"The library for web and native user interfaces.\",\n",
      "            \"fork\": false,\n",
      "            \"url\": \"https://api.github.com/repos/facebook/react\",\n",
      "            \"forks_url\": \"https://api.github.com/repos/facebook/react/forks\",\n",
      "            \"keys_url\": \"https://api.github.com/repos/facebook/react/keys{/key_id}\",\n",
      "            \"collaborators_url\": \"https://api.github.com/repos/facebook/react/collaborators{/collaborator}\",\n",
      "            \"teams_url\": \"https://api.github.com/repos/facebook/react/teams\",\n",
      "            \"hooks_url\": \"https://api.github.com/repos/facebook/react/hooks\",\n",
      "            \"issue_events_url\": \"https://api.github.com/repos/facebook/react/issues/events{/number}\",\n",
      "            \"events_url\": \"https://api.github.com/repos/facebook/react/events\",\n",
      "            \"assignees_url\": \"https://api.github.com/repos/facebook/react/assignees{/user}\",\n",
      "            \"branches_url\": \"https://api.github.com/repos/facebook/react/branches{/branch}\",\n",
      "            \"tags_url\": \"https://api.github.com/repos/facebook/react/tags\",\n",
      "            \"blobs_url\": \"https://api.github.com/repos/facebook/react/git/blobs{/sha}\",\n",
      "            \"git_tags_url\": \"https://api.github.com/repos/facebook/react/git/tags{/sha}\",\n",
      "            \"git_refs_url\": \"https://api.github.com/repos/facebook/react/git/refs{/sha}\",\n",
      "            \"trees_url\": \"https://api.github.com/repos/facebook/react/git/trees{/sha}\",\n",
      "            \"statuses_url\": \"https://api.github.com/repos/facebook/react/statuses/{sha}\",\n",
      "            \"languages_url\": \"https://api.github.com/repos/facebook/react/languages\",\n",
      "            \"stargazers_url\": \"https://api.github.com/repos/facebook/react/stargazers\",\n",
      "            \"contributors_url\": \"https://api.github.com/repos/facebook/react/contributors\",\n",
      "            \"subscribers_url\": \"https://api.github.com/repos/facebook/react/subscribers\",\n",
      "            \"subscription_url\": \"https://api.github.com/repos/facebook/react/subscription\",\n",
      "            \"commits_url\": \"https://api.github.com/repos/facebook/react/commits{/sha}\",\n",
      "            \"git_commits_url\": \"https://api.github.com/repos/facebook/react/git/commits{/sha}\",\n",
      "            \"comments_url\": \"https://api.github.com/repos/facebook/react/comments{/number}\",\n",
      "            \"issue_comment_url\": \"https://api.github.com/repos/facebook/react/issues/comments{/number}\",\n",
      "            \"contents_url\": \"https://api.github.com/repos/facebook/react/contents/{+path}\",\n",
      "            \"compare_url\": \"https://api.github.com/repos/facebook/react/compare/{base}...{head}\",\n",
      "            \"merges_url\": \"https://api.github.com/repos/facebook/react/merges\",\n",
      "            \"archive_url\": \"https://api.github.com/repos/facebook/react/{archive_format}{/ref}\",\n",
      "            \"downloads_url\": \"https://api.github.com/repos/facebook/react/downloads\",\n",
      "            \"issues_url\": \"https://api.github.com/repos/facebook/react/issues{/number}\",\n",
      "            \"pulls_url\": \"https://api.github.com/repos/facebook/react/pulls{/number}\",\n",
      "            \"milestones_url\": \"https://api.github.com/repos/facebook/react/milestones{/number}\",\n",
      "            \"notifications_url\": \"https://api.github.com/repos/facebook/react/notifications{?since,all,participating}\",\n",
      "            \"labels_url\": \"https://api.github.com/repos/facebook/react/labels{/name}\",\n",
      "            \"releases_url\": \"https://api.github.com/repos/facebook/react/releases{/id}\",\n",
      "            \"deployments_url\": \"https://api.github.com/repos/facebook/react/deployments\",\n",
      "            \"created_at\": \"2013-05-24T16:15:54Z\",\n",
      "            \"updated_at\": \"2023-11-15T21:01:10Z\",\n",
      "            \"pushed_at\": \"2023-11-15T20:58:40Z\",\n",
      "            \"git_url\": \"git://github.com/facebook/react.git\",\n",
      "            \"ssh_url\": \"git@github.com:facebook/react.git\",\n",
      "            \"clone_url\": \"https://github.com/facebook/react.git\",\n",
      "            \"svn_url\": \"https://github.com/facebook/react\",\n",
      "            \"homepage\": \"https://react.dev\",\n",
      "            \"size\": 363761,\n",
      "            \"stargazers_count\": 215269,\n",
      "            \"watchers_count\": 215269,\n",
      "            \"language\": \"JavaScript\",\n",
      "            \"has_issues\": true,\n",
      "            \"has_projects\": true,\n",
      "            \"has_downloads\": true,\n",
      "            \"has_wiki\": true,\n",
      "            \"has_pages\": true,\n",
      "            \"has_discussions\": false,\n",
      "            \"forks_count\": 45369,\n",
      "            \"mirror_url\": null,\n",
      "            \"archived\": false,\n",
      "            \"disabled\": false,\n",
      "            \"open_issues_count\": 1514,\n",
      "            \"license\": {\n",
      "                \"key\": \"mit\",\n",
      "                \"name\": \"MIT License\",\n",
      "                \"spdx_id\": \"MIT\",\n",
      "                \"url\": \"https://api.github.com/licenses/mit\",\n",
      "                \"node_id\": \"MDc6TGljZW5zZTEz\"\n",
      "            },\n",
      "            \"allow_forking\": true,\n",
      "            \"is_template\": false,\n",
      "            \"web_commit_signoff_required\": false,\n",
      "            \"topics\": [\n",
      "                \"declarative\",\n",
      "                \"frontend\",\n",
      "                \"javascript\",\n",
      "                \"library\",\n",
      "                \"react\",\n",
      "                \"ui\"\n",
      "            ],\n",
      "            \"visibility\": \"public\",\n",
      "            \"forks\": 45369,\n",
      "            \"open_issues\": 1514,\n",
      "            \"watchers\": 215269,\n",
      "            \"default_branch\": \"main\",\n",
      "            \"score\": 1.0\n",
      "        },\n",
      "        {\n",
      "            \"id\": 126577260,\n",
      "            \"node_id\": \"MDEwOlJlcG9zaXRvcnkxMjY1NzcyNjA=\",\n",
      "            \"name\": \"javascript-algorithms\",\n",
      "            \"full_name\": \"trekhleb/javascript-algorithms\",\n",
      "            \"private\": false,\n",
      "            \"owner\": {\n",
      "                \"login\": \"trekhleb\",\n",
      "                \"id\": 3000285,\n",
      "                \"node_id\": \"MDQ6VXNlcjMwMDAyODU=\",\n",
      "                \"avatar_url\": \"https://avatars.githubusercontent.com/u/3000285?v=4\",\n",
      "                \"gravatar_id\": \"\",\n",
      "                \"url\": \"https://api.github.com/users/trekhleb\",\n",
      "                \"html_url\": \"https://github.com/trekhleb\",\n",
      "                \"followers_url\": \"https://api.github.com/users/trekhleb/followers\",\n",
      "                \"following_url\": \"https://api.github.com/users/trekhleb/following{/other_user}\",\n",
      "                \"gists_url\": \"https://api.github.com/users/trekhleb/gists{/gist_id}\",\n",
      "                \"starred_url\": \"https://api.github.com/users/trekhleb/starred{/owner}{/repo}\",\n",
      "                \"subscriptions_url\": \"https://api.github.com/users/trekhleb/subscriptions\",\n",
      "                \"organizations_url\": \"https://api.github.com/users/trekhleb/orgs\",\n",
      "                \"repos_url\": \"https://api.github.com/users/trekhleb/repos\",\n",
      "                \"events_url\": \"https://api.github.com/users/trekhleb/events{/privacy}\",\n",
      "                \"received_events_url\": \"https://api.github.com/users/trekhleb/received_events\",\n",
      "                \"type\": \"User\",\n",
      "                \"site_admin\": false\n",
      "            },\n",
      "            \"html_url\": \"https://github.com/trekhleb/javascript-algorithms\",\n",
      "            \"description\": \"\\ud83d\\udcdd Algorithms and data structures implemented in JavaScript with explanations and links to further readings\",\n",
      "            \"fork\": false,\n",
      "            \"url\": \"https://api.github.com/repos/trekhleb/javascript-algorithms\",\n",
      "            \"forks_url\": \"https://api.github.com/repos/trekhleb/javascript-algorithms/forks\",\n",
      "            \"keys_url\": \"https://api.github.com/repos/trekhleb/javascript-algorithms/keys{/key_id}\",\n",
      "            \"collaborators_url\": \"https://api.github.com/repos/trekhleb/javascript-algorithms/collaborators{/collaborator}\",\n",
      "            \"teams_url\": \"https://api.github.com/repos/trekhleb/javascript-algorithms/teams\",\n",
      "            \"hooks_url\": \"https://api.github.com/repos/trekhleb/javascript-algorithms/hooks\",\n",
      "            \"issue_events_url\": \"https://api.github.com/repos/trekhleb/javascript-algorithms/issues/events{/number}\",\n",
      "            \"events_url\": \"https://api.github.com/repos/trekhleb/javascript-algorithms/events\",\n",
      "            \"assignees_url\": \"https://api.github.com/repos/trekhleb/javascript-algorithms/assignees{/user}\",\n",
      "            \"branches_url\": \"https://api.github.com/repos/trekhleb/javascript-algorithms/branches{/branch}\",\n",
      "            \"tags_url\": \"https://api.github.com/repos/trekhleb/javascript-algorithms/tags\",\n",
      "            \"blobs_url\": \"https://api.github.com/repos/trekhleb/javascript-algorithms/git/blobs{/sha}\",\n",
      "            \"git_tags_url\": \"https://api.github.com/repos/trekhleb/javascript-algorithms/git/tags{/sha}\",\n",
      "            \"git_refs_url\": \"https://api.github.com/repos/trekhleb/javascript-algorithms/git/refs{/sha}\",\n",
      "            \"trees_url\": \"https://api.github.com/repos/trekhleb/javascript-algorithms/git/trees{/sha}\",\n",
      "            \"statuses_url\": \"https://api.github.com/repos/trekhleb/javascript-algorithms/statuses/{sha}\",\n",
      "            \"languages_url\": \"https://api.github.com/repos/trekhleb/javascript-algorithms/languages\",\n",
      "            \"stargazers_url\": \"https://api.github.com/repos/trekhleb/javascript-algorithms/stargazers\",\n",
      "            \"contributors_url\": \"https://api.github.com/repos/trekhleb/javascript-algorithms/contributors\",\n",
      "            \"subscribers_url\": \"https://api.github.com/repos/trekhleb/javascript-algorithms/subscribers\",\n",
      "            \"subscription_url\": \"https://api.github.com/repos/trekhleb/javascript-algorithms/subscription\",\n",
      "            \"commits_url\": \"https://api.github.com/repos/trekhleb/javascript-algorithms/commits{/sha}\",\n",
      "            \"git_commits_url\": \"https://api.github.com/repos/trekhleb/javascript-algorithms/git/commits{/sha}\",\n",
      "            \"comments_url\": \"https://api.github.com/repos/trekhleb/javascript-algorithms/comments{/number}\",\n",
      "            \"issue_comment_url\": \"https://api.github.com/repos/trekhleb/javascript-algorithms/issues/comments{/number}\",\n",
      "            \"contents_url\": \"https://api.github.com/repos/trekhleb/javascript-algorithms/contents/{+path}\",\n",
      "            \"compare_url\": \"https://api.github.com/repos/trekhleb/javascript-algorithms/compare/{base}...{head}\",\n",
      "            \"merges_url\": \"https://api.github.com/repos/trekhleb/javascript-algorithms/merges\",\n",
      "            \"archive_url\": \"https://api.github.com/repos/trekhleb/javascript-algorithms/{archive_format}{/ref}\",\n",
      "            \"downloads_url\": \"https://api.github.com/repos/trekhleb/javascript-algorithms/downloads\",\n",
      "            \"issues_url\": \"https://api.github.com/repos/trekhleb/javascript-algorithms/issues{/number}\",\n",
      "            \"pulls_url\": \"https://api.github.com/repos/trekhleb/javascript-algorithms/pulls{/number}\",\n",
      "            \"milestones_url\": \"https://api.github.com/repos/trekhleb/javascript-algorithms/milestones{/number}\",\n",
      "            \"notifications_url\": \"https://api.github.com/repos/trekhleb/javascript-algorithms/notifications{?since,all,participating}\",\n",
      "            \"labels_url\": \"https://api.github.com/repos/trekhleb/javascript-algorithms/labels{/name}\",\n",
      "            \"releases_url\": \"https://api.github.com/repos/trekhleb/javascript-algorithms/releases{/id}\",\n",
      "            \"deployments_url\": \"https://api.github.com/repos/trekhleb/javascript-algorithms/deployments\",\n",
      "            \"created_at\": \"2018-03-24T07:47:04Z\",\n",
      "            \"updated_at\": \"2023-11-15T20:32:24Z\",\n",
      "            \"pushed_at\": \"2023-11-13T16:19:18Z\",\n",
      "            \"git_url\": \"git://github.com/trekhleb/javascript-algorithms.git\",\n",
      "            \"ssh_url\": \"git@github.com:trekhleb/javascript-algorithms.git\",\n",
      "            \"clone_url\": \"https://github.com/trekhleb/javascript-algorithms.git\",\n",
      "            \"svn_url\": \"https://github.com/trekhleb/javascript-algorithms\",\n",
      "            \"homepage\": \"\",\n",
      "            \"size\": 13363,\n",
      "            \"stargazers_count\": 177069,\n",
      "            \"watchers_count\": 177069,\n",
      "            \"language\": \"JavaScript\",\n",
      "            \"has_issues\": true,\n",
      "            \"has_projects\": false,\n",
      "            \"has_downloads\": true,\n",
      "            \"has_wiki\": false,\n",
      "            \"has_pages\": false,\n",
      "            \"has_discussions\": false,\n",
      "            \"forks_count\": 29115,\n",
      "            \"mirror_url\": null,\n",
      "            \"archived\": false,\n",
      "            \"disabled\": false,\n",
      "            \"open_issues_count\": 339,\n",
      "            \"license\": {\n",
      "                \"key\": \"mit\",\n",
      "                \"name\": \"MIT License\",\n",
      "                \"spdx_id\": \"MIT\",\n",
      "                \"url\": \"https://api.github.com/licenses/mit\",\n",
      "                \"node_id\": \"MDc6TGljZW5zZTEz\"\n",
      "            },\n",
      "            \"allow_forking\": true,\n",
      "            \"is_template\": false,\n",
      "            \"web_commit_signoff_required\": false,\n",
      "            \"topics\": [\n",
      "                \"algorithm\",\n",
      "                \"algorithms\",\n",
      "                \"computer-science\",\n",
      "                \"data-structures\",\n",
      "                \"interview\",\n",
      "                \"interview-preparation\",\n",
      "                \"javascript\",\n",
      "                \"javascript-algorithms\"\n",
      "            ],\n",
      "            \"visibility\": \"public\",\n",
      "            \"forks\": 29115,\n",
      "            \"open_issues\": 339,\n",
      "            \"watchers\": 177069,\n",
      "            \"default_branch\": \"master\",\n",
      "            \"score\": 1.0\n",
      "        },\n",
      "        {\n",
      "            \"id\": 2126244,\n",
      "            \"node_id\": \"MDEwOlJlcG9zaXRvcnkyMTI2MjQ0\",\n",
      "            \"name\": \"bootstrap\",\n",
      "            \"full_name\": \"twbs/bootstrap\",\n",
      "            \"private\": false,\n",
      "            \"owner\": {\n",
      "                \"login\": \"twbs\",\n",
      "                \"id\": 2918581,\n",
      "                \"node_id\": \"MDEyOk9yZ2FuaXphdGlvbjI5MTg1ODE=\",\n",
      "                \"avatar_url\": \"https://avatars.githubusercontent.com/u/2918581?v=4\",\n",
      "                \"gravatar_id\": \"\",\n",
      "                \"url\": \"https://api.github.com/users/twbs\",\n",
      "                \"html_url\": \"https://github.com/twbs\",\n",
      "                \"followers_url\": \"https://api.github.com/users/twbs/followers\",\n",
      "                \"following_url\": \"https://api.github.com/users/twbs/following{/other_user}\",\n",
      "                \"gists_url\": \"https://api.github.com/users/twbs/gists{/gist_id}\",\n",
      "                \"starred_url\": \"https://api.github.com/users/twbs/starred{/owner}{/repo}\",\n",
      "                \"subscriptions_url\": \"https://api.github.com/users/twbs/subscriptions\",\n",
      "                \"organizations_url\": \"https://api.github.com/users/twbs/orgs\",\n",
      "                \"repos_url\": \"https://api.github.com/users/twbs/repos\",\n",
      "                \"events_url\": \"https://api.github.com/users/twbs/events{/privacy}\",\n",
      "                \"received_events_url\": \"https://api.github.com/users/twbs/received_events\",\n",
      "                \"type\": \"Organization\",\n",
      "                \"site_admin\": false\n",
      "            },\n",
      "            \"html_url\": \"https://github.com/twbs/bootstrap\",\n",
      "            \"description\": \"The most popular HTML, CSS, and JavaScript framework for developing responsive, mobile first projects on the web.\",\n",
      "            \"fork\": false,\n",
      "            \"url\": \"https://api.github.com/repos/twbs/bootstrap\",\n",
      "            \"forks_url\": \"https://api.github.com/repos/twbs/bootstrap/forks\",\n",
      "            \"keys_url\": \"https://api.github.com/repos/twbs/bootstrap/keys{/key_id}\",\n",
      "            \"collaborators_url\": \"https://api.github.com/repos/twbs/bootstrap/collaborators{/collaborator}\",\n",
      "            \"teams_url\": \"https://api.github.com/repos/twbs/bootstrap/teams\",\n",
      "            \"hooks_url\": \"https://api.github.com/repos/twbs/bootstrap/hooks\",\n",
      "            \"issue_events_url\": \"https://api.github.com/repos/twbs/bootstrap/issues/events{/number}\",\n",
      "            \"events_url\": \"https://api.github.com/repos/twbs/bootstrap/events\",\n",
      "            \"assignees_url\": \"https://api.github.com/repos/twbs/bootstrap/assignees{/user}\",\n",
      "            \"branches_url\": \"https://api.github.com/repos/twbs/bootstrap/branches{/branch}\",\n",
      "            \"tags_url\": \"https://api.github.com/repos/twbs/bootstrap/tags\",\n",
      "            \"blobs_url\": \"https://api.github.com/repos/twbs/bootstrap/git/blobs{/sha}\",\n",
      "            \"git_tags_url\": \"https://api.github.com/repos/twbs/bootstrap/git/tags{/sha}\",\n",
      "            \"git_refs_url\": \"https://api.github.com/repos/twbs/bootstrap/git/refs{/sha}\",\n",
      "            \"trees_url\": \"https://api.github.com/repos/twbs/bootstrap/git/trees{/sha}\",\n",
      "            \"statuses_url\": \"https://api.github.com/repos/twbs/bootstrap/statuses/{sha}\",\n",
      "            \"languages_url\": \"https://api.github.com/repos/twbs/bootstrap/languages\",\n",
      "            \"stargazers_url\": \"https://api.github.com/repos/twbs/bootstrap/stargazers\",\n",
      "            \"contributors_url\": \"https://api.github.com/repos/twbs/bootstrap/contributors\",\n",
      "            \"subscribers_url\": \"https://api.github.com/repos/twbs/bootstrap/subscribers\",\n",
      "            \"subscription_url\": \"https://api.github.com/repos/twbs/bootstrap/subscription\",\n",
      "            \"commits_url\": \"https://api.github.com/repos/twbs/bootstrap/commits{/sha}\",\n",
      "            \"git_commits_url\": \"https://api.github.com/repos/twbs/bootstrap/git/commits{/sha}\",\n",
      "            \"comments_url\": \"https://api.github.com/repos/twbs/bootstrap/comments{/number}\",\n",
      "            \"issue_comment_url\": \"https://api.github.com/repos/twbs/bootstrap/issues/comments{/number}\",\n",
      "            \"contents_url\": \"https://api.github.com/repos/twbs/bootstrap/contents/{+path}\",\n",
      "            \"compare_url\": \"https://api.github.com/repos/twbs/bootstrap/compare/{base}...{head}\",\n",
      "            \"merges_url\": \"https://api.github.com/repos/twbs/bootstrap/merges\",\n",
      "            \"archive_url\": \"https://api.github.com/repos/twbs/bootstrap/{archive_format}{/ref}\",\n",
      "            \"downloads_url\": \"https://api.github.com/repos/twbs/bootstrap/downloads\",\n",
      "            \"issues_url\": \"https://api.github.com/repos/twbs/bootstrap/issues{/number}\",\n",
      "            \"pulls_url\": \"https://api.github.com/repos/twbs/bootstrap/pulls{/number}\",\n",
      "            \"milestones_url\": \"https://api.github.com/repos/twbs/bootstrap/milestones{/number}\",\n",
      "            \"notifications_url\": \"https://api.github.com/repos/twbs/bootstrap/notifications{?since,all,participating}\",\n",
      "            \"labels_url\": \"https://api.github.com/repos/twbs/bootstrap/labels{/name}\",\n",
      "            \"releases_url\": \"https://api.github.com/repos/twbs/bootstrap/releases{/id}\",\n",
      "            \"deployments_url\": \"https://api.github.com/repos/twbs/bootstrap/deployments\",\n",
      "            \"created_at\": \"2011-07-29T21:19:00Z\",\n",
      "            \"updated_at\": \"2023-11-15T20:47:30Z\",\n",
      "            \"pushed_at\": \"2023-11-15T19:38:44Z\",\n",
      "            \"git_url\": \"git://github.com/twbs/bootstrap.git\",\n",
      "            \"ssh_url\": \"git@github.com:twbs/bootstrap.git\",\n",
      "            \"clone_url\": \"https://github.com/twbs/bootstrap.git\",\n",
      "            \"svn_url\": \"https://github.com/twbs/bootstrap\",\n",
      "            \"homepage\": \"https://getbootstrap.com\",\n",
      "            \"size\": 236146,\n",
      "            \"stargazers_count\": 165876,\n",
      "            \"watchers_count\": 165876,\n",
      "            \"language\": \"JavaScript\",\n",
      "            \"has_issues\": true,\n",
      "            \"has_projects\": true,\n",
      "            \"has_downloads\": true,\n",
      "            \"has_wiki\": false,\n",
      "            \"has_pages\": true,\n",
      "            \"has_discussions\": true,\n",
      "            \"forks_count\": 79042,\n",
      "            \"mirror_url\": null,\n",
      "            \"archived\": false,\n",
      "            \"disabled\": false,\n",
      "            \"open_issues_count\": 508,\n",
      "            \"license\": {\n",
      "                \"key\": \"mit\",\n",
      "                \"name\": \"MIT License\",\n",
      "                \"spdx_id\": \"MIT\",\n",
      "                \"url\": \"https://api.github.com/licenses/mit\",\n",
      "                \"node_id\": \"MDc6TGljZW5zZTEz\"\n",
      "            },\n",
      "            \"allow_forking\": true,\n",
      "            \"is_template\": false,\n",
      "            \"web_commit_signoff_required\": false,\n",
      "            \"topics\": [\n",
      "                \"bootstrap\",\n",
      "                \"css\",\n",
      "                \"css-framework\",\n",
      "                \"html\",\n",
      "                \"javascript\",\n",
      "                \"sass\",\n",
      "                \"scss\"\n",
      "            ],\n",
      "            \"visibility\": \"public\",\n",
      "            \"forks\": 79042,\n",
      "            \"open_issues\": 508,\n",
      "            \"watchers\": 165876,\n",
      "            \"default_branch\": \"main\",\n",
      "            \"score\": 1.0\n",
      "        },\n",
      "        {\n",
      "            \"id\": 614765452,\n",
      "            \"node_id\": \"R_kgDOJKSTjA\",\n",
      "            \"name\": \"AutoGPT\",\n",
      "            \"full_name\": \"Significant-Gravitas/AutoGPT\",\n",
      "            \"private\": false,\n",
      "            \"owner\": {\n",
      "                \"login\": \"Significant-Gravitas\",\n",
      "                \"id\": 130738209,\n",
      "                \"node_id\": \"O_kgDOB8roIQ\",\n",
      "                \"avatar_url\": \"https://avatars.githubusercontent.com/u/130738209?v=4\",\n",
      "                \"gravatar_id\": \"\",\n",
      "                \"url\": \"https://api.github.com/users/Significant-Gravitas\",\n",
      "                \"html_url\": \"https://github.com/Significant-Gravitas\",\n",
      "                \"followers_url\": \"https://api.github.com/users/Significant-Gravitas/followers\",\n",
      "                \"following_url\": \"https://api.github.com/users/Significant-Gravitas/following{/other_user}\",\n",
      "                \"gists_url\": \"https://api.github.com/users/Significant-Gravitas/gists{/gist_id}\",\n",
      "                \"starred_url\": \"https://api.github.com/users/Significant-Gravitas/starred{/owner}{/repo}\",\n",
      "                \"subscriptions_url\": \"https://api.github.com/users/Significant-Gravitas/subscriptions\",\n",
      "                \"organizations_url\": \"https://api.github.com/users/Significant-Gravitas/orgs\",\n",
      "                \"repos_url\": \"https://api.github.com/users/Significant-Gravitas/repos\",\n",
      "                \"events_url\": \"https://api.github.com/users/Significant-Gravitas/events{/privacy}\",\n",
      "                \"received_events_url\": \"https://api.github.com/users/Significant-Gravitas/received_events\",\n",
      "                \"type\": \"Organization\",\n",
      "                \"site_admin\": false\n",
      "            },\n",
      "            \"html_url\": \"https://github.com/Significant-Gravitas/AutoGPT\",\n",
      "            \"description\": \"An experimental open-source attempt to make GPT-4 fully autonomous.\",\n",
      "            \"fork\": false,\n",
      "            \"url\": \"https://api.github.com/repos/Significant-Gravitas/AutoGPT\",\n",
      "            \"forks_url\": \"https://api.github.com/repos/Significant-Gravitas/AutoGPT/forks\",\n",
      "            \"keys_url\": \"https://api.github.com/repos/Significant-Gravitas/AutoGPT/keys{/key_id}\",\n",
      "            \"collaborators_url\": \"https://api.github.com/repos/Significant-Gravitas/AutoGPT/collaborators{/collaborator}\",\n",
      "            \"teams_url\": \"https://api.github.com/repos/Significant-Gravitas/AutoGPT/teams\",\n",
      "            \"hooks_url\": \"https://api.github.com/repos/Significant-Gravitas/AutoGPT/hooks\",\n",
      "            \"issue_events_url\": \"https://api.github.com/repos/Significant-Gravitas/AutoGPT/issues/events{/number}\",\n",
      "            \"events_url\": \"https://api.github.com/repos/Significant-Gravitas/AutoGPT/events\",\n",
      "            \"assignees_url\": \"https://api.github.com/repos/Significant-Gravitas/AutoGPT/assignees{/user}\",\n",
      "            \"branches_url\": \"https://api.github.com/repos/Significant-Gravitas/AutoGPT/branches{/branch}\",\n",
      "            \"tags_url\": \"https://api.github.com/repos/Significant-Gravitas/AutoGPT/tags\",\n",
      "            \"blobs_url\": \"https://api.github.com/repos/Significant-Gravitas/AutoGPT/git/blobs{/sha}\",\n",
      "            \"git_tags_url\": \"https://api.github.com/repos/Significant-Gravitas/AutoGPT/git/tags{/sha}\",\n",
      "            \"git_refs_url\": \"https://api.github.com/repos/Significant-Gravitas/AutoGPT/git/refs{/sha}\",\n",
      "            \"trees_url\": \"https://api.github.com/repos/Significant-Gravitas/AutoGPT/git/trees{/sha}\",\n",
      "            \"statuses_url\": \"https://api.github.com/repos/Significant-Gravitas/AutoGPT/statuses/{sha}\",\n",
      "            \"languages_url\": \"https://api.github.com/repos/Significant-Gravitas/AutoGPT/languages\",\n",
      "            \"stargazers_url\": \"https://api.github.com/repos/Significant-Gravitas/AutoGPT/stargazers\",\n",
      "            \"contributors_url\": \"https://api.github.com/repos/Significant-Gravitas/AutoGPT/contributors\",\n",
      "            \"subscribers_url\": \"https://api.github.com/repos/Significant-Gravitas/AutoGPT/subscribers\",\n",
      "            \"subscription_url\": \"https://api.github.com/repos/Significant-Gravitas/AutoGPT/subscription\",\n",
      "            \"commits_url\": \"https://api.github.com/repos/Significant-Gravitas/AutoGPT/commits{/sha}\",\n",
      "            \"git_commits_url\": \"https://api.github.com/repos/Significant-Gravitas/AutoGPT/git/commits{/sha}\",\n",
      "            \"comments_url\": \"https://api.github.com/repos/Significant-Gravitas/AutoGPT/comments{/number}\",\n",
      "            \"issue_comment_url\": \"https://api.github.com/repos/Significant-Gravitas/AutoGPT/issues/comments{/number}\",\n",
      "            \"contents_url\": \"https://api.github.com/repos/Significant-Gravitas/AutoGPT/contents/{+path}\",\n",
      "            \"compare_url\": \"https://api.github.com/repos/Significant-Gravitas/AutoGPT/compare/{base}...{head}\",\n",
      "            \"merges_url\": \"https://api.github.com/repos/Significant-Gravitas/AutoGPT/merges\",\n",
      "            \"archive_url\": \"https://api.github.com/repos/Significant-Gravitas/AutoGPT/{archive_format}{/ref}\",\n",
      "            \"downloads_url\": \"https://api.github.com/repos/Significant-Gravitas/AutoGPT/downloads\",\n",
      "            \"issues_url\": \"https://api.github.com/repos/Significant-Gravitas/AutoGPT/issues{/number}\",\n",
      "            \"pulls_url\": \"https://api.github.com/repos/Significant-Gravitas/AutoGPT/pulls{/number}\",\n",
      "            \"milestones_url\": \"https://api.github.com/repos/Significant-Gravitas/AutoGPT/milestones{/number}\",\n",
      "            \"notifications_url\": \"https://api.github.com/repos/Significant-Gravitas/AutoGPT/notifications{?since,all,participating}\",\n",
      "            \"labels_url\": \"https://api.github.com/repos/Significant-Gravitas/AutoGPT/labels{/name}\",\n",
      "            \"releases_url\": \"https://api.github.com/repos/Significant-Gravitas/AutoGPT/releases{/id}\",\n",
      "            \"deployments_url\": \"https://api.github.com/repos/Significant-Gravitas/AutoGPT/deployments\",\n",
      "            \"created_at\": \"2023-03-16T09:21:07Z\",\n",
      "            \"updated_at\": \"2023-11-15T21:54:40Z\",\n",
      "            \"pushed_at\": \"2023-11-15T20:42:39Z\",\n",
      "            \"git_url\": \"git://github.com/Significant-Gravitas/AutoGPT.git\",\n",
      "            \"ssh_url\": \"git@github.com:Significant-Gravitas/AutoGPT.git\",\n",
      "            \"clone_url\": \"https://github.com/Significant-Gravitas/AutoGPT.git\",\n",
      "            \"svn_url\": \"https://github.com/Significant-Gravitas/AutoGPT\",\n",
      "            \"homepage\": \"https://agpt.co\",\n",
      "            \"size\": 103068,\n",
      "            \"stargazers_count\": 153105,\n",
      "            \"watchers_count\": 153105,\n",
      "            \"language\": \"JavaScript\",\n",
      "            \"has_issues\": true,\n",
      "            \"has_projects\": true,\n",
      "            \"has_downloads\": true,\n",
      "            \"has_wiki\": true,\n",
      "            \"has_pages\": true,\n",
      "            \"has_discussions\": true,\n",
      "            \"forks_count\": 36606,\n",
      "            \"mirror_url\": null,\n",
      "            \"archived\": false,\n",
      "            \"disabled\": false,\n",
      "            \"open_issues_count\": 297,\n",
      "            \"license\": {\n",
      "                \"key\": \"mit\",\n",
      "                \"name\": \"MIT License\",\n",
      "                \"spdx_id\": \"MIT\",\n",
      "                \"url\": \"https://api.github.com/licenses/mit\",\n",
      "                \"node_id\": \"MDc6TGljZW5zZTEz\"\n",
      "            },\n",
      "            \"allow_forking\": true,\n",
      "            \"is_template\": false,\n",
      "            \"web_commit_signoff_required\": false,\n",
      "            \"topics\": [\n",
      "                \"ai\",\n",
      "                \"artificial-intelligence\",\n",
      "                \"autonomous-agents\",\n",
      "                \"gpt-4\",\n",
      "                \"openai\",\n",
      "                \"python\"\n",
      "            ],\n",
      "            \"visibility\": \"public\",\n",
      "            \"forks\": 36606,\n",
      "            \"open_issues\": 297,\n",
      "            \"watchers\": 153105,\n",
      "            \"default_branch\": \"master\",\n",
      "            \"score\": 1.0\n",
      "        },\n",
      "        {\n",
      "            \"id\": 6498492,\n",
      "            \"node_id\": \"MDEwOlJlcG9zaXRvcnk2NDk4NDky\",\n",
      "            \"name\": \"javascript\",\n",
      "            \"full_name\": \"airbnb/javascript\",\n",
      "            \"private\": false,\n",
      "            \"owner\": {\n",
      "                \"login\": \"airbnb\",\n",
      "                \"id\": 698437,\n",
      "                \"node_id\": \"MDEyOk9yZ2FuaXphdGlvbjY5ODQzNw==\",\n",
      "                \"avatar_url\": \"https://avatars.githubusercontent.com/u/698437?v=4\",\n",
      "                \"gravatar_id\": \"\",\n",
      "                \"url\": \"https://api.github.com/users/airbnb\",\n",
      "                \"html_url\": \"https://github.com/airbnb\",\n",
      "                \"followers_url\": \"https://api.github.com/users/airbnb/followers\",\n",
      "                \"following_url\": \"https://api.github.com/users/airbnb/following{/other_user}\",\n",
      "                \"gists_url\": \"https://api.github.com/users/airbnb/gists{/gist_id}\",\n",
      "                \"starred_url\": \"https://api.github.com/users/airbnb/starred{/owner}{/repo}\",\n",
      "                \"subscriptions_url\": \"https://api.github.com/users/airbnb/subscriptions\",\n",
      "                \"organizations_url\": \"https://api.github.com/users/airbnb/orgs\",\n",
      "                \"repos_url\": \"https://api.github.com/users/airbnb/repos\",\n",
      "                \"events_url\": \"https://api.github.com/users/airbnb/events{/privacy}\",\n",
      "                \"received_events_url\": \"https://api.github.com/users/airbnb/received_events\",\n",
      "                \"type\": \"Organization\",\n",
      "                \"site_admin\": false\n",
      "            },\n",
      "            \"html_url\": \"https://github.com/airbnb/javascript\",\n",
      "            \"description\": \"JavaScript Style Guide\",\n",
      "            \"fork\": false,\n",
      "            \"url\": \"https://api.github.com/repos/airbnb/javascript\",\n",
      "            \"forks_url\": \"https://api.github.com/repos/airbnb/javascript/forks\",\n",
      "            \"keys_url\": \"https://api.github.com/repos/airbnb/javascript/keys{/key_id}\",\n",
      "            \"collaborators_url\": \"https://api.github.com/repos/airbnb/javascript/collaborators{/collaborator}\",\n",
      "            \"teams_url\": \"https://api.github.com/repos/airbnb/javascript/teams\",\n",
      "            \"hooks_url\": \"https://api.github.com/repos/airbnb/javascript/hooks\",\n",
      "            \"issue_events_url\": \"https://api.github.com/repos/airbnb/javascript/issues/events{/number}\",\n",
      "            \"events_url\": \"https://api.github.com/repos/airbnb/javascript/events\",\n",
      "            \"assignees_url\": \"https://api.github.com/repos/airbnb/javascript/assignees{/user}\",\n",
      "            \"branches_url\": \"https://api.github.com/repos/airbnb/javascript/branches{/branch}\",\n",
      "            \"tags_url\": \"https://api.github.com/repos/airbnb/javascript/tags\",\n",
      "            \"blobs_url\": \"https://api.github.com/repos/airbnb/javascript/git/blobs{/sha}\",\n",
      "            \"git_tags_url\": \"https://api.github.com/repos/airbnb/javascript/git/tags{/sha}\",\n",
      "            \"git_refs_url\": \"https://api.github.com/repos/airbnb/javascript/git/refs{/sha}\",\n",
      "            \"trees_url\": \"https://api.github.com/repos/airbnb/javascript/git/trees{/sha}\",\n",
      "            \"statuses_url\": \"https://api.github.com/repos/airbnb/javascript/statuses/{sha}\",\n",
      "            \"languages_url\": \"https://api.github.com/repos/airbnb/javascript/languages\",\n",
      "            \"stargazers_url\": \"https://api.github.com/repos/airbnb/javascript/stargazers\",\n",
      "            \"contributors_url\": \"https://api.github.com/repos/airbnb/javascript/contributors\",\n",
      "            \"subscribers_url\": \"https://api.github.com/repos/airbnb/javascript/subscribers\",\n",
      "            \"subscription_url\": \"https://api.github.com/repos/airbnb/javascript/subscription\",\n",
      "            \"commits_url\": \"https://api.github.com/repos/airbnb/javascript/commits{/sha}\",\n",
      "            \"git_commits_url\": \"https://api.github.com/repos/airbnb/javascript/git/commits{/sha}\",\n",
      "            \"comments_url\": \"https://api.github.com/repos/airbnb/javascript/comments{/number}\",\n",
      "            \"issue_comment_url\": \"https://api.github.com/repos/airbnb/javascript/issues/comments{/number}\",\n",
      "            \"contents_url\": \"https://api.github.com/repos/airbnb/javascript/contents/{+path}\",\n",
      "            \"compare_url\": \"https://api.github.com/repos/airbnb/javascript/compare/{base}...{head}\",\n",
      "            \"merges_url\": \"https://api.github.com/repos/airbnb/javascript/merges\",\n",
      "            \"archive_url\": \"https://api.github.com/repos/airbnb/javascript/{archive_format}{/ref}\",\n",
      "            \"downloads_url\": \"https://api.github.com/repos/airbnb/javascript/downloads\",\n",
      "            \"issues_url\": \"https://api.github.com/repos/airbnb/javascript/issues{/number}\",\n",
      "            \"pulls_url\": \"https://api.github.com/repos/airbnb/javascript/pulls{/number}\",\n",
      "            \"milestones_url\": \"https://api.github.com/repos/airbnb/javascript/milestones{/number}\",\n",
      "            \"notifications_url\": \"https://api.github.com/repos/airbnb/javascript/notifications{?since,all,participating}\",\n",
      "            \"labels_url\": \"https://api.github.com/repos/airbnb/javascript/labels{/name}\",\n",
      "            \"releases_url\": \"https://api.github.com/repos/airbnb/javascript/releases{/id}\",\n",
      "            \"deployments_url\": \"https://api.github.com/repos/airbnb/javascript/deployments\",\n",
      "            \"created_at\": \"2012-11-01T23:13:50Z\",\n",
      "            \"updated_at\": \"2023-11-15T21:05:45Z\",\n",
      "            \"pushed_at\": \"2023-11-09T22:20:09Z\",\n",
      "            \"git_url\": \"git://github.com/airbnb/javascript.git\",\n",
      "            \"ssh_url\": \"git@github.com:airbnb/javascript.git\",\n",
      "            \"clone_url\": \"https://github.com/airbnb/javascript.git\",\n",
      "            \"svn_url\": \"https://github.com/airbnb/javascript\",\n",
      "            \"homepage\": null,\n",
      "            \"size\": 3619,\n",
      "            \"stargazers_count\": 139247,\n",
      "            \"watchers_count\": 139247,\n",
      "            \"language\": \"JavaScript\",\n",
      "            \"has_issues\": true,\n",
      "            \"has_projects\": false,\n",
      "            \"has_downloads\": true,\n",
      "            \"has_wiki\": true,\n",
      "            \"has_pages\": true,\n",
      "            \"has_discussions\": false,\n",
      "            \"forks_count\": 26454,\n",
      "            \"mirror_url\": null,\n",
      "            \"archived\": false,\n",
      "            \"disabled\": false,\n",
      "            \"open_issues_count\": 162,\n",
      "            \"license\": {\n",
      "                \"key\": \"mit\",\n",
      "                \"name\": \"MIT License\",\n",
      "                \"spdx_id\": \"MIT\",\n",
      "                \"url\": \"https://api.github.com/licenses/mit\",\n",
      "                \"node_id\": \"MDc6TGljZW5zZTEz\"\n",
      "            },\n",
      "            \"allow_forking\": true,\n",
      "            \"is_template\": false,\n",
      "            \"web_commit_signoff_required\": false,\n",
      "            \"topics\": [\n",
      "                \"arrow-functions\",\n",
      "                \"es2015\",\n",
      "                \"es2016\",\n",
      "                \"es2017\",\n",
      "                \"es2018\",\n",
      "                \"es6\",\n",
      "                \"eslint\",\n",
      "                \"javascript\",\n",
      "                \"linting\",\n",
      "                \"naming-conventions\",\n",
      "                \"style-guide\",\n",
      "                \"style-linter\",\n",
      "                \"styleguide\",\n",
      "                \"tc39\"\n",
      "            ],\n",
      "            \"visibility\": \"public\",\n",
      "            \"forks\": 26454,\n",
      "            \"open_issues\": 162,\n",
      "            \"watchers\": 139247,\n",
      "            \"default_branch\": \"master\",\n",
      "            \"score\": 1.0\n",
      "        },\n",
      "        {\n",
      "            \"id\": 112507086,\n",
      "            \"node_id\": \"MDEwOlJlcG9zaXRvcnkxMTI1MDcwODY=\",\n",
      "            \"name\": \"30-seconds-of-code\",\n",
      "            \"full_name\": \"Chalarangelo/30-seconds-of-code\",\n",
      "            \"private\": false,\n",
      "            \"owner\": {\n",
      "                \"login\": \"Chalarangelo\",\n",
      "                \"id\": 8281875,\n",
      "                \"node_id\": \"MDQ6VXNlcjgyODE4NzU=\",\n",
      "                \"avatar_url\": \"https://avatars.githubusercontent.com/u/8281875?v=4\",\n",
      "                \"gravatar_id\": \"\",\n",
      "                \"url\": \"https://api.github.com/users/Chalarangelo\",\n",
      "                \"html_url\": \"https://github.com/Chalarangelo\",\n",
      "                \"followers_url\": \"https://api.github.com/users/Chalarangelo/followers\",\n",
      "                \"following_url\": \"https://api.github.com/users/Chalarangelo/following{/other_user}\",\n",
      "                \"gists_url\": \"https://api.github.com/users/Chalarangelo/gists{/gist_id}\",\n",
      "                \"starred_url\": \"https://api.github.com/users/Chalarangelo/starred{/owner}{/repo}\",\n",
      "                \"subscriptions_url\": \"https://api.github.com/users/Chalarangelo/subscriptions\",\n",
      "                \"organizations_url\": \"https://api.github.com/users/Chalarangelo/orgs\",\n",
      "                \"repos_url\": \"https://api.github.com/users/Chalarangelo/repos\",\n",
      "                \"events_url\": \"https://api.github.com/users/Chalarangelo/events{/privacy}\",\n",
      "                \"received_events_url\": \"https://api.github.com/users/Chalarangelo/received_events\",\n",
      "                \"type\": \"User\",\n",
      "                \"site_admin\": false\n",
      "            },\n",
      "            \"html_url\": \"https://github.com/Chalarangelo/30-seconds-of-code\",\n",
      "            \"description\": \"Short code snippets for all your development needs\",\n",
      "            \"fork\": false,\n",
      "            \"url\": \"https://api.github.com/repos/Chalarangelo/30-seconds-of-code\",\n",
      "            \"forks_url\": \"https://api.github.com/repos/Chalarangelo/30-seconds-of-code/forks\",\n",
      "            \"keys_url\": \"https://api.github.com/repos/Chalarangelo/30-seconds-of-code/keys{/key_id}\",\n",
      "            \"collaborators_url\": \"https://api.github.com/repos/Chalarangelo/30-seconds-of-code/collaborators{/collaborator}\",\n",
      "            \"teams_url\": \"https://api.github.com/repos/Chalarangelo/30-seconds-of-code/teams\",\n",
      "            \"hooks_url\": \"https://api.github.com/repos/Chalarangelo/30-seconds-of-code/hooks\",\n",
      "            \"issue_events_url\": \"https://api.github.com/repos/Chalarangelo/30-seconds-of-code/issues/events{/number}\",\n",
      "            \"events_url\": \"https://api.github.com/repos/Chalarangelo/30-seconds-of-code/events\",\n",
      "            \"assignees_url\": \"https://api.github.com/repos/Chalarangelo/30-seconds-of-code/assignees{/user}\",\n",
      "            \"branches_url\": \"https://api.github.com/repos/Chalarangelo/30-seconds-of-code/branches{/branch}\",\n",
      "            \"tags_url\": \"https://api.github.com/repos/Chalarangelo/30-seconds-of-code/tags\",\n",
      "            \"blobs_url\": \"https://api.github.com/repos/Chalarangelo/30-seconds-of-code/git/blobs{/sha}\",\n",
      "            \"git_tags_url\": \"https://api.github.com/repos/Chalarangelo/30-seconds-of-code/git/tags{/sha}\",\n",
      "            \"git_refs_url\": \"https://api.github.com/repos/Chalarangelo/30-seconds-of-code/git/refs{/sha}\",\n",
      "            \"trees_url\": \"https://api.github.com/repos/Chalarangelo/30-seconds-of-code/git/trees{/sha}\",\n",
      "            \"statuses_url\": \"https://api.github.com/repos/Chalarangelo/30-seconds-of-code/statuses/{sha}\",\n",
      "            \"languages_url\": \"https://api.github.com/repos/Chalarangelo/30-seconds-of-code/languages\",\n",
      "            \"stargazers_url\": \"https://api.github.com/repos/Chalarangelo/30-seconds-of-code/stargazers\",\n",
      "            \"contributors_url\": \"https://api.github.com/repos/Chalarangelo/30-seconds-of-code/contributors\",\n",
      "            \"subscribers_url\": \"https://api.github.com/repos/Chalarangelo/30-seconds-of-code/subscribers\",\n",
      "            \"subscription_url\": \"https://api.github.com/repos/Chalarangelo/30-seconds-of-code/subscription\",\n",
      "            \"commits_url\": \"https://api.github.com/repos/Chalarangelo/30-seconds-of-code/commits{/sha}\",\n",
      "            \"git_commits_url\": \"https://api.github.com/repos/Chalarangelo/30-seconds-of-code/git/commits{/sha}\",\n",
      "            \"comments_url\": \"https://api.github.com/repos/Chalarangelo/30-seconds-of-code/comments{/number}\",\n",
      "            \"issue_comment_url\": \"https://api.github.com/repos/Chalarangelo/30-seconds-of-code/issues/comments{/number}\",\n",
      "            \"contents_url\": \"https://api.github.com/repos/Chalarangelo/30-seconds-of-code/contents/{+path}\",\n",
      "            \"compare_url\": \"https://api.github.com/repos/Chalarangelo/30-seconds-of-code/compare/{base}...{head}\",\n",
      "            \"merges_url\": \"https://api.github.com/repos/Chalarangelo/30-seconds-of-code/merges\",\n",
      "            \"archive_url\": \"https://api.github.com/repos/Chalarangelo/30-seconds-of-code/{archive_format}{/ref}\",\n",
      "            \"downloads_url\": \"https://api.github.com/repos/Chalarangelo/30-seconds-of-code/downloads\",\n",
      "            \"issues_url\": \"https://api.github.com/repos/Chalarangelo/30-seconds-of-code/issues{/number}\",\n",
      "            \"pulls_url\": \"https://api.github.com/repos/Chalarangelo/30-seconds-of-code/pulls{/number}\",\n",
      "            \"milestones_url\": \"https://api.github.com/repos/Chalarangelo/30-seconds-of-code/milestones{/number}\",\n",
      "            \"notifications_url\": \"https://api.github.com/repos/Chalarangelo/30-seconds-of-code/notifications{?since,all,participating}\",\n",
      "            \"labels_url\": \"https://api.github.com/repos/Chalarangelo/30-seconds-of-code/labels{/name}\",\n",
      "            \"releases_url\": \"https://api.github.com/repos/Chalarangelo/30-seconds-of-code/releases{/id}\",\n",
      "            \"deployments_url\": \"https://api.github.com/repos/Chalarangelo/30-seconds-of-code/deployments\",\n",
      "            \"created_at\": \"2017-11-29T17:35:03Z\",\n",
      "            \"updated_at\": \"2023-11-15T19:07:54Z\",\n",
      "            \"pushed_at\": \"2023-11-15T18:26:18Z\",\n",
      "            \"git_url\": \"git://github.com/Chalarangelo/30-seconds-of-code.git\",\n",
      "            \"ssh_url\": \"git@github.com:Chalarangelo/30-seconds-of-code.git\",\n",
      "            \"clone_url\": \"https://github.com/Chalarangelo/30-seconds-of-code.git\",\n",
      "            \"svn_url\": \"https://github.com/Chalarangelo/30-seconds-of-code\",\n",
      "            \"homepage\": \"https://30secondsofcode.org/\",\n",
      "            \"size\": 619374,\n",
      "            \"stargazers_count\": 116512,\n",
      "            \"watchers_count\": 116512,\n",
      "            \"language\": \"JavaScript\",\n",
      "            \"has_issues\": true,\n",
      "            \"has_projects\": true,\n",
      "            \"has_downloads\": true,\n",
      "            \"has_wiki\": true,\n",
      "            \"has_pages\": false,\n",
      "            \"has_discussions\": true,\n",
      "            \"forks_count\": 12024,\n",
      "            \"mirror_url\": null,\n",
      "            \"archived\": false,\n",
      "            \"disabled\": false,\n",
      "            \"open_issues_count\": 0,\n",
      "            \"license\": {\n",
      "                \"key\": \"cc-by-4.0\",\n",
      "                \"name\": \"Creative Commons Attribution 4.0 International\",\n",
      "                \"spdx_id\": \"CC-BY-4.0\",\n",
      "                \"url\": \"https://api.github.com/licenses/cc-by-4.0\",\n",
      "                \"node_id\": \"MDc6TGljZW5zZTI1\"\n",
      "            },\n",
      "            \"allow_forking\": true,\n",
      "            \"is_template\": false,\n",
      "            \"web_commit_signoff_required\": false,\n",
      "            \"topics\": [\n",
      "                \"astro\",\n",
      "                \"awesome-list\",\n",
      "                \"css\",\n",
      "                \"education\",\n",
      "                \"es6-javascript\",\n",
      "                \"git\",\n",
      "                \"github-actions\",\n",
      "                \"html\",\n",
      "                \"javascript\",\n",
      "                \"learn-to-code\",\n",
      "                \"learning-resources\",\n",
      "                \"netlify\",\n",
      "                \"nodejs\",\n",
      "                \"programming\",\n",
      "                \"python\",\n",
      "                \"reactjs\",\n",
      "                \"snippets\",\n",
      "                \"snippets-collection\",\n",
      "                \"website-infrastructure\"\n",
      "            ],\n",
      "            \"visibility\": \"public\",\n",
      "            \"forks\": 12024,\n",
      "            \"open_issues\": 0,\n",
      "            \"watchers\": 116512,\n",
      "            \"default_branch\": \"master\",\n",
      "            \"score\": 1.0\n",
      "        },\n",
      "        {\n",
      "            \"id\": 70107786,\n",
      "            \"node_id\": \"MDEwOlJlcG9zaXRvcnk3MDEwNzc4Ng==\",\n",
      "            \"name\": \"next.js\",\n",
      "            \"full_name\": \"vercel/next.js\",\n",
      "            \"private\": false,\n",
      "            \"owner\": {\n",
      "                \"login\": \"vercel\",\n",
      "                \"id\": 14985020,\n",
      "                \"node_id\": \"MDEyOk9yZ2FuaXphdGlvbjE0OTg1MDIw\",\n",
      "                \"avatar_url\": \"https://avatars.githubusercontent.com/u/14985020?v=4\",\n",
      "                \"gravatar_id\": \"\",\n",
      "                \"url\": \"https://api.github.com/users/vercel\",\n",
      "                \"html_url\": \"https://github.com/vercel\",\n",
      "                \"followers_url\": \"https://api.github.com/users/vercel/followers\",\n",
      "                \"following_url\": \"https://api.github.com/users/vercel/following{/other_user}\",\n",
      "                \"gists_url\": \"https://api.github.com/users/vercel/gists{/gist_id}\",\n",
      "                \"starred_url\": \"https://api.github.com/users/vercel/starred{/owner}{/repo}\",\n",
      "                \"subscriptions_url\": \"https://api.github.com/users/vercel/subscriptions\",\n",
      "                \"organizations_url\": \"https://api.github.com/users/vercel/orgs\",\n",
      "                \"repos_url\": \"https://api.github.com/users/vercel/repos\",\n",
      "                \"events_url\": \"https://api.github.com/users/vercel/events{/privacy}\",\n",
      "                \"received_events_url\": \"https://api.github.com/users/vercel/received_events\",\n",
      "                \"type\": \"Organization\",\n",
      "                \"site_admin\": false\n",
      "            },\n",
      "            \"html_url\": \"https://github.com/vercel/next.js\",\n",
      "            \"description\": \"The React Framework\",\n",
      "            \"fork\": false,\n",
      "            \"url\": \"https://api.github.com/repos/vercel/next.js\",\n",
      "            \"forks_url\": \"https://api.github.com/repos/vercel/next.js/forks\",\n",
      "            \"keys_url\": \"https://api.github.com/repos/vercel/next.js/keys{/key_id}\",\n",
      "            \"collaborators_url\": \"https://api.github.com/repos/vercel/next.js/collaborators{/collaborator}\",\n",
      "            \"teams_url\": \"https://api.github.com/repos/vercel/next.js/teams\",\n",
      "            \"hooks_url\": \"https://api.github.com/repos/vercel/next.js/hooks\",\n",
      "            \"issue_events_url\": \"https://api.github.com/repos/vercel/next.js/issues/events{/number}\",\n",
      "            \"events_url\": \"https://api.github.com/repos/vercel/next.js/events\",\n",
      "            \"assignees_url\": \"https://api.github.com/repos/vercel/next.js/assignees{/user}\",\n",
      "            \"branches_url\": \"https://api.github.com/repos/vercel/next.js/branches{/branch}\",\n",
      "            \"tags_url\": \"https://api.github.com/repos/vercel/next.js/tags\",\n",
      "            \"blobs_url\": \"https://api.github.com/repos/vercel/next.js/git/blobs{/sha}\",\n",
      "            \"git_tags_url\": \"https://api.github.com/repos/vercel/next.js/git/tags{/sha}\",\n",
      "            \"git_refs_url\": \"https://api.github.com/repos/vercel/next.js/git/refs{/sha}\",\n",
      "            \"trees_url\": \"https://api.github.com/repos/vercel/next.js/git/trees{/sha}\",\n",
      "            \"statuses_url\": \"https://api.github.com/repos/vercel/next.js/statuses/{sha}\",\n",
      "            \"languages_url\": \"https://api.github.com/repos/vercel/next.js/languages\",\n",
      "            \"stargazers_url\": \"https://api.github.com/repos/vercel/next.js/stargazers\",\n",
      "            \"contributors_url\": \"https://api.github.com/repos/vercel/next.js/contributors\",\n",
      "            \"subscribers_url\": \"https://api.github.com/repos/vercel/next.js/subscribers\",\n",
      "            \"subscription_url\": \"https://api.github.com/repos/vercel/next.js/subscription\",\n",
      "            \"commits_url\": \"https://api.github.com/repos/vercel/next.js/commits{/sha}\",\n",
      "            \"git_commits_url\": \"https://api.github.com/repos/vercel/next.js/git/commits{/sha}\",\n",
      "            \"comments_url\": \"https://api.github.com/repos/vercel/next.js/comments{/number}\",\n",
      "            \"issue_comment_url\": \"https://api.github.com/repos/vercel/next.js/issues/comments{/number}\",\n",
      "            \"contents_url\": \"https://api.github.com/repos/vercel/next.js/contents/{+path}\",\n",
      "            \"compare_url\": \"https://api.github.com/repos/vercel/next.js/compare/{base}...{head}\",\n",
      "            \"merges_url\": \"https://api.github.com/repos/vercel/next.js/merges\",\n",
      "            \"archive_url\": \"https://api.github.com/repos/vercel/next.js/{archive_format}{/ref}\",\n",
      "            \"downloads_url\": \"https://api.github.com/repos/vercel/next.js/downloads\",\n",
      "            \"issues_url\": \"https://api.github.com/repos/vercel/next.js/issues{/number}\",\n",
      "            \"pulls_url\": \"https://api.github.com/repos/vercel/next.js/pulls{/number}\",\n",
      "            \"milestones_url\": \"https://api.github.com/repos/vercel/next.js/milestones{/number}\",\n",
      "            \"notifications_url\": \"https://api.github.com/repos/vercel/next.js/notifications{?since,all,participating}\",\n",
      "            \"labels_url\": \"https://api.github.com/repos/vercel/next.js/labels{/name}\",\n",
      "            \"releases_url\": \"https://api.github.com/repos/vercel/next.js/releases{/id}\",\n",
      "            \"deployments_url\": \"https://api.github.com/repos/vercel/next.js/deployments\",\n",
      "            \"created_at\": \"2016-10-05T23:32:51Z\",\n",
      "            \"updated_at\": \"2023-11-15T21:14:40Z\",\n",
      "            \"pushed_at\": \"2023-11-15T21:58:39Z\",\n",
      "            \"git_url\": \"git://github.com/vercel/next.js.git\",\n",
      "            \"ssh_url\": \"git@github.com:vercel/next.js.git\",\n",
      "            \"clone_url\": \"https://github.com/vercel/next.js.git\",\n",
      "            \"svn_url\": \"https://github.com/vercel/next.js\",\n",
      "            \"homepage\": \"https://nextjs.org\",\n",
      "            \"size\": 1887185,\n",
      "            \"stargazers_count\": 114629,\n",
      "            \"watchers_count\": 114629,\n",
      "            \"language\": \"JavaScript\",\n",
      "            \"has_issues\": true,\n",
      "            \"has_projects\": false,\n",
      "            \"has_downloads\": true,\n",
      "            \"has_wiki\": false,\n",
      "            \"has_pages\": false,\n",
      "            \"has_discussions\": true,\n",
      "            \"forks_count\": 25190,\n",
      "            \"mirror_url\": null,\n",
      "            \"archived\": false,\n",
      "            \"disabled\": false,\n",
      "            \"open_issues_count\": 2788,\n",
      "            \"license\": {\n",
      "                \"key\": \"mit\",\n",
      "                \"name\": \"MIT License\",\n",
      "                \"spdx_id\": \"MIT\",\n",
      "                \"url\": \"https://api.github.com/licenses/mit\",\n",
      "                \"node_id\": \"MDc6TGljZW5zZTEz\"\n",
      "            },\n",
      "            \"allow_forking\": true,\n",
      "            \"is_template\": false,\n",
      "            \"web_commit_signoff_required\": false,\n",
      "            \"topics\": [\n",
      "                \"blog\",\n",
      "                \"browser\",\n",
      "                \"compiler\",\n",
      "                \"components\",\n",
      "                \"hybrid\",\n",
      "                \"nextjs\",\n",
      "                \"node\",\n",
      "                \"react\",\n",
      "                \"server-rendering\",\n",
      "                \"ssg\",\n",
      "                \"static\",\n",
      "                \"static-site-generator\",\n",
      "                \"universal\",\n",
      "                \"vercel\"\n",
      "            ],\n",
      "            \"visibility\": \"public\",\n",
      "            \"forks\": 25190,\n",
      "            \"open_issues\": 2788,\n",
      "            \"watchers\": 114629,\n",
      "            \"default_branch\": \"canary\",\n",
      "            \"score\": 1.0\n",
      "        },\n",
      "        {\n",
      "            \"id\": 23088740,\n",
      "            \"node_id\": \"MDEwOlJlcG9zaXRvcnkyMzA4ODc0MA==\",\n",
      "            \"name\": \"axios\",\n",
      "            \"full_name\": \"axios/axios\",\n",
      "            \"private\": false,\n",
      "            \"owner\": {\n",
      "                \"login\": \"axios\",\n",
      "                \"id\": 32372333,\n",
      "                \"node_id\": \"MDEyOk9yZ2FuaXphdGlvbjMyMzcyMzMz\",\n",
      "                \"avatar_url\": \"https://avatars.githubusercontent.com/u/32372333?v=4\",\n",
      "                \"gravatar_id\": \"\",\n",
      "                \"url\": \"https://api.github.com/users/axios\",\n",
      "                \"html_url\": \"https://github.com/axios\",\n",
      "                \"followers_url\": \"https://api.github.com/users/axios/followers\",\n",
      "                \"following_url\": \"https://api.github.com/users/axios/following{/other_user}\",\n",
      "                \"gists_url\": \"https://api.github.com/users/axios/gists{/gist_id}\",\n",
      "                \"starred_url\": \"https://api.github.com/users/axios/starred{/owner}{/repo}\",\n",
      "                \"subscriptions_url\": \"https://api.github.com/users/axios/subscriptions\",\n",
      "                \"organizations_url\": \"https://api.github.com/users/axios/orgs\",\n",
      "                \"repos_url\": \"https://api.github.com/users/axios/repos\",\n",
      "                \"events_url\": \"https://api.github.com/users/axios/events{/privacy}\",\n",
      "                \"received_events_url\": \"https://api.github.com/users/axios/received_events\",\n",
      "                \"type\": \"Organization\",\n",
      "                \"site_admin\": false\n",
      "            },\n",
      "            \"html_url\": \"https://github.com/axios/axios\",\n",
      "            \"description\": \"Promise based HTTP client for the browser and node.js\",\n",
      "            \"fork\": false,\n",
      "            \"url\": \"https://api.github.com/repos/axios/axios\",\n",
      "            \"forks_url\": \"https://api.github.com/repos/axios/axios/forks\",\n",
      "            \"keys_url\": \"https://api.github.com/repos/axios/axios/keys{/key_id}\",\n",
      "            \"collaborators_url\": \"https://api.github.com/repos/axios/axios/collaborators{/collaborator}\",\n",
      "            \"teams_url\": \"https://api.github.com/repos/axios/axios/teams\",\n",
      "            \"hooks_url\": \"https://api.github.com/repos/axios/axios/hooks\",\n",
      "            \"issue_events_url\": \"https://api.github.com/repos/axios/axios/issues/events{/number}\",\n",
      "            \"events_url\": \"https://api.github.com/repos/axios/axios/events\",\n",
      "            \"assignees_url\": \"https://api.github.com/repos/axios/axios/assignees{/user}\",\n",
      "            \"branches_url\": \"https://api.github.com/repos/axios/axios/branches{/branch}\",\n",
      "            \"tags_url\": \"https://api.github.com/repos/axios/axios/tags\",\n",
      "            \"blobs_url\": \"https://api.github.com/repos/axios/axios/git/blobs{/sha}\",\n",
      "            \"git_tags_url\": \"https://api.github.com/repos/axios/axios/git/tags{/sha}\",\n",
      "            \"git_refs_url\": \"https://api.github.com/repos/axios/axios/git/refs{/sha}\",\n",
      "            \"trees_url\": \"https://api.github.com/repos/axios/axios/git/trees{/sha}\",\n",
      "            \"statuses_url\": \"https://api.github.com/repos/axios/axios/statuses/{sha}\",\n",
      "            \"languages_url\": \"https://api.github.com/repos/axios/axios/languages\",\n",
      "            \"stargazers_url\": \"https://api.github.com/repos/axios/axios/stargazers\",\n",
      "            \"contributors_url\": \"https://api.github.com/repos/axios/axios/contributors\",\n",
      "            \"subscribers_url\": \"https://api.github.com/repos/axios/axios/subscribers\",\n",
      "            \"subscription_url\": \"https://api.github.com/repos/axios/axios/subscription\",\n",
      "            \"commits_url\": \"https://api.github.com/repos/axios/axios/commits{/sha}\",\n",
      "            \"git_commits_url\": \"https://api.github.com/repos/axios/axios/git/commits{/sha}\",\n",
      "            \"comments_url\": \"https://api.github.com/repos/axios/axios/comments{/number}\",\n",
      "            \"issue_comment_url\": \"https://api.github.com/repos/axios/axios/issues/comments{/number}\",\n",
      "            \"contents_url\": \"https://api.github.com/repos/axios/axios/contents/{+path}\",\n",
      "            \"compare_url\": \"https://api.github.com/repos/axios/axios/compare/{base}...{head}\",\n",
      "            \"merges_url\": \"https://api.github.com/repos/axios/axios/merges\",\n",
      "            \"archive_url\": \"https://api.github.com/repos/axios/axios/{archive_format}{/ref}\",\n",
      "            \"downloads_url\": \"https://api.github.com/repos/axios/axios/downloads\",\n",
      "            \"issues_url\": \"https://api.github.com/repos/axios/axios/issues{/number}\",\n",
      "            \"pulls_url\": \"https://api.github.com/repos/axios/axios/pulls{/number}\",\n",
      "            \"milestones_url\": \"https://api.github.com/repos/axios/axios/milestones{/number}\",\n",
      "            \"notifications_url\": \"https://api.github.com/repos/axios/axios/notifications{?since,all,participating}\",\n",
      "            \"labels_url\": \"https://api.github.com/repos/axios/axios/labels{/name}\",\n",
      "            \"releases_url\": \"https://api.github.com/repos/axios/axios/releases{/id}\",\n",
      "            \"deployments_url\": \"https://api.github.com/repos/axios/axios/deployments\",\n",
      "            \"created_at\": \"2014-08-18T22:30:27Z\",\n",
      "            \"updated_at\": \"2023-11-15T20:30:05Z\",\n",
      "            \"pushed_at\": \"2023-11-15T17:43:19Z\",\n",
      "            \"git_url\": \"git://github.com/axios/axios.git\",\n",
      "            \"ssh_url\": \"git@github.com:axios/axios.git\",\n",
      "            \"clone_url\": \"https://github.com/axios/axios.git\",\n",
      "            \"svn_url\": \"https://github.com/axios/axios\",\n",
      "            \"homepage\": \"https://axios-http.com\",\n",
      "            \"size\": 10698,\n",
      "            \"stargazers_count\": 102490,\n",
      "            \"watchers_count\": 102490,\n",
      "            \"language\": \"JavaScript\",\n",
      "            \"has_issues\": true,\n",
      "            \"has_projects\": true,\n",
      "            \"has_downloads\": true,\n",
      "            \"has_wiki\": false,\n",
      "            \"has_pages\": false,\n",
      "            \"has_discussions\": true,\n",
      "            \"forks_count\": 10774,\n",
      "            \"mirror_url\": null,\n",
      "            \"archived\": false,\n",
      "            \"disabled\": false,\n",
      "            \"open_issues_count\": 553,\n",
      "            \"license\": {\n",
      "                \"key\": \"mit\",\n",
      "                \"name\": \"MIT License\",\n",
      "                \"spdx_id\": \"MIT\",\n",
      "                \"url\": \"https://api.github.com/licenses/mit\",\n",
      "                \"node_id\": \"MDc6TGljZW5zZTEz\"\n",
      "            },\n",
      "            \"allow_forking\": true,\n",
      "            \"is_template\": false,\n",
      "            \"web_commit_signoff_required\": false,\n",
      "            \"topics\": [\n",
      "                \"hacktoberfest\",\n",
      "                \"http-client\",\n",
      "                \"javascript\",\n",
      "                \"nodejs\",\n",
      "                \"promise\"\n",
      "            ],\n",
      "            \"visibility\": \"public\",\n",
      "            \"forks\": 10774,\n",
      "            \"open_issues\": 553,\n",
      "            \"watchers\": 102490,\n",
      "            \"default_branch\": \"v1.x\",\n",
      "            \"score\": 1.0\n",
      "        },\n",
      "        {\n",
      "            \"id\": 63537249,\n",
      "            \"node_id\": \"MDEwOlJlcG9zaXRvcnk2MzUzNzI0OQ==\",\n",
      "            \"name\": \"create-react-app\",\n",
      "            \"full_name\": \"facebook/create-react-app\",\n",
      "            \"private\": false,\n",
      "            \"owner\": {\n",
      "                \"login\": \"facebook\",\n",
      "                \"id\": 69631,\n",
      "                \"node_id\": \"MDEyOk9yZ2FuaXphdGlvbjY5NjMx\",\n",
      "                \"avatar_url\": \"https://avatars.githubusercontent.com/u/69631?v=4\",\n",
      "                \"gravatar_id\": \"\",\n",
      "                \"url\": \"https://api.github.com/users/facebook\",\n",
      "                \"html_url\": \"https://github.com/facebook\",\n",
      "                \"followers_url\": \"https://api.github.com/users/facebook/followers\",\n",
      "                \"following_url\": \"https://api.github.com/users/facebook/following{/other_user}\",\n",
      "                \"gists_url\": \"https://api.github.com/users/facebook/gists{/gist_id}\",\n",
      "                \"starred_url\": \"https://api.github.com/users/facebook/starred{/owner}{/repo}\",\n",
      "                \"subscriptions_url\": \"https://api.github.com/users/facebook/subscriptions\",\n",
      "                \"organizations_url\": \"https://api.github.com/users/facebook/orgs\",\n",
      "                \"repos_url\": \"https://api.github.com/users/facebook/repos\",\n",
      "                \"events_url\": \"https://api.github.com/users/facebook/events{/privacy}\",\n",
      "                \"received_events_url\": \"https://api.github.com/users/facebook/received_events\",\n",
      "                \"type\": \"Organization\",\n",
      "                \"site_admin\": false\n",
      "            },\n",
      "            \"html_url\": \"https://github.com/facebook/create-react-app\",\n",
      "            \"description\": \"Set up a modern web app by running one command.\",\n",
      "            \"fork\": false,\n",
      "            \"url\": \"https://api.github.com/repos/facebook/create-react-app\",\n",
      "            \"forks_url\": \"https://api.github.com/repos/facebook/create-react-app/forks\",\n",
      "            \"keys_url\": \"https://api.github.com/repos/facebook/create-react-app/keys{/key_id}\",\n",
      "            \"collaborators_url\": \"https://api.github.com/repos/facebook/create-react-app/collaborators{/collaborator}\",\n",
      "            \"teams_url\": \"https://api.github.com/repos/facebook/create-react-app/teams\",\n",
      "            \"hooks_url\": \"https://api.github.com/repos/facebook/create-react-app/hooks\",\n",
      "            \"issue_events_url\": \"https://api.github.com/repos/facebook/create-react-app/issues/events{/number}\",\n",
      "            \"events_url\": \"https://api.github.com/repos/facebook/create-react-app/events\",\n",
      "            \"assignees_url\": \"https://api.github.com/repos/facebook/create-react-app/assignees{/user}\",\n",
      "            \"branches_url\": \"https://api.github.com/repos/facebook/create-react-app/branches{/branch}\",\n",
      "            \"tags_url\": \"https://api.github.com/repos/facebook/create-react-app/tags\",\n",
      "            \"blobs_url\": \"https://api.github.com/repos/facebook/create-react-app/git/blobs{/sha}\",\n",
      "            \"git_tags_url\": \"https://api.github.com/repos/facebook/create-react-app/git/tags{/sha}\",\n",
      "            \"git_refs_url\": \"https://api.github.com/repos/facebook/create-react-app/git/refs{/sha}\",\n",
      "            \"trees_url\": \"https://api.github.com/repos/facebook/create-react-app/git/trees{/sha}\",\n",
      "            \"statuses_url\": \"https://api.github.com/repos/facebook/create-react-app/statuses/{sha}\",\n",
      "            \"languages_url\": \"https://api.github.com/repos/facebook/create-react-app/languages\",\n",
      "            \"stargazers_url\": \"https://api.github.com/repos/facebook/create-react-app/stargazers\",\n",
      "            \"contributors_url\": \"https://api.github.com/repos/facebook/create-react-app/contributors\",\n",
      "            \"subscribers_url\": \"https://api.github.com/repos/facebook/create-react-app/subscribers\",\n",
      "            \"subscription_url\": \"https://api.github.com/repos/facebook/create-react-app/subscription\",\n",
      "            \"commits_url\": \"https://api.github.com/repos/facebook/create-react-app/commits{/sha}\",\n",
      "            \"git_commits_url\": \"https://api.github.com/repos/facebook/create-react-app/git/commits{/sha}\",\n",
      "            \"comments_url\": \"https://api.github.com/repos/facebook/create-react-app/comments{/number}\",\n",
      "            \"issue_comment_url\": \"https://api.github.com/repos/facebook/create-react-app/issues/comments{/number}\",\n",
      "            \"contents_url\": \"https://api.github.com/repos/facebook/create-react-app/contents/{+path}\",\n",
      "            \"compare_url\": \"https://api.github.com/repos/facebook/create-react-app/compare/{base}...{head}\",\n",
      "            \"merges_url\": \"https://api.github.com/repos/facebook/create-react-app/merges\",\n",
      "            \"archive_url\": \"https://api.github.com/repos/facebook/create-react-app/{archive_format}{/ref}\",\n",
      "            \"downloads_url\": \"https://api.github.com/repos/facebook/create-react-app/downloads\",\n",
      "            \"issues_url\": \"https://api.github.com/repos/facebook/create-react-app/issues{/number}\",\n",
      "            \"pulls_url\": \"https://api.github.com/repos/facebook/create-react-app/pulls{/number}\",\n",
      "            \"milestones_url\": \"https://api.github.com/repos/facebook/create-react-app/milestones{/number}\",\n",
      "            \"notifications_url\": \"https://api.github.com/repos/facebook/create-react-app/notifications{?since,all,participating}\",\n",
      "            \"labels_url\": \"https://api.github.com/repos/facebook/create-react-app/labels{/name}\",\n",
      "            \"releases_url\": \"https://api.github.com/repos/facebook/create-react-app/releases{/id}\",\n",
      "            \"deployments_url\": \"https://api.github.com/repos/facebook/create-react-app/deployments\",\n",
      "            \"created_at\": \"2016-07-17T14:55:11Z\",\n",
      "            \"updated_at\": \"2023-11-15T21:08:38Z\",\n",
      "            \"pushed_at\": \"2023-11-12T16:38:44Z\",\n",
      "            \"git_url\": \"git://github.com/facebook/create-react-app.git\",\n",
      "            \"ssh_url\": \"git@github.com:facebook/create-react-app.git\",\n",
      "            \"clone_url\": \"https://github.com/facebook/create-react-app.git\",\n",
      "            \"svn_url\": \"https://github.com/facebook/create-react-app\",\n",
      "            \"homepage\": \"https://create-react-app.dev\",\n",
      "            \"size\": 25222,\n",
      "            \"stargazers_count\": 101065,\n",
      "            \"watchers_count\": 101065,\n",
      "            \"language\": \"JavaScript\",\n",
      "            \"has_issues\": true,\n",
      "            \"has_projects\": true,\n",
      "            \"has_downloads\": true,\n",
      "            \"has_wiki\": false,\n",
      "            \"has_pages\": true,\n",
      "            \"has_discussions\": true,\n",
      "            \"forks_count\": 26811,\n",
      "            \"mirror_url\": null,\n",
      "            \"archived\": false,\n",
      "            \"disabled\": false,\n",
      "            \"open_issues_count\": 2134,\n",
      "            \"license\": {\n",
      "                \"key\": \"mit\",\n",
      "                \"name\": \"MIT License\",\n",
      "                \"spdx_id\": \"MIT\",\n",
      "                \"url\": \"https://api.github.com/licenses/mit\",\n",
      "                \"node_id\": \"MDc6TGljZW5zZTEz\"\n",
      "            },\n",
      "            \"allow_forking\": true,\n",
      "            \"is_template\": false,\n",
      "            \"web_commit_signoff_required\": false,\n",
      "            \"topics\": [\n",
      "                \"build-tools\",\n",
      "                \"react\",\n",
      "                \"zero-configuration\"\n",
      "            ],\n",
      "            \"visibility\": \"public\",\n",
      "            \"forks\": 26811,\n",
      "            \"open_issues\": 2134,\n",
      "            \"watchers\": 101065,\n",
      "            \"default_branch\": \"main\",\n",
      "            \"score\": 1.0\n",
      "        },\n",
      "        {\n",
      "            \"id\": 27193779,\n",
      "            \"node_id\": \"MDEwOlJlcG9zaXRvcnkyNzE5Mzc3OQ==\",\n",
      "            \"name\": \"node\",\n",
      "            \"full_name\": \"nodejs/node\",\n",
      "            \"private\": false,\n",
      "            \"owner\": {\n",
      "                \"login\": \"nodejs\",\n",
      "                \"id\": 9950313,\n",
      "                \"node_id\": \"MDEyOk9yZ2FuaXphdGlvbjk5NTAzMTM=\",\n",
      "                \"avatar_url\": \"https://avatars.githubusercontent.com/u/9950313?v=4\",\n",
      "                \"gravatar_id\": \"\",\n",
      "                \"url\": \"https://api.github.com/users/nodejs\",\n",
      "                \"html_url\": \"https://github.com/nodejs\",\n",
      "                \"followers_url\": \"https://api.github.com/users/nodejs/followers\",\n",
      "                \"following_url\": \"https://api.github.com/users/nodejs/following{/other_user}\",\n",
      "                \"gists_url\": \"https://api.github.com/users/nodejs/gists{/gist_id}\",\n",
      "                \"starred_url\": \"https://api.github.com/users/nodejs/starred{/owner}{/repo}\",\n",
      "                \"subscriptions_url\": \"https://api.github.com/users/nodejs/subscriptions\",\n",
      "                \"organizations_url\": \"https://api.github.com/users/nodejs/orgs\",\n",
      "                \"repos_url\": \"https://api.github.com/users/nodejs/repos\",\n",
      "                \"events_url\": \"https://api.github.com/users/nodejs/events{/privacy}\",\n",
      "                \"received_events_url\": \"https://api.github.com/users/nodejs/received_events\",\n",
      "                \"type\": \"Organization\",\n",
      "                \"site_admin\": false\n",
      "            },\n",
      "            \"html_url\": \"https://github.com/nodejs/node\",\n",
      "            \"description\": \"Node.js JavaScript runtime :sparkles::turtle::rocket::sparkles:\",\n",
      "            \"fork\": false,\n",
      "            \"url\": \"https://api.github.com/repos/nodejs/node\",\n",
      "            \"forks_url\": \"https://api.github.com/repos/nodejs/node/forks\",\n",
      "            \"keys_url\": \"https://api.github.com/repos/nodejs/node/keys{/key_id}\",\n",
      "            \"collaborators_url\": \"https://api.github.com/repos/nodejs/node/collaborators{/collaborator}\",\n",
      "            \"teams_url\": \"https://api.github.com/repos/nodejs/node/teams\",\n",
      "            \"hooks_url\": \"https://api.github.com/repos/nodejs/node/hooks\",\n",
      "            \"issue_events_url\": \"https://api.github.com/repos/nodejs/node/issues/events{/number}\",\n",
      "            \"events_url\": \"https://api.github.com/repos/nodejs/node/events\",\n",
      "            \"assignees_url\": \"https://api.github.com/repos/nodejs/node/assignees{/user}\",\n",
      "            \"branches_url\": \"https://api.github.com/repos/nodejs/node/branches{/branch}\",\n",
      "            \"tags_url\": \"https://api.github.com/repos/nodejs/node/tags\",\n",
      "            \"blobs_url\": \"https://api.github.com/repos/nodejs/node/git/blobs{/sha}\",\n",
      "            \"git_tags_url\": \"https://api.github.com/repos/nodejs/node/git/tags{/sha}\",\n",
      "            \"git_refs_url\": \"https://api.github.com/repos/nodejs/node/git/refs{/sha}\",\n",
      "            \"trees_url\": \"https://api.github.com/repos/nodejs/node/git/trees{/sha}\",\n",
      "            \"statuses_url\": \"https://api.github.com/repos/nodejs/node/statuses/{sha}\",\n",
      "            \"languages_url\": \"https://api.github.com/repos/nodejs/node/languages\",\n",
      "            \"stargazers_url\": \"https://api.github.com/repos/nodejs/node/stargazers\",\n",
      "            \"contributors_url\": \"https://api.github.com/repos/nodejs/node/contributors\",\n",
      "            \"subscribers_url\": \"https://api.github.com/repos/nodejs/node/subscribers\",\n",
      "            \"subscription_url\": \"https://api.github.com/repos/nodejs/node/subscription\",\n",
      "            \"commits_url\": \"https://api.github.com/repos/nodejs/node/commits{/sha}\",\n",
      "            \"git_commits_url\": \"https://api.github.com/repos/nodejs/node/git/commits{/sha}\",\n",
      "            \"comments_url\": \"https://api.github.com/repos/nodejs/node/comments{/number}\",\n",
      "            \"issue_comment_url\": \"https://api.github.com/repos/nodejs/node/issues/comments{/number}\",\n",
      "            \"contents_url\": \"https://api.github.com/repos/nodejs/node/contents/{+path}\",\n",
      "            \"compare_url\": \"https://api.github.com/repos/nodejs/node/compare/{base}...{head}\",\n",
      "            \"merges_url\": \"https://api.github.com/repos/nodejs/node/merges\",\n",
      "            \"archive_url\": \"https://api.github.com/repos/nodejs/node/{archive_format}{/ref}\",\n",
      "            \"downloads_url\": \"https://api.github.com/repos/nodejs/node/downloads\",\n",
      "            \"issues_url\": \"https://api.github.com/repos/nodejs/node/issues{/number}\",\n",
      "            \"pulls_url\": \"https://api.github.com/repos/nodejs/node/pulls{/number}\",\n",
      "            \"milestones_url\": \"https://api.github.com/repos/nodejs/node/milestones{/number}\",\n",
      "            \"notifications_url\": \"https://api.github.com/repos/nodejs/node/notifications{?since,all,participating}\",\n",
      "            \"labels_url\": \"https://api.github.com/repos/nodejs/node/labels{/name}\",\n",
      "            \"releases_url\": \"https://api.github.com/repos/nodejs/node/releases{/id}\",\n",
      "            \"deployments_url\": \"https://api.github.com/repos/nodejs/node/deployments\",\n",
      "            \"created_at\": \"2014-11-26T19:57:11Z\",\n",
      "            \"updated_at\": \"2023-11-15T21:02:06Z\",\n",
      "            \"pushed_at\": \"2023-11-15T21:48:02Z\",\n",
      "            \"git_url\": \"git://github.com/nodejs/node.git\",\n",
      "            \"ssh_url\": \"git@github.com:nodejs/node.git\",\n",
      "            \"clone_url\": \"https://github.com/nodejs/node.git\",\n",
      "            \"svn_url\": \"https://github.com/nodejs/node\",\n",
      "            \"homepage\": \"https://nodejs.org\",\n",
      "            \"size\": 1135883,\n",
      "            \"stargazers_count\": 99364,\n",
      "            \"watchers_count\": 99364,\n",
      "            \"language\": \"JavaScript\",\n",
      "            \"has_issues\": true,\n",
      "            \"has_projects\": true,\n",
      "            \"has_downloads\": true,\n",
      "            \"has_wiki\": false,\n",
      "            \"has_pages\": false,\n",
      "            \"has_discussions\": true,\n",
      "            \"forks_count\": 27670,\n",
      "            \"mirror_url\": null,\n",
      "            \"archived\": false,\n",
      "            \"disabled\": false,\n",
      "            \"open_issues_count\": 1949,\n",
      "            \"license\": {\n",
      "                \"key\": \"other\",\n",
      "                \"name\": \"Other\",\n",
      "                \"spdx_id\": \"NOASSERTION\",\n",
      "                \"url\": null,\n",
      "                \"node_id\": \"MDc6TGljZW5zZTA=\"\n",
      "            },\n",
      "            \"allow_forking\": true,\n",
      "            \"is_template\": false,\n",
      "            \"web_commit_signoff_required\": false,\n",
      "            \"topics\": [\n",
      "                \"javascript\",\n",
      "                \"js\",\n",
      "                \"linux\",\n",
      "                \"macos\",\n",
      "                \"mit\",\n",
      "                \"node\",\n",
      "                \"nodejs\",\n",
      "                \"runtime\",\n",
      "                \"windows\"\n",
      "            ],\n",
      "            \"visibility\": \"public\",\n",
      "            \"forks\": 27670,\n",
      "            \"open_issues\": 1949,\n",
      "            \"watchers\": 99364,\n",
      "            \"default_branch\": \"main\",\n",
      "            \"score\": 1.0\n",
      "        },\n",
      "        {\n",
      "            \"id\": 576201,\n",
      "            \"node_id\": \"MDEwOlJlcG9zaXRvcnk1NzYyMDE=\",\n",
      "            \"name\": \"three.js\",\n",
      "            \"full_name\": \"mrdoob/three.js\",\n",
      "            \"private\": false,\n",
      "            \"owner\": {\n",
      "                \"login\": \"mrdoob\",\n",
      "                \"id\": 97088,\n",
      "                \"node_id\": \"MDQ6VXNlcjk3MDg4\",\n",
      "                \"avatar_url\": \"https://avatars.githubusercontent.com/u/97088?v=4\",\n",
      "                \"gravatar_id\": \"\",\n",
      "                \"url\": \"https://api.github.com/users/mrdoob\",\n",
      "                \"html_url\": \"https://github.com/mrdoob\",\n",
      "                \"followers_url\": \"https://api.github.com/users/mrdoob/followers\",\n",
      "                \"following_url\": \"https://api.github.com/users/mrdoob/following{/other_user}\",\n",
      "                \"gists_url\": \"https://api.github.com/users/mrdoob/gists{/gist_id}\",\n",
      "                \"starred_url\": \"https://api.github.com/users/mrdoob/starred{/owner}{/repo}\",\n",
      "                \"subscriptions_url\": \"https://api.github.com/users/mrdoob/subscriptions\",\n",
      "                \"organizations_url\": \"https://api.github.com/users/mrdoob/orgs\",\n",
      "                \"repos_url\": \"https://api.github.com/users/mrdoob/repos\",\n",
      "                \"events_url\": \"https://api.github.com/users/mrdoob/events{/privacy}\",\n",
      "                \"received_events_url\": \"https://api.github.com/users/mrdoob/received_events\",\n",
      "                \"type\": \"User\",\n",
      "                \"site_admin\": false\n",
      "            },\n",
      "            \"html_url\": \"https://github.com/mrdoob/three.js\",\n",
      "            \"description\": \"JavaScript 3D Library.\",\n",
      "            \"fork\": false,\n",
      "            \"url\": \"https://api.github.com/repos/mrdoob/three.js\",\n",
      "            \"forks_url\": \"https://api.github.com/repos/mrdoob/three.js/forks\",\n",
      "            \"keys_url\": \"https://api.github.com/repos/mrdoob/three.js/keys{/key_id}\",\n",
      "            \"collaborators_url\": \"https://api.github.com/repos/mrdoob/three.js/collaborators{/collaborator}\",\n",
      "            \"teams_url\": \"https://api.github.com/repos/mrdoob/three.js/teams\",\n",
      "            \"hooks_url\": \"https://api.github.com/repos/mrdoob/three.js/hooks\",\n",
      "            \"issue_events_url\": \"https://api.github.com/repos/mrdoob/three.js/issues/events{/number}\",\n",
      "            \"events_url\": \"https://api.github.com/repos/mrdoob/three.js/events\",\n",
      "            \"assignees_url\": \"https://api.github.com/repos/mrdoob/three.js/assignees{/user}\",\n",
      "            \"branches_url\": \"https://api.github.com/repos/mrdoob/three.js/branches{/branch}\",\n",
      "            \"tags_url\": \"https://api.github.com/repos/mrdoob/three.js/tags\",\n",
      "            \"blobs_url\": \"https://api.github.com/repos/mrdoob/three.js/git/blobs{/sha}\",\n",
      "            \"git_tags_url\": \"https://api.github.com/repos/mrdoob/three.js/git/tags{/sha}\",\n",
      "            \"git_refs_url\": \"https://api.github.com/repos/mrdoob/three.js/git/refs{/sha}\",\n",
      "            \"trees_url\": \"https://api.github.com/repos/mrdoob/three.js/git/trees{/sha}\",\n",
      "            \"statuses_url\": \"https://api.github.com/repos/mrdoob/three.js/statuses/{sha}\",\n",
      "            \"languages_url\": \"https://api.github.com/repos/mrdoob/three.js/languages\",\n",
      "            \"stargazers_url\": \"https://api.github.com/repos/mrdoob/three.js/stargazers\",\n",
      "            \"contributors_url\": \"https://api.github.com/repos/mrdoob/three.js/contributors\",\n",
      "            \"subscribers_url\": \"https://api.github.com/repos/mrdoob/three.js/subscribers\",\n",
      "            \"subscription_url\": \"https://api.github.com/repos/mrdoob/three.js/subscription\",\n",
      "            \"commits_url\": \"https://api.github.com/repos/mrdoob/three.js/commits{/sha}\",\n",
      "            \"git_commits_url\": \"https://api.github.com/repos/mrdoob/three.js/git/commits{/sha}\",\n",
      "            \"comments_url\": \"https://api.github.com/repos/mrdoob/three.js/comments{/number}\",\n",
      "            \"issue_comment_url\": \"https://api.github.com/repos/mrdoob/three.js/issues/comments{/number}\",\n",
      "            \"contents_url\": \"https://api.github.com/repos/mrdoob/three.js/contents/{+path}\",\n",
      "            \"compare_url\": \"https://api.github.com/repos/mrdoob/three.js/compare/{base}...{head}\",\n",
      "            \"merges_url\": \"https://api.github.com/repos/mrdoob/three.js/merges\",\n",
      "            \"archive_url\": \"https://api.github.com/repos/mrdoob/three.js/{archive_format}{/ref}\",\n",
      "            \"downloads_url\": \"https://api.github.com/repos/mrdoob/three.js/downloads\",\n",
      "            \"issues_url\": \"https://api.github.com/repos/mrdoob/three.js/issues{/number}\",\n",
      "            \"pulls_url\": \"https://api.github.com/repos/mrdoob/three.js/pulls{/number}\",\n",
      "            \"milestones_url\": \"https://api.github.com/repos/mrdoob/three.js/milestones{/number}\",\n",
      "            \"notifications_url\": \"https://api.github.com/repos/mrdoob/three.js/notifications{?since,all,participating}\",\n",
      "            \"labels_url\": \"https://api.github.com/repos/mrdoob/three.js/labels{/name}\",\n",
      "            \"releases_url\": \"https://api.github.com/repos/mrdoob/three.js/releases{/id}\",\n",
      "            \"deployments_url\": \"https://api.github.com/repos/mrdoob/three.js/deployments\",\n",
      "            \"created_at\": \"2010-03-23T18:58:01Z\",\n",
      "            \"updated_at\": \"2023-11-15T21:49:53Z\",\n",
      "            \"pushed_at\": \"2023-11-15T15:54:40Z\",\n",
      "            \"git_url\": \"git://github.com/mrdoob/three.js.git\",\n",
      "            \"ssh_url\": \"git@github.com:mrdoob/three.js.git\",\n",
      "            \"clone_url\": \"https://github.com/mrdoob/three.js.git\",\n",
      "            \"svn_url\": \"https://github.com/mrdoob/three.js\",\n",
      "            \"homepage\": \"https://threejs.org/\",\n",
      "            \"size\": 1315652,\n",
      "            \"stargazers_count\": 95626,\n",
      "            \"watchers_count\": 95626,\n",
      "            \"language\": \"JavaScript\",\n",
      "            \"has_issues\": true,\n",
      "            \"has_projects\": false,\n",
      "            \"has_downloads\": false,\n",
      "            \"has_wiki\": true,\n",
      "            \"has_pages\": true,\n",
      "            \"has_discussions\": false,\n",
      "            \"forks_count\": 35149,\n",
      "            \"mirror_url\": null,\n",
      "            \"archived\": false,\n",
      "            \"disabled\": false,\n",
      "            \"open_issues_count\": 512,\n",
      "            \"license\": {\n",
      "                \"key\": \"mit\",\n",
      "                \"name\": \"MIT License\",\n",
      "                \"spdx_id\": \"MIT\",\n",
      "                \"url\": \"https://api.github.com/licenses/mit\",\n",
      "                \"node_id\": \"MDc6TGljZW5zZTEz\"\n",
      "            },\n",
      "            \"allow_forking\": true,\n",
      "            \"is_template\": false,\n",
      "            \"web_commit_signoff_required\": false,\n",
      "            \"topics\": [\n",
      "                \"3d\",\n",
      "                \"augmented-reality\",\n",
      "                \"canvas\",\n",
      "                \"html5\",\n",
      "                \"javascript\",\n",
      "                \"svg\",\n",
      "                \"virtual-reality\",\n",
      "                \"webaudio\",\n",
      "                \"webgl\",\n",
      "                \"webgl2\",\n",
      "                \"webgpu\",\n",
      "                \"webxr\"\n",
      "            ],\n",
      "            \"visibility\": \"public\",\n",
      "            \"forks\": 35149,\n",
      "            \"open_issues\": 512,\n",
      "            \"watchers\": 95626,\n",
      "            \"default_branch\": \"dev\",\n",
      "            \"score\": 1.0\n",
      "        },\n",
      "        {\n",
      "            \"id\": 74791366,\n",
      "            \"node_id\": \"MDEwOlJlcG9zaXRvcnk3NDc5MTM2Ng==\",\n",
      "            \"name\": \"clean-code-javascript\",\n",
      "            \"full_name\": \"ryanmcdermott/clean-code-javascript\",\n",
      "            \"private\": false,\n",
      "            \"owner\": {\n",
      "                \"login\": \"ryanmcdermott\",\n",
      "                \"id\": 5114666,\n",
      "                \"node_id\": \"MDQ6VXNlcjUxMTQ2NjY=\",\n",
      "                \"avatar_url\": \"https://avatars.githubusercontent.com/u/5114666?v=4\",\n",
      "                \"gravatar_id\": \"\",\n",
      "                \"url\": \"https://api.github.com/users/ryanmcdermott\",\n",
      "                \"html_url\": \"https://github.com/ryanmcdermott\",\n",
      "                \"followers_url\": \"https://api.github.com/users/ryanmcdermott/followers\",\n",
      "                \"following_url\": \"https://api.github.com/users/ryanmcdermott/following{/other_user}\",\n",
      "                \"gists_url\": \"https://api.github.com/users/ryanmcdermott/gists{/gist_id}\",\n",
      "                \"starred_url\": \"https://api.github.com/users/ryanmcdermott/starred{/owner}{/repo}\",\n",
      "                \"subscriptions_url\": \"https://api.github.com/users/ryanmcdermott/subscriptions\",\n",
      "                \"organizations_url\": \"https://api.github.com/users/ryanmcdermott/orgs\",\n",
      "                \"repos_url\": \"https://api.github.com/users/ryanmcdermott/repos\",\n",
      "                \"events_url\": \"https://api.github.com/users/ryanmcdermott/events{/privacy}\",\n",
      "                \"received_events_url\": \"https://api.github.com/users/ryanmcdermott/received_events\",\n",
      "                \"type\": \"User\",\n",
      "                \"site_admin\": false\n",
      "            },\n",
      "            \"html_url\": \"https://github.com/ryanmcdermott/clean-code-javascript\",\n",
      "            \"description\": \":bathtub: Clean Code concepts adapted for JavaScript\",\n",
      "            \"fork\": false,\n",
      "            \"url\": \"https://api.github.com/repos/ryanmcdermott/clean-code-javascript\",\n",
      "            \"forks_url\": \"https://api.github.com/repos/ryanmcdermott/clean-code-javascript/forks\",\n",
      "            \"keys_url\": \"https://api.github.com/repos/ryanmcdermott/clean-code-javascript/keys{/key_id}\",\n",
      "            \"collaborators_url\": \"https://api.github.com/repos/ryanmcdermott/clean-code-javascript/collaborators{/collaborator}\",\n",
      "            \"teams_url\": \"https://api.github.com/repos/ryanmcdermott/clean-code-javascript/teams\",\n",
      "            \"hooks_url\": \"https://api.github.com/repos/ryanmcdermott/clean-code-javascript/hooks\",\n",
      "            \"issue_events_url\": \"https://api.github.com/repos/ryanmcdermott/clean-code-javascript/issues/events{/number}\",\n",
      "            \"events_url\": \"https://api.github.com/repos/ryanmcdermott/clean-code-javascript/events\",\n",
      "            \"assignees_url\": \"https://api.github.com/repos/ryanmcdermott/clean-code-javascript/assignees{/user}\",\n",
      "            \"branches_url\": \"https://api.github.com/repos/ryanmcdermott/clean-code-javascript/branches{/branch}\",\n",
      "            \"tags_url\": \"https://api.github.com/repos/ryanmcdermott/clean-code-javascript/tags\",\n",
      "            \"blobs_url\": \"https://api.github.com/repos/ryanmcdermott/clean-code-javascript/git/blobs{/sha}\",\n",
      "            \"git_tags_url\": \"https://api.github.com/repos/ryanmcdermott/clean-code-javascript/git/tags{/sha}\",\n",
      "            \"git_refs_url\": \"https://api.github.com/repos/ryanmcdermott/clean-code-javascript/git/refs{/sha}\",\n",
      "            \"trees_url\": \"https://api.github.com/repos/ryanmcdermott/clean-code-javascript/git/trees{/sha}\",\n",
      "            \"statuses_url\": \"https://api.github.com/repos/ryanmcdermott/clean-code-javascript/statuses/{sha}\",\n",
      "            \"languages_url\": \"https://api.github.com/repos/ryanmcdermott/clean-code-javascript/languages\",\n",
      "            \"stargazers_url\": \"https://api.github.com/repos/ryanmcdermott/clean-code-javascript/stargazers\",\n",
      "            \"contributors_url\": \"https://api.github.com/repos/ryanmcdermott/clean-code-javascript/contributors\",\n",
      "            \"subscribers_url\": \"https://api.github.com/repos/ryanmcdermott/clean-code-javascript/subscribers\",\n",
      "            \"subscription_url\": \"https://api.github.com/repos/ryanmcdermott/clean-code-javascript/subscription\",\n",
      "            \"commits_url\": \"https://api.github.com/repos/ryanmcdermott/clean-code-javascript/commits{/sha}\",\n",
      "            \"git_commits_url\": \"https://api.github.com/repos/ryanmcdermott/clean-code-javascript/git/commits{/sha}\",\n",
      "            \"comments_url\": \"https://api.github.com/repos/ryanmcdermott/clean-code-javascript/comments{/number}\",\n",
      "            \"issue_comment_url\": \"https://api.github.com/repos/ryanmcdermott/clean-code-javascript/issues/comments{/number}\",\n",
      "            \"contents_url\": \"https://api.github.com/repos/ryanmcdermott/clean-code-javascript/contents/{+path}\",\n",
      "            \"compare_url\": \"https://api.github.com/repos/ryanmcdermott/clean-code-javascript/compare/{base}...{head}\",\n",
      "            \"merges_url\": \"https://api.github.com/repos/ryanmcdermott/clean-code-javascript/merges\",\n",
      "            \"archive_url\": \"https://api.github.com/repos/ryanmcdermott/clean-code-javascript/{archive_format}{/ref}\",\n",
      "            \"downloads_url\": \"https://api.github.com/repos/ryanmcdermott/clean-code-javascript/downloads\",\n",
      "            \"issues_url\": \"https://api.github.com/repos/ryanmcdermott/clean-code-javascript/issues{/number}\",\n",
      "            \"pulls_url\": \"https://api.github.com/repos/ryanmcdermott/clean-code-javascript/pulls{/number}\",\n",
      "            \"milestones_url\": \"https://api.github.com/repos/ryanmcdermott/clean-code-javascript/milestones{/number}\",\n",
      "            \"notifications_url\": \"https://api.github.com/repos/ryanmcdermott/clean-code-javascript/notifications{?since,all,participating}\",\n",
      "            \"labels_url\": \"https://api.github.com/repos/ryanmcdermott/clean-code-javascript/labels{/name}\",\n",
      "            \"releases_url\": \"https://api.github.com/repos/ryanmcdermott/clean-code-javascript/releases{/id}\",\n",
      "            \"deployments_url\": \"https://api.github.com/repos/ryanmcdermott/clean-code-javascript/deployments\",\n",
      "            \"created_at\": \"2016-11-25T22:25:41Z\",\n",
      "            \"updated_at\": \"2023-11-15T18:15:43Z\",\n",
      "            \"pushed_at\": \"2023-10-03T07:21:04Z\",\n",
      "            \"git_url\": \"git://github.com/ryanmcdermott/clean-code-javascript.git\",\n",
      "            \"ssh_url\": \"git@github.com:ryanmcdermott/clean-code-javascript.git\",\n",
      "            \"clone_url\": \"https://github.com/ryanmcdermott/clean-code-javascript.git\",\n",
      "            \"svn_url\": \"https://github.com/ryanmcdermott/clean-code-javascript\",\n",
      "            \"homepage\": null,\n",
      "            \"size\": 520,\n",
      "            \"stargazers_count\": 86718,\n",
      "            \"watchers_count\": 86718,\n",
      "            \"language\": \"JavaScript\",\n",
      "            \"has_issues\": true,\n",
      "            \"has_projects\": true,\n",
      "            \"has_downloads\": true,\n",
      "            \"has_wiki\": true,\n",
      "            \"has_pages\": false,\n",
      "            \"has_discussions\": false,\n",
      "            \"forks_count\": 11781,\n",
      "            \"mirror_url\": null,\n",
      "            \"archived\": false,\n",
      "            \"disabled\": false,\n",
      "            \"open_issues_count\": 98,\n",
      "            \"license\": {\n",
      "                \"key\": \"mit\",\n",
      "                \"name\": \"MIT License\",\n",
      "                \"spdx_id\": \"MIT\",\n",
      "                \"url\": \"https://api.github.com/licenses/mit\",\n",
      "                \"node_id\": \"MDc6TGljZW5zZTEz\"\n",
      "            },\n",
      "            \"allow_forking\": true,\n",
      "            \"is_template\": false,\n",
      "            \"web_commit_signoff_required\": false,\n",
      "            \"topics\": [\n",
      "                \"best-practices\",\n",
      "                \"clean-architecture\",\n",
      "                \"clean-code\",\n",
      "                \"composition\",\n",
      "                \"inheritance\",\n",
      "                \"javascript\",\n",
      "                \"principles\"\n",
      "            ],\n",
      "            \"visibility\": \"public\",\n",
      "            \"forks\": 11781,\n",
      "            \"open_issues\": 98,\n",
      "            \"watchers\": 86718,\n",
      "            \"default_branch\": \"master\",\n",
      "            \"score\": 1.0\n",
      "        },\n",
      "        {\n",
      "            \"id\": 311525798,\n",
      "            \"node_id\": \"MDEwOlJlcG9zaXRvcnkzMTE1MjU3OTg=\",\n",
      "            \"name\": \"Web-Dev-For-Beginners\",\n",
      "            \"full_name\": \"microsoft/Web-Dev-For-Beginners\",\n",
      "            \"private\": false,\n",
      "            \"owner\": {\n",
      "                \"login\": \"microsoft\",\n",
      "                \"id\": 6154722,\n",
      "                \"node_id\": \"MDEyOk9yZ2FuaXphdGlvbjYxNTQ3MjI=\",\n",
      "                \"avatar_url\": \"https://avatars.githubusercontent.com/u/6154722?v=4\",\n",
      "                \"gravatar_id\": \"\",\n",
      "                \"url\": \"https://api.github.com/users/microsoft\",\n",
      "                \"html_url\": \"https://github.com/microsoft\",\n",
      "                \"followers_url\": \"https://api.github.com/users/microsoft/followers\",\n",
      "                \"following_url\": \"https://api.github.com/users/microsoft/following{/other_user}\",\n",
      "                \"gists_url\": \"https://api.github.com/users/microsoft/gists{/gist_id}\",\n",
      "                \"starred_url\": \"https://api.github.com/users/microsoft/starred{/owner}{/repo}\",\n",
      "                \"subscriptions_url\": \"https://api.github.com/users/microsoft/subscriptions\",\n",
      "                \"organizations_url\": \"https://api.github.com/users/microsoft/orgs\",\n",
      "                \"repos_url\": \"https://api.github.com/users/microsoft/repos\",\n",
      "                \"events_url\": \"https://api.github.com/users/microsoft/events{/privacy}\",\n",
      "                \"received_events_url\": \"https://api.github.com/users/microsoft/received_events\",\n",
      "                \"type\": \"Organization\",\n",
      "                \"site_admin\": false\n",
      "            },\n",
      "            \"html_url\": \"https://github.com/microsoft/Web-Dev-For-Beginners\",\n",
      "            \"description\": \"24 Lessons, 12 Weeks, Get Started as a Web Developer\",\n",
      "            \"fork\": false,\n",
      "            \"url\": \"https://api.github.com/repos/microsoft/Web-Dev-For-Beginners\",\n",
      "            \"forks_url\": \"https://api.github.com/repos/microsoft/Web-Dev-For-Beginners/forks\",\n",
      "            \"keys_url\": \"https://api.github.com/repos/microsoft/Web-Dev-For-Beginners/keys{/key_id}\",\n",
      "            \"collaborators_url\": \"https://api.github.com/repos/microsoft/Web-Dev-For-Beginners/collaborators{/collaborator}\",\n",
      "            \"teams_url\": \"https://api.github.com/repos/microsoft/Web-Dev-For-Beginners/teams\",\n",
      "            \"hooks_url\": \"https://api.github.com/repos/microsoft/Web-Dev-For-Beginners/hooks\",\n",
      "            \"issue_events_url\": \"https://api.github.com/repos/microsoft/Web-Dev-For-Beginners/issues/events{/number}\",\n",
      "            \"events_url\": \"https://api.github.com/repos/microsoft/Web-Dev-For-Beginners/events\",\n",
      "            \"assignees_url\": \"https://api.github.com/repos/microsoft/Web-Dev-For-Beginners/assignees{/user}\",\n",
      "            \"branches_url\": \"https://api.github.com/repos/microsoft/Web-Dev-For-Beginners/branches{/branch}\",\n",
      "            \"tags_url\": \"https://api.github.com/repos/microsoft/Web-Dev-For-Beginners/tags\",\n",
      "            \"blobs_url\": \"https://api.github.com/repos/microsoft/Web-Dev-For-Beginners/git/blobs{/sha}\",\n",
      "            \"git_tags_url\": \"https://api.github.com/repos/microsoft/Web-Dev-For-Beginners/git/tags{/sha}\",\n",
      "            \"git_refs_url\": \"https://api.github.com/repos/microsoft/Web-Dev-For-Beginners/git/refs{/sha}\",\n",
      "            \"trees_url\": \"https://api.github.com/repos/microsoft/Web-Dev-For-Beginners/git/trees{/sha}\",\n",
      "            \"statuses_url\": \"https://api.github.com/repos/microsoft/Web-Dev-For-Beginners/statuses/{sha}\",\n",
      "            \"languages_url\": \"https://api.github.com/repos/microsoft/Web-Dev-For-Beginners/languages\",\n",
      "            \"stargazers_url\": \"https://api.github.com/repos/microsoft/Web-Dev-For-Beginners/stargazers\",\n",
      "            \"contributors_url\": \"https://api.github.com/repos/microsoft/Web-Dev-For-Beginners/contributors\",\n",
      "            \"subscribers_url\": \"https://api.github.com/repos/microsoft/Web-Dev-For-Beginners/subscribers\",\n",
      "            \"subscription_url\": \"https://api.github.com/repos/microsoft/Web-Dev-For-Beginners/subscription\",\n",
      "            \"commits_url\": \"https://api.github.com/repos/microsoft/Web-Dev-For-Beginners/commits{/sha}\",\n",
      "            \"git_commits_url\": \"https://api.github.com/repos/microsoft/Web-Dev-For-Beginners/git/commits{/sha}\",\n",
      "            \"comments_url\": \"https://api.github.com/repos/microsoft/Web-Dev-For-Beginners/comments{/number}\",\n",
      "            \"issue_comment_url\": \"https://api.github.com/repos/microsoft/Web-Dev-For-Beginners/issues/comments{/number}\",\n",
      "            \"contents_url\": \"https://api.github.com/repos/microsoft/Web-Dev-For-Beginners/contents/{+path}\",\n",
      "            \"compare_url\": \"https://api.github.com/repos/microsoft/Web-Dev-For-Beginners/compare/{base}...{head}\",\n",
      "            \"merges_url\": \"https://api.github.com/repos/microsoft/Web-Dev-For-Beginners/merges\",\n",
      "            \"archive_url\": \"https://api.github.com/repos/microsoft/Web-Dev-For-Beginners/{archive_format}{/ref}\",\n",
      "            \"downloads_url\": \"https://api.github.com/repos/microsoft/Web-Dev-For-Beginners/downloads\",\n",
      "            \"issues_url\": \"https://api.github.com/repos/microsoft/Web-Dev-For-Beginners/issues{/number}\",\n",
      "            \"pulls_url\": \"https://api.github.com/repos/microsoft/Web-Dev-For-Beginners/pulls{/number}\",\n",
      "            \"milestones_url\": \"https://api.github.com/repos/microsoft/Web-Dev-For-Beginners/milestones{/number}\",\n",
      "            \"notifications_url\": \"https://api.github.com/repos/microsoft/Web-Dev-For-Beginners/notifications{?since,all,participating}\",\n",
      "            \"labels_url\": \"https://api.github.com/repos/microsoft/Web-Dev-For-Beginners/labels{/name}\",\n",
      "            \"releases_url\": \"https://api.github.com/repos/microsoft/Web-Dev-For-Beginners/releases{/id}\",\n",
      "            \"deployments_url\": \"https://api.github.com/repos/microsoft/Web-Dev-For-Beginners/deployments\",\n",
      "            \"created_at\": \"2020-11-10T02:44:00Z\",\n",
      "            \"updated_at\": \"2023-11-15T21:41:37Z\",\n",
      "            \"pushed_at\": \"2023-11-15T01:00:19Z\",\n",
      "            \"git_url\": \"git://github.com/microsoft/Web-Dev-For-Beginners.git\",\n",
      "            \"ssh_url\": \"git@github.com:microsoft/Web-Dev-For-Beginners.git\",\n",
      "            \"clone_url\": \"https://github.com/microsoft/Web-Dev-For-Beginners.git\",\n",
      "            \"svn_url\": \"https://github.com/microsoft/Web-Dev-For-Beginners\",\n",
      "            \"homepage\": \"https://microsoft.github.io/Web-Dev-For-Beginners/\",\n",
      "            \"size\": 86696,\n",
      "            \"stargazers_count\": 78209,\n",
      "            \"watchers_count\": 78209,\n",
      "            \"language\": \"JavaScript\",\n",
      "            \"has_issues\": true,\n",
      "            \"has_projects\": false,\n",
      "            \"has_downloads\": true,\n",
      "            \"has_wiki\": true,\n",
      "            \"has_pages\": true,\n",
      "            \"has_discussions\": true,\n",
      "            \"forks_count\": 12038,\n",
      "            \"mirror_url\": null,\n",
      "            \"archived\": false,\n",
      "            \"disabled\": false,\n",
      "            \"open_issues_count\": 74,\n",
      "            \"license\": {\n",
      "                \"key\": \"mit\",\n",
      "                \"name\": \"MIT License\",\n",
      "                \"spdx_id\": \"MIT\",\n",
      "                \"url\": \"https://api.github.com/licenses/mit\",\n",
      "                \"node_id\": \"MDc6TGljZW5zZTEz\"\n",
      "            },\n",
      "            \"allow_forking\": true,\n",
      "            \"is_template\": true,\n",
      "            \"web_commit_signoff_required\": false,\n",
      "            \"topics\": [\n",
      "                \"css\",\n",
      "                \"curriculum\",\n",
      "                \"education\",\n",
      "                \"html\",\n",
      "                \"javascript\",\n",
      "                \"learning\",\n",
      "                \"tutorials\"\n",
      "            ],\n",
      "            \"visibility\": \"public\",\n",
      "            \"forks\": 12038,\n",
      "            \"open_issues\": 74,\n",
      "            \"watchers\": 78209,\n",
      "            \"default_branch\": \"main\",\n",
      "            \"score\": 1.0\n",
      "        },\n",
      "        {\n",
      "            \"id\": 74293321,\n",
      "            \"node_id\": \"MDEwOlJlcG9zaXRvcnk3NDI5MzMyMQ==\",\n",
      "            \"name\": \"svelte\",\n",
      "            \"full_name\": \"sveltejs/svelte\",\n",
      "            \"private\": false,\n",
      "            \"owner\": {\n",
      "                \"login\": \"sveltejs\",\n",
      "                \"id\": 23617963,\n",
      "                \"node_id\": \"MDEyOk9yZ2FuaXphdGlvbjIzNjE3OTYz\",\n",
      "                \"avatar_url\": \"https://avatars.githubusercontent.com/u/23617963?v=4\",\n",
      "                \"gravatar_id\": \"\",\n",
      "                \"url\": \"https://api.github.com/users/sveltejs\",\n",
      "                \"html_url\": \"https://github.com/sveltejs\",\n",
      "                \"followers_url\": \"https://api.github.com/users/sveltejs/followers\",\n",
      "                \"following_url\": \"https://api.github.com/users/sveltejs/following{/other_user}\",\n",
      "                \"gists_url\": \"https://api.github.com/users/sveltejs/gists{/gist_id}\",\n",
      "                \"starred_url\": \"https://api.github.com/users/sveltejs/starred{/owner}{/repo}\",\n",
      "                \"subscriptions_url\": \"https://api.github.com/users/sveltejs/subscriptions\",\n",
      "                \"organizations_url\": \"https://api.github.com/users/sveltejs/orgs\",\n",
      "                \"repos_url\": \"https://api.github.com/users/sveltejs/repos\",\n",
      "                \"events_url\": \"https://api.github.com/users/sveltejs/events{/privacy}\",\n",
      "                \"received_events_url\": \"https://api.github.com/users/sveltejs/received_events\",\n",
      "                \"type\": \"Organization\",\n",
      "                \"site_admin\": false\n",
      "            },\n",
      "            \"html_url\": \"https://github.com/sveltejs/svelte\",\n",
      "            \"description\": \"Cybernetically enhanced web apps\",\n",
      "            \"fork\": false,\n",
      "            \"url\": \"https://api.github.com/repos/sveltejs/svelte\",\n",
      "            \"forks_url\": \"https://api.github.com/repos/sveltejs/svelte/forks\",\n",
      "            \"keys_url\": \"https://api.github.com/repos/sveltejs/svelte/keys{/key_id}\",\n",
      "            \"collaborators_url\": \"https://api.github.com/repos/sveltejs/svelte/collaborators{/collaborator}\",\n",
      "            \"teams_url\": \"https://api.github.com/repos/sveltejs/svelte/teams\",\n",
      "            \"hooks_url\": \"https://api.github.com/repos/sveltejs/svelte/hooks\",\n",
      "            \"issue_events_url\": \"https://api.github.com/repos/sveltejs/svelte/issues/events{/number}\",\n",
      "            \"events_url\": \"https://api.github.com/repos/sveltejs/svelte/events\",\n",
      "            \"assignees_url\": \"https://api.github.com/repos/sveltejs/svelte/assignees{/user}\",\n",
      "            \"branches_url\": \"https://api.github.com/repos/sveltejs/svelte/branches{/branch}\",\n",
      "            \"tags_url\": \"https://api.github.com/repos/sveltejs/svelte/tags\",\n",
      "            \"blobs_url\": \"https://api.github.com/repos/sveltejs/svelte/git/blobs{/sha}\",\n",
      "            \"git_tags_url\": \"https://api.github.com/repos/sveltejs/svelte/git/tags{/sha}\",\n",
      "            \"git_refs_url\": \"https://api.github.com/repos/sveltejs/svelte/git/refs{/sha}\",\n",
      "            \"trees_url\": \"https://api.github.com/repos/sveltejs/svelte/git/trees{/sha}\",\n",
      "            \"statuses_url\": \"https://api.github.com/repos/sveltejs/svelte/statuses/{sha}\",\n",
      "            \"languages_url\": \"https://api.github.com/repos/sveltejs/svelte/languages\",\n",
      "            \"stargazers_url\": \"https://api.github.com/repos/sveltejs/svelte/stargazers\",\n",
      "            \"contributors_url\": \"https://api.github.com/repos/sveltejs/svelte/contributors\",\n",
      "            \"subscribers_url\": \"https://api.github.com/repos/sveltejs/svelte/subscribers\",\n",
      "            \"subscription_url\": \"https://api.github.com/repos/sveltejs/svelte/subscription\",\n",
      "            \"commits_url\": \"https://api.github.com/repos/sveltejs/svelte/commits{/sha}\",\n",
      "            \"git_commits_url\": \"https://api.github.com/repos/sveltejs/svelte/git/commits{/sha}\",\n",
      "            \"comments_url\": \"https://api.github.com/repos/sveltejs/svelte/comments{/number}\",\n",
      "            \"issue_comment_url\": \"https://api.github.com/repos/sveltejs/svelte/issues/comments{/number}\",\n",
      "            \"contents_url\": \"https://api.github.com/repos/sveltejs/svelte/contents/{+path}\",\n",
      "            \"compare_url\": \"https://api.github.com/repos/sveltejs/svelte/compare/{base}...{head}\",\n",
      "            \"merges_url\": \"https://api.github.com/repos/sveltejs/svelte/merges\",\n",
      "            \"archive_url\": \"https://api.github.com/repos/sveltejs/svelte/{archive_format}{/ref}\",\n",
      "            \"downloads_url\": \"https://api.github.com/repos/sveltejs/svelte/downloads\",\n",
      "            \"issues_url\": \"https://api.github.com/repos/sveltejs/svelte/issues{/number}\",\n",
      "            \"pulls_url\": \"https://api.github.com/repos/sveltejs/svelte/pulls{/number}\",\n",
      "            \"milestones_url\": \"https://api.github.com/repos/sveltejs/svelte/milestones{/number}\",\n",
      "            \"notifications_url\": \"https://api.github.com/repos/sveltejs/svelte/notifications{?since,all,participating}\",\n",
      "            \"labels_url\": \"https://api.github.com/repos/sveltejs/svelte/labels{/name}\",\n",
      "            \"releases_url\": \"https://api.github.com/repos/sveltejs/svelte/releases{/id}\",\n",
      "            \"deployments_url\": \"https://api.github.com/repos/sveltejs/svelte/deployments\",\n",
      "            \"created_at\": \"2016-11-20T18:13:05Z\",\n",
      "            \"updated_at\": \"2023-11-15T21:56:33Z\",\n",
      "            \"pushed_at\": \"2023-11-15T21:25:17Z\",\n",
      "            \"git_url\": \"git://github.com/sveltejs/svelte.git\",\n",
      "            \"ssh_url\": \"git@github.com:sveltejs/svelte.git\",\n",
      "            \"clone_url\": \"https://github.com/sveltejs/svelte.git\",\n",
      "            \"svn_url\": \"https://github.com/sveltejs/svelte\",\n",
      "            \"homepage\": \"https://svelte.dev\",\n",
      "            \"size\": 99738,\n",
      "            \"stargazers_count\": 73792,\n",
      "            \"watchers_count\": 73792,\n",
      "            \"language\": \"JavaScript\",\n",
      "            \"has_issues\": true,\n",
      "            \"has_projects\": true,\n",
      "            \"has_downloads\": true,\n",
      "            \"has_wiki\": true,\n",
      "            \"has_pages\": false,\n",
      "            \"has_discussions\": false,\n",
      "            \"forks_count\": 4109,\n",
      "            \"mirror_url\": null,\n",
      "            \"archived\": false,\n",
      "            \"disabled\": false,\n",
      "            \"open_issues_count\": 906,\n",
      "            \"license\": {\n",
      "                \"key\": \"mit\",\n",
      "                \"name\": \"MIT License\",\n",
      "                \"spdx_id\": \"MIT\",\n",
      "                \"url\": \"https://api.github.com/licenses/mit\",\n",
      "                \"node_id\": \"MDc6TGljZW5zZTEz\"\n",
      "            },\n",
      "            \"allow_forking\": true,\n",
      "            \"is_template\": false,\n",
      "            \"web_commit_signoff_required\": false,\n",
      "            \"topics\": [\n",
      "                \"compiler\",\n",
      "                \"template\",\n",
      "                \"ui\"\n",
      "            ],\n",
      "            \"visibility\": \"public\",\n",
      "            \"forks\": 4109,\n",
      "            \"open_issues\": 906,\n",
      "            \"watchers\": 73792,\n",
      "            \"default_branch\": \"main\",\n",
      "            \"score\": 1.0\n",
      "        },\n",
      "        {\n",
      "            \"id\": 3470471,\n",
      "            \"node_id\": \"MDEwOlJlcG9zaXRvcnkzNDcwNDcx\",\n",
      "            \"name\": \"Font-Awesome\",\n",
      "            \"full_name\": \"FortAwesome/Font-Awesome\",\n",
      "            \"private\": false,\n",
      "            \"owner\": {\n",
      "                \"login\": \"FortAwesome\",\n",
      "                \"id\": 1505683,\n",
      "                \"node_id\": \"MDEyOk9yZ2FuaXphdGlvbjE1MDU2ODM=\",\n",
      "                \"avatar_url\": \"https://avatars.githubusercontent.com/u/1505683?v=4\",\n",
      "                \"gravatar_id\": \"\",\n",
      "                \"url\": \"https://api.github.com/users/FortAwesome\",\n",
      "                \"html_url\": \"https://github.com/FortAwesome\",\n",
      "                \"followers_url\": \"https://api.github.com/users/FortAwesome/followers\",\n",
      "                \"following_url\": \"https://api.github.com/users/FortAwesome/following{/other_user}\",\n",
      "                \"gists_url\": \"https://api.github.com/users/FortAwesome/gists{/gist_id}\",\n",
      "                \"starred_url\": \"https://api.github.com/users/FortAwesome/starred{/owner}{/repo}\",\n",
      "                \"subscriptions_url\": \"https://api.github.com/users/FortAwesome/subscriptions\",\n",
      "                \"organizations_url\": \"https://api.github.com/users/FortAwesome/orgs\",\n",
      "                \"repos_url\": \"https://api.github.com/users/FortAwesome/repos\",\n",
      "                \"events_url\": \"https://api.github.com/users/FortAwesome/events{/privacy}\",\n",
      "                \"received_events_url\": \"https://api.github.com/users/FortAwesome/received_events\",\n",
      "                \"type\": \"Organization\",\n",
      "                \"site_admin\": false\n",
      "            },\n",
      "            \"html_url\": \"https://github.com/FortAwesome/Font-Awesome\",\n",
      "            \"description\": \"The iconic SVG, font, and CSS toolkit\",\n",
      "            \"fork\": false,\n",
      "            \"url\": \"https://api.github.com/repos/FortAwesome/Font-Awesome\",\n",
      "            \"forks_url\": \"https://api.github.com/repos/FortAwesome/Font-Awesome/forks\",\n",
      "            \"keys_url\": \"https://api.github.com/repos/FortAwesome/Font-Awesome/keys{/key_id}\",\n",
      "            \"collaborators_url\": \"https://api.github.com/repos/FortAwesome/Font-Awesome/collaborators{/collaborator}\",\n",
      "            \"teams_url\": \"https://api.github.com/repos/FortAwesome/Font-Awesome/teams\",\n",
      "            \"hooks_url\": \"https://api.github.com/repos/FortAwesome/Font-Awesome/hooks\",\n",
      "            \"issue_events_url\": \"https://api.github.com/repos/FortAwesome/Font-Awesome/issues/events{/number}\",\n",
      "            \"events_url\": \"https://api.github.com/repos/FortAwesome/Font-Awesome/events\",\n",
      "            \"assignees_url\": \"https://api.github.com/repos/FortAwesome/Font-Awesome/assignees{/user}\",\n",
      "            \"branches_url\": \"https://api.github.com/repos/FortAwesome/Font-Awesome/branches{/branch}\",\n",
      "            \"tags_url\": \"https://api.github.com/repos/FortAwesome/Font-Awesome/tags\",\n",
      "            \"blobs_url\": \"https://api.github.com/repos/FortAwesome/Font-Awesome/git/blobs{/sha}\",\n",
      "            \"git_tags_url\": \"https://api.github.com/repos/FortAwesome/Font-Awesome/git/tags{/sha}\",\n",
      "            \"git_refs_url\": \"https://api.github.com/repos/FortAwesome/Font-Awesome/git/refs{/sha}\",\n",
      "            \"trees_url\": \"https://api.github.com/repos/FortAwesome/Font-Awesome/git/trees{/sha}\",\n",
      "            \"statuses_url\": \"https://api.github.com/repos/FortAwesome/Font-Awesome/statuses/{sha}\",\n",
      "            \"languages_url\": \"https://api.github.com/repos/FortAwesome/Font-Awesome/languages\",\n",
      "            \"stargazers_url\": \"https://api.github.com/repos/FortAwesome/Font-Awesome/stargazers\",\n",
      "            \"contributors_url\": \"https://api.github.com/repos/FortAwesome/Font-Awesome/contributors\",\n",
      "            \"subscribers_url\": \"https://api.github.com/repos/FortAwesome/Font-Awesome/subscribers\",\n",
      "            \"subscription_url\": \"https://api.github.com/repos/FortAwesome/Font-Awesome/subscription\",\n",
      "            \"commits_url\": \"https://api.github.com/repos/FortAwesome/Font-Awesome/commits{/sha}\",\n",
      "            \"git_commits_url\": \"https://api.github.com/repos/FortAwesome/Font-Awesome/git/commits{/sha}\",\n",
      "            \"comments_url\": \"https://api.github.com/repos/FortAwesome/Font-Awesome/comments{/number}\",\n",
      "            \"issue_comment_url\": \"https://api.github.com/repos/FortAwesome/Font-Awesome/issues/comments{/number}\",\n",
      "            \"contents_url\": \"https://api.github.com/repos/FortAwesome/Font-Awesome/contents/{+path}\",\n",
      "            \"compare_url\": \"https://api.github.com/repos/FortAwesome/Font-Awesome/compare/{base}...{head}\",\n",
      "            \"merges_url\": \"https://api.github.com/repos/FortAwesome/Font-Awesome/merges\",\n",
      "            \"archive_url\": \"https://api.github.com/repos/FortAwesome/Font-Awesome/{archive_format}{/ref}\",\n",
      "            \"downloads_url\": \"https://api.github.com/repos/FortAwesome/Font-Awesome/downloads\",\n",
      "            \"issues_url\": \"https://api.github.com/repos/FortAwesome/Font-Awesome/issues{/number}\",\n",
      "            \"pulls_url\": \"https://api.github.com/repos/FortAwesome/Font-Awesome/pulls{/number}\",\n",
      "            \"milestones_url\": \"https://api.github.com/repos/FortAwesome/Font-Awesome/milestones{/number}\",\n",
      "            \"notifications_url\": \"https://api.github.com/repos/FortAwesome/Font-Awesome/notifications{?since,all,participating}\",\n",
      "            \"labels_url\": \"https://api.github.com/repos/FortAwesome/Font-Awesome/labels{/name}\",\n",
      "            \"releases_url\": \"https://api.github.com/repos/FortAwesome/Font-Awesome/releases{/id}\",\n",
      "            \"deployments_url\": \"https://api.github.com/repos/FortAwesome/Font-Awesome/deployments\",\n",
      "            \"created_at\": \"2012-02-17T14:19:43Z\",\n",
      "            \"updated_at\": \"2023-11-15T19:55:36Z\",\n",
      "            \"pushed_at\": \"2023-10-23T18:55:12Z\",\n",
      "            \"git_url\": \"git://github.com/FortAwesome/Font-Awesome.git\",\n",
      "            \"ssh_url\": \"git@github.com:FortAwesome/Font-Awesome.git\",\n",
      "            \"clone_url\": \"https://github.com/FortAwesome/Font-Awesome.git\",\n",
      "            \"svn_url\": \"https://github.com/FortAwesome/Font-Awesome\",\n",
      "            \"homepage\": \"https://fontawesome.com\",\n",
      "            \"size\": 113403,\n",
      "            \"stargazers_count\": 72439,\n",
      "            \"watchers_count\": 72439,\n",
      "            \"language\": \"JavaScript\",\n",
      "            \"has_issues\": true,\n",
      "            \"has_projects\": true,\n",
      "            \"has_downloads\": true,\n",
      "            \"has_wiki\": true,\n",
      "            \"has_pages\": false,\n",
      "            \"has_discussions\": true,\n",
      "            \"forks_count\": 12454,\n",
      "            \"mirror_url\": null,\n",
      "            \"archived\": false,\n",
      "            \"disabled\": false,\n",
      "            \"open_issues_count\": 5456,\n",
      "            \"license\": {\n",
      "                \"key\": \"other\",\n",
      "                \"name\": \"Other\",\n",
      "                \"spdx_id\": \"NOASSERTION\",\n",
      "                \"url\": null,\n",
      "                \"node_id\": \"MDc6TGljZW5zZTA=\"\n",
      "            },\n",
      "            \"allow_forking\": true,\n",
      "            \"is_template\": false,\n",
      "            \"web_commit_signoff_required\": false,\n",
      "            \"topics\": [\n",
      "                \"css\",\n",
      "                \"font\",\n",
      "                \"fontawesome\",\n",
      "                \"icons\",\n",
      "                \"svg-icons\",\n",
      "                \"svg-sprites\",\n",
      "                \"webfont\"\n",
      "            ],\n",
      "            \"visibility\": \"public\",\n",
      "            \"forks\": 12454,\n",
      "            \"open_issues\": 5456,\n",
      "            \"watchers\": 72439,\n",
      "            \"default_branch\": \"6.x\",\n",
      "            \"score\": 1.0\n",
      "        },\n",
      "        {\n",
      "            \"id\": 157616880,\n",
      "            \"node_id\": \"MDEwOlJlcG9zaXRvcnkxNTc2MTY4ODA=\",\n",
      "            \"name\": \"iptv\",\n",
      "            \"full_name\": \"iptv-org/iptv\",\n",
      "            \"private\": false,\n",
      "            \"owner\": {\n",
      "                \"login\": \"iptv-org\",\n",
      "                \"id\": 55937028,\n",
      "                \"node_id\": \"MDEyOk9yZ2FuaXphdGlvbjU1OTM3MDI4\",\n",
      "                \"avatar_url\": \"https://avatars.githubusercontent.com/u/55937028?v=4\",\n",
      "                \"gravatar_id\": \"\",\n",
      "                \"url\": \"https://api.github.com/users/iptv-org\",\n",
      "                \"html_url\": \"https://github.com/iptv-org\",\n",
      "                \"followers_url\": \"https://api.github.com/users/iptv-org/followers\",\n",
      "                \"following_url\": \"https://api.github.com/users/iptv-org/following{/other_user}\",\n",
      "                \"gists_url\": \"https://api.github.com/users/iptv-org/gists{/gist_id}\",\n",
      "                \"starred_url\": \"https://api.github.com/users/iptv-org/starred{/owner}{/repo}\",\n",
      "                \"subscriptions_url\": \"https://api.github.com/users/iptv-org/subscriptions\",\n",
      "                \"organizations_url\": \"https://api.github.com/users/iptv-org/orgs\",\n",
      "                \"repos_url\": \"https://api.github.com/users/iptv-org/repos\",\n",
      "                \"events_url\": \"https://api.github.com/users/iptv-org/events{/privacy}\",\n",
      "                \"received_events_url\": \"https://api.github.com/users/iptv-org/received_events\",\n",
      "                \"type\": \"Organization\",\n",
      "                \"site_admin\": false\n",
      "            },\n",
      "            \"html_url\": \"https://github.com/iptv-org/iptv\",\n",
      "            \"description\": \"Collection of publicly available IPTV channels from all over the world\",\n",
      "            \"fork\": false,\n",
      "            \"url\": \"https://api.github.com/repos/iptv-org/iptv\",\n",
      "            \"forks_url\": \"https://api.github.com/repos/iptv-org/iptv/forks\",\n",
      "            \"keys_url\": \"https://api.github.com/repos/iptv-org/iptv/keys{/key_id}\",\n",
      "            \"collaborators_url\": \"https://api.github.com/repos/iptv-org/iptv/collaborators{/collaborator}\",\n",
      "            \"teams_url\": \"https://api.github.com/repos/iptv-org/iptv/teams\",\n",
      "            \"hooks_url\": \"https://api.github.com/repos/iptv-org/iptv/hooks\",\n",
      "            \"issue_events_url\": \"https://api.github.com/repos/iptv-org/iptv/issues/events{/number}\",\n",
      "            \"events_url\": \"https://api.github.com/repos/iptv-org/iptv/events\",\n",
      "            \"assignees_url\": \"https://api.github.com/repos/iptv-org/iptv/assignees{/user}\",\n",
      "            \"branches_url\": \"https://api.github.com/repos/iptv-org/iptv/branches{/branch}\",\n",
      "            \"tags_url\": \"https://api.github.com/repos/iptv-org/iptv/tags\",\n",
      "            \"blobs_url\": \"https://api.github.com/repos/iptv-org/iptv/git/blobs{/sha}\",\n",
      "            \"git_tags_url\": \"https://api.github.com/repos/iptv-org/iptv/git/tags{/sha}\",\n",
      "            \"git_refs_url\": \"https://api.github.com/repos/iptv-org/iptv/git/refs{/sha}\",\n",
      "            \"trees_url\": \"https://api.github.com/repos/iptv-org/iptv/git/trees{/sha}\",\n",
      "            \"statuses_url\": \"https://api.github.com/repos/iptv-org/iptv/statuses/{sha}\",\n",
      "            \"languages_url\": \"https://api.github.com/repos/iptv-org/iptv/languages\",\n",
      "            \"stargazers_url\": \"https://api.github.com/repos/iptv-org/iptv/stargazers\",\n",
      "            \"contributors_url\": \"https://api.github.com/repos/iptv-org/iptv/contributors\",\n",
      "            \"subscribers_url\": \"https://api.github.com/repos/iptv-org/iptv/subscribers\",\n",
      "            \"subscription_url\": \"https://api.github.com/repos/iptv-org/iptv/subscription\",\n",
      "            \"commits_url\": \"https://api.github.com/repos/iptv-org/iptv/commits{/sha}\",\n",
      "            \"git_commits_url\": \"https://api.github.com/repos/iptv-org/iptv/git/commits{/sha}\",\n",
      "            \"comments_url\": \"https://api.github.com/repos/iptv-org/iptv/comments{/number}\",\n",
      "            \"issue_comment_url\": \"https://api.github.com/repos/iptv-org/iptv/issues/comments{/number}\",\n",
      "            \"contents_url\": \"https://api.github.com/repos/iptv-org/iptv/contents/{+path}\",\n",
      "            \"compare_url\": \"https://api.github.com/repos/iptv-org/iptv/compare/{base}...{head}\",\n",
      "            \"merges_url\": \"https://api.github.com/repos/iptv-org/iptv/merges\",\n",
      "            \"archive_url\": \"https://api.github.com/repos/iptv-org/iptv/{archive_format}{/ref}\",\n",
      "            \"downloads_url\": \"https://api.github.com/repos/iptv-org/iptv/downloads\",\n",
      "            \"issues_url\": \"https://api.github.com/repos/iptv-org/iptv/issues{/number}\",\n",
      "            \"pulls_url\": \"https://api.github.com/repos/iptv-org/iptv/pulls{/number}\",\n",
      "            \"milestones_url\": \"https://api.github.com/repos/iptv-org/iptv/milestones{/number}\",\n",
      "            \"notifications_url\": \"https://api.github.com/repos/iptv-org/iptv/notifications{?since,all,participating}\",\n",
      "            \"labels_url\": \"https://api.github.com/repos/iptv-org/iptv/labels{/name}\",\n",
      "            \"releases_url\": \"https://api.github.com/repos/iptv-org/iptv/releases{/id}\",\n",
      "            \"deployments_url\": \"https://api.github.com/repos/iptv-org/iptv/deployments\",\n",
      "            \"created_at\": \"2018-11-14T22:00:57Z\",\n",
      "            \"updated_at\": \"2023-11-15T20:30:17Z\",\n",
      "            \"pushed_at\": \"2023-11-15T16:19:16Z\",\n",
      "            \"git_url\": \"git://github.com/iptv-org/iptv.git\",\n",
      "            \"ssh_url\": \"git@github.com:iptv-org/iptv.git\",\n",
      "            \"clone_url\": \"https://github.com/iptv-org/iptv.git\",\n",
      "            \"svn_url\": \"https://github.com/iptv-org/iptv\",\n",
      "            \"homepage\": \"\",\n",
      "            \"size\": 388606,\n",
      "            \"stargazers_count\": 70557,\n",
      "            \"watchers_count\": 70557,\n",
      "            \"language\": \"JavaScript\",\n",
      "            \"has_issues\": true,\n",
      "            \"has_projects\": false,\n",
      "            \"has_downloads\": true,\n",
      "            \"has_wiki\": false,\n",
      "            \"has_pages\": true,\n",
      "            \"has_discussions\": false,\n",
      "            \"forks_count\": 961,\n",
      "            \"mirror_url\": null,\n",
      "            \"archived\": false,\n",
      "            \"disabled\": false,\n",
      "            \"open_issues_count\": 9,\n",
      "            \"license\": {\n",
      "                \"key\": \"unlicense\",\n",
      "                \"name\": \"The Unlicense\",\n",
      "                \"spdx_id\": \"Unlicense\",\n",
      "                \"url\": \"https://api.github.com/licenses/unlicense\",\n",
      "                \"node_id\": \"MDc6TGljZW5zZTE1\"\n",
      "            },\n",
      "            \"allow_forking\": true,\n",
      "            \"is_template\": false,\n",
      "            \"web_commit_signoff_required\": false,\n",
      "            \"topics\": [\n",
      "                \"iptv\",\n",
      "                \"m3u\",\n",
      "                \"playlist\",\n",
      "                \"streams\",\n",
      "                \"tv\"\n",
      "            ],\n",
      "            \"visibility\": \"public\",\n",
      "            \"forks\": 961,\n",
      "            \"open_issues\": 9,\n",
      "            \"watchers\": 70557,\n",
      "            \"default_branch\": \"master\",\n",
      "            \"score\": 1.0\n",
      "        },\n",
      "        {\n",
      "            \"id\": 14747598,\n",
      "            \"node_id\": \"MDEwOlJlcG9zaXRvcnkxNDc0NzU5OA==\",\n",
      "            \"name\": \"json-server\",\n",
      "            \"full_name\": \"typicode/json-server\",\n",
      "            \"private\": false,\n",
      "            \"owner\": {\n",
      "                \"login\": \"typicode\",\n",
      "                \"id\": 5502029,\n",
      "                \"node_id\": \"MDQ6VXNlcjU1MDIwMjk=\",\n",
      "                \"avatar_url\": \"https://avatars.githubusercontent.com/u/5502029?v=4\",\n",
      "                \"gravatar_id\": \"\",\n",
      "                \"url\": \"https://api.github.com/users/typicode\",\n",
      "                \"html_url\": \"https://github.com/typicode\",\n",
      "                \"followers_url\": \"https://api.github.com/users/typicode/followers\",\n",
      "                \"following_url\": \"https://api.github.com/users/typicode/following{/other_user}\",\n",
      "                \"gists_url\": \"https://api.github.com/users/typicode/gists{/gist_id}\",\n",
      "                \"starred_url\": \"https://api.github.com/users/typicode/starred{/owner}{/repo}\",\n",
      "                \"subscriptions_url\": \"https://api.github.com/users/typicode/subscriptions\",\n",
      "                \"organizations_url\": \"https://api.github.com/users/typicode/orgs\",\n",
      "                \"repos_url\": \"https://api.github.com/users/typicode/repos\",\n",
      "                \"events_url\": \"https://api.github.com/users/typicode/events{/privacy}\",\n",
      "                \"received_events_url\": \"https://api.github.com/users/typicode/received_events\",\n",
      "                \"type\": \"User\",\n",
      "                \"site_admin\": false\n",
      "            },\n",
      "            \"html_url\": \"https://github.com/typicode/json-server\",\n",
      "            \"description\": \"Get a full fake REST API with zero coding in less than 30 seconds (seriously)\",\n",
      "            \"fork\": false,\n",
      "            \"url\": \"https://api.github.com/repos/typicode/json-server\",\n",
      "            \"forks_url\": \"https://api.github.com/repos/typicode/json-server/forks\",\n",
      "            \"keys_url\": \"https://api.github.com/repos/typicode/json-server/keys{/key_id}\",\n",
      "            \"collaborators_url\": \"https://api.github.com/repos/typicode/json-server/collaborators{/collaborator}\",\n",
      "            \"teams_url\": \"https://api.github.com/repos/typicode/json-server/teams\",\n",
      "            \"hooks_url\": \"https://api.github.com/repos/typicode/json-server/hooks\",\n",
      "            \"issue_events_url\": \"https://api.github.com/repos/typicode/json-server/issues/events{/number}\",\n",
      "            \"events_url\": \"https://api.github.com/repos/typicode/json-server/events\",\n",
      "            \"assignees_url\": \"https://api.github.com/repos/typicode/json-server/assignees{/user}\",\n",
      "            \"branches_url\": \"https://api.github.com/repos/typicode/json-server/branches{/branch}\",\n",
      "            \"tags_url\": \"https://api.github.com/repos/typicode/json-server/tags\",\n",
      "            \"blobs_url\": \"https://api.github.com/repos/typicode/json-server/git/blobs{/sha}\",\n",
      "            \"git_tags_url\": \"https://api.github.com/repos/typicode/json-server/git/tags{/sha}\",\n",
      "            \"git_refs_url\": \"https://api.github.com/repos/typicode/json-server/git/refs{/sha}\",\n",
      "            \"trees_url\": \"https://api.github.com/repos/typicode/json-server/git/trees{/sha}\",\n",
      "            \"statuses_url\": \"https://api.github.com/repos/typicode/json-server/statuses/{sha}\",\n",
      "            \"languages_url\": \"https://api.github.com/repos/typicode/json-server/languages\",\n",
      "            \"stargazers_url\": \"https://api.github.com/repos/typicode/json-server/stargazers\",\n",
      "            \"contributors_url\": \"https://api.github.com/repos/typicode/json-server/contributors\",\n",
      "            \"subscribers_url\": \"https://api.github.com/repos/typicode/json-server/subscribers\",\n",
      "            \"subscription_url\": \"https://api.github.com/repos/typicode/json-server/subscription\",\n",
      "            \"commits_url\": \"https://api.github.com/repos/typicode/json-server/commits{/sha}\",\n",
      "            \"git_commits_url\": \"https://api.github.com/repos/typicode/json-server/git/commits{/sha}\",\n",
      "            \"comments_url\": \"https://api.github.com/repos/typicode/json-server/comments{/number}\",\n",
      "            \"issue_comment_url\": \"https://api.github.com/repos/typicode/json-server/issues/comments{/number}\",\n",
      "            \"contents_url\": \"https://api.github.com/repos/typicode/json-server/contents/{+path}\",\n",
      "            \"compare_url\": \"https://api.github.com/repos/typicode/json-server/compare/{base}...{head}\",\n",
      "            \"merges_url\": \"https://api.github.com/repos/typicode/json-server/merges\",\n",
      "            \"archive_url\": \"https://api.github.com/repos/typicode/json-server/{archive_format}{/ref}\",\n",
      "            \"downloads_url\": \"https://api.github.com/repos/typicode/json-server/downloads\",\n",
      "            \"issues_url\": \"https://api.github.com/repos/typicode/json-server/issues{/number}\",\n",
      "            \"pulls_url\": \"https://api.github.com/repos/typicode/json-server/pulls{/number}\",\n",
      "            \"milestones_url\": \"https://api.github.com/repos/typicode/json-server/milestones{/number}\",\n",
      "            \"notifications_url\": \"https://api.github.com/repos/typicode/json-server/notifications{?since,all,participating}\",\n",
      "            \"labels_url\": \"https://api.github.com/repos/typicode/json-server/labels{/name}\",\n",
      "            \"releases_url\": \"https://api.github.com/repos/typicode/json-server/releases{/id}\",\n",
      "            \"deployments_url\": \"https://api.github.com/repos/typicode/json-server/deployments\",\n",
      "            \"created_at\": \"2013-11-27T13:21:13Z\",\n",
      "            \"updated_at\": \"2023-11-15T20:36:03Z\",\n",
      "            \"pushed_at\": \"2023-10-27T20:42:36Z\",\n",
      "            \"git_url\": \"git://github.com/typicode/json-server.git\",\n",
      "            \"ssh_url\": \"git@github.com:typicode/json-server.git\",\n",
      "            \"clone_url\": \"https://github.com/typicode/json-server.git\",\n",
      "            \"svn_url\": \"https://github.com/typicode/json-server\",\n",
      "            \"homepage\": \"\",\n",
      "            \"size\": 4014,\n",
      "            \"stargazers_count\": 69264,\n",
      "            \"watchers_count\": 69264,\n",
      "            \"language\": \"JavaScript\",\n",
      "            \"has_issues\": true,\n",
      "            \"has_projects\": true,\n",
      "            \"has_downloads\": true,\n",
      "            \"has_wiki\": false,\n",
      "            \"has_pages\": false,\n",
      "            \"has_discussions\": false,\n",
      "            \"forks_count\": 6851,\n",
      "            \"mirror_url\": null,\n",
      "            \"archived\": false,\n",
      "            \"disabled\": false,\n",
      "            \"open_issues_count\": 674,\n",
      "            \"license\": {\n",
      "                \"key\": \"mit\",\n",
      "                \"name\": \"MIT License\",\n",
      "                \"spdx_id\": \"MIT\",\n",
      "                \"url\": \"https://api.github.com/licenses/mit\",\n",
      "                \"node_id\": \"MDc6TGljZW5zZTEz\"\n",
      "            },\n",
      "            \"allow_forking\": true,\n",
      "            \"is_template\": false,\n",
      "            \"web_commit_signoff_required\": false,\n",
      "            \"topics\": [],\n",
      "            \"visibility\": \"public\",\n",
      "            \"forks\": 6851,\n",
      "            \"open_issues\": 674,\n",
      "            \"watchers\": 69264,\n",
      "            \"default_branch\": \"master\",\n",
      "            \"score\": 1.0\n",
      "        },\n",
      "        {\n",
      "            \"id\": 1861458,\n",
      "            \"node_id\": \"MDEwOlJlcG9zaXRvcnkxODYxNDU4\",\n",
      "            \"name\": \"reveal.js\",\n",
      "            \"full_name\": \"hakimel/reveal.js\",\n",
      "            \"private\": false,\n",
      "            \"owner\": {\n",
      "                \"login\": \"hakimel\",\n",
      "                \"id\": 629429,\n",
      "                \"node_id\": \"MDQ6VXNlcjYyOTQyOQ==\",\n",
      "                \"avatar_url\": \"https://avatars.githubusercontent.com/u/629429?v=4\",\n",
      "                \"gravatar_id\": \"\",\n",
      "                \"url\": \"https://api.github.com/users/hakimel\",\n",
      "                \"html_url\": \"https://github.com/hakimel\",\n",
      "                \"followers_url\": \"https://api.github.com/users/hakimel/followers\",\n",
      "                \"following_url\": \"https://api.github.com/users/hakimel/following{/other_user}\",\n",
      "                \"gists_url\": \"https://api.github.com/users/hakimel/gists{/gist_id}\",\n",
      "                \"starred_url\": \"https://api.github.com/users/hakimel/starred{/owner}{/repo}\",\n",
      "                \"subscriptions_url\": \"https://api.github.com/users/hakimel/subscriptions\",\n",
      "                \"organizations_url\": \"https://api.github.com/users/hakimel/orgs\",\n",
      "                \"repos_url\": \"https://api.github.com/users/hakimel/repos\",\n",
      "                \"events_url\": \"https://api.github.com/users/hakimel/events{/privacy}\",\n",
      "                \"received_events_url\": \"https://api.github.com/users/hakimel/received_events\",\n",
      "                \"type\": \"User\",\n",
      "                \"site_admin\": false\n",
      "            },\n",
      "            \"html_url\": \"https://github.com/hakimel/reveal.js\",\n",
      "            \"description\": \"The HTML Presentation Framework\",\n",
      "            \"fork\": false,\n",
      "            \"url\": \"https://api.github.com/repos/hakimel/reveal.js\",\n",
      "            \"forks_url\": \"https://api.github.com/repos/hakimel/reveal.js/forks\",\n",
      "            \"keys_url\": \"https://api.github.com/repos/hakimel/reveal.js/keys{/key_id}\",\n",
      "            \"collaborators_url\": \"https://api.github.com/repos/hakimel/reveal.js/collaborators{/collaborator}\",\n",
      "            \"teams_url\": \"https://api.github.com/repos/hakimel/reveal.js/teams\",\n",
      "            \"hooks_url\": \"https://api.github.com/repos/hakimel/reveal.js/hooks\",\n",
      "            \"issue_events_url\": \"https://api.github.com/repos/hakimel/reveal.js/issues/events{/number}\",\n",
      "            \"events_url\": \"https://api.github.com/repos/hakimel/reveal.js/events\",\n",
      "            \"assignees_url\": \"https://api.github.com/repos/hakimel/reveal.js/assignees{/user}\",\n",
      "            \"branches_url\": \"https://api.github.com/repos/hakimel/reveal.js/branches{/branch}\",\n",
      "            \"tags_url\": \"https://api.github.com/repos/hakimel/reveal.js/tags\",\n",
      "            \"blobs_url\": \"https://api.github.com/repos/hakimel/reveal.js/git/blobs{/sha}\",\n",
      "            \"git_tags_url\": \"https://api.github.com/repos/hakimel/reveal.js/git/tags{/sha}\",\n",
      "            \"git_refs_url\": \"https://api.github.com/repos/hakimel/reveal.js/git/refs{/sha}\",\n",
      "            \"trees_url\": \"https://api.github.com/repos/hakimel/reveal.js/git/trees{/sha}\",\n",
      "            \"statuses_url\": \"https://api.github.com/repos/hakimel/reveal.js/statuses/{sha}\",\n",
      "            \"languages_url\": \"https://api.github.com/repos/hakimel/reveal.js/languages\",\n",
      "            \"stargazers_url\": \"https://api.github.com/repos/hakimel/reveal.js/stargazers\",\n",
      "            \"contributors_url\": \"https://api.github.com/repos/hakimel/reveal.js/contributors\",\n",
      "            \"subscribers_url\": \"https://api.github.com/repos/hakimel/reveal.js/subscribers\",\n",
      "            \"subscription_url\": \"https://api.github.com/repos/hakimel/reveal.js/subscription\",\n",
      "            \"commits_url\": \"https://api.github.com/repos/hakimel/reveal.js/commits{/sha}\",\n",
      "            \"git_commits_url\": \"https://api.github.com/repos/hakimel/reveal.js/git/commits{/sha}\",\n",
      "            \"comments_url\": \"https://api.github.com/repos/hakimel/reveal.js/comments{/number}\",\n",
      "            \"issue_comment_url\": \"https://api.github.com/repos/hakimel/reveal.js/issues/comments{/number}\",\n",
      "            \"contents_url\": \"https://api.github.com/repos/hakimel/reveal.js/contents/{+path}\",\n",
      "            \"compare_url\": \"https://api.github.com/repos/hakimel/reveal.js/compare/{base}...{head}\",\n",
      "            \"merges_url\": \"https://api.github.com/repos/hakimel/reveal.js/merges\",\n",
      "            \"archive_url\": \"https://api.github.com/repos/hakimel/reveal.js/{archive_format}{/ref}\",\n",
      "            \"downloads_url\": \"https://api.github.com/repos/hakimel/reveal.js/downloads\",\n",
      "            \"issues_url\": \"https://api.github.com/repos/hakimel/reveal.js/issues{/number}\",\n",
      "            \"pulls_url\": \"https://api.github.com/repos/hakimel/reveal.js/pulls{/number}\",\n",
      "            \"milestones_url\": \"https://api.github.com/repos/hakimel/reveal.js/milestones{/number}\",\n",
      "            \"notifications_url\": \"https://api.github.com/repos/hakimel/reveal.js/notifications{?since,all,participating}\",\n",
      "            \"labels_url\": \"https://api.github.com/repos/hakimel/reveal.js/labels{/name}\",\n",
      "            \"releases_url\": \"https://api.github.com/repos/hakimel/reveal.js/releases{/id}\",\n",
      "            \"deployments_url\": \"https://api.github.com/repos/hakimel/reveal.js/deployments\",\n",
      "            \"created_at\": \"2011-06-07T18:54:22Z\",\n",
      "            \"updated_at\": \"2023-11-15T21:24:10Z\",\n",
      "            \"pushed_at\": \"2023-11-13T10:26:48Z\",\n",
      "            \"git_url\": \"git://github.com/hakimel/reveal.js.git\",\n",
      "            \"ssh_url\": \"git@github.com:hakimel/reveal.js.git\",\n",
      "            \"clone_url\": \"https://github.com/hakimel/reveal.js.git\",\n",
      "            \"svn_url\": \"https://github.com/hakimel/reveal.js\",\n",
      "            \"homepage\": \"https://revealjs.com\",\n",
      "            \"size\": 23318,\n",
      "            \"stargazers_count\": 65103,\n",
      "            \"watchers_count\": 65103,\n",
      "            \"language\": \"JavaScript\",\n",
      "            \"has_issues\": true,\n",
      "            \"has_projects\": true,\n",
      "            \"has_downloads\": true,\n",
      "            \"has_wiki\": true,\n",
      "            \"has_pages\": true,\n",
      "            \"has_discussions\": true,\n",
      "            \"forks_count\": 16843,\n",
      "            \"mirror_url\": null,\n",
      "            \"archived\": false,\n",
      "            \"disabled\": false,\n",
      "            \"open_issues_count\": 757,\n",
      "            \"license\": {\n",
      "                \"key\": \"mit\",\n",
      "                \"name\": \"MIT License\",\n",
      "                \"spdx_id\": \"MIT\",\n",
      "                \"url\": \"https://api.github.com/licenses/mit\",\n",
      "                \"node_id\": \"MDc6TGljZW5zZTEz\"\n",
      "            },\n",
      "            \"allow_forking\": true,\n",
      "            \"is_template\": false,\n",
      "            \"web_commit_signoff_required\": false,\n",
      "            \"topics\": [\n",
      "                \"presentations\",\n",
      "                \"slides\",\n",
      "                \"slideshow\"\n",
      "            ],\n",
      "            \"visibility\": \"public\",\n",
      "            \"forks\": 16843,\n",
      "            \"open_issues\": 757,\n",
      "            \"watchers\": 65103,\n",
      "            \"default_branch\": \"master\",\n",
      "            \"score\": 1.0\n",
      "        },\n",
      "        {\n",
      "            \"id\": 63539055,\n",
      "            \"node_id\": \"MDEwOlJlcG9zaXRvcnk2MzUzOTA1NQ==\",\n",
      "            \"name\": \"awesome-mac\",\n",
      "            \"full_name\": \"jaywcjlove/awesome-mac\",\n",
      "            \"private\": false,\n",
      "            \"owner\": {\n",
      "                \"login\": \"jaywcjlove\",\n",
      "                \"id\": 1680273,\n",
      "                \"node_id\": \"MDQ6VXNlcjE2ODAyNzM=\",\n",
      "                \"avatar_url\": \"https://avatars.githubusercontent.com/u/1680273?v=4\",\n",
      "                \"gravatar_id\": \"\",\n",
      "                \"url\": \"https://api.github.com/users/jaywcjlove\",\n",
      "                \"html_url\": \"https://github.com/jaywcjlove\",\n",
      "                \"followers_url\": \"https://api.github.com/users/jaywcjlove/followers\",\n",
      "                \"following_url\": \"https://api.github.com/users/jaywcjlove/following{/other_user}\",\n",
      "                \"gists_url\": \"https://api.github.com/users/jaywcjlove/gists{/gist_id}\",\n",
      "                \"starred_url\": \"https://api.github.com/users/jaywcjlove/starred{/owner}{/repo}\",\n",
      "                \"subscriptions_url\": \"https://api.github.com/users/jaywcjlove/subscriptions\",\n",
      "                \"organizations_url\": \"https://api.github.com/users/jaywcjlove/orgs\",\n",
      "                \"repos_url\": \"https://api.github.com/users/jaywcjlove/repos\",\n",
      "                \"events_url\": \"https://api.github.com/users/jaywcjlove/events{/privacy}\",\n",
      "                \"received_events_url\": \"https://api.github.com/users/jaywcjlove/received_events\",\n",
      "                \"type\": \"User\",\n",
      "                \"site_admin\": false\n",
      "            },\n",
      "            \"html_url\": \"https://github.com/jaywcjlove/awesome-mac\",\n",
      "            \"description\": \"\\uf8ff Now we have become very big, Different from the original idea. Collect premium software in various categories.\",\n",
      "            \"fork\": false,\n",
      "            \"url\": \"https://api.github.com/repos/jaywcjlove/awesome-mac\",\n",
      "            \"forks_url\": \"https://api.github.com/repos/jaywcjlove/awesome-mac/forks\",\n",
      "            \"keys_url\": \"https://api.github.com/repos/jaywcjlove/awesome-mac/keys{/key_id}\",\n",
      "            \"collaborators_url\": \"https://api.github.com/repos/jaywcjlove/awesome-mac/collaborators{/collaborator}\",\n",
      "            \"teams_url\": \"https://api.github.com/repos/jaywcjlove/awesome-mac/teams\",\n",
      "            \"hooks_url\": \"https://api.github.com/repos/jaywcjlove/awesome-mac/hooks\",\n",
      "            \"issue_events_url\": \"https://api.github.com/repos/jaywcjlove/awesome-mac/issues/events{/number}\",\n",
      "            \"events_url\": \"https://api.github.com/repos/jaywcjlove/awesome-mac/events\",\n",
      "            \"assignees_url\": \"https://api.github.com/repos/jaywcjlove/awesome-mac/assignees{/user}\",\n",
      "            \"branches_url\": \"https://api.github.com/repos/jaywcjlove/awesome-mac/branches{/branch}\",\n",
      "            \"tags_url\": \"https://api.github.com/repos/jaywcjlove/awesome-mac/tags\",\n",
      "            \"blobs_url\": \"https://api.github.com/repos/jaywcjlove/awesome-mac/git/blobs{/sha}\",\n",
      "            \"git_tags_url\": \"https://api.github.com/repos/jaywcjlove/awesome-mac/git/tags{/sha}\",\n",
      "            \"git_refs_url\": \"https://api.github.com/repos/jaywcjlove/awesome-mac/git/refs{/sha}\",\n",
      "            \"trees_url\": \"https://api.github.com/repos/jaywcjlove/awesome-mac/git/trees{/sha}\",\n",
      "            \"statuses_url\": \"https://api.github.com/repos/jaywcjlove/awesome-mac/statuses/{sha}\",\n",
      "            \"languages_url\": \"https://api.github.com/repos/jaywcjlove/awesome-mac/languages\",\n",
      "            \"stargazers_url\": \"https://api.github.com/repos/jaywcjlove/awesome-mac/stargazers\",\n",
      "            \"contributors_url\": \"https://api.github.com/repos/jaywcjlove/awesome-mac/contributors\",\n",
      "            \"subscribers_url\": \"https://api.github.com/repos/jaywcjlove/awesome-mac/subscribers\",\n",
      "            \"subscription_url\": \"https://api.github.com/repos/jaywcjlove/awesome-mac/subscription\",\n",
      "            \"commits_url\": \"https://api.github.com/repos/jaywcjlove/awesome-mac/commits{/sha}\",\n",
      "            \"git_commits_url\": \"https://api.github.com/repos/jaywcjlove/awesome-mac/git/commits{/sha}\",\n",
      "            \"comments_url\": \"https://api.github.com/repos/jaywcjlove/awesome-mac/comments{/number}\",\n",
      "            \"issue_comment_url\": \"https://api.github.com/repos/jaywcjlove/awesome-mac/issues/comments{/number}\",\n",
      "            \"contents_url\": \"https://api.github.com/repos/jaywcjlove/awesome-mac/contents/{+path}\",\n",
      "            \"compare_url\": \"https://api.github.com/repos/jaywcjlove/awesome-mac/compare/{base}...{head}\",\n",
      "            \"merges_url\": \"https://api.github.com/repos/jaywcjlove/awesome-mac/merges\",\n",
      "            \"archive_url\": \"https://api.github.com/repos/jaywcjlove/awesome-mac/{archive_format}{/ref}\",\n",
      "            \"downloads_url\": \"https://api.github.com/repos/jaywcjlove/awesome-mac/downloads\",\n",
      "            \"issues_url\": \"https://api.github.com/repos/jaywcjlove/awesome-mac/issues{/number}\",\n",
      "            \"pulls_url\": \"https://api.github.com/repos/jaywcjlove/awesome-mac/pulls{/number}\",\n",
      "            \"milestones_url\": \"https://api.github.com/repos/jaywcjlove/awesome-mac/milestones{/number}\",\n",
      "            \"notifications_url\": \"https://api.github.com/repos/jaywcjlove/awesome-mac/notifications{?since,all,participating}\",\n",
      "            \"labels_url\": \"https://api.github.com/repos/jaywcjlove/awesome-mac/labels{/name}\",\n",
      "            \"releases_url\": \"https://api.github.com/repos/jaywcjlove/awesome-mac/releases{/id}\",\n",
      "            \"deployments_url\": \"https://api.github.com/repos/jaywcjlove/awesome-mac/deployments\",\n",
      "            \"created_at\": \"2016-07-17T15:33:47Z\",\n",
      "            \"updated_at\": \"2023-11-15T21:54:20Z\",\n",
      "            \"pushed_at\": \"2023-11-15T18:21:07Z\",\n",
      "            \"git_url\": \"git://github.com/jaywcjlove/awesome-mac.git\",\n",
      "            \"ssh_url\": \"git@github.com:jaywcjlove/awesome-mac.git\",\n",
      "            \"clone_url\": \"https://github.com/jaywcjlove/awesome-mac.git\",\n",
      "            \"svn_url\": \"https://github.com/jaywcjlove/awesome-mac\",\n",
      "            \"homepage\": \"https://git.io/macx\",\n",
      "            \"size\": 14719,\n",
      "            \"stargazers_count\": 64960,\n",
      "            \"watchers_count\": 64960,\n",
      "            \"language\": \"JavaScript\",\n",
      "            \"has_issues\": true,\n",
      "            \"has_projects\": true,\n",
      "            \"has_downloads\": true,\n",
      "            \"has_wiki\": true,\n",
      "            \"has_pages\": true,\n",
      "            \"has_discussions\": false,\n",
      "            \"forks_count\": 5997,\n",
      "            \"mirror_url\": null,\n",
      "            \"archived\": false,\n",
      "            \"disabled\": false,\n",
      "            \"open_issues_count\": 140,\n",
      "            \"license\": {\n",
      "                \"key\": \"cc0-1.0\",\n",
      "                \"name\": \"Creative Commons Zero v1.0 Universal\",\n",
      "                \"spdx_id\": \"CC0-1.0\",\n",
      "                \"url\": \"https://api.github.com/licenses/cc0-1.0\",\n",
      "                \"node_id\": \"MDc6TGljZW5zZTY=\"\n",
      "            },\n",
      "            \"allow_forking\": true,\n",
      "            \"is_template\": false,\n",
      "            \"web_commit_signoff_required\": false,\n",
      "            \"topics\": [\n",
      "                \"apple\",\n",
      "                \"awesome\",\n",
      "                \"awesome-list\",\n",
      "                \"awesome-lists\",\n",
      "                \"list\",\n",
      "                \"mac\",\n",
      "                \"mac-osx\",\n",
      "                \"macos\",\n",
      "                \"macosx\",\n",
      "                \"software\"\n",
      "            ],\n",
      "            \"visibility\": \"public\",\n",
      "            \"forks\": 5997,\n",
      "            \"open_issues\": 140,\n",
      "            \"watchers\": 64960,\n",
      "            \"default_branch\": \"master\",\n",
      "            \"score\": 1.0\n",
      "        },\n",
      "        {\n",
      "            \"id\": 3678731,\n",
      "            \"node_id\": \"MDEwOlJlcG9zaXRvcnkzNjc4NzMx\",\n",
      "            \"name\": \"webpack\",\n",
      "            \"full_name\": \"webpack/webpack\",\n",
      "            \"private\": false,\n",
      "            \"owner\": {\n",
      "                \"login\": \"webpack\",\n",
      "                \"id\": 2105791,\n",
      "                \"node_id\": \"MDEyOk9yZ2FuaXphdGlvbjIxMDU3OTE=\",\n",
      "                \"avatar_url\": \"https://avatars.githubusercontent.com/u/2105791?v=4\",\n",
      "                \"gravatar_id\": \"\",\n",
      "                \"url\": \"https://api.github.com/users/webpack\",\n",
      "                \"html_url\": \"https://github.com/webpack\",\n",
      "                \"followers_url\": \"https://api.github.com/users/webpack/followers\",\n",
      "                \"following_url\": \"https://api.github.com/users/webpack/following{/other_user}\",\n",
      "                \"gists_url\": \"https://api.github.com/users/webpack/gists{/gist_id}\",\n",
      "                \"starred_url\": \"https://api.github.com/users/webpack/starred{/owner}{/repo}\",\n",
      "                \"subscriptions_url\": \"https://api.github.com/users/webpack/subscriptions\",\n",
      "                \"organizations_url\": \"https://api.github.com/users/webpack/orgs\",\n",
      "                \"repos_url\": \"https://api.github.com/users/webpack/repos\",\n",
      "                \"events_url\": \"https://api.github.com/users/webpack/events{/privacy}\",\n",
      "                \"received_events_url\": \"https://api.github.com/users/webpack/received_events\",\n",
      "                \"type\": \"Organization\",\n",
      "                \"site_admin\": false\n",
      "            },\n",
      "            \"html_url\": \"https://github.com/webpack/webpack\",\n",
      "            \"description\": \"A bundler for javascript and friends. Packs many modules into a few bundled assets. Code Splitting allows for loading parts of the application on demand. Through \\\"loaders\\\", modules can be CommonJs, AMD, ES6 modules, CSS, Images, JSON, Coffeescript, LESS, ... and your custom stuff.\",\n",
      "            \"fork\": false,\n",
      "            \"url\": \"https://api.github.com/repos/webpack/webpack\",\n",
      "            \"forks_url\": \"https://api.github.com/repos/webpack/webpack/forks\",\n",
      "            \"keys_url\": \"https://api.github.com/repos/webpack/webpack/keys{/key_id}\",\n",
      "            \"collaborators_url\": \"https://api.github.com/repos/webpack/webpack/collaborators{/collaborator}\",\n",
      "            \"teams_url\": \"https://api.github.com/repos/webpack/webpack/teams\",\n",
      "            \"hooks_url\": \"https://api.github.com/repos/webpack/webpack/hooks\",\n",
      "            \"issue_events_url\": \"https://api.github.com/repos/webpack/webpack/issues/events{/number}\",\n",
      "            \"events_url\": \"https://api.github.com/repos/webpack/webpack/events\",\n",
      "            \"assignees_url\": \"https://api.github.com/repos/webpack/webpack/assignees{/user}\",\n",
      "            \"branches_url\": \"https://api.github.com/repos/webpack/webpack/branches{/branch}\",\n",
      "            \"tags_url\": \"https://api.github.com/repos/webpack/webpack/tags\",\n",
      "            \"blobs_url\": \"https://api.github.com/repos/webpack/webpack/git/blobs{/sha}\",\n",
      "            \"git_tags_url\": \"https://api.github.com/repos/webpack/webpack/git/tags{/sha}\",\n",
      "            \"git_refs_url\": \"https://api.github.com/repos/webpack/webpack/git/refs{/sha}\",\n",
      "            \"trees_url\": \"https://api.github.com/repos/webpack/webpack/git/trees{/sha}\",\n",
      "            \"statuses_url\": \"https://api.github.com/repos/webpack/webpack/statuses/{sha}\",\n",
      "            \"languages_url\": \"https://api.github.com/repos/webpack/webpack/languages\",\n",
      "            \"stargazers_url\": \"https://api.github.com/repos/webpack/webpack/stargazers\",\n",
      "            \"contributors_url\": \"https://api.github.com/repos/webpack/webpack/contributors\",\n",
      "            \"subscribers_url\": \"https://api.github.com/repos/webpack/webpack/subscribers\",\n",
      "            \"subscription_url\": \"https://api.github.com/repos/webpack/webpack/subscription\",\n",
      "            \"commits_url\": \"https://api.github.com/repos/webpack/webpack/commits{/sha}\",\n",
      "            \"git_commits_url\": \"https://api.github.com/repos/webpack/webpack/git/commits{/sha}\",\n",
      "            \"comments_url\": \"https://api.github.com/repos/webpack/webpack/comments{/number}\",\n",
      "            \"issue_comment_url\": \"https://api.github.com/repos/webpack/webpack/issues/comments{/number}\",\n",
      "            \"contents_url\": \"https://api.github.com/repos/webpack/webpack/contents/{+path}\",\n",
      "            \"compare_url\": \"https://api.github.com/repos/webpack/webpack/compare/{base}...{head}\",\n",
      "            \"merges_url\": \"https://api.github.com/repos/webpack/webpack/merges\",\n",
      "            \"archive_url\": \"https://api.github.com/repos/webpack/webpack/{archive_format}{/ref}\",\n",
      "            \"downloads_url\": \"https://api.github.com/repos/webpack/webpack/downloads\",\n",
      "            \"issues_url\": \"https://api.github.com/repos/webpack/webpack/issues{/number}\",\n",
      "            \"pulls_url\": \"https://api.github.com/repos/webpack/webpack/pulls{/number}\",\n",
      "            \"milestones_url\": \"https://api.github.com/repos/webpack/webpack/milestones{/number}\",\n",
      "            \"notifications_url\": \"https://api.github.com/repos/webpack/webpack/notifications{?since,all,participating}\",\n",
      "            \"labels_url\": \"https://api.github.com/repos/webpack/webpack/labels{/name}\",\n",
      "            \"releases_url\": \"https://api.github.com/repos/webpack/webpack/releases{/id}\",\n",
      "            \"deployments_url\": \"https://api.github.com/repos/webpack/webpack/deployments\",\n",
      "            \"created_at\": \"2012-03-10T10:08:14Z\",\n",
      "            \"updated_at\": \"2023-11-15T17:22:55Z\",\n",
      "            \"pushed_at\": \"2023-11-15T03:21:47Z\",\n",
      "            \"git_url\": \"git://github.com/webpack/webpack.git\",\n",
      "            \"ssh_url\": \"git@github.com:webpack/webpack.git\",\n",
      "            \"clone_url\": \"https://github.com/webpack/webpack.git\",\n",
      "            \"svn_url\": \"https://github.com/webpack/webpack\",\n",
      "            \"homepage\": \"https://webpack.js.org\",\n",
      "            \"size\": 62204,\n",
      "            \"stargazers_count\": 63656,\n",
      "            \"watchers_count\": 63656,\n",
      "            \"language\": \"JavaScript\",\n",
      "            \"has_issues\": true,\n",
      "            \"has_projects\": true,\n",
      "            \"has_downloads\": true,\n",
      "            \"has_wiki\": false,\n",
      "            \"has_pages\": false,\n",
      "            \"has_discussions\": true,\n",
      "            \"forks_count\": 8909,\n",
      "            \"mirror_url\": null,\n",
      "            \"archived\": false,\n",
      "            \"disabled\": false,\n",
      "            \"open_issues_count\": 344,\n",
      "            \"license\": {\n",
      "                \"key\": \"mit\",\n",
      "                \"name\": \"MIT License\",\n",
      "                \"spdx_id\": \"MIT\",\n",
      "                \"url\": \"https://api.github.com/licenses/mit\",\n",
      "                \"node_id\": \"MDc6TGljZW5zZTEz\"\n",
      "            },\n",
      "            \"allow_forking\": true,\n",
      "            \"is_template\": false,\n",
      "            \"web_commit_signoff_required\": false,\n",
      "            \"topics\": [\n",
      "                \"amd\",\n",
      "                \"build-tool\",\n",
      "                \"commonjs\",\n",
      "                \"compiler\",\n",
      "                \"es2015\",\n",
      "                \"es6\",\n",
      "                \"esm\",\n",
      "                \"javascript\",\n",
      "                \"javascript-compiler\",\n",
      "                \"javascript-modules\",\n",
      "                \"loaders\",\n",
      "                \"module-bundler\",\n",
      "                \"plugins\",\n",
      "                \"web\",\n",
      "                \"web-performance\",\n",
      "                \"webpack\"\n",
      "            ],\n",
      "            \"visibility\": \"public\",\n",
      "            \"forks\": 8909,\n",
      "            \"open_issues\": 344,\n",
      "            \"watchers\": 63656,\n",
      "            \"default_branch\": \"main\",\n",
      "            \"score\": 1.0\n",
      "        },\n",
      "        {\n",
      "            \"id\": 26066727,\n",
      "            \"node_id\": \"MDEwOlJlcG9zaXRvcnkyNjA2NjcyNw==\",\n",
      "            \"name\": \"mermaid\",\n",
      "            \"full_name\": \"mermaid-js/mermaid\",\n",
      "            \"private\": false,\n",
      "            \"owner\": {\n",
      "                \"login\": \"mermaid-js\",\n",
      "                \"id\": 57169982,\n",
      "                \"node_id\": \"MDEyOk9yZ2FuaXphdGlvbjU3MTY5OTgy\",\n",
      "                \"avatar_url\": \"https://avatars.githubusercontent.com/u/57169982?v=4\",\n",
      "                \"gravatar_id\": \"\",\n",
      "                \"url\": \"https://api.github.com/users/mermaid-js\",\n",
      "                \"html_url\": \"https://github.com/mermaid-js\",\n",
      "                \"followers_url\": \"https://api.github.com/users/mermaid-js/followers\",\n",
      "                \"following_url\": \"https://api.github.com/users/mermaid-js/following{/other_user}\",\n",
      "                \"gists_url\": \"https://api.github.com/users/mermaid-js/gists{/gist_id}\",\n",
      "                \"starred_url\": \"https://api.github.com/users/mermaid-js/starred{/owner}{/repo}\",\n",
      "                \"subscriptions_url\": \"https://api.github.com/users/mermaid-js/subscriptions\",\n",
      "                \"organizations_url\": \"https://api.github.com/users/mermaid-js/orgs\",\n",
      "                \"repos_url\": \"https://api.github.com/users/mermaid-js/repos\",\n",
      "                \"events_url\": \"https://api.github.com/users/mermaid-js/events{/privacy}\",\n",
      "                \"received_events_url\": \"https://api.github.com/users/mermaid-js/received_events\",\n",
      "                \"type\": \"Organization\",\n",
      "                \"site_admin\": false\n",
      "            },\n",
      "            \"html_url\": \"https://github.com/mermaid-js/mermaid\",\n",
      "            \"description\": \"Generation of diagrams like flowcharts or sequence diagrams from text in a similar manner as markdown\",\n",
      "            \"fork\": false,\n",
      "            \"url\": \"https://api.github.com/repos/mermaid-js/mermaid\",\n",
      "            \"forks_url\": \"https://api.github.com/repos/mermaid-js/mermaid/forks\",\n",
      "            \"keys_url\": \"https://api.github.com/repos/mermaid-js/mermaid/keys{/key_id}\",\n",
      "            \"collaborators_url\": \"https://api.github.com/repos/mermaid-js/mermaid/collaborators{/collaborator}\",\n",
      "            \"teams_url\": \"https://api.github.com/repos/mermaid-js/mermaid/teams\",\n",
      "            \"hooks_url\": \"https://api.github.com/repos/mermaid-js/mermaid/hooks\",\n",
      "            \"issue_events_url\": \"https://api.github.com/repos/mermaid-js/mermaid/issues/events{/number}\",\n",
      "            \"events_url\": \"https://api.github.com/repos/mermaid-js/mermaid/events\",\n",
      "            \"assignees_url\": \"https://api.github.com/repos/mermaid-js/mermaid/assignees{/user}\",\n",
      "            \"branches_url\": \"https://api.github.com/repos/mermaid-js/mermaid/branches{/branch}\",\n",
      "            \"tags_url\": \"https://api.github.com/repos/mermaid-js/mermaid/tags\",\n",
      "            \"blobs_url\": \"https://api.github.com/repos/mermaid-js/mermaid/git/blobs{/sha}\",\n",
      "            \"git_tags_url\": \"https://api.github.com/repos/mermaid-js/mermaid/git/tags{/sha}\",\n",
      "            \"git_refs_url\": \"https://api.github.com/repos/mermaid-js/mermaid/git/refs{/sha}\",\n",
      "            \"trees_url\": \"https://api.github.com/repos/mermaid-js/mermaid/git/trees{/sha}\",\n",
      "            \"statuses_url\": \"https://api.github.com/repos/mermaid-js/mermaid/statuses/{sha}\",\n",
      "            \"languages_url\": \"https://api.github.com/repos/mermaid-js/mermaid/languages\",\n",
      "            \"stargazers_url\": \"https://api.github.com/repos/mermaid-js/mermaid/stargazers\",\n",
      "            \"contributors_url\": \"https://api.github.com/repos/mermaid-js/mermaid/contributors\",\n",
      "            \"subscribers_url\": \"https://api.github.com/repos/mermaid-js/mermaid/subscribers\",\n",
      "            \"subscription_url\": \"https://api.github.com/repos/mermaid-js/mermaid/subscription\",\n",
      "            \"commits_url\": \"https://api.github.com/repos/mermaid-js/mermaid/commits{/sha}\",\n",
      "            \"git_commits_url\": \"https://api.github.com/repos/mermaid-js/mermaid/git/commits{/sha}\",\n",
      "            \"comments_url\": \"https://api.github.com/repos/mermaid-js/mermaid/comments{/number}\",\n",
      "            \"issue_comment_url\": \"https://api.github.com/repos/mermaid-js/mermaid/issues/comments{/number}\",\n",
      "            \"contents_url\": \"https://api.github.com/repos/mermaid-js/mermaid/contents/{+path}\",\n",
      "            \"compare_url\": \"https://api.github.com/repos/mermaid-js/mermaid/compare/{base}...{head}\",\n",
      "            \"merges_url\": \"https://api.github.com/repos/mermaid-js/mermaid/merges\",\n",
      "            \"archive_url\": \"https://api.github.com/repos/mermaid-js/mermaid/{archive_format}{/ref}\",\n",
      "            \"downloads_url\": \"https://api.github.com/repos/mermaid-js/mermaid/downloads\",\n",
      "            \"issues_url\": \"https://api.github.com/repos/mermaid-js/mermaid/issues{/number}\",\n",
      "            \"pulls_url\": \"https://api.github.com/repos/mermaid-js/mermaid/pulls{/number}\",\n",
      "            \"milestones_url\": \"https://api.github.com/repos/mermaid-js/mermaid/milestones{/number}\",\n",
      "            \"notifications_url\": \"https://api.github.com/repos/mermaid-js/mermaid/notifications{?since,all,participating}\",\n",
      "            \"labels_url\": \"https://api.github.com/repos/mermaid-js/mermaid/labels{/name}\",\n",
      "            \"releases_url\": \"https://api.github.com/repos/mermaid-js/mermaid/releases{/id}\",\n",
      "            \"deployments_url\": \"https://api.github.com/repos/mermaid-js/mermaid/deployments\",\n",
      "            \"created_at\": \"2014-11-01T23:52:32Z\",\n",
      "            \"updated_at\": \"2023-11-15T21:16:23Z\",\n",
      "            \"pushed_at\": \"2023-11-15T21:06:21Z\",\n",
      "            \"git_url\": \"git://github.com/mermaid-js/mermaid.git\",\n",
      "            \"ssh_url\": \"git@github.com:mermaid-js/mermaid.git\",\n",
      "            \"clone_url\": \"https://github.com/mermaid-js/mermaid.git\",\n",
      "            \"svn_url\": \"https://github.com/mermaid-js/mermaid\",\n",
      "            \"homepage\": \"https://mermaid.js.org\",\n",
      "            \"size\": 225950,\n",
      "            \"stargazers_count\": 62771,\n",
      "            \"watchers_count\": 62771,\n",
      "            \"language\": \"JavaScript\",\n",
      "            \"has_issues\": true,\n",
      "            \"has_projects\": true,\n",
      "            \"has_downloads\": true,\n",
      "            \"has_wiki\": true,\n",
      "            \"has_pages\": true,\n",
      "            \"has_discussions\": true,\n",
      "            \"forks_count\": 5407,\n",
      "            \"mirror_url\": null,\n",
      "            \"archived\": false,\n",
      "            \"disabled\": false,\n",
      "            \"open_issues_count\": 868,\n",
      "            \"license\": {\n",
      "                \"key\": \"mit\",\n",
      "                \"name\": \"MIT License\",\n",
      "                \"spdx_id\": \"MIT\",\n",
      "                \"url\": \"https://api.github.com/licenses/mit\",\n",
      "                \"node_id\": \"MDc6TGljZW5zZTEz\"\n",
      "            },\n",
      "            \"allow_forking\": true,\n",
      "            \"is_template\": false,\n",
      "            \"web_commit_signoff_required\": false,\n",
      "            \"topics\": [\n",
      "                \"diagrams\",\n",
      "                \"diagrams-as-code\",\n",
      "                \"documentation\",\n",
      "                \"flowchart\",\n",
      "                \"hacktoberfest\",\n",
      "                \"javascript\",\n",
      "                \"mindmap\",\n",
      "                \"typescript\",\n",
      "                \"uml-diagrams\"\n",
      "            ],\n",
      "            \"visibility\": \"public\",\n",
      "            \"forks\": 5407,\n",
      "            \"open_issues\": 868,\n",
      "            \"watchers\": 62771,\n",
      "            \"default_branch\": \"develop\",\n",
      "            \"score\": 1.0\n",
      "        },\n",
      "        {\n",
      "            \"id\": 8843683,\n",
      "            \"node_id\": \"MDEwOlJlcG9zaXRvcnk4ODQzNjgz\",\n",
      "            \"name\": \"Chart.js\",\n",
      "            \"full_name\": \"chartjs/Chart.js\",\n",
      "            \"private\": false,\n",
      "            \"owner\": {\n",
      "                \"login\": \"chartjs\",\n",
      "                \"id\": 10342521,\n",
      "                \"node_id\": \"MDEyOk9yZ2FuaXphdGlvbjEwMzQyNTIx\",\n",
      "                \"avatar_url\": \"https://avatars.githubusercontent.com/u/10342521?v=4\",\n",
      "                \"gravatar_id\": \"\",\n",
      "                \"url\": \"https://api.github.com/users/chartjs\",\n",
      "                \"html_url\": \"https://github.com/chartjs\",\n",
      "                \"followers_url\": \"https://api.github.com/users/chartjs/followers\",\n",
      "                \"following_url\": \"https://api.github.com/users/chartjs/following{/other_user}\",\n",
      "                \"gists_url\": \"https://api.github.com/users/chartjs/gists{/gist_id}\",\n",
      "                \"starred_url\": \"https://api.github.com/users/chartjs/starred{/owner}{/repo}\",\n",
      "                \"subscriptions_url\": \"https://api.github.com/users/chartjs/subscriptions\",\n",
      "                \"organizations_url\": \"https://api.github.com/users/chartjs/orgs\",\n",
      "                \"repos_url\": \"https://api.github.com/users/chartjs/repos\",\n",
      "                \"events_url\": \"https://api.github.com/users/chartjs/events{/privacy}\",\n",
      "                \"received_events_url\": \"https://api.github.com/users/chartjs/received_events\",\n",
      "                \"type\": \"Organization\",\n",
      "                \"site_admin\": false\n",
      "            },\n",
      "            \"html_url\": \"https://github.com/chartjs/Chart.js\",\n",
      "            \"description\": \"Simple HTML5 Charts using the <canvas> tag\",\n",
      "            \"fork\": false,\n",
      "            \"url\": \"https://api.github.com/repos/chartjs/Chart.js\",\n",
      "            \"forks_url\": \"https://api.github.com/repos/chartjs/Chart.js/forks\",\n",
      "            \"keys_url\": \"https://api.github.com/repos/chartjs/Chart.js/keys{/key_id}\",\n",
      "            \"collaborators_url\": \"https://api.github.com/repos/chartjs/Chart.js/collaborators{/collaborator}\",\n",
      "            \"teams_url\": \"https://api.github.com/repos/chartjs/Chart.js/teams\",\n",
      "            \"hooks_url\": \"https://api.github.com/repos/chartjs/Chart.js/hooks\",\n",
      "            \"issue_events_url\": \"https://api.github.com/repos/chartjs/Chart.js/issues/events{/number}\",\n",
      "            \"events_url\": \"https://api.github.com/repos/chartjs/Chart.js/events\",\n",
      "            \"assignees_url\": \"https://api.github.com/repos/chartjs/Chart.js/assignees{/user}\",\n",
      "            \"branches_url\": \"https://api.github.com/repos/chartjs/Chart.js/branches{/branch}\",\n",
      "            \"tags_url\": \"https://api.github.com/repos/chartjs/Chart.js/tags\",\n",
      "            \"blobs_url\": \"https://api.github.com/repos/chartjs/Chart.js/git/blobs{/sha}\",\n",
      "            \"git_tags_url\": \"https://api.github.com/repos/chartjs/Chart.js/git/tags{/sha}\",\n",
      "            \"git_refs_url\": \"https://api.github.com/repos/chartjs/Chart.js/git/refs{/sha}\",\n",
      "            \"trees_url\": \"https://api.github.com/repos/chartjs/Chart.js/git/trees{/sha}\",\n",
      "            \"statuses_url\": \"https://api.github.com/repos/chartjs/Chart.js/statuses/{sha}\",\n",
      "            \"languages_url\": \"https://api.github.com/repos/chartjs/Chart.js/languages\",\n",
      "            \"stargazers_url\": \"https://api.github.com/repos/chartjs/Chart.js/stargazers\",\n",
      "            \"contributors_url\": \"https://api.github.com/repos/chartjs/Chart.js/contributors\",\n",
      "            \"subscribers_url\": \"https://api.github.com/repos/chartjs/Chart.js/subscribers\",\n",
      "            \"subscription_url\": \"https://api.github.com/repos/chartjs/Chart.js/subscription\",\n",
      "            \"commits_url\": \"https://api.github.com/repos/chartjs/Chart.js/commits{/sha}\",\n",
      "            \"git_commits_url\": \"https://api.github.com/repos/chartjs/Chart.js/git/commits{/sha}\",\n",
      "            \"comments_url\": \"https://api.github.com/repos/chartjs/Chart.js/comments{/number}\",\n",
      "            \"issue_comment_url\": \"https://api.github.com/repos/chartjs/Chart.js/issues/comments{/number}\",\n",
      "            \"contents_url\": \"https://api.github.com/repos/chartjs/Chart.js/contents/{+path}\",\n",
      "            \"compare_url\": \"https://api.github.com/repos/chartjs/Chart.js/compare/{base}...{head}\",\n",
      "            \"merges_url\": \"https://api.github.com/repos/chartjs/Chart.js/merges\",\n",
      "            \"archive_url\": \"https://api.github.com/repos/chartjs/Chart.js/{archive_format}{/ref}\",\n",
      "            \"downloads_url\": \"https://api.github.com/repos/chartjs/Chart.js/downloads\",\n",
      "            \"issues_url\": \"https://api.github.com/repos/chartjs/Chart.js/issues{/number}\",\n",
      "            \"pulls_url\": \"https://api.github.com/repos/chartjs/Chart.js/pulls{/number}\",\n",
      "            \"milestones_url\": \"https://api.github.com/repos/chartjs/Chart.js/milestones{/number}\",\n",
      "            \"notifications_url\": \"https://api.github.com/repos/chartjs/Chart.js/notifications{?since,all,participating}\",\n",
      "            \"labels_url\": \"https://api.github.com/repos/chartjs/Chart.js/labels{/name}\",\n",
      "            \"releases_url\": \"https://api.github.com/repos/chartjs/Chart.js/releases{/id}\",\n",
      "            \"deployments_url\": \"https://api.github.com/repos/chartjs/Chart.js/deployments\",\n",
      "            \"created_at\": \"2013-03-17T23:56:36Z\",\n",
      "            \"updated_at\": \"2023-11-15T21:08:48Z\",\n",
      "            \"pushed_at\": \"2023-11-13T11:47:08Z\",\n",
      "            \"git_url\": \"git://github.com/chartjs/Chart.js.git\",\n",
      "            \"ssh_url\": \"git@github.com:chartjs/Chart.js.git\",\n",
      "            \"clone_url\": \"https://github.com/chartjs/Chart.js.git\",\n",
      "            \"svn_url\": \"https://github.com/chartjs/Chart.js\",\n",
      "            \"homepage\": \"https://www.chartjs.org/\",\n",
      "            \"size\": 42730,\n",
      "            \"stargazers_count\": 62307,\n",
      "            \"watchers_count\": 62307,\n",
      "            \"language\": \"JavaScript\",\n",
      "            \"has_issues\": true,\n",
      "            \"has_projects\": true,\n",
      "            \"has_downloads\": true,\n",
      "            \"has_wiki\": false,\n",
      "            \"has_pages\": false,\n",
      "            \"has_discussions\": true,\n",
      "            \"forks_count\": 12009,\n",
      "            \"mirror_url\": null,\n",
      "            \"archived\": false,\n",
      "            \"disabled\": false,\n",
      "            \"open_issues_count\": 325,\n",
      "            \"license\": {\n",
      "                \"key\": \"mit\",\n",
      "                \"name\": \"MIT License\",\n",
      "                \"spdx_id\": \"MIT\",\n",
      "                \"url\": \"https://api.github.com/licenses/mit\",\n",
      "                \"node_id\": \"MDc6TGljZW5zZTEz\"\n",
      "            },\n",
      "            \"allow_forking\": true,\n",
      "            \"is_template\": false,\n",
      "            \"web_commit_signoff_required\": false,\n",
      "            \"topics\": [\n",
      "                \"canvas\",\n",
      "                \"chart\",\n",
      "                \"graph\",\n",
      "                \"html5\",\n",
      "                \"html5-charts\",\n",
      "                \"javascript\"\n",
      "            ],\n",
      "            \"visibility\": \"public\",\n",
      "            \"forks\": 12009,\n",
      "            \"open_issues\": 325,\n",
      "            \"watchers\": 62307,\n",
      "            \"default_branch\": \"master\",\n",
      "            \"score\": 1.0\n",
      "        },\n",
      "        {\n",
      "            \"id\": 237159,\n",
      "            \"node_id\": \"MDEwOlJlcG9zaXRvcnkyMzcxNTk=\",\n",
      "            \"name\": \"express\",\n",
      "            \"full_name\": \"expressjs/express\",\n",
      "            \"private\": false,\n",
      "            \"owner\": {\n",
      "                \"login\": \"expressjs\",\n",
      "                \"id\": 5658226,\n",
      "                \"node_id\": \"MDEyOk9yZ2FuaXphdGlvbjU2NTgyMjY=\",\n",
      "                \"avatar_url\": \"https://avatars.githubusercontent.com/u/5658226?v=4\",\n",
      "                \"gravatar_id\": \"\",\n",
      "                \"url\": \"https://api.github.com/users/expressjs\",\n",
      "                \"html_url\": \"https://github.com/expressjs\",\n",
      "                \"followers_url\": \"https://api.github.com/users/expressjs/followers\",\n",
      "                \"following_url\": \"https://api.github.com/users/expressjs/following{/other_user}\",\n",
      "                \"gists_url\": \"https://api.github.com/users/expressjs/gists{/gist_id}\",\n",
      "                \"starred_url\": \"https://api.github.com/users/expressjs/starred{/owner}{/repo}\",\n",
      "                \"subscriptions_url\": \"https://api.github.com/users/expressjs/subscriptions\",\n",
      "                \"organizations_url\": \"https://api.github.com/users/expressjs/orgs\",\n",
      "                \"repos_url\": \"https://api.github.com/users/expressjs/repos\",\n",
      "                \"events_url\": \"https://api.github.com/users/expressjs/events{/privacy}\",\n",
      "                \"received_events_url\": \"https://api.github.com/users/expressjs/received_events\",\n",
      "                \"type\": \"Organization\",\n",
      "                \"site_admin\": false\n",
      "            },\n",
      "            \"html_url\": \"https://github.com/expressjs/express\",\n",
      "            \"description\": \"Fast, unopinionated, minimalist web framework for node.\",\n",
      "            \"fork\": false,\n",
      "            \"url\": \"https://api.github.com/repos/expressjs/express\",\n",
      "            \"forks_url\": \"https://api.github.com/repos/expressjs/express/forks\",\n",
      "            \"keys_url\": \"https://api.github.com/repos/expressjs/express/keys{/key_id}\",\n",
      "            \"collaborators_url\": \"https://api.github.com/repos/expressjs/express/collaborators{/collaborator}\",\n",
      "            \"teams_url\": \"https://api.github.com/repos/expressjs/express/teams\",\n",
      "            \"hooks_url\": \"https://api.github.com/repos/expressjs/express/hooks\",\n",
      "            \"issue_events_url\": \"https://api.github.com/repos/expressjs/express/issues/events{/number}\",\n",
      "            \"events_url\": \"https://api.github.com/repos/expressjs/express/events\",\n",
      "            \"assignees_url\": \"https://api.github.com/repos/expressjs/express/assignees{/user}\",\n",
      "            \"branches_url\": \"https://api.github.com/repos/expressjs/express/branches{/branch}\",\n",
      "            \"tags_url\": \"https://api.github.com/repos/expressjs/express/tags\",\n",
      "            \"blobs_url\": \"https://api.github.com/repos/expressjs/express/git/blobs{/sha}\",\n",
      "            \"git_tags_url\": \"https://api.github.com/repos/expressjs/express/git/tags{/sha}\",\n",
      "            \"git_refs_url\": \"https://api.github.com/repos/expressjs/express/git/refs{/sha}\",\n",
      "            \"trees_url\": \"https://api.github.com/repos/expressjs/express/git/trees{/sha}\",\n",
      "            \"statuses_url\": \"https://api.github.com/repos/expressjs/express/statuses/{sha}\",\n",
      "            \"languages_url\": \"https://api.github.com/repos/expressjs/express/languages\",\n",
      "            \"stargazers_url\": \"https://api.github.com/repos/expressjs/express/stargazers\",\n",
      "            \"contributors_url\": \"https://api.github.com/repos/expressjs/express/contributors\",\n",
      "            \"subscribers_url\": \"https://api.github.com/repos/expressjs/express/subscribers\",\n",
      "            \"subscription_url\": \"https://api.github.com/repos/expressjs/express/subscription\",\n",
      "            \"commits_url\": \"https://api.github.com/repos/expressjs/express/commits{/sha}\",\n",
      "            \"git_commits_url\": \"https://api.github.com/repos/expressjs/express/git/commits{/sha}\",\n",
      "            \"comments_url\": \"https://api.github.com/repos/expressjs/express/comments{/number}\",\n",
      "            \"issue_comment_url\": \"https://api.github.com/repos/expressjs/express/issues/comments{/number}\",\n",
      "            \"contents_url\": \"https://api.github.com/repos/expressjs/express/contents/{+path}\",\n",
      "            \"compare_url\": \"https://api.github.com/repos/expressjs/express/compare/{base}...{head}\",\n",
      "            \"merges_url\": \"https://api.github.com/repos/expressjs/express/merges\",\n",
      "            \"archive_url\": \"https://api.github.com/repos/expressjs/express/{archive_format}{/ref}\",\n",
      "            \"downloads_url\": \"https://api.github.com/repos/expressjs/express/downloads\",\n",
      "            \"issues_url\": \"https://api.github.com/repos/expressjs/express/issues{/number}\",\n",
      "            \"pulls_url\": \"https://api.github.com/repos/expressjs/express/pulls{/number}\",\n",
      "            \"milestones_url\": \"https://api.github.com/repos/expressjs/express/milestones{/number}\",\n",
      "            \"notifications_url\": \"https://api.github.com/repos/expressjs/express/notifications{?since,all,participating}\",\n",
      "            \"labels_url\": \"https://api.github.com/repos/expressjs/express/labels{/name}\",\n",
      "            \"releases_url\": \"https://api.github.com/repos/expressjs/express/releases{/id}\",\n",
      "            \"deployments_url\": \"https://api.github.com/repos/expressjs/express/deployments\",\n",
      "            \"created_at\": \"2009-06-26T18:56:01Z\",\n",
      "            \"updated_at\": \"2023-11-15T14:49:05Z\",\n",
      "            \"pushed_at\": \"2023-11-14T16:46:05Z\",\n",
      "            \"git_url\": \"git://github.com/expressjs/express.git\",\n",
      "            \"ssh_url\": \"git@github.com:expressjs/express.git\",\n",
      "            \"clone_url\": \"https://github.com/expressjs/express.git\",\n",
      "            \"svn_url\": \"https://github.com/expressjs/express\",\n",
      "            \"homepage\": \"https://expressjs.com\",\n",
      "            \"size\": 9098,\n",
      "            \"stargazers_count\": 62294,\n",
      "            \"watchers_count\": 62294,\n",
      "            \"language\": \"JavaScript\",\n",
      "            \"has_issues\": true,\n",
      "            \"has_projects\": false,\n",
      "            \"has_downloads\": true,\n",
      "            \"has_wiki\": true,\n",
      "            \"has_pages\": false,\n",
      "            \"has_discussions\": true,\n",
      "            \"forks_count\": 11948,\n",
      "            \"mirror_url\": null,\n",
      "            \"archived\": false,\n",
      "            \"disabled\": false,\n",
      "            \"open_issues_count\": 195,\n",
      "            \"license\": {\n",
      "                \"key\": \"mit\",\n",
      "                \"name\": \"MIT License\",\n",
      "                \"spdx_id\": \"MIT\",\n",
      "                \"url\": \"https://api.github.com/licenses/mit\",\n",
      "                \"node_id\": \"MDc6TGljZW5zZTEz\"\n",
      "            },\n",
      "            \"allow_forking\": true,\n",
      "            \"is_template\": false,\n",
      "            \"web_commit_signoff_required\": false,\n",
      "            \"topics\": [\n",
      "                \"express\",\n",
      "                \"javascript\",\n",
      "                \"nodejs\",\n",
      "                \"server\"\n",
      "            ],\n",
      "            \"visibility\": \"public\",\n",
      "            \"forks\": 11948,\n",
      "            \"open_issues\": 195,\n",
      "            \"watchers\": 62294,\n",
      "            \"default_branch\": \"master\",\n",
      "            \"score\": 1.0\n",
      "        },\n",
      "        {\n",
      "            \"id\": 278335273,\n",
      "            \"node_id\": \"MDEwOlJlcG9zaXRvcnkyNzgzMzUyNzM=\",\n",
      "            \"name\": \"github-readme-stats\",\n",
      "            \"full_name\": \"anuraghazra/github-readme-stats\",\n",
      "            \"private\": false,\n",
      "            \"owner\": {\n",
      "                \"login\": \"anuraghazra\",\n",
      "                \"id\": 35374649,\n",
      "                \"node_id\": \"MDQ6VXNlcjM1Mzc0NjQ5\",\n",
      "                \"avatar_url\": \"https://avatars.githubusercontent.com/u/35374649?v=4\",\n",
      "                \"gravatar_id\": \"\",\n",
      "                \"url\": \"https://api.github.com/users/anuraghazra\",\n",
      "                \"html_url\": \"https://github.com/anuraghazra\",\n",
      "                \"followers_url\": \"https://api.github.com/users/anuraghazra/followers\",\n",
      "                \"following_url\": \"https://api.github.com/users/anuraghazra/following{/other_user}\",\n",
      "                \"gists_url\": \"https://api.github.com/users/anuraghazra/gists{/gist_id}\",\n",
      "                \"starred_url\": \"https://api.github.com/users/anuraghazra/starred{/owner}{/repo}\",\n",
      "                \"subscriptions_url\": \"https://api.github.com/users/anuraghazra/subscriptions\",\n",
      "                \"organizations_url\": \"https://api.github.com/users/anuraghazra/orgs\",\n",
      "                \"repos_url\": \"https://api.github.com/users/anuraghazra/repos\",\n",
      "                \"events_url\": \"https://api.github.com/users/anuraghazra/events{/privacy}\",\n",
      "                \"received_events_url\": \"https://api.github.com/users/anuraghazra/received_events\",\n",
      "                \"type\": \"User\",\n",
      "                \"site_admin\": false\n",
      "            },\n",
      "            \"html_url\": \"https://github.com/anuraghazra/github-readme-stats\",\n",
      "            \"description\": \":zap: Dynamically generated stats for your github readmes\",\n",
      "            \"fork\": false,\n",
      "            \"url\": \"https://api.github.com/repos/anuraghazra/github-readme-stats\",\n",
      "            \"forks_url\": \"https://api.github.com/repos/anuraghazra/github-readme-stats/forks\",\n",
      "            \"keys_url\": \"https://api.github.com/repos/anuraghazra/github-readme-stats/keys{/key_id}\",\n",
      "            \"collaborators_url\": \"https://api.github.com/repos/anuraghazra/github-readme-stats/collaborators{/collaborator}\",\n",
      "            \"teams_url\": \"https://api.github.com/repos/anuraghazra/github-readme-stats/teams\",\n",
      "            \"hooks_url\": \"https://api.github.com/repos/anuraghazra/github-readme-stats/hooks\",\n",
      "            \"issue_events_url\": \"https://api.github.com/repos/anuraghazra/github-readme-stats/issues/events{/number}\",\n",
      "            \"events_url\": \"https://api.github.com/repos/anuraghazra/github-readme-stats/events\",\n",
      "            \"assignees_url\": \"https://api.github.com/repos/anuraghazra/github-readme-stats/assignees{/user}\",\n",
      "            \"branches_url\": \"https://api.github.com/repos/anuraghazra/github-readme-stats/branches{/branch}\",\n",
      "            \"tags_url\": \"https://api.github.com/repos/anuraghazra/github-readme-stats/tags\",\n",
      "            \"blobs_url\": \"https://api.github.com/repos/anuraghazra/github-readme-stats/git/blobs{/sha}\",\n",
      "            \"git_tags_url\": \"https://api.github.com/repos/anuraghazra/github-readme-stats/git/tags{/sha}\",\n",
      "            \"git_refs_url\": \"https://api.github.com/repos/anuraghazra/github-readme-stats/git/refs{/sha}\",\n",
      "            \"trees_url\": \"https://api.github.com/repos/anuraghazra/github-readme-stats/git/trees{/sha}\",\n",
      "            \"statuses_url\": \"https://api.github.com/repos/anuraghazra/github-readme-stats/statuses/{sha}\",\n",
      "            \"languages_url\": \"https://api.github.com/repos/anuraghazra/github-readme-stats/languages\",\n",
      "            \"stargazers_url\": \"https://api.github.com/repos/anuraghazra/github-readme-stats/stargazers\",\n",
      "            \"contributors_url\": \"https://api.github.com/repos/anuraghazra/github-readme-stats/contributors\",\n",
      "            \"subscribers_url\": \"https://api.github.com/repos/anuraghazra/github-readme-stats/subscribers\",\n",
      "            \"subscription_url\": \"https://api.github.com/repos/anuraghazra/github-readme-stats/subscription\",\n",
      "            \"commits_url\": \"https://api.github.com/repos/anuraghazra/github-readme-stats/commits{/sha}\",\n",
      "            \"git_commits_url\": \"https://api.github.com/repos/anuraghazra/github-readme-stats/git/commits{/sha}\",\n",
      "            \"comments_url\": \"https://api.github.com/repos/anuraghazra/github-readme-stats/comments{/number}\",\n",
      "            \"issue_comment_url\": \"https://api.github.com/repos/anuraghazra/github-readme-stats/issues/comments{/number}\",\n",
      "            \"contents_url\": \"https://api.github.com/repos/anuraghazra/github-readme-stats/contents/{+path}\",\n",
      "            \"compare_url\": \"https://api.github.com/repos/anuraghazra/github-readme-stats/compare/{base}...{head}\",\n",
      "            \"merges_url\": \"https://api.github.com/repos/anuraghazra/github-readme-stats/merges\",\n",
      "            \"archive_url\": \"https://api.github.com/repos/anuraghazra/github-readme-stats/{archive_format}{/ref}\",\n",
      "            \"downloads_url\": \"https://api.github.com/repos/anuraghazra/github-readme-stats/downloads\",\n",
      "            \"issues_url\": \"https://api.github.com/repos/anuraghazra/github-readme-stats/issues{/number}\",\n",
      "            \"pulls_url\": \"https://api.github.com/repos/anuraghazra/github-readme-stats/pulls{/number}\",\n",
      "            \"milestones_url\": \"https://api.github.com/repos/anuraghazra/github-readme-stats/milestones{/number}\",\n",
      "            \"notifications_url\": \"https://api.github.com/repos/anuraghazra/github-readme-stats/notifications{?since,all,participating}\",\n",
      "            \"labels_url\": \"https://api.github.com/repos/anuraghazra/github-readme-stats/labels{/name}\",\n",
      "            \"releases_url\": \"https://api.github.com/repos/anuraghazra/github-readme-stats/releases{/id}\",\n",
      "            \"deployments_url\": \"https://api.github.com/repos/anuraghazra/github-readme-stats/deployments\",\n",
      "            \"created_at\": \"2020-07-09T10:34:22Z\",\n",
      "            \"updated_at\": \"2023-11-15T21:47:08Z\",\n",
      "            \"pushed_at\": \"2023-11-15T08:35:16Z\",\n",
      "            \"git_url\": \"git://github.com/anuraghazra/github-readme-stats.git\",\n",
      "            \"ssh_url\": \"git@github.com:anuraghazra/github-readme-stats.git\",\n",
      "            \"clone_url\": \"https://github.com/anuraghazra/github-readme-stats.git\",\n",
      "            \"svn_url\": \"https://github.com/anuraghazra/github-readme-stats\",\n",
      "            \"homepage\": \"https://github-readme-stats.vercel.app\",\n",
      "            \"size\": 3576,\n",
      "            \"stargazers_count\": 60931,\n",
      "            \"watchers_count\": 60931,\n",
      "            \"language\": \"JavaScript\",\n",
      "            \"has_issues\": true,\n",
      "            \"has_projects\": true,\n",
      "            \"has_downloads\": true,\n",
      "            \"has_wiki\": false,\n",
      "            \"has_pages\": false,\n",
      "            \"has_discussions\": true,\n",
      "            \"forks_count\": 19287,\n",
      "            \"mirror_url\": null,\n",
      "            \"archived\": false,\n",
      "            \"disabled\": false,\n",
      "            \"open_issues_count\": 241,\n",
      "            \"license\": {\n",
      "                \"key\": \"mit\",\n",
      "                \"name\": \"MIT License\",\n",
      "                \"spdx_id\": \"MIT\",\n",
      "                \"url\": \"https://api.github.com/licenses/mit\",\n",
      "                \"node_id\": \"MDc6TGljZW5zZTEz\"\n",
      "            },\n",
      "            \"allow_forking\": true,\n",
      "            \"is_template\": false,\n",
      "            \"web_commit_signoff_required\": false,\n",
      "            \"topics\": [\n",
      "                \"dynamic\",\n",
      "                \"hacktoberfest\",\n",
      "                \"profile-readme\",\n",
      "                \"readme-generator\",\n",
      "                \"readme-stats\",\n",
      "                \"serverless\"\n",
      "            ],\n",
      "            \"visibility\": \"public\",\n",
      "            \"forks\": 19287,\n",
      "            \"open_issues\": 241,\n",
      "            \"watchers\": 60931,\n",
      "            \"default_branch\": \"master\",\n",
      "            \"score\": 1.0\n",
      "        },\n",
      "        {\n",
      "            \"id\": 1334369,\n",
      "            \"node_id\": \"MDEwOlJlcG9zaXRvcnkxMzM0MzY5\",\n",
      "            \"name\": \"resume.github.com\",\n",
      "            \"full_name\": \"resume/resume.github.com\",\n",
      "            \"private\": false,\n",
      "            \"owner\": {\n",
      "                \"login\": \"resume\",\n",
      "                \"id\": 602612,\n",
      "                \"node_id\": \"MDEyOk9yZ2FuaXphdGlvbjYwMjYxMg==\",\n",
      "                \"avatar_url\": \"https://avatars.githubusercontent.com/u/602612?v=4\",\n",
      "                \"gravatar_id\": \"\",\n",
      "                \"url\": \"https://api.github.com/users/resume\",\n",
      "                \"html_url\": \"https://github.com/resume\",\n",
      "                \"followers_url\": \"https://api.github.com/users/resume/followers\",\n",
      "                \"following_url\": \"https://api.github.com/users/resume/following{/other_user}\",\n",
      "                \"gists_url\": \"https://api.github.com/users/resume/gists{/gist_id}\",\n",
      "                \"starred_url\": \"https://api.github.com/users/resume/starred{/owner}{/repo}\",\n",
      "                \"subscriptions_url\": \"https://api.github.com/users/resume/subscriptions\",\n",
      "                \"organizations_url\": \"https://api.github.com/users/resume/orgs\",\n",
      "                \"repos_url\": \"https://api.github.com/users/resume/repos\",\n",
      "                \"events_url\": \"https://api.github.com/users/resume/events{/privacy}\",\n",
      "                \"received_events_url\": \"https://api.github.com/users/resume/received_events\",\n",
      "                \"type\": \"Organization\",\n",
      "                \"site_admin\": false\n",
      "            },\n",
      "            \"html_url\": \"https://github.com/resume/resume.github.com\",\n",
      "            \"description\": \"Resumes generated using the GitHub informations\",\n",
      "            \"fork\": false,\n",
      "            \"url\": \"https://api.github.com/repos/resume/resume.github.com\",\n",
      "            \"forks_url\": \"https://api.github.com/repos/resume/resume.github.com/forks\",\n",
      "            \"keys_url\": \"https://api.github.com/repos/resume/resume.github.com/keys{/key_id}\",\n",
      "            \"collaborators_url\": \"https://api.github.com/repos/resume/resume.github.com/collaborators{/collaborator}\",\n",
      "            \"teams_url\": \"https://api.github.com/repos/resume/resume.github.com/teams\",\n",
      "            \"hooks_url\": \"https://api.github.com/repos/resume/resume.github.com/hooks\",\n",
      "            \"issue_events_url\": \"https://api.github.com/repos/resume/resume.github.com/issues/events{/number}\",\n",
      "            \"events_url\": \"https://api.github.com/repos/resume/resume.github.com/events\",\n",
      "            \"assignees_url\": \"https://api.github.com/repos/resume/resume.github.com/assignees{/user}\",\n",
      "            \"branches_url\": \"https://api.github.com/repos/resume/resume.github.com/branches{/branch}\",\n",
      "            \"tags_url\": \"https://api.github.com/repos/resume/resume.github.com/tags\",\n",
      "            \"blobs_url\": \"https://api.github.com/repos/resume/resume.github.com/git/blobs{/sha}\",\n",
      "            \"git_tags_url\": \"https://api.github.com/repos/resume/resume.github.com/git/tags{/sha}\",\n",
      "            \"git_refs_url\": \"https://api.github.com/repos/resume/resume.github.com/git/refs{/sha}\",\n",
      "            \"trees_url\": \"https://api.github.com/repos/resume/resume.github.com/git/trees{/sha}\",\n",
      "            \"statuses_url\": \"https://api.github.com/repos/resume/resume.github.com/statuses/{sha}\",\n",
      "            \"languages_url\": \"https://api.github.com/repos/resume/resume.github.com/languages\",\n",
      "            \"stargazers_url\": \"https://api.github.com/repos/resume/resume.github.com/stargazers\",\n",
      "            \"contributors_url\": \"https://api.github.com/repos/resume/resume.github.com/contributors\",\n",
      "            \"subscribers_url\": \"https://api.github.com/repos/resume/resume.github.com/subscribers\",\n",
      "            \"subscription_url\": \"https://api.github.com/repos/resume/resume.github.com/subscription\",\n",
      "            \"commits_url\": \"https://api.github.com/repos/resume/resume.github.com/commits{/sha}\",\n",
      "            \"git_commits_url\": \"https://api.github.com/repos/resume/resume.github.com/git/commits{/sha}\",\n",
      "            \"comments_url\": \"https://api.github.com/repos/resume/resume.github.com/comments{/number}\",\n",
      "            \"issue_comment_url\": \"https://api.github.com/repos/resume/resume.github.com/issues/comments{/number}\",\n",
      "            \"contents_url\": \"https://api.github.com/repos/resume/resume.github.com/contents/{+path}\",\n",
      "            \"compare_url\": \"https://api.github.com/repos/resume/resume.github.com/compare/{base}...{head}\",\n",
      "            \"merges_url\": \"https://api.github.com/repos/resume/resume.github.com/merges\",\n",
      "            \"archive_url\": \"https://api.github.com/repos/resume/resume.github.com/{archive_format}{/ref}\",\n",
      "            \"downloads_url\": \"https://api.github.com/repos/resume/resume.github.com/downloads\",\n",
      "            \"issues_url\": \"https://api.github.com/repos/resume/resume.github.com/issues{/number}\",\n",
      "            \"pulls_url\": \"https://api.github.com/repos/resume/resume.github.com/pulls{/number}\",\n",
      "            \"milestones_url\": \"https://api.github.com/repos/resume/resume.github.com/milestones{/number}\",\n",
      "            \"notifications_url\": \"https://api.github.com/repos/resume/resume.github.com/notifications{?since,all,participating}\",\n",
      "            \"labels_url\": \"https://api.github.com/repos/resume/resume.github.com/labels{/name}\",\n",
      "            \"releases_url\": \"https://api.github.com/repos/resume/resume.github.com/releases{/id}\",\n",
      "            \"deployments_url\": \"https://api.github.com/repos/resume/resume.github.com/deployments\",\n",
      "            \"created_at\": \"2011-02-06T13:39:55Z\",\n",
      "            \"updated_at\": \"2023-11-15T19:08:21Z\",\n",
      "            \"pushed_at\": \"2023-02-15T06:38:51Z\",\n",
      "            \"git_url\": \"git://github.com/resume/resume.github.com.git\",\n",
      "            \"ssh_url\": \"git@github.com:resume/resume.github.com.git\",\n",
      "            \"clone_url\": \"https://github.com/resume/resume.github.com.git\",\n",
      "            \"svn_url\": \"https://github.com/resume/resume.github.com\",\n",
      "            \"homepage\": \"https://resume.github.com\",\n",
      "            \"size\": 411,\n",
      "            \"stargazers_count\": 60904,\n",
      "            \"watchers_count\": 60904,\n",
      "            \"language\": \"JavaScript\",\n",
      "            \"has_issues\": true,\n",
      "            \"has_projects\": true,\n",
      "            \"has_downloads\": true,\n",
      "            \"has_wiki\": true,\n",
      "            \"has_pages\": true,\n",
      "            \"has_discussions\": false,\n",
      "            \"forks_count\": 1420,\n",
      "            \"mirror_url\": null,\n",
      "            \"archived\": false,\n",
      "            \"disabled\": false,\n",
      "            \"open_issues_count\": 67,\n",
      "            \"license\": null,\n",
      "            \"allow_forking\": true,\n",
      "            \"is_template\": false,\n",
      "            \"web_commit_signoff_required\": false,\n",
      "            \"topics\": [],\n",
      "            \"visibility\": \"public\",\n",
      "            \"forks\": 1420,\n",
      "            \"open_issues\": 67,\n",
      "            \"watchers\": 60904,\n",
      "            \"default_branch\": \"master\",\n",
      "            \"score\": 1.0\n",
      "        },\n",
      "        {\n",
      "            \"id\": 147350463,\n",
      "            \"node_id\": \"MDEwOlJlcG9zaXRvcnkxNDczNTA0NjM=\",\n",
      "            \"name\": \"33-js-concepts\",\n",
      "            \"full_name\": \"leonardomso/33-js-concepts\",\n",
      "            \"private\": false,\n",
      "            \"owner\": {\n",
      "                \"login\": \"leonardomso\",\n",
      "                \"id\": 8030067,\n",
      "                \"node_id\": \"MDQ6VXNlcjgwMzAwNjc=\",\n",
      "                \"avatar_url\": \"https://avatars.githubusercontent.com/u/8030067?v=4\",\n",
      "                \"gravatar_id\": \"\",\n",
      "                \"url\": \"https://api.github.com/users/leonardomso\",\n",
      "                \"html_url\": \"https://github.com/leonardomso\",\n",
      "                \"followers_url\": \"https://api.github.com/users/leonardomso/followers\",\n",
      "                \"following_url\": \"https://api.github.com/users/leonardomso/following{/other_user}\",\n",
      "                \"gists_url\": \"https://api.github.com/users/leonardomso/gists{/gist_id}\",\n",
      "                \"starred_url\": \"https://api.github.com/users/leonardomso/starred{/owner}{/repo}\",\n",
      "                \"subscriptions_url\": \"https://api.github.com/users/leonardomso/subscriptions\",\n",
      "                \"organizations_url\": \"https://api.github.com/users/leonardomso/orgs\",\n",
      "                \"repos_url\": \"https://api.github.com/users/leonardomso/repos\",\n",
      "                \"events_url\": \"https://api.github.com/users/leonardomso/events{/privacy}\",\n",
      "                \"received_events_url\": \"https://api.github.com/users/leonardomso/received_events\",\n",
      "                \"type\": \"User\",\n",
      "                \"site_admin\": false\n",
      "            },\n",
      "            \"html_url\": \"https://github.com/leonardomso/33-js-concepts\",\n",
      "            \"description\": \"\\ud83d\\udcdc 33 JavaScript concepts every developer should know.\",\n",
      "            \"fork\": false,\n",
      "            \"url\": \"https://api.github.com/repos/leonardomso/33-js-concepts\",\n",
      "            \"forks_url\": \"https://api.github.com/repos/leonardomso/33-js-concepts/forks\",\n",
      "            \"keys_url\": \"https://api.github.com/repos/leonardomso/33-js-concepts/keys{/key_id}\",\n",
      "            \"collaborators_url\": \"https://api.github.com/repos/leonardomso/33-js-concepts/collaborators{/collaborator}\",\n",
      "            \"teams_url\": \"https://api.github.com/repos/leonardomso/33-js-concepts/teams\",\n",
      "            \"hooks_url\": \"https://api.github.com/repos/leonardomso/33-js-concepts/hooks\",\n",
      "            \"issue_events_url\": \"https://api.github.com/repos/leonardomso/33-js-concepts/issues/events{/number}\",\n",
      "            \"events_url\": \"https://api.github.com/repos/leonardomso/33-js-concepts/events\",\n",
      "            \"assignees_url\": \"https://api.github.com/repos/leonardomso/33-js-concepts/assignees{/user}\",\n",
      "            \"branches_url\": \"https://api.github.com/repos/leonardomso/33-js-concepts/branches{/branch}\",\n",
      "            \"tags_url\": \"https://api.github.com/repos/leonardomso/33-js-concepts/tags\",\n",
      "            \"blobs_url\": \"https://api.github.com/repos/leonardomso/33-js-concepts/git/blobs{/sha}\",\n",
      "            \"git_tags_url\": \"https://api.github.com/repos/leonardomso/33-js-concepts/git/tags{/sha}\",\n",
      "            \"git_refs_url\": \"https://api.github.com/repos/leonardomso/33-js-concepts/git/refs{/sha}\",\n",
      "            \"trees_url\": \"https://api.github.com/repos/leonardomso/33-js-concepts/git/trees{/sha}\",\n",
      "            \"statuses_url\": \"https://api.github.com/repos/leonardomso/33-js-concepts/statuses/{sha}\",\n",
      "            \"languages_url\": \"https://api.github.com/repos/leonardomso/33-js-concepts/languages\",\n",
      "            \"stargazers_url\": \"https://api.github.com/repos/leonardomso/33-js-concepts/stargazers\",\n",
      "            \"contributors_url\": \"https://api.github.com/repos/leonardomso/33-js-concepts/contributors\",\n",
      "            \"subscribers_url\": \"https://api.github.com/repos/leonardomso/33-js-concepts/subscribers\",\n",
      "            \"subscription_url\": \"https://api.github.com/repos/leonardomso/33-js-concepts/subscription\",\n",
      "            \"commits_url\": \"https://api.github.com/repos/leonardomso/33-js-concepts/commits{/sha}\",\n",
      "            \"git_commits_url\": \"https://api.github.com/repos/leonardomso/33-js-concepts/git/commits{/sha}\",\n",
      "            \"comments_url\": \"https://api.github.com/repos/leonardomso/33-js-concepts/comments{/number}\",\n",
      "            \"issue_comment_url\": \"https://api.github.com/repos/leonardomso/33-js-concepts/issues/comments{/number}\",\n",
      "            \"contents_url\": \"https://api.github.com/repos/leonardomso/33-js-concepts/contents/{+path}\",\n",
      "            \"compare_url\": \"https://api.github.com/repos/leonardomso/33-js-concepts/compare/{base}...{head}\",\n",
      "            \"merges_url\": \"https://api.github.com/repos/leonardomso/33-js-concepts/merges\",\n",
      "            \"archive_url\": \"https://api.github.com/repos/leonardomso/33-js-concepts/{archive_format}{/ref}\",\n",
      "            \"downloads_url\": \"https://api.github.com/repos/leonardomso/33-js-concepts/downloads\",\n",
      "            \"issues_url\": \"https://api.github.com/repos/leonardomso/33-js-concepts/issues{/number}\",\n",
      "            \"pulls_url\": \"https://api.github.com/repos/leonardomso/33-js-concepts/pulls{/number}\",\n",
      "            \"milestones_url\": \"https://api.github.com/repos/leonardomso/33-js-concepts/milestones{/number}\",\n",
      "            \"notifications_url\": \"https://api.github.com/repos/leonardomso/33-js-concepts/notifications{?since,all,participating}\",\n",
      "            \"labels_url\": \"https://api.github.com/repos/leonardomso/33-js-concepts/labels{/name}\",\n",
      "            \"releases_url\": \"https://api.github.com/repos/leonardomso/33-js-concepts/releases{/id}\",\n",
      "            \"deployments_url\": \"https://api.github.com/repos/leonardomso/33-js-concepts/deployments\",\n",
      "            \"created_at\": \"2018-09-04T13:27:04Z\",\n",
      "            \"updated_at\": \"2023-11-15T20:51:50Z\",\n",
      "            \"pushed_at\": \"2023-11-09T11:23:44Z\",\n",
      "            \"git_url\": \"git://github.com/leonardomso/33-js-concepts.git\",\n",
      "            \"ssh_url\": \"git@github.com:leonardomso/33-js-concepts.git\",\n",
      "            \"clone_url\": \"https://github.com/leonardomso/33-js-concepts.git\",\n",
      "            \"svn_url\": \"https://github.com/leonardomso/33-js-concepts\",\n",
      "            \"homepage\": \"\",\n",
      "            \"size\": 1018,\n",
      "            \"stargazers_count\": 59735,\n",
      "            \"watchers_count\": 59735,\n",
      "            \"language\": \"JavaScript\",\n",
      "            \"has_issues\": true,\n",
      "            \"has_projects\": true,\n",
      "            \"has_downloads\": true,\n",
      "            \"has_wiki\": true,\n",
      "            \"has_pages\": false,\n",
      "            \"has_discussions\": false,\n",
      "            \"forks_count\": 8543,\n",
      "            \"mirror_url\": null,\n",
      "            \"archived\": false,\n",
      "            \"disabled\": false,\n",
      "            \"open_issues_count\": 52,\n",
      "            \"license\": {\n",
      "                \"key\": \"mit\",\n",
      "                \"name\": \"MIT License\",\n",
      "                \"spdx_id\": \"MIT\",\n",
      "                \"url\": \"https://api.github.com/licenses/mit\",\n",
      "                \"node_id\": \"MDc6TGljZW5zZTEz\"\n",
      "            },\n",
      "            \"allow_forking\": true,\n",
      "            \"is_template\": false,\n",
      "            \"web_commit_signoff_required\": false,\n",
      "            \"topics\": [\n",
      "                \"angular\",\n",
      "                \"concepts\",\n",
      "                \"es6\",\n",
      "                \"es6-javascript\",\n",
      "                \"hacktoberfest\",\n",
      "                \"javascript\",\n",
      "                \"javascript-closures\",\n",
      "                \"javascript-engines\",\n",
      "                \"javascript-programming\",\n",
      "                \"nodejs\",\n",
      "                \"primitive-types\",\n",
      "                \"programming\",\n",
      "                \"react\"\n",
      "            ],\n",
      "            \"visibility\": \"public\",\n",
      "            \"forks\": 8543,\n",
      "            \"open_issues\": 52,\n",
      "            \"watchers\": 59735,\n",
      "            \"default_branch\": \"master\",\n",
      "            \"score\": 1.0\n",
      "        },\n",
      "        {\n",
      "            \"id\": 3228505,\n",
      "            \"node_id\": \"MDEwOlJlcG9zaXRvcnkzMjI4NTA1\",\n",
      "            \"name\": \"atom\",\n",
      "            \"full_name\": \"atom/atom\",\n",
      "            \"private\": false,\n",
      "            \"owner\": {\n",
      "                \"login\": \"atom\",\n",
      "                \"id\": 1089146,\n",
      "                \"node_id\": \"MDEyOk9yZ2FuaXphdGlvbjEwODkxNDY=\",\n",
      "                \"avatar_url\": \"https://avatars.githubusercontent.com/u/1089146?v=4\",\n",
      "                \"gravatar_id\": \"\",\n",
      "                \"url\": \"https://api.github.com/users/atom\",\n",
      "                \"html_url\": \"https://github.com/atom\",\n",
      "                \"followers_url\": \"https://api.github.com/users/atom/followers\",\n",
      "                \"following_url\": \"https://api.github.com/users/atom/following{/other_user}\",\n",
      "                \"gists_url\": \"https://api.github.com/users/atom/gists{/gist_id}\",\n",
      "                \"starred_url\": \"https://api.github.com/users/atom/starred{/owner}{/repo}\",\n",
      "                \"subscriptions_url\": \"https://api.github.com/users/atom/subscriptions\",\n",
      "                \"organizations_url\": \"https://api.github.com/users/atom/orgs\",\n",
      "                \"repos_url\": \"https://api.github.com/users/atom/repos\",\n",
      "                \"events_url\": \"https://api.github.com/users/atom/events{/privacy}\",\n",
      "                \"received_events_url\": \"https://api.github.com/users/atom/received_events\",\n",
      "                \"type\": \"Organization\",\n",
      "                \"site_admin\": false\n",
      "            },\n",
      "            \"html_url\": \"https://github.com/atom/atom\",\n",
      "            \"description\": \":atom: The hackable text editor\",\n",
      "            \"fork\": false,\n",
      "            \"url\": \"https://api.github.com/repos/atom/atom\",\n",
      "            \"forks_url\": \"https://api.github.com/repos/atom/atom/forks\",\n",
      "            \"keys_url\": \"https://api.github.com/repos/atom/atom/keys{/key_id}\",\n",
      "            \"collaborators_url\": \"https://api.github.com/repos/atom/atom/collaborators{/collaborator}\",\n",
      "            \"teams_url\": \"https://api.github.com/repos/atom/atom/teams\",\n",
      "            \"hooks_url\": \"https://api.github.com/repos/atom/atom/hooks\",\n",
      "            \"issue_events_url\": \"https://api.github.com/repos/atom/atom/issues/events{/number}\",\n",
      "            \"events_url\": \"https://api.github.com/repos/atom/atom/events\",\n",
      "            \"assignees_url\": \"https://api.github.com/repos/atom/atom/assignees{/user}\",\n",
      "            \"branches_url\": \"https://api.github.com/repos/atom/atom/branches{/branch}\",\n",
      "            \"tags_url\": \"https://api.github.com/repos/atom/atom/tags\",\n",
      "            \"blobs_url\": \"https://api.github.com/repos/atom/atom/git/blobs{/sha}\",\n",
      "            \"git_tags_url\": \"https://api.github.com/repos/atom/atom/git/tags{/sha}\",\n",
      "            \"git_refs_url\": \"https://api.github.com/repos/atom/atom/git/refs{/sha}\",\n",
      "            \"trees_url\": \"https://api.github.com/repos/atom/atom/git/trees{/sha}\",\n",
      "            \"statuses_url\": \"https://api.github.com/repos/atom/atom/statuses/{sha}\",\n",
      "            \"languages_url\": \"https://api.github.com/repos/atom/atom/languages\",\n",
      "            \"stargazers_url\": \"https://api.github.com/repos/atom/atom/stargazers\",\n",
      "            \"contributors_url\": \"https://api.github.com/repos/atom/atom/contributors\",\n",
      "            \"subscribers_url\": \"https://api.github.com/repos/atom/atom/subscribers\",\n",
      "            \"subscription_url\": \"https://api.github.com/repos/atom/atom/subscription\",\n",
      "            \"commits_url\": \"https://api.github.com/repos/atom/atom/commits{/sha}\",\n",
      "            \"git_commits_url\": \"https://api.github.com/repos/atom/atom/git/commits{/sha}\",\n",
      "            \"comments_url\": \"https://api.github.com/repos/atom/atom/comments{/number}\",\n",
      "            \"issue_comment_url\": \"https://api.github.com/repos/atom/atom/issues/comments{/number}\",\n",
      "            \"contents_url\": \"https://api.github.com/repos/atom/atom/contents/{+path}\",\n",
      "            \"compare_url\": \"https://api.github.com/repos/atom/atom/compare/{base}...{head}\",\n",
      "            \"merges_url\": \"https://api.github.com/repos/atom/atom/merges\",\n",
      "            \"archive_url\": \"https://api.github.com/repos/atom/atom/{archive_format}{/ref}\",\n",
      "            \"downloads_url\": \"https://api.github.com/repos/atom/atom/downloads\",\n",
      "            \"issues_url\": \"https://api.github.com/repos/atom/atom/issues{/number}\",\n",
      "            \"pulls_url\": \"https://api.github.com/repos/atom/atom/pulls{/number}\",\n",
      "            \"milestones_url\": \"https://api.github.com/repos/atom/atom/milestones{/number}\",\n",
      "            \"notifications_url\": \"https://api.github.com/repos/atom/atom/notifications{?since,all,participating}\",\n",
      "            \"labels_url\": \"https://api.github.com/repos/atom/atom/labels{/name}\",\n",
      "            \"releases_url\": \"https://api.github.com/repos/atom/atom/releases{/id}\",\n",
      "            \"deployments_url\": \"https://api.github.com/repos/atom/atom/deployments\",\n",
      "            \"created_at\": \"2012-01-20T18:18:21Z\",\n",
      "            \"updated_at\": \"2023-11-15T20:19:08Z\",\n",
      "            \"pushed_at\": \"2023-01-03T10:49:48Z\",\n",
      "            \"git_url\": \"git://github.com/atom/atom.git\",\n",
      "            \"ssh_url\": \"git@github.com:atom/atom.git\",\n",
      "            \"clone_url\": \"https://github.com/atom/atom.git\",\n",
      "            \"svn_url\": \"https://github.com/atom/atom\",\n",
      "            \"homepage\": \"https://atom.io\",\n",
      "            \"size\": 330585,\n",
      "            \"stargazers_count\": 59670,\n",
      "            \"watchers_count\": 59670,\n",
      "            \"language\": \"JavaScript\",\n",
      "            \"has_issues\": true,\n",
      "            \"has_projects\": false,\n",
      "            \"has_downloads\": true,\n",
      "            \"has_wiki\": false,\n",
      "            \"has_pages\": false,\n",
      "            \"has_discussions\": true,\n",
      "            \"forks_count\": 18357,\n",
      "            \"mirror_url\": null,\n",
      "            \"archived\": true,\n",
      "            \"disabled\": false,\n",
      "            \"open_issues_count\": 994,\n",
      "            \"license\": {\n",
      "                \"key\": \"mit\",\n",
      "                \"name\": \"MIT License\",\n",
      "                \"spdx_id\": \"MIT\",\n",
      "                \"url\": \"https://api.github.com/licenses/mit\",\n",
      "                \"node_id\": \"MDc6TGljZW5zZTEz\"\n",
      "            },\n",
      "            \"allow_forking\": true,\n",
      "            \"is_template\": false,\n",
      "            \"web_commit_signoff_required\": false,\n",
      "            \"topics\": [\n",
      "                \"atom\",\n",
      "                \"editor\",\n",
      "                \"electron\",\n",
      "                \"javascript\",\n",
      "                \"linux\",\n",
      "                \"macos\",\n",
      "                \"windows\"\n",
      "            ],\n",
      "            \"visibility\": \"public\",\n",
      "            \"forks\": 18357,\n",
      "            \"open_issues\": 994,\n",
      "            \"watchers\": 59670,\n",
      "            \"default_branch\": \"master\",\n",
      "            \"score\": 1.0\n",
      "        },\n",
      "        {\n",
      "            \"id\": 4311796,\n",
      "            \"node_id\": \"MDEwOlJlcG9zaXRvcnk0MzExNzk2\",\n",
      "            \"name\": \"markdown-here\",\n",
      "            \"full_name\": \"adam-p/markdown-here\",\n",
      "            \"private\": false,\n",
      "            \"owner\": {\n",
      "                \"login\": \"adam-p\",\n",
      "                \"id\": 425687,\n",
      "                \"node_id\": \"MDQ6VXNlcjQyNTY4Nw==\",\n",
      "                \"avatar_url\": \"https://avatars.githubusercontent.com/u/425687?v=4\",\n",
      "                \"gravatar_id\": \"\",\n",
      "                \"url\": \"https://api.github.com/users/adam-p\",\n",
      "                \"html_url\": \"https://github.com/adam-p\",\n",
      "                \"followers_url\": \"https://api.github.com/users/adam-p/followers\",\n",
      "                \"following_url\": \"https://api.github.com/users/adam-p/following{/other_user}\",\n",
      "                \"gists_url\": \"https://api.github.com/users/adam-p/gists{/gist_id}\",\n",
      "                \"starred_url\": \"https://api.github.com/users/adam-p/starred{/owner}{/repo}\",\n",
      "                \"subscriptions_url\": \"https://api.github.com/users/adam-p/subscriptions\",\n",
      "                \"organizations_url\": \"https://api.github.com/users/adam-p/orgs\",\n",
      "                \"repos_url\": \"https://api.github.com/users/adam-p/repos\",\n",
      "                \"events_url\": \"https://api.github.com/users/adam-p/events{/privacy}\",\n",
      "                \"received_events_url\": \"https://api.github.com/users/adam-p/received_events\",\n",
      "                \"type\": \"User\",\n",
      "                \"site_admin\": false\n",
      "            },\n",
      "            \"html_url\": \"https://github.com/adam-p/markdown-here\",\n",
      "            \"description\": \"Google Chrome, Firefox, and Thunderbird extension that lets you write email in Markdown and render it before sending.\",\n",
      "            \"fork\": false,\n",
      "            \"url\": \"https://api.github.com/repos/adam-p/markdown-here\",\n",
      "            \"forks_url\": \"https://api.github.com/repos/adam-p/markdown-here/forks\",\n",
      "            \"keys_url\": \"https://api.github.com/repos/adam-p/markdown-here/keys{/key_id}\",\n",
      "            \"collaborators_url\": \"https://api.github.com/repos/adam-p/markdown-here/collaborators{/collaborator}\",\n",
      "            \"teams_url\": \"https://api.github.com/repos/adam-p/markdown-here/teams\",\n",
      "            \"hooks_url\": \"https://api.github.com/repos/adam-p/markdown-here/hooks\",\n",
      "            \"issue_events_url\": \"https://api.github.com/repos/adam-p/markdown-here/issues/events{/number}\",\n",
      "            \"events_url\": \"https://api.github.com/repos/adam-p/markdown-here/events\",\n",
      "            \"assignees_url\": \"https://api.github.com/repos/adam-p/markdown-here/assignees{/user}\",\n",
      "            \"branches_url\": \"https://api.github.com/repos/adam-p/markdown-here/branches{/branch}\",\n",
      "            \"tags_url\": \"https://api.github.com/repos/adam-p/markdown-here/tags\",\n",
      "            \"blobs_url\": \"https://api.github.com/repos/adam-p/markdown-here/git/blobs{/sha}\",\n",
      "            \"git_tags_url\": \"https://api.github.com/repos/adam-p/markdown-here/git/tags{/sha}\",\n",
      "            \"git_refs_url\": \"https://api.github.com/repos/adam-p/markdown-here/git/refs{/sha}\",\n",
      "            \"trees_url\": \"https://api.github.com/repos/adam-p/markdown-here/git/trees{/sha}\",\n",
      "            \"statuses_url\": \"https://api.github.com/repos/adam-p/markdown-here/statuses/{sha}\",\n",
      "            \"languages_url\": \"https://api.github.com/repos/adam-p/markdown-here/languages\",\n",
      "            \"stargazers_url\": \"https://api.github.com/repos/adam-p/markdown-here/stargazers\",\n",
      "            \"contributors_url\": \"https://api.github.com/repos/adam-p/markdown-here/contributors\",\n",
      "            \"subscribers_url\": \"https://api.github.com/repos/adam-p/markdown-here/subscribers\",\n",
      "            \"subscription_url\": \"https://api.github.com/repos/adam-p/markdown-here/subscription\",\n",
      "            \"commits_url\": \"https://api.github.com/repos/adam-p/markdown-here/commits{/sha}\",\n",
      "            \"git_commits_url\": \"https://api.github.com/repos/adam-p/markdown-here/git/commits{/sha}\",\n",
      "            \"comments_url\": \"https://api.github.com/repos/adam-p/markdown-here/comments{/number}\",\n",
      "            \"issue_comment_url\": \"https://api.github.com/repos/adam-p/markdown-here/issues/comments{/number}\",\n",
      "            \"contents_url\": \"https://api.github.com/repos/adam-p/markdown-here/contents/{+path}\",\n",
      "            \"compare_url\": \"https://api.github.com/repos/adam-p/markdown-here/compare/{base}...{head}\",\n",
      "            \"merges_url\": \"https://api.github.com/repos/adam-p/markdown-here/merges\",\n",
      "            \"archive_url\": \"https://api.github.com/repos/adam-p/markdown-here/{archive_format}{/ref}\",\n",
      "            \"downloads_url\": \"https://api.github.com/repos/adam-p/markdown-here/downloads\",\n",
      "            \"issues_url\": \"https://api.github.com/repos/adam-p/markdown-here/issues{/number}\",\n",
      "            \"pulls_url\": \"https://api.github.com/repos/adam-p/markdown-here/pulls{/number}\",\n",
      "            \"milestones_url\": \"https://api.github.com/repos/adam-p/markdown-here/milestones{/number}\",\n",
      "            \"notifications_url\": \"https://api.github.com/repos/adam-p/markdown-here/notifications{?since,all,participating}\",\n",
      "            \"labels_url\": \"https://api.github.com/repos/adam-p/markdown-here/labels{/name}\",\n",
      "            \"releases_url\": \"https://api.github.com/repos/adam-p/markdown-here/releases{/id}\",\n",
      "            \"deployments_url\": \"https://api.github.com/repos/adam-p/markdown-here/deployments\",\n",
      "            \"created_at\": \"2012-05-13T03:27:22Z\",\n",
      "            \"updated_at\": \"2023-11-15T20:35:17Z\",\n",
      "            \"pushed_at\": \"2023-01-16T15:01:42Z\",\n",
      "            \"git_url\": \"git://github.com/adam-p/markdown-here.git\",\n",
      "            \"ssh_url\": \"git@github.com:adam-p/markdown-here.git\",\n",
      "            \"clone_url\": \"https://github.com/adam-p/markdown-here.git\",\n",
      "            \"svn_url\": \"https://github.com/adam-p/markdown-here\",\n",
      "            \"homepage\": \"http://markdown-here.com\",\n",
      "            \"size\": 16027,\n",
      "            \"stargazers_count\": 59232,\n",
      "            \"watchers_count\": 59232,\n",
      "            \"language\": \"JavaScript\",\n",
      "            \"has_issues\": true,\n",
      "            \"has_projects\": true,\n",
      "            \"has_downloads\": true,\n",
      "            \"has_wiki\": true,\n",
      "            \"has_pages\": true,\n",
      "            \"has_discussions\": false,\n",
      "            \"forks_count\": 11428,\n",
      "            \"mirror_url\": null,\n",
      "            \"archived\": false,\n",
      "            \"disabled\": false,\n",
      "            \"open_issues_count\": 325,\n",
      "            \"license\": {\n",
      "                \"key\": \"mit\",\n",
      "                \"name\": \"MIT License\",\n",
      "                \"spdx_id\": \"MIT\",\n",
      "                \"url\": \"https://api.github.com/licenses/mit\",\n",
      "                \"node_id\": \"MDc6TGljZW5zZTEz\"\n",
      "            },\n",
      "            \"allow_forking\": true,\n",
      "            \"is_template\": false,\n",
      "            \"web_commit_signoff_required\": false,\n",
      "            \"topics\": [],\n",
      "            \"visibility\": \"public\",\n",
      "            \"forks\": 11428,\n",
      "            \"open_issues\": 325,\n",
      "            \"watchers\": 59232,\n",
      "            \"default_branch\": \"master\",\n",
      "            \"score\": 1.0\n",
      "        },\n",
      "        {\n",
      "            \"id\": 460078,\n",
      "            \"node_id\": \"MDEwOlJlcG9zaXRvcnk0NjAwNzg=\",\n",
      "            \"name\": \"angular.js\",\n",
      "            \"full_name\": \"angular/angular.js\",\n",
      "            \"private\": false,\n",
      "            \"owner\": {\n",
      "                \"login\": \"angular\",\n",
      "                \"id\": 139426,\n",
      "                \"node_id\": \"MDEyOk9yZ2FuaXphdGlvbjEzOTQyNg==\",\n",
      "                \"avatar_url\": \"https://avatars.githubusercontent.com/u/139426?v=4\",\n",
      "                \"gravatar_id\": \"\",\n",
      "                \"url\": \"https://api.github.com/users/angular\",\n",
      "                \"html_url\": \"https://github.com/angular\",\n",
      "                \"followers_url\": \"https://api.github.com/users/angular/followers\",\n",
      "                \"following_url\": \"https://api.github.com/users/angular/following{/other_user}\",\n",
      "                \"gists_url\": \"https://api.github.com/users/angular/gists{/gist_id}\",\n",
      "                \"starred_url\": \"https://api.github.com/users/angular/starred{/owner}{/repo}\",\n",
      "                \"subscriptions_url\": \"https://api.github.com/users/angular/subscriptions\",\n",
      "                \"organizations_url\": \"https://api.github.com/users/angular/orgs\",\n",
      "                \"repos_url\": \"https://api.github.com/users/angular/repos\",\n",
      "                \"events_url\": \"https://api.github.com/users/angular/events{/privacy}\",\n",
      "                \"received_events_url\": \"https://api.github.com/users/angular/received_events\",\n",
      "                \"type\": \"Organization\",\n",
      "                \"site_admin\": false\n",
      "            },\n",
      "            \"html_url\": \"https://github.com/angular/angular.js\",\n",
      "            \"description\": \"AngularJS - HTML enhanced for web apps!\",\n",
      "            \"fork\": false,\n",
      "            \"url\": \"https://api.github.com/repos/angular/angular.js\",\n",
      "            \"forks_url\": \"https://api.github.com/repos/angular/angular.js/forks\",\n",
      "            \"keys_url\": \"https://api.github.com/repos/angular/angular.js/keys{/key_id}\",\n",
      "            \"collaborators_url\": \"https://api.github.com/repos/angular/angular.js/collaborators{/collaborator}\",\n",
      "            \"teams_url\": \"https://api.github.com/repos/angular/angular.js/teams\",\n",
      "            \"hooks_url\": \"https://api.github.com/repos/angular/angular.js/hooks\",\n",
      "            \"issue_events_url\": \"https://api.github.com/repos/angular/angular.js/issues/events{/number}\",\n",
      "            \"events_url\": \"https://api.github.com/repos/angular/angular.js/events\",\n",
      "            \"assignees_url\": \"https://api.github.com/repos/angular/angular.js/assignees{/user}\",\n",
      "            \"branches_url\": \"https://api.github.com/repos/angular/angular.js/branches{/branch}\",\n",
      "            \"tags_url\": \"https://api.github.com/repos/angular/angular.js/tags\",\n",
      "            \"blobs_url\": \"https://api.github.com/repos/angular/angular.js/git/blobs{/sha}\",\n",
      "            \"git_tags_url\": \"https://api.github.com/repos/angular/angular.js/git/tags{/sha}\",\n",
      "            \"git_refs_url\": \"https://api.github.com/repos/angular/angular.js/git/refs{/sha}\",\n",
      "            \"trees_url\": \"https://api.github.com/repos/angular/angular.js/git/trees{/sha}\",\n",
      "            \"statuses_url\": \"https://api.github.com/repos/angular/angular.js/statuses/{sha}\",\n",
      "            \"languages_url\": \"https://api.github.com/repos/angular/angular.js/languages\",\n",
      "            \"stargazers_url\": \"https://api.github.com/repos/angular/angular.js/stargazers\",\n",
      "            \"contributors_url\": \"https://api.github.com/repos/angular/angular.js/contributors\",\n",
      "            \"subscribers_url\": \"https://api.github.com/repos/angular/angular.js/subscribers\",\n",
      "            \"subscription_url\": \"https://api.github.com/repos/angular/angular.js/subscription\",\n",
      "            \"commits_url\": \"https://api.github.com/repos/angular/angular.js/commits{/sha}\",\n",
      "            \"git_commits_url\": \"https://api.github.com/repos/angular/angular.js/git/commits{/sha}\",\n",
      "            \"comments_url\": \"https://api.github.com/repos/angular/angular.js/comments{/number}\",\n",
      "            \"issue_comment_url\": \"https://api.github.com/repos/angular/angular.js/issues/comments{/number}\",\n",
      "            \"contents_url\": \"https://api.github.com/repos/angular/angular.js/contents/{+path}\",\n",
      "            \"compare_url\": \"https://api.github.com/repos/angular/angular.js/compare/{base}...{head}\",\n",
      "            \"merges_url\": \"https://api.github.com/repos/angular/angular.js/merges\",\n",
      "            \"archive_url\": \"https://api.github.com/repos/angular/angular.js/{archive_format}{/ref}\",\n",
      "            \"downloads_url\": \"https://api.github.com/repos/angular/angular.js/downloads\",\n",
      "            \"issues_url\": \"https://api.github.com/repos/angular/angular.js/issues{/number}\",\n",
      "            \"pulls_url\": \"https://api.github.com/repos/angular/angular.js/pulls{/number}\",\n",
      "            \"milestones_url\": \"https://api.github.com/repos/angular/angular.js/milestones{/number}\",\n",
      "            \"notifications_url\": \"https://api.github.com/repos/angular/angular.js/notifications{?since,all,participating}\",\n",
      "            \"labels_url\": \"https://api.github.com/repos/angular/angular.js/labels{/name}\",\n",
      "            \"releases_url\": \"https://api.github.com/repos/angular/angular.js/releases{/id}\",\n",
      "            \"deployments_url\": \"https://api.github.com/repos/angular/angular.js/deployments\",\n",
      "            \"created_at\": \"2010-01-06T00:34:37Z\",\n",
      "            \"updated_at\": \"2023-11-15T20:09:30Z\",\n",
      "            \"pushed_at\": \"2022-04-12T15:57:22Z\",\n",
      "            \"git_url\": \"git://github.com/angular/angular.js.git\",\n",
      "            \"ssh_url\": \"git@github.com:angular/angular.js.git\",\n",
      "            \"clone_url\": \"https://github.com/angular/angular.js.git\",\n",
      "            \"svn_url\": \"https://github.com/angular/angular.js\",\n",
      "            \"homepage\": \"https://angularjs.org\",\n",
      "            \"size\": 101744,\n",
      "            \"stargazers_count\": 59025,\n",
      "            \"watchers_count\": 59025,\n",
      "            \"language\": \"JavaScript\",\n",
      "            \"has_issues\": true,\n",
      "            \"has_projects\": true,\n",
      "            \"has_downloads\": true,\n",
      "            \"has_wiki\": true,\n",
      "            \"has_pages\": false,\n",
      "            \"has_discussions\": false,\n",
      "            \"forks_count\": 28131,\n",
      "            \"mirror_url\": null,\n",
      "            \"archived\": true,\n",
      "            \"disabled\": false,\n",
      "            \"open_issues_count\": 464,\n",
      "            \"license\": {\n",
      "                \"key\": \"mit\",\n",
      "                \"name\": \"MIT License\",\n",
      "                \"spdx_id\": \"MIT\",\n",
      "                \"url\": \"https://api.github.com/licenses/mit\",\n",
      "                \"node_id\": \"MDc6TGljZW5zZTEz\"\n",
      "            },\n",
      "            \"allow_forking\": true,\n",
      "            \"is_template\": false,\n",
      "            \"web_commit_signoff_required\": false,\n",
      "            \"topics\": [],\n",
      "            \"visibility\": \"public\",\n",
      "            \"forks\": 28131,\n",
      "            \"open_issues\": 464,\n",
      "            \"watchers\": 59025,\n",
      "            \"default_branch\": \"master\",\n",
      "            \"score\": 1.0\n",
      "        },\n",
      "        {\n",
      "            \"id\": 167174,\n",
      "            \"node_id\": \"MDEwOlJlcG9zaXRvcnkxNjcxNzQ=\",\n",
      "            \"name\": \"jquery\",\n",
      "            \"full_name\": \"jquery/jquery\",\n",
      "            \"private\": false,\n",
      "            \"owner\": {\n",
      "                \"login\": \"jquery\",\n",
      "                \"id\": 70142,\n",
      "                \"node_id\": \"MDEyOk9yZ2FuaXphdGlvbjcwMTQy\",\n",
      "                \"avatar_url\": \"https://avatars.githubusercontent.com/u/70142?v=4\",\n",
      "                \"gravatar_id\": \"\",\n",
      "                \"url\": \"https://api.github.com/users/jquery\",\n",
      "                \"html_url\": \"https://github.com/jquery\",\n",
      "                \"followers_url\": \"https://api.github.com/users/jquery/followers\",\n",
      "                \"following_url\": \"https://api.github.com/users/jquery/following{/other_user}\",\n",
      "                \"gists_url\": \"https://api.github.com/users/jquery/gists{/gist_id}\",\n",
      "                \"starred_url\": \"https://api.github.com/users/jquery/starred{/owner}{/repo}\",\n",
      "                \"subscriptions_url\": \"https://api.github.com/users/jquery/subscriptions\",\n",
      "                \"organizations_url\": \"https://api.github.com/users/jquery/orgs\",\n",
      "                \"repos_url\": \"https://api.github.com/users/jquery/repos\",\n",
      "                \"events_url\": \"https://api.github.com/users/jquery/events{/privacy}\",\n",
      "                \"received_events_url\": \"https://api.github.com/users/jquery/received_events\",\n",
      "                \"type\": \"Organization\",\n",
      "                \"site_admin\": false\n",
      "            },\n",
      "            \"html_url\": \"https://github.com/jquery/jquery\",\n",
      "            \"description\": \"jQuery JavaScript Library\",\n",
      "            \"fork\": false,\n",
      "            \"url\": \"https://api.github.com/repos/jquery/jquery\",\n",
      "            \"forks_url\": \"https://api.github.com/repos/jquery/jquery/forks\",\n",
      "            \"keys_url\": \"https://api.github.com/repos/jquery/jquery/keys{/key_id}\",\n",
      "            \"collaborators_url\": \"https://api.github.com/repos/jquery/jquery/collaborators{/collaborator}\",\n",
      "            \"teams_url\": \"https://api.github.com/repos/jquery/jquery/teams\",\n",
      "            \"hooks_url\": \"https://api.github.com/repos/jquery/jquery/hooks\",\n",
      "            \"issue_events_url\": \"https://api.github.com/repos/jquery/jquery/issues/events{/number}\",\n",
      "            \"events_url\": \"https://api.github.com/repos/jquery/jquery/events\",\n",
      "            \"assignees_url\": \"https://api.github.com/repos/jquery/jquery/assignees{/user}\",\n",
      "            \"branches_url\": \"https://api.github.com/repos/jquery/jquery/branches{/branch}\",\n",
      "            \"tags_url\": \"https://api.github.com/repos/jquery/jquery/tags\",\n",
      "            \"blobs_url\": \"https://api.github.com/repos/jquery/jquery/git/blobs{/sha}\",\n",
      "            \"git_tags_url\": \"https://api.github.com/repos/jquery/jquery/git/tags{/sha}\",\n",
      "            \"git_refs_url\": \"https://api.github.com/repos/jquery/jquery/git/refs{/sha}\",\n",
      "            \"trees_url\": \"https://api.github.com/repos/jquery/jquery/git/trees{/sha}\",\n",
      "            \"statuses_url\": \"https://api.github.com/repos/jquery/jquery/statuses/{sha}\",\n",
      "            \"languages_url\": \"https://api.github.com/repos/jquery/jquery/languages\",\n",
      "            \"stargazers_url\": \"https://api.github.com/repos/jquery/jquery/stargazers\",\n",
      "            \"contributors_url\": \"https://api.github.com/repos/jquery/jquery/contributors\",\n",
      "            \"subscribers_url\": \"https://api.github.com/repos/jquery/jquery/subscribers\",\n",
      "            \"subscription_url\": \"https://api.github.com/repos/jquery/jquery/subscription\",\n",
      "            \"commits_url\": \"https://api.github.com/repos/jquery/jquery/commits{/sha}\",\n",
      "            \"git_commits_url\": \"https://api.github.com/repos/jquery/jquery/git/commits{/sha}\",\n",
      "            \"comments_url\": \"https://api.github.com/repos/jquery/jquery/comments{/number}\",\n",
      "            \"issue_comment_url\": \"https://api.github.com/repos/jquery/jquery/issues/comments{/number}\",\n",
      "            \"contents_url\": \"https://api.github.com/repos/jquery/jquery/contents/{+path}\",\n",
      "            \"compare_url\": \"https://api.github.com/repos/jquery/jquery/compare/{base}...{head}\",\n",
      "            \"merges_url\": \"https://api.github.com/repos/jquery/jquery/merges\",\n",
      "            \"archive_url\": \"https://api.github.com/repos/jquery/jquery/{archive_format}{/ref}\",\n",
      "            \"downloads_url\": \"https://api.github.com/repos/jquery/jquery/downloads\",\n",
      "            \"issues_url\": \"https://api.github.com/repos/jquery/jquery/issues{/number}\",\n",
      "            \"pulls_url\": \"https://api.github.com/repos/jquery/jquery/pulls{/number}\",\n",
      "            \"milestones_url\": \"https://api.github.com/repos/jquery/jquery/milestones{/number}\",\n",
      "            \"notifications_url\": \"https://api.github.com/repos/jquery/jquery/notifications{?since,all,participating}\",\n",
      "            \"labels_url\": \"https://api.github.com/repos/jquery/jquery/labels{/name}\",\n",
      "            \"releases_url\": \"https://api.github.com/repos/jquery/jquery/releases{/id}\",\n",
      "            \"deployments_url\": \"https://api.github.com/repos/jquery/jquery/deployments\",\n",
      "            \"created_at\": \"2009-04-03T15:20:14Z\",\n",
      "            \"updated_at\": \"2023-11-15T17:23:20Z\",\n",
      "            \"pushed_at\": \"2023-11-13T17:57:42Z\",\n",
      "            \"git_url\": \"git://github.com/jquery/jquery.git\",\n",
      "            \"ssh_url\": \"git@github.com:jquery/jquery.git\",\n",
      "            \"clone_url\": \"https://github.com/jquery/jquery.git\",\n",
      "            \"svn_url\": \"https://github.com/jquery/jquery\",\n",
      "            \"homepage\": \"https://jquery.com\",\n",
      "            \"size\": 32866,\n",
      "            \"stargazers_count\": 58028,\n",
      "            \"watchers_count\": 58028,\n",
      "            \"language\": \"JavaScript\",\n",
      "            \"has_issues\": true,\n",
      "            \"has_projects\": false,\n",
      "            \"has_downloads\": false,\n",
      "            \"has_wiki\": true,\n",
      "            \"has_pages\": false,\n",
      "            \"has_discussions\": true,\n",
      "            \"forks_count\": 20906,\n",
      "            \"mirror_url\": null,\n",
      "            \"archived\": false,\n",
      "            \"disabled\": false,\n",
      "            \"open_issues_count\": 86,\n",
      "            \"license\": {\n",
      "                \"key\": \"mit\",\n",
      "                \"name\": \"MIT License\",\n",
      "                \"spdx_id\": \"MIT\",\n",
      "                \"url\": \"https://api.github.com/licenses/mit\",\n",
      "                \"node_id\": \"MDc6TGljZW5zZTEz\"\n",
      "            },\n",
      "            \"allow_forking\": true,\n",
      "            \"is_template\": false,\n",
      "            \"web_commit_signoff_required\": false,\n",
      "            \"topics\": [\n",
      "                \"jquery\"\n",
      "            ],\n",
      "            \"visibility\": \"public\",\n",
      "            \"forks\": 20906,\n",
      "            \"open_issues\": 86,\n",
      "            \"watchers\": 58028,\n",
      "            \"default_branch\": \"main\",\n",
      "            \"score\": 1.0\n",
      "        }\n",
      "    ]\n",
      "}\n"
     ]
    }
   ],
   "source": [
    "import requests\n",
    "\n",
    "# Make an API call to github extract the most popular projects in SQL\n",
    "\n",
    "url = \"https://api.github.com/search/repositories?q=language:javascript+sort:stars+stars:>10000\"\n",
    "headers = {\"Accept\": \"application/vnd.github.v3+json\"}\n",
    "\n",
    "r = requests.get(url, headers = headers)\n",
    "print(f\"Status Code: {r.status_code}\")\n",
    "\n",
    "# Process over the results \n",
    "response_dict = r.json()\n",
    "response_string = json.dumps(response_dict, indent=4) \n",
    "\n",
    "print(response_string)"
   ]
  },
  {
   "cell_type": "code",
   "execution_count": 37,
   "metadata": {},
   "outputs": [
    {
     "name": "stdout",
     "output_type": "stream",
     "text": [
      "Status Code: 200\n",
      "Complete Results: True\n"
     ]
    },
    {
     "data": {
      "application/vnd.plotly.v1+json": {
       "config": {
        "plotlyServerURL": "https://plot.ly"
       },
       "data": [
        {
         "alignmentgroup": "True",
         "hovertemplate": "<b>%{hovertext}</b><br><br>Project Names=%{x}<br>Likes Count=%{y}<extra></extra>",
         "hovertext": [
          "facebook <br /> The library for web and native user interfaces.",
          "trekhleb <br /> 📝 Algorithms and data structures implemented in JavaScript with explanations and links to further readings",
          "twbs <br /> The most popular HTML, CSS, and JavaScript framework for developing responsive, mobile first projects on the web.",
          "Significant-Gravitas <br /> An experimental open-source attempt to make GPT-4 fully autonomous.",
          "airbnb <br /> JavaScript Style Guide",
          "Chalarangelo <br /> Short code snippets for all your development needs",
          "vercel <br /> The React Framework",
          "axios <br /> Promise based HTTP client for the browser and node.js",
          "facebook <br /> Set up a modern web app by running one command.",
          "nodejs <br /> Node.js JavaScript runtime :sparkles::turtle::rocket::sparkles:",
          "mrdoob <br /> JavaScript 3D Library.",
          "ryanmcdermott <br /> :bathtub: Clean Code concepts adapted for JavaScript",
          "microsoft <br /> 24 Lessons, 12 Weeks, Get Started as a Web Developer",
          "sveltejs <br /> Cybernetically enhanced web apps",
          "FortAwesome <br /> The iconic SVG, font, and CSS toolkit",
          "iptv-org <br /> Collection of publicly available IPTV channels from all over the world",
          "typicode <br /> Get a full fake REST API with zero coding in less than 30 seconds (seriously)",
          "hakimel <br /> The HTML Presentation Framework",
          "jaywcjlove <br />  Now we have become very big, Different from the original idea. Collect premium software in various categories.",
          "webpack <br /> A bundler for javascript and friends. Packs many modules into a few bundled assets. Code Splitting allows for loading parts of the application on demand. Through \"loaders\", modules can be CommonJs, AMD, ES6 modules, CSS, Images, JSON, Coffeescript, LESS, ... and your custom stuff.",
          "mermaid-js <br /> Generation of diagrams like flowcharts or sequence diagrams from text in a similar manner as markdown",
          "chartjs <br /> Simple HTML5 Charts using the <canvas> tag",
          "expressjs <br /> Fast, unopinionated, minimalist web framework for node.",
          "anuraghazra <br /> :zap: Dynamically generated stats for your github readmes",
          "resume <br /> Resumes generated using the GitHub informations",
          "leonardomso <br /> 📜 33 JavaScript concepts every developer should know.",
          "atom <br /> :atom: The hackable text editor",
          "adam-p <br /> Google Chrome, Firefox, and Thunderbird extension that lets you write email in Markdown and render it before sending.",
          "angular <br /> AngularJS - HTML enhanced for web apps!",
          "jquery <br /> jQuery JavaScript Library"
         ],
         "legendgroup": "",
         "marker": {
          "color": "Green",
          "opacity": 0.6,
          "pattern": {
           "shape": ""
          }
         },
         "name": "",
         "offsetgroup": "",
         "orientation": "v",
         "showlegend": false,
         "textposition": "auto",
         "type": "bar",
         "x": [
          "<a href=https://api.github.com/repos/facebook/react>react</a>",
          "<a href=https://api.github.com/repos/trekhleb/javascript-algorithms>javascript-algorithms</a>",
          "<a href=https://api.github.com/repos/twbs/bootstrap>bootstrap</a>",
          "<a href=https://api.github.com/repos/Significant-Gravitas/AutoGPT>AutoGPT</a>",
          "<a href=https://api.github.com/repos/airbnb/javascript>javascript</a>",
          "<a href=https://api.github.com/repos/Chalarangelo/30-seconds-of-code>30-seconds-of-code</a>",
          "<a href=https://api.github.com/repos/vercel/next.js>next.js</a>",
          "<a href=https://api.github.com/repos/axios/axios>axios</a>",
          "<a href=https://api.github.com/repos/facebook/create-react-app>create-react-app</a>",
          "<a href=https://api.github.com/repos/nodejs/node>node</a>",
          "<a href=https://api.github.com/repos/mrdoob/three.js>three.js</a>",
          "<a href=https://api.github.com/repos/ryanmcdermott/clean-code-javascript>clean-code-javascript</a>",
          "<a href=https://api.github.com/repos/microsoft/Web-Dev-For-Beginners>Web-Dev-For-Beginners</a>",
          "<a href=https://api.github.com/repos/sveltejs/svelte>svelte</a>",
          "<a href=https://api.github.com/repos/FortAwesome/Font-Awesome>Font-Awesome</a>",
          "<a href=https://api.github.com/repos/iptv-org/iptv>iptv</a>",
          "<a href=https://api.github.com/repos/typicode/json-server>json-server</a>",
          "<a href=https://api.github.com/repos/hakimel/reveal.js>reveal.js</a>",
          "<a href=https://api.github.com/repos/jaywcjlove/awesome-mac>awesome-mac</a>",
          "<a href=https://api.github.com/repos/webpack/webpack>webpack</a>",
          "<a href=https://api.github.com/repos/mermaid-js/mermaid>mermaid</a>",
          "<a href=https://api.github.com/repos/chartjs/Chart.js>Chart.js</a>",
          "<a href=https://api.github.com/repos/expressjs/express>express</a>",
          "<a href=https://api.github.com/repos/anuraghazra/github-readme-stats>github-readme-stats</a>",
          "<a href=https://api.github.com/repos/resume/resume.github.com>resume.github.com</a>",
          "<a href=https://api.github.com/repos/leonardomso/33-js-concepts>33-js-concepts</a>",
          "<a href=https://api.github.com/repos/atom/atom>atom</a>",
          "<a href=https://api.github.com/repos/adam-p/markdown-here>markdown-here</a>",
          "<a href=https://api.github.com/repos/angular/angular.js>angular.js</a>",
          "<a href=https://api.github.com/repos/jquery/jquery>jquery</a>"
         ],
         "xaxis": "x",
         "y": [
          215270,
          177069,
          165877,
          153105,
          139247,
          116512,
          114630,
          102490,
          101065,
          99365,
          95626,
          86719,
          78209,
          73792,
          72439,
          70558,
          69264,
          65103,
          64961,
          63656,
          62771,
          62308,
          62294,
          60931,
          60904,
          59734,
          59670,
          59232,
          59025,
          58028
         ],
         "yaxis": "y"
        }
       ],
       "layout": {
        "barmode": "relative",
        "legend": {
         "tracegroupgap": 0
        },
        "template": {
         "data": {
          "bar": [
           {
            "error_x": {
             "color": "#2a3f5f"
            },
            "error_y": {
             "color": "#2a3f5f"
            },
            "marker": {
             "line": {
              "color": "#E5ECF6",
              "width": 0.5
             },
             "pattern": {
              "fillmode": "overlay",
              "size": 10,
              "solidity": 0.2
             }
            },
            "type": "bar"
           }
          ],
          "barpolar": [
           {
            "marker": {
             "line": {
              "color": "#E5ECF6",
              "width": 0.5
             },
             "pattern": {
              "fillmode": "overlay",
              "size": 10,
              "solidity": 0.2
             }
            },
            "type": "barpolar"
           }
          ],
          "carpet": [
           {
            "aaxis": {
             "endlinecolor": "#2a3f5f",
             "gridcolor": "white",
             "linecolor": "white",
             "minorgridcolor": "white",
             "startlinecolor": "#2a3f5f"
            },
            "baxis": {
             "endlinecolor": "#2a3f5f",
             "gridcolor": "white",
             "linecolor": "white",
             "minorgridcolor": "white",
             "startlinecolor": "#2a3f5f"
            },
            "type": "carpet"
           }
          ],
          "choropleth": [
           {
            "colorbar": {
             "outlinewidth": 0,
             "ticks": ""
            },
            "type": "choropleth"
           }
          ],
          "contour": [
           {
            "colorbar": {
             "outlinewidth": 0,
             "ticks": ""
            },
            "colorscale": [
             [
              0,
              "#0d0887"
             ],
             [
              0.1111111111111111,
              "#46039f"
             ],
             [
              0.2222222222222222,
              "#7201a8"
             ],
             [
              0.3333333333333333,
              "#9c179e"
             ],
             [
              0.4444444444444444,
              "#bd3786"
             ],
             [
              0.5555555555555556,
              "#d8576b"
             ],
             [
              0.6666666666666666,
              "#ed7953"
             ],
             [
              0.7777777777777778,
              "#fb9f3a"
             ],
             [
              0.8888888888888888,
              "#fdca26"
             ],
             [
              1,
              "#f0f921"
             ]
            ],
            "type": "contour"
           }
          ],
          "contourcarpet": [
           {
            "colorbar": {
             "outlinewidth": 0,
             "ticks": ""
            },
            "type": "contourcarpet"
           }
          ],
          "heatmap": [
           {
            "colorbar": {
             "outlinewidth": 0,
             "ticks": ""
            },
            "colorscale": [
             [
              0,
              "#0d0887"
             ],
             [
              0.1111111111111111,
              "#46039f"
             ],
             [
              0.2222222222222222,
              "#7201a8"
             ],
             [
              0.3333333333333333,
              "#9c179e"
             ],
             [
              0.4444444444444444,
              "#bd3786"
             ],
             [
              0.5555555555555556,
              "#d8576b"
             ],
             [
              0.6666666666666666,
              "#ed7953"
             ],
             [
              0.7777777777777778,
              "#fb9f3a"
             ],
             [
              0.8888888888888888,
              "#fdca26"
             ],
             [
              1,
              "#f0f921"
             ]
            ],
            "type": "heatmap"
           }
          ],
          "heatmapgl": [
           {
            "colorbar": {
             "outlinewidth": 0,
             "ticks": ""
            },
            "colorscale": [
             [
              0,
              "#0d0887"
             ],
             [
              0.1111111111111111,
              "#46039f"
             ],
             [
              0.2222222222222222,
              "#7201a8"
             ],
             [
              0.3333333333333333,
              "#9c179e"
             ],
             [
              0.4444444444444444,
              "#bd3786"
             ],
             [
              0.5555555555555556,
              "#d8576b"
             ],
             [
              0.6666666666666666,
              "#ed7953"
             ],
             [
              0.7777777777777778,
              "#fb9f3a"
             ],
             [
              0.8888888888888888,
              "#fdca26"
             ],
             [
              1,
              "#f0f921"
             ]
            ],
            "type": "heatmapgl"
           }
          ],
          "histogram": [
           {
            "marker": {
             "pattern": {
              "fillmode": "overlay",
              "size": 10,
              "solidity": 0.2
             }
            },
            "type": "histogram"
           }
          ],
          "histogram2d": [
           {
            "colorbar": {
             "outlinewidth": 0,
             "ticks": ""
            },
            "colorscale": [
             [
              0,
              "#0d0887"
             ],
             [
              0.1111111111111111,
              "#46039f"
             ],
             [
              0.2222222222222222,
              "#7201a8"
             ],
             [
              0.3333333333333333,
              "#9c179e"
             ],
             [
              0.4444444444444444,
              "#bd3786"
             ],
             [
              0.5555555555555556,
              "#d8576b"
             ],
             [
              0.6666666666666666,
              "#ed7953"
             ],
             [
              0.7777777777777778,
              "#fb9f3a"
             ],
             [
              0.8888888888888888,
              "#fdca26"
             ],
             [
              1,
              "#f0f921"
             ]
            ],
            "type": "histogram2d"
           }
          ],
          "histogram2dcontour": [
           {
            "colorbar": {
             "outlinewidth": 0,
             "ticks": ""
            },
            "colorscale": [
             [
              0,
              "#0d0887"
             ],
             [
              0.1111111111111111,
              "#46039f"
             ],
             [
              0.2222222222222222,
              "#7201a8"
             ],
             [
              0.3333333333333333,
              "#9c179e"
             ],
             [
              0.4444444444444444,
              "#bd3786"
             ],
             [
              0.5555555555555556,
              "#d8576b"
             ],
             [
              0.6666666666666666,
              "#ed7953"
             ],
             [
              0.7777777777777778,
              "#fb9f3a"
             ],
             [
              0.8888888888888888,
              "#fdca26"
             ],
             [
              1,
              "#f0f921"
             ]
            ],
            "type": "histogram2dcontour"
           }
          ],
          "mesh3d": [
           {
            "colorbar": {
             "outlinewidth": 0,
             "ticks": ""
            },
            "type": "mesh3d"
           }
          ],
          "parcoords": [
           {
            "line": {
             "colorbar": {
              "outlinewidth": 0,
              "ticks": ""
             }
            },
            "type": "parcoords"
           }
          ],
          "pie": [
           {
            "automargin": true,
            "type": "pie"
           }
          ],
          "scatter": [
           {
            "fillpattern": {
             "fillmode": "overlay",
             "size": 10,
             "solidity": 0.2
            },
            "type": "scatter"
           }
          ],
          "scatter3d": [
           {
            "line": {
             "colorbar": {
              "outlinewidth": 0,
              "ticks": ""
             }
            },
            "marker": {
             "colorbar": {
              "outlinewidth": 0,
              "ticks": ""
             }
            },
            "type": "scatter3d"
           }
          ],
          "scattercarpet": [
           {
            "marker": {
             "colorbar": {
              "outlinewidth": 0,
              "ticks": ""
             }
            },
            "type": "scattercarpet"
           }
          ],
          "scattergeo": [
           {
            "marker": {
             "colorbar": {
              "outlinewidth": 0,
              "ticks": ""
             }
            },
            "type": "scattergeo"
           }
          ],
          "scattergl": [
           {
            "marker": {
             "colorbar": {
              "outlinewidth": 0,
              "ticks": ""
             }
            },
            "type": "scattergl"
           }
          ],
          "scattermapbox": [
           {
            "marker": {
             "colorbar": {
              "outlinewidth": 0,
              "ticks": ""
             }
            },
            "type": "scattermapbox"
           }
          ],
          "scatterpolar": [
           {
            "marker": {
             "colorbar": {
              "outlinewidth": 0,
              "ticks": ""
             }
            },
            "type": "scatterpolar"
           }
          ],
          "scatterpolargl": [
           {
            "marker": {
             "colorbar": {
              "outlinewidth": 0,
              "ticks": ""
             }
            },
            "type": "scatterpolargl"
           }
          ],
          "scatterternary": [
           {
            "marker": {
             "colorbar": {
              "outlinewidth": 0,
              "ticks": ""
             }
            },
            "type": "scatterternary"
           }
          ],
          "surface": [
           {
            "colorbar": {
             "outlinewidth": 0,
             "ticks": ""
            },
            "colorscale": [
             [
              0,
              "#0d0887"
             ],
             [
              0.1111111111111111,
              "#46039f"
             ],
             [
              0.2222222222222222,
              "#7201a8"
             ],
             [
              0.3333333333333333,
              "#9c179e"
             ],
             [
              0.4444444444444444,
              "#bd3786"
             ],
             [
              0.5555555555555556,
              "#d8576b"
             ],
             [
              0.6666666666666666,
              "#ed7953"
             ],
             [
              0.7777777777777778,
              "#fb9f3a"
             ],
             [
              0.8888888888888888,
              "#fdca26"
             ],
             [
              1,
              "#f0f921"
             ]
            ],
            "type": "surface"
           }
          ],
          "table": [
           {
            "cells": {
             "fill": {
              "color": "#EBF0F8"
             },
             "line": {
              "color": "white"
             }
            },
            "header": {
             "fill": {
              "color": "#C8D4E3"
             },
             "line": {
              "color": "white"
             }
            },
            "type": "table"
           }
          ]
         },
         "layout": {
          "annotationdefaults": {
           "arrowcolor": "#2a3f5f",
           "arrowhead": 0,
           "arrowwidth": 1
          },
          "autotypenumbers": "strict",
          "coloraxis": {
           "colorbar": {
            "outlinewidth": 0,
            "ticks": ""
           }
          },
          "colorscale": {
           "diverging": [
            [
             0,
             "#8e0152"
            ],
            [
             0.1,
             "#c51b7d"
            ],
            [
             0.2,
             "#de77ae"
            ],
            [
             0.3,
             "#f1b6da"
            ],
            [
             0.4,
             "#fde0ef"
            ],
            [
             0.5,
             "#f7f7f7"
            ],
            [
             0.6,
             "#e6f5d0"
            ],
            [
             0.7,
             "#b8e186"
            ],
            [
             0.8,
             "#7fbc41"
            ],
            [
             0.9,
             "#4d9221"
            ],
            [
             1,
             "#276419"
            ]
           ],
           "sequential": [
            [
             0,
             "#0d0887"
            ],
            [
             0.1111111111111111,
             "#46039f"
            ],
            [
             0.2222222222222222,
             "#7201a8"
            ],
            [
             0.3333333333333333,
             "#9c179e"
            ],
            [
             0.4444444444444444,
             "#bd3786"
            ],
            [
             0.5555555555555556,
             "#d8576b"
            ],
            [
             0.6666666666666666,
             "#ed7953"
            ],
            [
             0.7777777777777778,
             "#fb9f3a"
            ],
            [
             0.8888888888888888,
             "#fdca26"
            ],
            [
             1,
             "#f0f921"
            ]
           ],
           "sequentialminus": [
            [
             0,
             "#0d0887"
            ],
            [
             0.1111111111111111,
             "#46039f"
            ],
            [
             0.2222222222222222,
             "#7201a8"
            ],
            [
             0.3333333333333333,
             "#9c179e"
            ],
            [
             0.4444444444444444,
             "#bd3786"
            ],
            [
             0.5555555555555556,
             "#d8576b"
            ],
            [
             0.6666666666666666,
             "#ed7953"
            ],
            [
             0.7777777777777778,
             "#fb9f3a"
            ],
            [
             0.8888888888888888,
             "#fdca26"
            ],
            [
             1,
             "#f0f921"
            ]
           ]
          },
          "colorway": [
           "#636efa",
           "#EF553B",
           "#00cc96",
           "#ab63fa",
           "#FFA15A",
           "#19d3f3",
           "#FF6692",
           "#B6E880",
           "#FF97FF",
           "#FECB52"
          ],
          "font": {
           "color": "#2a3f5f"
          },
          "geo": {
           "bgcolor": "white",
           "lakecolor": "white",
           "landcolor": "#E5ECF6",
           "showlakes": true,
           "showland": true,
           "subunitcolor": "white"
          },
          "hoverlabel": {
           "align": "left"
          },
          "hovermode": "closest",
          "mapbox": {
           "style": "light"
          },
          "paper_bgcolor": "white",
          "plot_bgcolor": "#E5ECF6",
          "polar": {
           "angularaxis": {
            "gridcolor": "white",
            "linecolor": "white",
            "ticks": ""
           },
           "bgcolor": "#E5ECF6",
           "radialaxis": {
            "gridcolor": "white",
            "linecolor": "white",
            "ticks": ""
           }
          },
          "scene": {
           "xaxis": {
            "backgroundcolor": "#E5ECF6",
            "gridcolor": "white",
            "gridwidth": 2,
            "linecolor": "white",
            "showbackground": true,
            "ticks": "",
            "zerolinecolor": "white"
           },
           "yaxis": {
            "backgroundcolor": "#E5ECF6",
            "gridcolor": "white",
            "gridwidth": 2,
            "linecolor": "white",
            "showbackground": true,
            "ticks": "",
            "zerolinecolor": "white"
           },
           "zaxis": {
            "backgroundcolor": "#E5ECF6",
            "gridcolor": "white",
            "gridwidth": 2,
            "linecolor": "white",
            "showbackground": true,
            "ticks": "",
            "zerolinecolor": "white"
           }
          },
          "shapedefaults": {
           "line": {
            "color": "#2a3f5f"
           }
          },
          "ternary": {
           "aaxis": {
            "gridcolor": "white",
            "linecolor": "white",
            "ticks": ""
           },
           "baxis": {
            "gridcolor": "white",
            "linecolor": "white",
            "ticks": ""
           },
           "bgcolor": "#E5ECF6",
           "caxis": {
            "gridcolor": "white",
            "linecolor": "white",
            "ticks": ""
           }
          },
          "title": {
           "x": 0.05
          },
          "xaxis": {
           "automargin": true,
           "gridcolor": "white",
           "linecolor": "white",
           "ticks": "",
           "title": {
            "standoff": 15
           },
           "zerolinecolor": "white",
           "zerolinewidth": 2
          },
          "yaxis": {
           "automargin": true,
           "gridcolor": "white",
           "linecolor": "white",
           "ticks": "",
           "title": {
            "standoff": 15
           },
           "zerolinecolor": "white",
           "zerolinewidth": 2
          }
         }
        },
        "title": {
         "font": {
          "size": 16
         },
         "text": "Most popular projects in Javascript"
        },
        "xaxis": {
         "anchor": "y",
         "domain": [
          0,
          1
         ],
         "title": {
          "font": {
           "size": 10
          },
          "text": "Project Names"
         }
        },
        "yaxis": {
         "anchor": "x",
         "domain": [
          0,
          1
         ],
         "title": {
          "font": {
           "size": 10
          },
          "text": "Likes Count"
         }
        }
       }
      }
     },
     "metadata": {},
     "output_type": "display_data"
    }
   ],
   "source": [
    "import requests\n",
    "import plotly.express as px \n",
    "\n",
    "# Make an API call to github extract the most popular projects in SQL\n",
    "\n",
    "url = \"https://api.github.com/search/repositories?q=language:javascript+sort:stars+stars:>10000\"\n",
    "headers = {\"Accept\": \"application/vnd.github.v3+json\"}\n",
    "\n",
    "r = requests.get(url, headers=headers)\n",
    "print(f\"Status Code: {r.status_code}\")\n",
    "\n",
    "# Process over the results\n",
    "response_dict = r.json()\n",
    "print(f\"Complete Results: {not response_dict ['incomplete_results']}\")\n",
    "\n",
    "repo_dicts = response_dict[\"items\"]\n",
    "# Extract information from the API Call \n",
    "links, stars, hover_texts = [],[],[] \n",
    "\n",
    "for repo_dict in repo_dicts: \n",
    "    # Making a clickable link to the name \n",
    "    name = repo_dict[\"name\"]\n",
    "    repo_url = repo_dict[\"url\"]\n",
    "    link = f\"<a href={repo_url}>{name}</a>\"\n",
    "    links.append(link)\n",
    "    # Make hover text label with owner namd and description\n",
    "    owner = repo_dict['owner']['login']\n",
    "    description = repo_dict['description']\n",
    "    hover_text = f\"{owner} <br /> {description}\"\n",
    "    hover_texts.append(hover_text)\n",
    "    #  star count \n",
    "    stars.append(repo_dict['stargazers_count'])\n",
    "\n",
    "# plot visualization \n",
    "title = \"Most popular projects in Javascript\"\n",
    "labels = {'x':'Project Names', 'y':'Likes Count'}\n",
    "\n",
    "fig = px.bar(x=links, y=stars, title= title, labels = labels, hover_name=hover_texts) \n",
    "\n",
    "# Customize font size of the labels \n",
    "fig.update_layout(title_font_size = 16, xaxis_title_font_size =10, yaxis_title_font_size= 10)\n",
    "\n",
    "#Customeize color of the markets \n",
    "fig.update_traces(marker_color = 'Green', marker_opacity = 0.6) \n",
    "\n",
    "fig.show() "
   ]
  },
  {
   "cell_type": "markdown",
   "metadata": {},
   "source": [
    "17-2. Active Discussions: Using the data from hn_submissions.py, make a bar\n",
    "chart showing the most active discussions currently happening on Hacker News.\n",
    "The height of each bar should correspond to the number of comments each sub-\n",
    "mission has. The label for each bar should include the submission’s title and act\n",
    "as a link to the discussion page for that submission. If you get a KeyError when\n",
    "creating a chart, use a try-except block to skip over the promotional posts."
   ]
  },
  {
   "cell_type": "code",
   "execution_count": 81,
   "metadata": {},
   "outputs": [
    {
     "name": "stdout",
     "output_type": "stream",
     "text": [
      "38290145: Status code: 200\n",
      "38293714: Status code: 200\n",
      "38290613: Status code: 200\n",
      "38292553: Status code: 200\n",
      "38291199: Status code: 200\n",
      "38291139: Status code: 200\n",
      "38293817: Status code: 200\n",
      "38291735: Status code: 200\n",
      "38292102: Status code: 200\n",
      "38276430: Status code: 200\n",
      "38276418: Status code: 200\n",
      "38291427: Status code: 200\n",
      "38289327: Status code: 200\n",
      "38291880: Status code: 200\n",
      "38276727: Status code: 200\n",
      "38275698: Status code: 200\n",
      "38288980: Status code: 200\n",
      "38291399: Status code: 200\n",
      "38287257: Status code: 200\n",
      "38288130: Status code: 200\n"
     ]
    },
    {
     "data": {
      "application/vnd.plotly.v1+json": {
       "config": {
        "plotlyServerURL": "https://plot.ly"
       },
       "data": [
        {
         "alignmentgroup": "True",
         "hovertemplate": "<b>%{hovertext}</b><br><br>x=%{x}<br>y=%{y}<extra></extra>",
         "hovertext": [
          "The real realtime preemption end game by chmaynard",
          "Air Accident Investigation Branch: film lights caused window damage on A321neo by camtarn",
          "From email to phone number, a new OSINT approach (2019) by Luc",
          "Migrating to OpenTelemetry by kkoppenhaver",
          "Zimbra 0-day used to steal email data from government organizations by hasheddan",
          "Emu Video and Emu Edit, our latest generative AI research milestones by ot",
          "Hackers Know Everything Is Securities Fraud by toomuchtodo",
          "The CWEB System of Structured Documentation by weeber",
          "std::source_location Is Broken by jandeboevrie",
          "Show HN: Numbat – A programming language with physical dimensions as types by sharkdp",
          "Frutiger Aero by carlos-menezes",
          "Privacy is priceless, but Signal is expensive by mikece",
          "You don't need a CRDT to build a collaborative experience by zknill",
          "AI-Exploits: Repo of multiple unauthenticated RCEs in AI tools by DanMcInerney",
          "Operating on a minimal two-core Postgres instance: Query optimization insights by rob742",
          "Hello World on the GPU (2019) by thdespou",
          "Printed robots with bones, ligaments, and tendons by cainxinth",
          "Ransomware Group Files SEC Complaint over Victim's Failure Disclose Data Breach by LinuxBender",
          "Smart drugs reduce quality of effort, and slow decision-making by wjb3",
          "I think I need to go lie down by mfbx9da4"
         ],
         "legendgroup": "",
         "marker": {
          "color": "#636efa",
          "pattern": {
           "shape": ""
          }
         },
         "name": "",
         "offsetgroup": "",
         "orientation": "v",
         "showlegend": false,
         "textposition": "auto",
         "type": "bar",
         "x": [
          "<a href =''> The real realtime preemption e</a>",
          "<a href =''> Air Accident Investigation Bra</a>",
          "<a href =''> From email to phone number, a </a>",
          "<a href =''> Migrating to OpenTelemetry</a>",
          "<a href =''> Zimbra 0-day used to steal ema</a>",
          "<a href =''> Emu Video and Emu Edit, our la</a>",
          "<a href =''> Hackers Know Everything Is Sec</a>",
          "<a href =''> The CWEB System of Structured </a>",
          "<a href =''> std::source_location Is Broken</a>",
          "<a href =''> Show HN: Numbat – A programmin</a>",
          "<a href =''> Frutiger Aero</a>",
          "<a href =''> Privacy is priceless, but Sign</a>",
          "<a href =''> You don't need a CRDT to build</a>",
          "<a href =''> AI-Exploits: Repo of multiple </a>",
          "<a href =''> Operating on a minimal two-cor</a>",
          "<a href =''> Hello World on the GPU (2019)</a>",
          "<a href =''> Printed robots with bones, lig</a>",
          "<a href =''> Ransomware Group Files SEC Com</a>",
          "<a href =''> Smart drugs reduce quality of </a>",
          "<a href =''> I think I need to go lie down</a>"
         ],
         "xaxis": "x",
         "y": [
          126,
          9,
          50,
          13,
          12,
          10,
          11,
          0,
          13,
          49,
          8,
          440,
          25,
          3,
          112,
          9,
          34,
          36,
          146,
          355
         ],
         "yaxis": "y"
        }
       ],
       "layout": {
        "barmode": "relative",
        "legend": {
         "tracegroupgap": 0
        },
        "margin": {
         "t": 60
        },
        "template": {
         "data": {
          "bar": [
           {
            "error_x": {
             "color": "#2a3f5f"
            },
            "error_y": {
             "color": "#2a3f5f"
            },
            "marker": {
             "line": {
              "color": "#E5ECF6",
              "width": 0.5
             },
             "pattern": {
              "fillmode": "overlay",
              "size": 10,
              "solidity": 0.2
             }
            },
            "type": "bar"
           }
          ],
          "barpolar": [
           {
            "marker": {
             "line": {
              "color": "#E5ECF6",
              "width": 0.5
             },
             "pattern": {
              "fillmode": "overlay",
              "size": 10,
              "solidity": 0.2
             }
            },
            "type": "barpolar"
           }
          ],
          "carpet": [
           {
            "aaxis": {
             "endlinecolor": "#2a3f5f",
             "gridcolor": "white",
             "linecolor": "white",
             "minorgridcolor": "white",
             "startlinecolor": "#2a3f5f"
            },
            "baxis": {
             "endlinecolor": "#2a3f5f",
             "gridcolor": "white",
             "linecolor": "white",
             "minorgridcolor": "white",
             "startlinecolor": "#2a3f5f"
            },
            "type": "carpet"
           }
          ],
          "choropleth": [
           {
            "colorbar": {
             "outlinewidth": 0,
             "ticks": ""
            },
            "type": "choropleth"
           }
          ],
          "contour": [
           {
            "colorbar": {
             "outlinewidth": 0,
             "ticks": ""
            },
            "colorscale": [
             [
              0,
              "#0d0887"
             ],
             [
              0.1111111111111111,
              "#46039f"
             ],
             [
              0.2222222222222222,
              "#7201a8"
             ],
             [
              0.3333333333333333,
              "#9c179e"
             ],
             [
              0.4444444444444444,
              "#bd3786"
             ],
             [
              0.5555555555555556,
              "#d8576b"
             ],
             [
              0.6666666666666666,
              "#ed7953"
             ],
             [
              0.7777777777777778,
              "#fb9f3a"
             ],
             [
              0.8888888888888888,
              "#fdca26"
             ],
             [
              1,
              "#f0f921"
             ]
            ],
            "type": "contour"
           }
          ],
          "contourcarpet": [
           {
            "colorbar": {
             "outlinewidth": 0,
             "ticks": ""
            },
            "type": "contourcarpet"
           }
          ],
          "heatmap": [
           {
            "colorbar": {
             "outlinewidth": 0,
             "ticks": ""
            },
            "colorscale": [
             [
              0,
              "#0d0887"
             ],
             [
              0.1111111111111111,
              "#46039f"
             ],
             [
              0.2222222222222222,
              "#7201a8"
             ],
             [
              0.3333333333333333,
              "#9c179e"
             ],
             [
              0.4444444444444444,
              "#bd3786"
             ],
             [
              0.5555555555555556,
              "#d8576b"
             ],
             [
              0.6666666666666666,
              "#ed7953"
             ],
             [
              0.7777777777777778,
              "#fb9f3a"
             ],
             [
              0.8888888888888888,
              "#fdca26"
             ],
             [
              1,
              "#f0f921"
             ]
            ],
            "type": "heatmap"
           }
          ],
          "heatmapgl": [
           {
            "colorbar": {
             "outlinewidth": 0,
             "ticks": ""
            },
            "colorscale": [
             [
              0,
              "#0d0887"
             ],
             [
              0.1111111111111111,
              "#46039f"
             ],
             [
              0.2222222222222222,
              "#7201a8"
             ],
             [
              0.3333333333333333,
              "#9c179e"
             ],
             [
              0.4444444444444444,
              "#bd3786"
             ],
             [
              0.5555555555555556,
              "#d8576b"
             ],
             [
              0.6666666666666666,
              "#ed7953"
             ],
             [
              0.7777777777777778,
              "#fb9f3a"
             ],
             [
              0.8888888888888888,
              "#fdca26"
             ],
             [
              1,
              "#f0f921"
             ]
            ],
            "type": "heatmapgl"
           }
          ],
          "histogram": [
           {
            "marker": {
             "pattern": {
              "fillmode": "overlay",
              "size": 10,
              "solidity": 0.2
             }
            },
            "type": "histogram"
           }
          ],
          "histogram2d": [
           {
            "colorbar": {
             "outlinewidth": 0,
             "ticks": ""
            },
            "colorscale": [
             [
              0,
              "#0d0887"
             ],
             [
              0.1111111111111111,
              "#46039f"
             ],
             [
              0.2222222222222222,
              "#7201a8"
             ],
             [
              0.3333333333333333,
              "#9c179e"
             ],
             [
              0.4444444444444444,
              "#bd3786"
             ],
             [
              0.5555555555555556,
              "#d8576b"
             ],
             [
              0.6666666666666666,
              "#ed7953"
             ],
             [
              0.7777777777777778,
              "#fb9f3a"
             ],
             [
              0.8888888888888888,
              "#fdca26"
             ],
             [
              1,
              "#f0f921"
             ]
            ],
            "type": "histogram2d"
           }
          ],
          "histogram2dcontour": [
           {
            "colorbar": {
             "outlinewidth": 0,
             "ticks": ""
            },
            "colorscale": [
             [
              0,
              "#0d0887"
             ],
             [
              0.1111111111111111,
              "#46039f"
             ],
             [
              0.2222222222222222,
              "#7201a8"
             ],
             [
              0.3333333333333333,
              "#9c179e"
             ],
             [
              0.4444444444444444,
              "#bd3786"
             ],
             [
              0.5555555555555556,
              "#d8576b"
             ],
             [
              0.6666666666666666,
              "#ed7953"
             ],
             [
              0.7777777777777778,
              "#fb9f3a"
             ],
             [
              0.8888888888888888,
              "#fdca26"
             ],
             [
              1,
              "#f0f921"
             ]
            ],
            "type": "histogram2dcontour"
           }
          ],
          "mesh3d": [
           {
            "colorbar": {
             "outlinewidth": 0,
             "ticks": ""
            },
            "type": "mesh3d"
           }
          ],
          "parcoords": [
           {
            "line": {
             "colorbar": {
              "outlinewidth": 0,
              "ticks": ""
             }
            },
            "type": "parcoords"
           }
          ],
          "pie": [
           {
            "automargin": true,
            "type": "pie"
           }
          ],
          "scatter": [
           {
            "fillpattern": {
             "fillmode": "overlay",
             "size": 10,
             "solidity": 0.2
            },
            "type": "scatter"
           }
          ],
          "scatter3d": [
           {
            "line": {
             "colorbar": {
              "outlinewidth": 0,
              "ticks": ""
             }
            },
            "marker": {
             "colorbar": {
              "outlinewidth": 0,
              "ticks": ""
             }
            },
            "type": "scatter3d"
           }
          ],
          "scattercarpet": [
           {
            "marker": {
             "colorbar": {
              "outlinewidth": 0,
              "ticks": ""
             }
            },
            "type": "scattercarpet"
           }
          ],
          "scattergeo": [
           {
            "marker": {
             "colorbar": {
              "outlinewidth": 0,
              "ticks": ""
             }
            },
            "type": "scattergeo"
           }
          ],
          "scattergl": [
           {
            "marker": {
             "colorbar": {
              "outlinewidth": 0,
              "ticks": ""
             }
            },
            "type": "scattergl"
           }
          ],
          "scattermapbox": [
           {
            "marker": {
             "colorbar": {
              "outlinewidth": 0,
              "ticks": ""
             }
            },
            "type": "scattermapbox"
           }
          ],
          "scatterpolar": [
           {
            "marker": {
             "colorbar": {
              "outlinewidth": 0,
              "ticks": ""
             }
            },
            "type": "scatterpolar"
           }
          ],
          "scatterpolargl": [
           {
            "marker": {
             "colorbar": {
              "outlinewidth": 0,
              "ticks": ""
             }
            },
            "type": "scatterpolargl"
           }
          ],
          "scatterternary": [
           {
            "marker": {
             "colorbar": {
              "outlinewidth": 0,
              "ticks": ""
             }
            },
            "type": "scatterternary"
           }
          ],
          "surface": [
           {
            "colorbar": {
             "outlinewidth": 0,
             "ticks": ""
            },
            "colorscale": [
             [
              0,
              "#0d0887"
             ],
             [
              0.1111111111111111,
              "#46039f"
             ],
             [
              0.2222222222222222,
              "#7201a8"
             ],
             [
              0.3333333333333333,
              "#9c179e"
             ],
             [
              0.4444444444444444,
              "#bd3786"
             ],
             [
              0.5555555555555556,
              "#d8576b"
             ],
             [
              0.6666666666666666,
              "#ed7953"
             ],
             [
              0.7777777777777778,
              "#fb9f3a"
             ],
             [
              0.8888888888888888,
              "#fdca26"
             ],
             [
              1,
              "#f0f921"
             ]
            ],
            "type": "surface"
           }
          ],
          "table": [
           {
            "cells": {
             "fill": {
              "color": "#EBF0F8"
             },
             "line": {
              "color": "white"
             }
            },
            "header": {
             "fill": {
              "color": "#C8D4E3"
             },
             "line": {
              "color": "white"
             }
            },
            "type": "table"
           }
          ]
         },
         "layout": {
          "annotationdefaults": {
           "arrowcolor": "#2a3f5f",
           "arrowhead": 0,
           "arrowwidth": 1
          },
          "autotypenumbers": "strict",
          "coloraxis": {
           "colorbar": {
            "outlinewidth": 0,
            "ticks": ""
           }
          },
          "colorscale": {
           "diverging": [
            [
             0,
             "#8e0152"
            ],
            [
             0.1,
             "#c51b7d"
            ],
            [
             0.2,
             "#de77ae"
            ],
            [
             0.3,
             "#f1b6da"
            ],
            [
             0.4,
             "#fde0ef"
            ],
            [
             0.5,
             "#f7f7f7"
            ],
            [
             0.6,
             "#e6f5d0"
            ],
            [
             0.7,
             "#b8e186"
            ],
            [
             0.8,
             "#7fbc41"
            ],
            [
             0.9,
             "#4d9221"
            ],
            [
             1,
             "#276419"
            ]
           ],
           "sequential": [
            [
             0,
             "#0d0887"
            ],
            [
             0.1111111111111111,
             "#46039f"
            ],
            [
             0.2222222222222222,
             "#7201a8"
            ],
            [
             0.3333333333333333,
             "#9c179e"
            ],
            [
             0.4444444444444444,
             "#bd3786"
            ],
            [
             0.5555555555555556,
             "#d8576b"
            ],
            [
             0.6666666666666666,
             "#ed7953"
            ],
            [
             0.7777777777777778,
             "#fb9f3a"
            ],
            [
             0.8888888888888888,
             "#fdca26"
            ],
            [
             1,
             "#f0f921"
            ]
           ],
           "sequentialminus": [
            [
             0,
             "#0d0887"
            ],
            [
             0.1111111111111111,
             "#46039f"
            ],
            [
             0.2222222222222222,
             "#7201a8"
            ],
            [
             0.3333333333333333,
             "#9c179e"
            ],
            [
             0.4444444444444444,
             "#bd3786"
            ],
            [
             0.5555555555555556,
             "#d8576b"
            ],
            [
             0.6666666666666666,
             "#ed7953"
            ],
            [
             0.7777777777777778,
             "#fb9f3a"
            ],
            [
             0.8888888888888888,
             "#fdca26"
            ],
            [
             1,
             "#f0f921"
            ]
           ]
          },
          "colorway": [
           "#636efa",
           "#EF553B",
           "#00cc96",
           "#ab63fa",
           "#FFA15A",
           "#19d3f3",
           "#FF6692",
           "#B6E880",
           "#FF97FF",
           "#FECB52"
          ],
          "font": {
           "color": "#2a3f5f"
          },
          "geo": {
           "bgcolor": "white",
           "lakecolor": "white",
           "landcolor": "#E5ECF6",
           "showlakes": true,
           "showland": true,
           "subunitcolor": "white"
          },
          "hoverlabel": {
           "align": "left"
          },
          "hovermode": "closest",
          "mapbox": {
           "style": "light"
          },
          "paper_bgcolor": "white",
          "plot_bgcolor": "#E5ECF6",
          "polar": {
           "angularaxis": {
            "gridcolor": "white",
            "linecolor": "white",
            "ticks": ""
           },
           "bgcolor": "#E5ECF6",
           "radialaxis": {
            "gridcolor": "white",
            "linecolor": "white",
            "ticks": ""
           }
          },
          "scene": {
           "xaxis": {
            "backgroundcolor": "#E5ECF6",
            "gridcolor": "white",
            "gridwidth": 2,
            "linecolor": "white",
            "showbackground": true,
            "ticks": "",
            "zerolinecolor": "white"
           },
           "yaxis": {
            "backgroundcolor": "#E5ECF6",
            "gridcolor": "white",
            "gridwidth": 2,
            "linecolor": "white",
            "showbackground": true,
            "ticks": "",
            "zerolinecolor": "white"
           },
           "zaxis": {
            "backgroundcolor": "#E5ECF6",
            "gridcolor": "white",
            "gridwidth": 2,
            "linecolor": "white",
            "showbackground": true,
            "ticks": "",
            "zerolinecolor": "white"
           }
          },
          "shapedefaults": {
           "line": {
            "color": "#2a3f5f"
           }
          },
          "ternary": {
           "aaxis": {
            "gridcolor": "white",
            "linecolor": "white",
            "ticks": ""
           },
           "baxis": {
            "gridcolor": "white",
            "linecolor": "white",
            "ticks": ""
           },
           "bgcolor": "#E5ECF6",
           "caxis": {
            "gridcolor": "white",
            "linecolor": "white",
            "ticks": ""
           }
          },
          "title": {
           "x": 0.05
          },
          "xaxis": {
           "automargin": true,
           "gridcolor": "white",
           "linecolor": "white",
           "ticks": "",
           "title": {
            "standoff": 15
           },
           "zerolinecolor": "white",
           "zerolinewidth": 2
          },
          "yaxis": {
           "automargin": true,
           "gridcolor": "white",
           "linecolor": "white",
           "ticks": "",
           "title": {
            "standoff": 15
           },
           "zerolinecolor": "white",
           "zerolinewidth": 2
          }
         }
        },
        "xaxis": {
         "anchor": "y",
         "categoryorder": "total descending",
         "domain": [
          0,
          1
         ],
         "title": {
          "text": "x"
         }
        },
        "yaxis": {
         "anchor": "x",
         "domain": [
          0,
          1
         ],
         "title": {
          "text": "y"
         }
        }
       }
      }
     },
     "metadata": {},
     "output_type": "display_data"
    }
   ],
   "source": [
    "import requests\n",
    "import plotly.express as px\n",
    "\n",
    "url = \"https://hacker-news.firebaseio.com/v0/topstories.json\"\n",
    "r = requests.get(url)\n",
    "submission_ids = r.json()\n",
    "\n",
    "links, comments, hover_texts = [], [], []\n",
    "\n",
    "for submission_id in submission_ids[:20]:\n",
    "    # Make a new API call for each submission\n",
    "    url = f\"https://hacker-news.firebaseio.com/v0/item/{submission_id}.json\"\n",
    "    r = requests.get(url)\n",
    "    # check status code\n",
    "    print(f\"{submission_id}: Status code: {r.status_code}\")\n",
    "    response_dict = r.json()\n",
    "\n",
    "    # Make clickable links for title\n",
    "    repo_url = response_dict.get(\"ur\", \"\")\n",
    "    name = response_dict.get(\"title\", \"\")[:30]\n",
    "    link = f\"<a href ='{repo_url}'> {name}</a>\"\n",
    "    links.append(link)\n",
    "    # Hover Text for each bar\n",
    "    hover_texts.append(\n",
    "        f\"{response_dict.get('title','')} by {response_dict.get('by','')}\"\n",
    "    )\n",
    "    # comment count\n",
    "    comments.append(response_dict.get(\"descendants\", 0))\n",
    "    \n",
    "# Make a visualization\n",
    "\n",
    "fig = px.bar(x=links, y=comments, hover_name=hover_texts)\n",
    "\n",
    "fig.update_layout(xaxis_categoryorder=\"total descending\")\n",
    "\n",
    "fig.show()"
   ]
  },
  {
   "cell_type": "code",
   "execution_count": 80,
   "metadata": {},
   "outputs": [
    {
     "name": "stdout",
     "output_type": "stream",
     "text": [
      "status code: 200\n",
      "status code: 200\n",
      "status code: 200\n",
      "status code: 200\n",
      "status code: 200\n",
      "status code: 200\n",
      "status code: 200\n",
      "status code: 200\n",
      "status code: 200\n",
      "status code: 200\n",
      "status code: 200\n",
      "status code: 200\n",
      "status code: 200\n",
      "status code: 200\n",
      "status code: 200\n",
      "status code: 200\n",
      "status code: 200\n",
      "status code: 200\n",
      "status code: 200\n",
      "status code: 200\n",
      "status code: 200\n"
     ]
    },
    {
     "data": {
      "application/vnd.plotly.v1+json": {
       "config": {
        "plotlyServerURL": "https://plot.ly"
       },
       "data": [
        {
         "alignmentgroup": "True",
         "hovertemplate": "<b>%{hovertext}</b><br><br>Article=%{x}<br>Comment count=%{y}<extra></extra>",
         "hovertext": [
          "Privacy is priceless, but Signal is expensive",
          "I think I need to go lie down",
          "Smart drugs reduce quality of effort, and slow decision-making",
          "The real realtime preemption end game",
          "Operating on a minimal two-core Postgres instance: Query optimization insights",
          "From email to phone number, a new OSINT approach (2019)",
          "Show HN: Numbat – A programming language with physical dimensions as types",
          "Ransomware Group Files SEC Complaint over Victim's Failure Disclose Data Breach",
          "Printed robots with bones, ligaments, and tendons",
          "You don't need a CRDT to build a collaborative experience",
          "std::source_location Is Broken",
          "Migrating to OpenTelemetry",
          "Zimbra 0-day used to steal email data from government organizations",
          "Hackers Know Everything Is Securities Fraud",
          "Emu Video and Emu Edit, our latest generative AI research milestones",
          "Hello World on the GPU (2019)",
          "Air Accident Investigation Branch: film lights caused window damage on A321neo",
          "Frutiger Aero",
          "AI-Exploits: Repo of multiple unauthenticated RCEs in AI tools",
          "The CWEB System of Structured Documentation"
         ],
         "legendgroup": "",
         "marker": {
          "color": "SteelBlue",
          "opacity": 0.6,
          "pattern": {
           "shape": ""
          }
         },
         "name": "",
         "offsetgroup": "",
         "orientation": "v",
         "showlegend": false,
         "textposition": "auto",
         "type": "bar",
         "x": [
          "<a href=\"https://news.ycombinator.com/item?id=38291427\"\">Privacy is priceless, but Sign</a>",
          "<a href=\"https://news.ycombinator.com/item?id=38288130\"\">I think I need to go lie down</a>",
          "<a href=\"https://news.ycombinator.com/item?id=38287257\"\">Smart drugs reduce quality of </a>",
          "<a href=\"https://news.ycombinator.com/item?id=38290145\"\">The real realtime preemption e</a>",
          "<a href=\"https://news.ycombinator.com/item?id=38276727\"\">Operating on a minimal two-cor</a>",
          "<a href=\"https://news.ycombinator.com/item?id=38290613\"\">From email to phone number, a </a>",
          "<a href=\"https://news.ycombinator.com/item?id=38276430\"\">Show HN: Numbat – A programmin</a>",
          "<a href=\"https://news.ycombinator.com/item?id=38291399\"\">Ransomware Group Files SEC Com</a>",
          "<a href=\"https://news.ycombinator.com/item?id=38288980\"\">Printed robots with bones, lig</a>",
          "<a href=\"https://news.ycombinator.com/item?id=38289327\"\">You don't need a CRDT to build</a>",
          "<a href=\"https://news.ycombinator.com/item?id=38292102\"\">std::source_location Is Broken</a>",
          "<a href=\"https://news.ycombinator.com/item?id=38292553\"\">Migrating to OpenTelemetry</a>",
          "<a href=\"https://news.ycombinator.com/item?id=38291199\"\">Zimbra 0-day used to steal ema</a>",
          "<a href=\"https://news.ycombinator.com/item?id=38293817\"\">Hackers Know Everything Is Sec</a>",
          "<a href=\"https://news.ycombinator.com/item?id=38291139\"\">Emu Video and Emu Edit, our la</a>",
          "<a href=\"https://news.ycombinator.com/item?id=38275698\"\">Hello World on the GPU (2019)</a>",
          "<a href=\"https://news.ycombinator.com/item?id=38293714\"\">Air Accident Investigation Bra</a>",
          "<a href=\"https://news.ycombinator.com/item?id=38276418\"\">Frutiger Aero</a>",
          "<a href=\"https://news.ycombinator.com/item?id=38291880\"\">AI-Exploits: Repo of multiple </a>",
          "<a href=\"https://news.ycombinator.com/item?id=38291735\"\">The CWEB System of Structured </a>"
         ],
         "xaxis": "x",
         "y": [
          438,
          355,
          146,
          125,
          112,
          50,
          48,
          36,
          34,
          24,
          13,
          12,
          12,
          10,
          9,
          9,
          7,
          6,
          3,
          0
         ],
         "yaxis": "y"
        }
       ],
       "layout": {
        "barmode": "relative",
        "legend": {
         "tracegroupgap": 0
        },
        "template": {
         "data": {
          "bar": [
           {
            "error_x": {
             "color": "#2a3f5f"
            },
            "error_y": {
             "color": "#2a3f5f"
            },
            "marker": {
             "line": {
              "color": "#E5ECF6",
              "width": 0.5
             },
             "pattern": {
              "fillmode": "overlay",
              "size": 10,
              "solidity": 0.2
             }
            },
            "type": "bar"
           }
          ],
          "barpolar": [
           {
            "marker": {
             "line": {
              "color": "#E5ECF6",
              "width": 0.5
             },
             "pattern": {
              "fillmode": "overlay",
              "size": 10,
              "solidity": 0.2
             }
            },
            "type": "barpolar"
           }
          ],
          "carpet": [
           {
            "aaxis": {
             "endlinecolor": "#2a3f5f",
             "gridcolor": "white",
             "linecolor": "white",
             "minorgridcolor": "white",
             "startlinecolor": "#2a3f5f"
            },
            "baxis": {
             "endlinecolor": "#2a3f5f",
             "gridcolor": "white",
             "linecolor": "white",
             "minorgridcolor": "white",
             "startlinecolor": "#2a3f5f"
            },
            "type": "carpet"
           }
          ],
          "choropleth": [
           {
            "colorbar": {
             "outlinewidth": 0,
             "ticks": ""
            },
            "type": "choropleth"
           }
          ],
          "contour": [
           {
            "colorbar": {
             "outlinewidth": 0,
             "ticks": ""
            },
            "colorscale": [
             [
              0,
              "#0d0887"
             ],
             [
              0.1111111111111111,
              "#46039f"
             ],
             [
              0.2222222222222222,
              "#7201a8"
             ],
             [
              0.3333333333333333,
              "#9c179e"
             ],
             [
              0.4444444444444444,
              "#bd3786"
             ],
             [
              0.5555555555555556,
              "#d8576b"
             ],
             [
              0.6666666666666666,
              "#ed7953"
             ],
             [
              0.7777777777777778,
              "#fb9f3a"
             ],
             [
              0.8888888888888888,
              "#fdca26"
             ],
             [
              1,
              "#f0f921"
             ]
            ],
            "type": "contour"
           }
          ],
          "contourcarpet": [
           {
            "colorbar": {
             "outlinewidth": 0,
             "ticks": ""
            },
            "type": "contourcarpet"
           }
          ],
          "heatmap": [
           {
            "colorbar": {
             "outlinewidth": 0,
             "ticks": ""
            },
            "colorscale": [
             [
              0,
              "#0d0887"
             ],
             [
              0.1111111111111111,
              "#46039f"
             ],
             [
              0.2222222222222222,
              "#7201a8"
             ],
             [
              0.3333333333333333,
              "#9c179e"
             ],
             [
              0.4444444444444444,
              "#bd3786"
             ],
             [
              0.5555555555555556,
              "#d8576b"
             ],
             [
              0.6666666666666666,
              "#ed7953"
             ],
             [
              0.7777777777777778,
              "#fb9f3a"
             ],
             [
              0.8888888888888888,
              "#fdca26"
             ],
             [
              1,
              "#f0f921"
             ]
            ],
            "type": "heatmap"
           }
          ],
          "heatmapgl": [
           {
            "colorbar": {
             "outlinewidth": 0,
             "ticks": ""
            },
            "colorscale": [
             [
              0,
              "#0d0887"
             ],
             [
              0.1111111111111111,
              "#46039f"
             ],
             [
              0.2222222222222222,
              "#7201a8"
             ],
             [
              0.3333333333333333,
              "#9c179e"
             ],
             [
              0.4444444444444444,
              "#bd3786"
             ],
             [
              0.5555555555555556,
              "#d8576b"
             ],
             [
              0.6666666666666666,
              "#ed7953"
             ],
             [
              0.7777777777777778,
              "#fb9f3a"
             ],
             [
              0.8888888888888888,
              "#fdca26"
             ],
             [
              1,
              "#f0f921"
             ]
            ],
            "type": "heatmapgl"
           }
          ],
          "histogram": [
           {
            "marker": {
             "pattern": {
              "fillmode": "overlay",
              "size": 10,
              "solidity": 0.2
             }
            },
            "type": "histogram"
           }
          ],
          "histogram2d": [
           {
            "colorbar": {
             "outlinewidth": 0,
             "ticks": ""
            },
            "colorscale": [
             [
              0,
              "#0d0887"
             ],
             [
              0.1111111111111111,
              "#46039f"
             ],
             [
              0.2222222222222222,
              "#7201a8"
             ],
             [
              0.3333333333333333,
              "#9c179e"
             ],
             [
              0.4444444444444444,
              "#bd3786"
             ],
             [
              0.5555555555555556,
              "#d8576b"
             ],
             [
              0.6666666666666666,
              "#ed7953"
             ],
             [
              0.7777777777777778,
              "#fb9f3a"
             ],
             [
              0.8888888888888888,
              "#fdca26"
             ],
             [
              1,
              "#f0f921"
             ]
            ],
            "type": "histogram2d"
           }
          ],
          "histogram2dcontour": [
           {
            "colorbar": {
             "outlinewidth": 0,
             "ticks": ""
            },
            "colorscale": [
             [
              0,
              "#0d0887"
             ],
             [
              0.1111111111111111,
              "#46039f"
             ],
             [
              0.2222222222222222,
              "#7201a8"
             ],
             [
              0.3333333333333333,
              "#9c179e"
             ],
             [
              0.4444444444444444,
              "#bd3786"
             ],
             [
              0.5555555555555556,
              "#d8576b"
             ],
             [
              0.6666666666666666,
              "#ed7953"
             ],
             [
              0.7777777777777778,
              "#fb9f3a"
             ],
             [
              0.8888888888888888,
              "#fdca26"
             ],
             [
              1,
              "#f0f921"
             ]
            ],
            "type": "histogram2dcontour"
           }
          ],
          "mesh3d": [
           {
            "colorbar": {
             "outlinewidth": 0,
             "ticks": ""
            },
            "type": "mesh3d"
           }
          ],
          "parcoords": [
           {
            "line": {
             "colorbar": {
              "outlinewidth": 0,
              "ticks": ""
             }
            },
            "type": "parcoords"
           }
          ],
          "pie": [
           {
            "automargin": true,
            "type": "pie"
           }
          ],
          "scatter": [
           {
            "fillpattern": {
             "fillmode": "overlay",
             "size": 10,
             "solidity": 0.2
            },
            "type": "scatter"
           }
          ],
          "scatter3d": [
           {
            "line": {
             "colorbar": {
              "outlinewidth": 0,
              "ticks": ""
             }
            },
            "marker": {
             "colorbar": {
              "outlinewidth": 0,
              "ticks": ""
             }
            },
            "type": "scatter3d"
           }
          ],
          "scattercarpet": [
           {
            "marker": {
             "colorbar": {
              "outlinewidth": 0,
              "ticks": ""
             }
            },
            "type": "scattercarpet"
           }
          ],
          "scattergeo": [
           {
            "marker": {
             "colorbar": {
              "outlinewidth": 0,
              "ticks": ""
             }
            },
            "type": "scattergeo"
           }
          ],
          "scattergl": [
           {
            "marker": {
             "colorbar": {
              "outlinewidth": 0,
              "ticks": ""
             }
            },
            "type": "scattergl"
           }
          ],
          "scattermapbox": [
           {
            "marker": {
             "colorbar": {
              "outlinewidth": 0,
              "ticks": ""
             }
            },
            "type": "scattermapbox"
           }
          ],
          "scatterpolar": [
           {
            "marker": {
             "colorbar": {
              "outlinewidth": 0,
              "ticks": ""
             }
            },
            "type": "scatterpolar"
           }
          ],
          "scatterpolargl": [
           {
            "marker": {
             "colorbar": {
              "outlinewidth": 0,
              "ticks": ""
             }
            },
            "type": "scatterpolargl"
           }
          ],
          "scatterternary": [
           {
            "marker": {
             "colorbar": {
              "outlinewidth": 0,
              "ticks": ""
             }
            },
            "type": "scatterternary"
           }
          ],
          "surface": [
           {
            "colorbar": {
             "outlinewidth": 0,
             "ticks": ""
            },
            "colorscale": [
             [
              0,
              "#0d0887"
             ],
             [
              0.1111111111111111,
              "#46039f"
             ],
             [
              0.2222222222222222,
              "#7201a8"
             ],
             [
              0.3333333333333333,
              "#9c179e"
             ],
             [
              0.4444444444444444,
              "#bd3786"
             ],
             [
              0.5555555555555556,
              "#d8576b"
             ],
             [
              0.6666666666666666,
              "#ed7953"
             ],
             [
              0.7777777777777778,
              "#fb9f3a"
             ],
             [
              0.8888888888888888,
              "#fdca26"
             ],
             [
              1,
              "#f0f921"
             ]
            ],
            "type": "surface"
           }
          ],
          "table": [
           {
            "cells": {
             "fill": {
              "color": "#EBF0F8"
             },
             "line": {
              "color": "white"
             }
            },
            "header": {
             "fill": {
              "color": "#C8D4E3"
             },
             "line": {
              "color": "white"
             }
            },
            "type": "table"
           }
          ]
         },
         "layout": {
          "annotationdefaults": {
           "arrowcolor": "#2a3f5f",
           "arrowhead": 0,
           "arrowwidth": 1
          },
          "autotypenumbers": "strict",
          "coloraxis": {
           "colorbar": {
            "outlinewidth": 0,
            "ticks": ""
           }
          },
          "colorscale": {
           "diverging": [
            [
             0,
             "#8e0152"
            ],
            [
             0.1,
             "#c51b7d"
            ],
            [
             0.2,
             "#de77ae"
            ],
            [
             0.3,
             "#f1b6da"
            ],
            [
             0.4,
             "#fde0ef"
            ],
            [
             0.5,
             "#f7f7f7"
            ],
            [
             0.6,
             "#e6f5d0"
            ],
            [
             0.7,
             "#b8e186"
            ],
            [
             0.8,
             "#7fbc41"
            ],
            [
             0.9,
             "#4d9221"
            ],
            [
             1,
             "#276419"
            ]
           ],
           "sequential": [
            [
             0,
             "#0d0887"
            ],
            [
             0.1111111111111111,
             "#46039f"
            ],
            [
             0.2222222222222222,
             "#7201a8"
            ],
            [
             0.3333333333333333,
             "#9c179e"
            ],
            [
             0.4444444444444444,
             "#bd3786"
            ],
            [
             0.5555555555555556,
             "#d8576b"
            ],
            [
             0.6666666666666666,
             "#ed7953"
            ],
            [
             0.7777777777777778,
             "#fb9f3a"
            ],
            [
             0.8888888888888888,
             "#fdca26"
            ],
            [
             1,
             "#f0f921"
            ]
           ],
           "sequentialminus": [
            [
             0,
             "#0d0887"
            ],
            [
             0.1111111111111111,
             "#46039f"
            ],
            [
             0.2222222222222222,
             "#7201a8"
            ],
            [
             0.3333333333333333,
             "#9c179e"
            ],
            [
             0.4444444444444444,
             "#bd3786"
            ],
            [
             0.5555555555555556,
             "#d8576b"
            ],
            [
             0.6666666666666666,
             "#ed7953"
            ],
            [
             0.7777777777777778,
             "#fb9f3a"
            ],
            [
             0.8888888888888888,
             "#fdca26"
            ],
            [
             1,
             "#f0f921"
            ]
           ]
          },
          "colorway": [
           "#636efa",
           "#EF553B",
           "#00cc96",
           "#ab63fa",
           "#FFA15A",
           "#19d3f3",
           "#FF6692",
           "#B6E880",
           "#FF97FF",
           "#FECB52"
          ],
          "font": {
           "color": "#2a3f5f"
          },
          "geo": {
           "bgcolor": "white",
           "lakecolor": "white",
           "landcolor": "#E5ECF6",
           "showlakes": true,
           "showland": true,
           "subunitcolor": "white"
          },
          "hoverlabel": {
           "align": "left"
          },
          "hovermode": "closest",
          "mapbox": {
           "style": "light"
          },
          "paper_bgcolor": "white",
          "plot_bgcolor": "#E5ECF6",
          "polar": {
           "angularaxis": {
            "gridcolor": "white",
            "linecolor": "white",
            "ticks": ""
           },
           "bgcolor": "#E5ECF6",
           "radialaxis": {
            "gridcolor": "white",
            "linecolor": "white",
            "ticks": ""
           }
          },
          "scene": {
           "xaxis": {
            "backgroundcolor": "#E5ECF6",
            "gridcolor": "white",
            "gridwidth": 2,
            "linecolor": "white",
            "showbackground": true,
            "ticks": "",
            "zerolinecolor": "white"
           },
           "yaxis": {
            "backgroundcolor": "#E5ECF6",
            "gridcolor": "white",
            "gridwidth": 2,
            "linecolor": "white",
            "showbackground": true,
            "ticks": "",
            "zerolinecolor": "white"
           },
           "zaxis": {
            "backgroundcolor": "#E5ECF6",
            "gridcolor": "white",
            "gridwidth": 2,
            "linecolor": "white",
            "showbackground": true,
            "ticks": "",
            "zerolinecolor": "white"
           }
          },
          "shapedefaults": {
           "line": {
            "color": "#2a3f5f"
           }
          },
          "ternary": {
           "aaxis": {
            "gridcolor": "white",
            "linecolor": "white",
            "ticks": ""
           },
           "baxis": {
            "gridcolor": "white",
            "linecolor": "white",
            "ticks": ""
           },
           "bgcolor": "#E5ECF6",
           "caxis": {
            "gridcolor": "white",
            "linecolor": "white",
            "ticks": ""
           }
          },
          "title": {
           "x": 0.05
          },
          "xaxis": {
           "automargin": true,
           "gridcolor": "white",
           "linecolor": "white",
           "ticks": "",
           "title": {
            "standoff": 15
           },
           "zerolinecolor": "white",
           "zerolinewidth": 2
          },
          "yaxis": {
           "automargin": true,
           "gridcolor": "white",
           "linecolor": "white",
           "ticks": "",
           "title": {
            "standoff": 15
           },
           "zerolinecolor": "white",
           "zerolinewidth": 2
          }
         }
        },
        "title": {
         "font": {
          "size": 28
         },
         "text": "Most active discussions on Hacker News"
        },
        "xaxis": {
         "anchor": "y",
         "domain": [
          0,
          1
         ],
         "title": {
          "font": {
           "size": 20
          },
          "text": "Article"
         }
        },
        "yaxis": {
         "anchor": "x",
         "domain": [
          0,
          1
         ],
         "title": {
          "font": {
           "size": 20
          },
          "text": "Comment count"
         }
        }
       }
      }
     },
     "metadata": {},
     "output_type": "display_data"
    }
   ],
   "source": [
    "from operator import itemgetter\n",
    "\n",
    "import requests\n",
    "import plotly.express as px\n",
    "\n",
    "# Make an APIC call and check the response\n",
    "url = \"https://hacker-news.firebaseio.com/v0/topstories.json\"\n",
    "r = requests.get(url)\n",
    "print(f\"status code: {r.status_code}\")\n",
    "\n",
    "# Process information about each submission\n",
    "submission_ids = r.json()\n",
    "\n",
    "submission_dicts = []\n",
    "for submission_id in submission_ids[:20]:\n",
    "    # Make a new API call for each submission\n",
    "    url = f\"https://hacker-news.firebaseio.com/v0/item/{submission_id}.json\"\n",
    "    r = requests.get(url)\n",
    "    print(f\"status code: {r.status_code}\")\n",
    "    response_dict = r.json()\n",
    "\n",
    "    # Build a dictonary for each article\n",
    "    try:\n",
    "        submission_dict = {\n",
    "            \"title\": response_dict[\"title\"],\n",
    "            \"hn_link\": f\"https://news.ycombinator.com/item?id={submission_id}\",\n",
    "            \"comments\": response_dict[\"descendants\"],\n",
    "        }\n",
    "    except KeyError:\n",
    "        # This is special YC post with comments disable\n",
    "        continue\n",
    "    else:\n",
    "        submission_dicts.append(submission_dict)\n",
    "\n",
    "submission_dicts = sorted(submission_dicts, key=itemgetter(\"comments\"), reverse=True)\n",
    "\n",
    "# Process data for plotting\n",
    "article_links, comment_counts, hover_texts = [], [], []\n",
    "\n",
    "for submission_dict in submission_dicts:\n",
    "    # shortern long article titles\n",
    "    title = submission_dict[\"title\"][:30]\n",
    "    discussion_link = submission_dict[\"hn_link\"]\n",
    "    article_link = f'<a href=\"{discussion_link}\"\">{title}</a>'\n",
    "    comment_count = submission_dict[\"comments\"]\n",
    "\n",
    "    article_links.append(article_link)\n",
    "    comment_counts.append(comment_count)\n",
    "    hover_texts.append(submission_dict[\"title\"])\n",
    "\n",
    "\n",
    "# Make visualization.\n",
    "title = \"Most active discussions on Hacker News\"\n",
    "labels = {\"x\": \"Article\", \"y\": \"Comment count\"}\n",
    "fig = px.bar(\n",
    "    x=article_links,\n",
    "    y=comment_counts,\n",
    "    title=title,\n",
    "    labels=labels,\n",
    "    hover_name=hover_texts,\n",
    ")\n",
    "\n",
    "fig.update_layout(\n",
    "    title_font_size=28, xaxis_title_font_size=20, yaxis_title_font_size=20\n",
    ")\n",
    "\n",
    "fig.update_traces(marker_color=\"SteelBlue\", marker_opacity=0.6)\n",
    "\n",
    "fig.show()"
   ]
  },
  {
   "cell_type": "code",
   "execution_count": 78,
   "metadata": {},
   "outputs": [
    {
     "name": "stdout",
     "output_type": "stream",
     "text": [
      "Status Code: 200\n",
      "38290145\tStatus: 200\n",
      "38293817\tStatus: 200\n",
      "38293714\tStatus: 200\n",
      "38290613\tStatus: 200\n",
      "38292553\tStatus: 200\n",
      "38291199\tStatus: 200\n",
      "38291139\tStatus: 200\n",
      "38276430\tStatus: 200\n",
      "38291735\tStatus: 200\n",
      "38292102\tStatus: 200\n",
      "38291427\tStatus: 200\n",
      "38289327\tStatus: 200\n",
      "38291880\tStatus: 200\n",
      "38276727\tStatus: 200\n",
      "38275698\tStatus: 200\n",
      "38276418\tStatus: 200\n",
      "38288980\tStatus: 200\n",
      "38291399\tStatus: 200\n",
      "38287257\tStatus: 200\n",
      "38288130\tStatus: 200\n"
     ]
    },
    {
     "data": {
      "application/vnd.plotly.v1+json": {
       "config": {
        "plotlyServerURL": "https://plot.ly"
       },
       "data": [
        {
         "alignmentgroup": "True",
         "hovertemplate": "<b>%{hovertext}</b><br><br>Title of the discussion=%{x}<br>Comment counts=%{y}<extra></extra>",
         "hovertext": [
          "Privacy is priceless, but Signal is expensive",
          "I think I need to go lie down",
          "Smart drugs reduce quality of effort, and slow decision-making",
          "The real realtime preemption end game",
          "Operating on a minimal two-core Postgres instance: Query optimization insights",
          "From email to phone number, a new OSINT approach (2019)",
          "Show HN: Numbat – A programming language with physical dimensions as types",
          "Ransomware Group Files SEC Complaint over Victim's Failure Disclose Data Breach",
          "Printed robots with bones, ligaments, and tendons",
          "You don't need a CRDT to build a collaborative experience",
          "Migrating to OpenTelemetry",
          "Zimbra 0-day used to steal email data from government organizations",
          "std::source_location Is Broken",
          "Hackers Know Everything Is Securities Fraud",
          "Emu Video and Emu Edit, our latest generative AI research milestones",
          "Hello World on the GPU (2019)",
          "Air Accident Investigation Branch: film lights caused window damage on A321neo",
          "Frutiger Aero",
          "AI-Exploits: Repo of multiple unauthenticated RCEs in AI tools",
          "The CWEB System of Structured Documentation"
         ],
         "legendgroup": "",
         "marker": {
          "color": "Green",
          "opacity": 0.6,
          "pattern": {
           "shape": ""
          }
         },
         "name": "",
         "offsetgroup": "",
         "orientation": "v",
         "showlegend": false,
         "textposition": "auto",
         "type": "bar",
         "x": [
          "<a href='https://news.ycombinator.com/item?id=38291427'>Privacy is priceless, but Sign</a>",
          "<a href='https://news.ycombinator.com/item?id=38288130'>I think I need to go lie down</a>",
          "<a href='https://news.ycombinator.com/item?id=38287257'>Smart drugs reduce quality of </a>",
          "<a href='https://news.ycombinator.com/item?id=38290145'>The real realtime preemption e</a>",
          "<a href='https://news.ycombinator.com/item?id=38276727'>Operating on a minimal two-cor</a>",
          "<a href='https://news.ycombinator.com/item?id=38290613'>From email to phone number, a </a>",
          "<a href='https://news.ycombinator.com/item?id=38276430'>Show HN: Numbat – A programmin</a>",
          "<a href='https://news.ycombinator.com/item?id=38291399'>Ransomware Group Files SEC Com</a>",
          "<a href='https://news.ycombinator.com/item?id=38288980'>Printed robots with bones, lig</a>",
          "<a href='https://news.ycombinator.com/item?id=38289327'>You don't need a CRDT to build</a>",
          "<a href='https://news.ycombinator.com/item?id=38292553'>Migrating to OpenTelemetry</a>",
          "<a href='https://news.ycombinator.com/item?id=38291199'>Zimbra 0-day used to steal ema</a>",
          "<a href='https://news.ycombinator.com/item?id=38292102'>std::source_location Is Broken</a>",
          "<a href='https://news.ycombinator.com/item?id=38293817'>Hackers Know Everything Is Sec</a>",
          "<a href='https://news.ycombinator.com/item?id=38291139'>Emu Video and Emu Edit, our la</a>",
          "<a href='https://news.ycombinator.com/item?id=38275698'>Hello World on the GPU (2019)</a>",
          "<a href='https://news.ycombinator.com/item?id=38293714'>Air Accident Investigation Bra</a>",
          "<a href='https://news.ycombinator.com/item?id=38276418'>Frutiger Aero</a>",
          "<a href='https://news.ycombinator.com/item?id=38291880'>AI-Exploits: Repo of multiple </a>",
          "<a href='https://news.ycombinator.com/item?id=38291735'>The CWEB System of Structured </a>"
         ],
         "xaxis": "x",
         "y": [
          435,
          355,
          146,
          124,
          111,
          50,
          48,
          36,
          34,
          24,
          12,
          12,
          12,
          9,
          9,
          9,
          6,
          6,
          3,
          0
         ],
         "yaxis": "y"
        }
       ],
       "layout": {
        "barmode": "relative",
        "legend": {
         "tracegroupgap": 0
        },
        "template": {
         "data": {
          "bar": [
           {
            "error_x": {
             "color": "#2a3f5f"
            },
            "error_y": {
             "color": "#2a3f5f"
            },
            "marker": {
             "line": {
              "color": "#E5ECF6",
              "width": 0.5
             },
             "pattern": {
              "fillmode": "overlay",
              "size": 10,
              "solidity": 0.2
             }
            },
            "type": "bar"
           }
          ],
          "barpolar": [
           {
            "marker": {
             "line": {
              "color": "#E5ECF6",
              "width": 0.5
             },
             "pattern": {
              "fillmode": "overlay",
              "size": 10,
              "solidity": 0.2
             }
            },
            "type": "barpolar"
           }
          ],
          "carpet": [
           {
            "aaxis": {
             "endlinecolor": "#2a3f5f",
             "gridcolor": "white",
             "linecolor": "white",
             "minorgridcolor": "white",
             "startlinecolor": "#2a3f5f"
            },
            "baxis": {
             "endlinecolor": "#2a3f5f",
             "gridcolor": "white",
             "linecolor": "white",
             "minorgridcolor": "white",
             "startlinecolor": "#2a3f5f"
            },
            "type": "carpet"
           }
          ],
          "choropleth": [
           {
            "colorbar": {
             "outlinewidth": 0,
             "ticks": ""
            },
            "type": "choropleth"
           }
          ],
          "contour": [
           {
            "colorbar": {
             "outlinewidth": 0,
             "ticks": ""
            },
            "colorscale": [
             [
              0,
              "#0d0887"
             ],
             [
              0.1111111111111111,
              "#46039f"
             ],
             [
              0.2222222222222222,
              "#7201a8"
             ],
             [
              0.3333333333333333,
              "#9c179e"
             ],
             [
              0.4444444444444444,
              "#bd3786"
             ],
             [
              0.5555555555555556,
              "#d8576b"
             ],
             [
              0.6666666666666666,
              "#ed7953"
             ],
             [
              0.7777777777777778,
              "#fb9f3a"
             ],
             [
              0.8888888888888888,
              "#fdca26"
             ],
             [
              1,
              "#f0f921"
             ]
            ],
            "type": "contour"
           }
          ],
          "contourcarpet": [
           {
            "colorbar": {
             "outlinewidth": 0,
             "ticks": ""
            },
            "type": "contourcarpet"
           }
          ],
          "heatmap": [
           {
            "colorbar": {
             "outlinewidth": 0,
             "ticks": ""
            },
            "colorscale": [
             [
              0,
              "#0d0887"
             ],
             [
              0.1111111111111111,
              "#46039f"
             ],
             [
              0.2222222222222222,
              "#7201a8"
             ],
             [
              0.3333333333333333,
              "#9c179e"
             ],
             [
              0.4444444444444444,
              "#bd3786"
             ],
             [
              0.5555555555555556,
              "#d8576b"
             ],
             [
              0.6666666666666666,
              "#ed7953"
             ],
             [
              0.7777777777777778,
              "#fb9f3a"
             ],
             [
              0.8888888888888888,
              "#fdca26"
             ],
             [
              1,
              "#f0f921"
             ]
            ],
            "type": "heatmap"
           }
          ],
          "heatmapgl": [
           {
            "colorbar": {
             "outlinewidth": 0,
             "ticks": ""
            },
            "colorscale": [
             [
              0,
              "#0d0887"
             ],
             [
              0.1111111111111111,
              "#46039f"
             ],
             [
              0.2222222222222222,
              "#7201a8"
             ],
             [
              0.3333333333333333,
              "#9c179e"
             ],
             [
              0.4444444444444444,
              "#bd3786"
             ],
             [
              0.5555555555555556,
              "#d8576b"
             ],
             [
              0.6666666666666666,
              "#ed7953"
             ],
             [
              0.7777777777777778,
              "#fb9f3a"
             ],
             [
              0.8888888888888888,
              "#fdca26"
             ],
             [
              1,
              "#f0f921"
             ]
            ],
            "type": "heatmapgl"
           }
          ],
          "histogram": [
           {
            "marker": {
             "pattern": {
              "fillmode": "overlay",
              "size": 10,
              "solidity": 0.2
             }
            },
            "type": "histogram"
           }
          ],
          "histogram2d": [
           {
            "colorbar": {
             "outlinewidth": 0,
             "ticks": ""
            },
            "colorscale": [
             [
              0,
              "#0d0887"
             ],
             [
              0.1111111111111111,
              "#46039f"
             ],
             [
              0.2222222222222222,
              "#7201a8"
             ],
             [
              0.3333333333333333,
              "#9c179e"
             ],
             [
              0.4444444444444444,
              "#bd3786"
             ],
             [
              0.5555555555555556,
              "#d8576b"
             ],
             [
              0.6666666666666666,
              "#ed7953"
             ],
             [
              0.7777777777777778,
              "#fb9f3a"
             ],
             [
              0.8888888888888888,
              "#fdca26"
             ],
             [
              1,
              "#f0f921"
             ]
            ],
            "type": "histogram2d"
           }
          ],
          "histogram2dcontour": [
           {
            "colorbar": {
             "outlinewidth": 0,
             "ticks": ""
            },
            "colorscale": [
             [
              0,
              "#0d0887"
             ],
             [
              0.1111111111111111,
              "#46039f"
             ],
             [
              0.2222222222222222,
              "#7201a8"
             ],
             [
              0.3333333333333333,
              "#9c179e"
             ],
             [
              0.4444444444444444,
              "#bd3786"
             ],
             [
              0.5555555555555556,
              "#d8576b"
             ],
             [
              0.6666666666666666,
              "#ed7953"
             ],
             [
              0.7777777777777778,
              "#fb9f3a"
             ],
             [
              0.8888888888888888,
              "#fdca26"
             ],
             [
              1,
              "#f0f921"
             ]
            ],
            "type": "histogram2dcontour"
           }
          ],
          "mesh3d": [
           {
            "colorbar": {
             "outlinewidth": 0,
             "ticks": ""
            },
            "type": "mesh3d"
           }
          ],
          "parcoords": [
           {
            "line": {
             "colorbar": {
              "outlinewidth": 0,
              "ticks": ""
             }
            },
            "type": "parcoords"
           }
          ],
          "pie": [
           {
            "automargin": true,
            "type": "pie"
           }
          ],
          "scatter": [
           {
            "fillpattern": {
             "fillmode": "overlay",
             "size": 10,
             "solidity": 0.2
            },
            "type": "scatter"
           }
          ],
          "scatter3d": [
           {
            "line": {
             "colorbar": {
              "outlinewidth": 0,
              "ticks": ""
             }
            },
            "marker": {
             "colorbar": {
              "outlinewidth": 0,
              "ticks": ""
             }
            },
            "type": "scatter3d"
           }
          ],
          "scattercarpet": [
           {
            "marker": {
             "colorbar": {
              "outlinewidth": 0,
              "ticks": ""
             }
            },
            "type": "scattercarpet"
           }
          ],
          "scattergeo": [
           {
            "marker": {
             "colorbar": {
              "outlinewidth": 0,
              "ticks": ""
             }
            },
            "type": "scattergeo"
           }
          ],
          "scattergl": [
           {
            "marker": {
             "colorbar": {
              "outlinewidth": 0,
              "ticks": ""
             }
            },
            "type": "scattergl"
           }
          ],
          "scattermapbox": [
           {
            "marker": {
             "colorbar": {
              "outlinewidth": 0,
              "ticks": ""
             }
            },
            "type": "scattermapbox"
           }
          ],
          "scatterpolar": [
           {
            "marker": {
             "colorbar": {
              "outlinewidth": 0,
              "ticks": ""
             }
            },
            "type": "scatterpolar"
           }
          ],
          "scatterpolargl": [
           {
            "marker": {
             "colorbar": {
              "outlinewidth": 0,
              "ticks": ""
             }
            },
            "type": "scatterpolargl"
           }
          ],
          "scatterternary": [
           {
            "marker": {
             "colorbar": {
              "outlinewidth": 0,
              "ticks": ""
             }
            },
            "type": "scatterternary"
           }
          ],
          "surface": [
           {
            "colorbar": {
             "outlinewidth": 0,
             "ticks": ""
            },
            "colorscale": [
             [
              0,
              "#0d0887"
             ],
             [
              0.1111111111111111,
              "#46039f"
             ],
             [
              0.2222222222222222,
              "#7201a8"
             ],
             [
              0.3333333333333333,
              "#9c179e"
             ],
             [
              0.4444444444444444,
              "#bd3786"
             ],
             [
              0.5555555555555556,
              "#d8576b"
             ],
             [
              0.6666666666666666,
              "#ed7953"
             ],
             [
              0.7777777777777778,
              "#fb9f3a"
             ],
             [
              0.8888888888888888,
              "#fdca26"
             ],
             [
              1,
              "#f0f921"
             ]
            ],
            "type": "surface"
           }
          ],
          "table": [
           {
            "cells": {
             "fill": {
              "color": "#EBF0F8"
             },
             "line": {
              "color": "white"
             }
            },
            "header": {
             "fill": {
              "color": "#C8D4E3"
             },
             "line": {
              "color": "white"
             }
            },
            "type": "table"
           }
          ]
         },
         "layout": {
          "annotationdefaults": {
           "arrowcolor": "#2a3f5f",
           "arrowhead": 0,
           "arrowwidth": 1
          },
          "autotypenumbers": "strict",
          "coloraxis": {
           "colorbar": {
            "outlinewidth": 0,
            "ticks": ""
           }
          },
          "colorscale": {
           "diverging": [
            [
             0,
             "#8e0152"
            ],
            [
             0.1,
             "#c51b7d"
            ],
            [
             0.2,
             "#de77ae"
            ],
            [
             0.3,
             "#f1b6da"
            ],
            [
             0.4,
             "#fde0ef"
            ],
            [
             0.5,
             "#f7f7f7"
            ],
            [
             0.6,
             "#e6f5d0"
            ],
            [
             0.7,
             "#b8e186"
            ],
            [
             0.8,
             "#7fbc41"
            ],
            [
             0.9,
             "#4d9221"
            ],
            [
             1,
             "#276419"
            ]
           ],
           "sequential": [
            [
             0,
             "#0d0887"
            ],
            [
             0.1111111111111111,
             "#46039f"
            ],
            [
             0.2222222222222222,
             "#7201a8"
            ],
            [
             0.3333333333333333,
             "#9c179e"
            ],
            [
             0.4444444444444444,
             "#bd3786"
            ],
            [
             0.5555555555555556,
             "#d8576b"
            ],
            [
             0.6666666666666666,
             "#ed7953"
            ],
            [
             0.7777777777777778,
             "#fb9f3a"
            ],
            [
             0.8888888888888888,
             "#fdca26"
            ],
            [
             1,
             "#f0f921"
            ]
           ],
           "sequentialminus": [
            [
             0,
             "#0d0887"
            ],
            [
             0.1111111111111111,
             "#46039f"
            ],
            [
             0.2222222222222222,
             "#7201a8"
            ],
            [
             0.3333333333333333,
             "#9c179e"
            ],
            [
             0.4444444444444444,
             "#bd3786"
            ],
            [
             0.5555555555555556,
             "#d8576b"
            ],
            [
             0.6666666666666666,
             "#ed7953"
            ],
            [
             0.7777777777777778,
             "#fb9f3a"
            ],
            [
             0.8888888888888888,
             "#fdca26"
            ],
            [
             1,
             "#f0f921"
            ]
           ]
          },
          "colorway": [
           "#636efa",
           "#EF553B",
           "#00cc96",
           "#ab63fa",
           "#FFA15A",
           "#19d3f3",
           "#FF6692",
           "#B6E880",
           "#FF97FF",
           "#FECB52"
          ],
          "font": {
           "color": "#2a3f5f"
          },
          "geo": {
           "bgcolor": "white",
           "lakecolor": "white",
           "landcolor": "#E5ECF6",
           "showlakes": true,
           "showland": true,
           "subunitcolor": "white"
          },
          "hoverlabel": {
           "align": "left"
          },
          "hovermode": "closest",
          "mapbox": {
           "style": "light"
          },
          "paper_bgcolor": "white",
          "plot_bgcolor": "#E5ECF6",
          "polar": {
           "angularaxis": {
            "gridcolor": "white",
            "linecolor": "white",
            "ticks": ""
           },
           "bgcolor": "#E5ECF6",
           "radialaxis": {
            "gridcolor": "white",
            "linecolor": "white",
            "ticks": ""
           }
          },
          "scene": {
           "xaxis": {
            "backgroundcolor": "#E5ECF6",
            "gridcolor": "white",
            "gridwidth": 2,
            "linecolor": "white",
            "showbackground": true,
            "ticks": "",
            "zerolinecolor": "white"
           },
           "yaxis": {
            "backgroundcolor": "#E5ECF6",
            "gridcolor": "white",
            "gridwidth": 2,
            "linecolor": "white",
            "showbackground": true,
            "ticks": "",
            "zerolinecolor": "white"
           },
           "zaxis": {
            "backgroundcolor": "#E5ECF6",
            "gridcolor": "white",
            "gridwidth": 2,
            "linecolor": "white",
            "showbackground": true,
            "ticks": "",
            "zerolinecolor": "white"
           }
          },
          "shapedefaults": {
           "line": {
            "color": "#2a3f5f"
           }
          },
          "ternary": {
           "aaxis": {
            "gridcolor": "white",
            "linecolor": "white",
            "ticks": ""
           },
           "baxis": {
            "gridcolor": "white",
            "linecolor": "white",
            "ticks": ""
           },
           "bgcolor": "#E5ECF6",
           "caxis": {
            "gridcolor": "white",
            "linecolor": "white",
            "ticks": ""
           }
          },
          "title": {
           "x": 0.05
          },
          "xaxis": {
           "automargin": true,
           "gridcolor": "white",
           "linecolor": "white",
           "ticks": "",
           "title": {
            "standoff": 15
           },
           "zerolinecolor": "white",
           "zerolinewidth": 2
          },
          "yaxis": {
           "automargin": true,
           "gridcolor": "white",
           "linecolor": "white",
           "ticks": "",
           "title": {
            "standoff": 15
           },
           "zerolinecolor": "white",
           "zerolinewidth": 2
          }
         }
        },
        "title": {
         "font": {
          "size": 16
         },
         "text": " Most active disccusition "
        },
        "xaxis": {
         "anchor": "y",
         "domain": [
          0,
          1
         ],
         "title": {
          "font": {
           "size": 14
          },
          "text": "Title of the discussion"
         }
        },
        "yaxis": {
         "anchor": "x",
         "domain": [
          0,
          1
         ],
         "title": {
          "font": {
           "size": 14
          },
          "text": "Comment counts"
         }
        }
       }
      }
     },
     "metadata": {},
     "output_type": "display_data"
    }
   ],
   "source": [
    "from operator import itemgetter\n",
    "import requests\n",
    "import plotly.express as px\n",
    "\n",
    "# Make an API call\n",
    "url = \"https://hacker-news.firebaseio.com/v0/topstories.json\"\n",
    "r = requests.get(url)\n",
    "print(f\"Status Code: {r.status_code}\")\n",
    "\n",
    "submission_ids = r.json()\n",
    "\n",
    "# Empty list to store the submission\n",
    "submission_dicts = []\n",
    "\n",
    "for submission_id in submission_ids[:20]:\n",
    "    url = f\"https://hacker-news.firebaseio.com/v0/item/{submission_id}.json\"\n",
    "    r = requests.get(url)\n",
    "    print(f\"{submission_id}\\tStatus: {r.status_code}\")\n",
    "    response_dict = r.json()\n",
    "\n",
    "    # build a dictionary for each article\n",
    "    try:\n",
    "        submission_dict = {\n",
    "            \"title\": response_dict[\"title\"],\n",
    "            \"hn_link\": f\"https://news.ycombinator.com/item?id={submission_id}\",\n",
    "            \"comments\": response_dict[\"descendants\"],\n",
    "        }\n",
    "    except KeyError:\n",
    "        # This is a spcialYC post with comments disable\n",
    "        continue\n",
    "    else:\n",
    "        submission_dicts.append(submission_dict)\n",
    "\n",
    "submission_dicts = sorted(submission_dicts, key=itemgetter(\"comments\"), reverse=True)\n",
    "\n",
    "# process the data for plotting\n",
    "\n",
    "article_links, comment_counts, hover_texts = [], [], []\n",
    "for submission_dict in submission_dicts:\n",
    "    # Making clickable name & link list\n",
    "    name = submission_dict[\"title\"][:30]\n",
    "    article_url = submission_dict[\"hn_link\"]\n",
    "    article_link = f\"<a href='{article_url}'>{name}</a>\"\n",
    "    article_links.append(article_link)\n",
    "\n",
    "    # Making hover_text on the lable with return the title\n",
    "    hover_texts.append(submission_dict[\"title\"])\n",
    "\n",
    "    # Making a comment count list\n",
    "    comment_counts.append(submission_dict[\"comments\"])\n",
    "\n",
    "# Make the visualization\n",
    "\n",
    "title = \" Most active disccusition \"\n",
    "labels = {\"x\": \"Title of the discussion\", \"y\": \"Comment counts\"}\n",
    "\n",
    "fig = px.bar(\n",
    "    x=article_links,\n",
    "    y=comment_counts,\n",
    "    hover_name=hover_texts,\n",
    "    title=title,\n",
    "    labels=labels,\n",
    ")\n",
    "\n",
    "fig.update_layout(\n",
    "    title_font_size=16, xaxis_title_font_size=14, yaxis_title_font_size=14\n",
    ")\n",
    "\n",
    "fig.update_traces(marker_color=\"Green\", marker_opacity=0.6)\n",
    "\n",
    "fig.show()"
   ]
  }
 ],
 "metadata": {
  "kernelspec": {
   "display_name": "Python 3",
   "language": "python",
   "name": "python3"
  },
  "language_info": {
   "codemirror_mode": {
    "name": "ipython",
    "version": 3
   },
   "file_extension": ".py",
   "mimetype": "text/x-python",
   "name": "python",
   "nbconvert_exporter": "python",
   "pygments_lexer": "ipython3",
   "version": "3.11.4"
  }
 },
 "nbformat": 4,
 "nbformat_minor": 2
}
